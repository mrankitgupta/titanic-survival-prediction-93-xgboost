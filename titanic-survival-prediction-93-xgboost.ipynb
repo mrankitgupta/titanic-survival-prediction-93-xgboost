{
 "cells": [
  {
   "cell_type": "markdown",
   "id": "1bdf9bfc",
   "metadata": {
    "papermill": {
     "duration": 0.034298,
     "end_time": "2023-01-08T09:34:00.165700",
     "exception": false,
     "start_time": "2023-01-08T09:34:00.131402",
     "status": "completed"
    },
    "tags": []
   },
   "source": [
    "# **Titanic Survival Prediction: Machine Learning Model** 🛳️\n",
    "## **Best results : 93% accuracy**\n",
    "## **ML Models used:** XGBoost, Random Forest, Logistic Regression"
   ]
  },
  {
   "cell_type": "markdown",
   "id": "488edfbf",
   "metadata": {
    "papermill": {
     "duration": 0.026466,
     "end_time": "2023-01-08T09:34:00.221343",
     "exception": false,
     "start_time": "2023-01-08T09:34:00.194877",
     "status": "completed"
    },
    "tags": []
   },
   "source": [
    "## By - **[Ankit Gupta](https://bio.link/AnkitGupta)**"
   ]
  },
  {
   "cell_type": "markdown",
   "id": "e5f39ade",
   "metadata": {
    "papermill": {
     "duration": 0.027637,
     "end_time": "2023-01-08T09:34:00.276047",
     "exception": false,
     "start_time": "2023-01-08T09:34:00.248410",
     "status": "completed"
    },
    "tags": []
   },
   "source": [
    "### **Titanic Survival Prediction Project** 🛳️\n",
    "\n",
    "In this notebook, The goal is to correctly predict if someone survived the Titanic shipwreck using different Machine Learning Model & Hyperparameter tunning."
   ]
  },
  {
   "cell_type": "markdown",
   "id": "383ebd9a",
   "metadata": {
    "papermill": {
     "duration": 0.025747,
     "end_time": "2023-01-08T09:34:00.327811",
     "exception": false,
     "start_time": "2023-01-08T09:34:00.302064",
     "status": "completed"
    },
    "tags": []
   },
   "source": [
    "### **Prerequisites:** \n",
    "<code>[Data Analyst Roadmap](https://github.com/mrankitgupta/Data-Analyst-Roadmap)</code> ⌛\n",
    "\n",
    "<code>[Python Lessons](https://github.com/mrankitgupta/PythonLessons)</code> 📑\n",
    "\n",
    "<code>[Python Libraries for Data Science](https://github.com/mrankitgupta/PythonLibraries)</code> 🗂️"
   ]
  },
  {
   "cell_type": "markdown",
   "id": "46149b06",
   "metadata": {
    "papermill": {
     "duration": 0.02661,
     "end_time": "2023-01-08T09:34:00.380468",
     "exception": false,
     "start_time": "2023-01-08T09:34:00.353858",
     "status": "completed"
    },
    "tags": []
   },
   "source": [
    "### **Overview**\n",
    "\n",
    "1. **Understand the shape of the data (Histograms, box plots, etc.)**\n",
    "\n",
    "1. **Data Cleaning**\n",
    "\n",
    "1. **Data Exploration**\n",
    "\n",
    "1. **Feature Engineering**\n",
    "\n",
    "1. **Data Preprocessing for Model**\n",
    "\n",
    "1. **Basic Model Building**\n",
    "\n",
    "1. **Model Tuning**\n",
    "\n",
    "1. **Ensemble Modle Building**\n",
    "\n",
    "1. **Results**"
   ]
  },
  {
   "cell_type": "markdown",
   "id": "2668f580",
   "metadata": {
    "papermill": {
     "duration": 0.031448,
     "end_time": "2023-01-08T09:34:00.439338",
     "exception": false,
     "start_time": "2023-01-08T09:34:00.407890",
     "status": "completed"
    },
    "tags": []
   },
   "source": [
    "## **Workflow stages**"
   ]
  },
  {
   "cell_type": "markdown",
   "id": "917a856c",
   "metadata": {
    "papermill": {
     "duration": 0.02532,
     "end_time": "2023-01-08T09:34:00.491049",
     "exception": false,
     "start_time": "2023-01-08T09:34:00.465729",
     "status": "completed"
    },
    "tags": []
   },
   "source": [
    "The competition solution workflow goes through seven stages described in the Data Science Solutions book.\n",
    "\n",
    "1. Question or problem definition.\n",
    "1. Acquire training and testing data.\n",
    "1. Wrangle, prepare, cleanse the data.\n",
    "1. Analyze, identify patterns, and explore the data.\n",
    "1. Model, predict and solve the problem.\n",
    "1. Visualize, report, and present the problem solving steps and final solution.\n",
    "1. Supply or submit the results."
   ]
  },
  {
   "cell_type": "markdown",
   "id": "780a74a9",
   "metadata": {
    "papermill": {
     "duration": 0.026081,
     "end_time": "2023-01-08T09:34:00.543086",
     "exception": false,
     "start_time": "2023-01-08T09:34:00.517005",
     "status": "completed"
    },
    "tags": []
   },
   "source": [
    "## **About the Project & problem definition** 🛳️"
   ]
  },
  {
   "cell_type": "markdown",
   "id": "9a898504",
   "metadata": {
    "papermill": {
     "duration": 0.025492,
     "end_time": "2023-01-08T09:34:00.594825",
     "exception": false,
     "start_time": "2023-01-08T09:34:00.569333",
     "status": "completed"
    },
    "tags": []
   },
   "source": [
    "Competition sites like Kaggle define the problem to solve or questions to ask while providing the datasets for training your data science model and testing the model results against a test dataset. The question or problem definition for Titanic Survival competition is [described here at Kaggle](https://www.kaggle.com/c/titanic).\n",
    "\n",
    "Knowing from a training set of samples listing passengers who survived or did not survive the Titanic disaster, can our model determine based on a given test dataset not containing the survival information, if these passengers in the test dataset survived or not.\n",
    "\n",
    "We may also want to develop some early understanding about the domain of our problem. This is described on the [Kaggle competition description page here](https://www.kaggle.com/c/titanic). Here are the highlights to note.\n",
    "\n",
    "On April 15, 1912, during her maiden voyage, the Titanic sank after colliding with an iceberg, killing 1502 out of 2224 passengers and crew. Translated 32% survival rate.\n",
    "One of the reasons that the shipwreck led to such loss of life was that there were not enough lifeboats for the passengers and crew.\n",
    "Although there was some element of luck involved in surviving the sinking, some groups of people were more likely to survive than others, such as women, children, and the upper-class."
   ]
  },
  {
   "cell_type": "markdown",
   "id": "41b21b6f",
   "metadata": {
    "papermill": {
     "duration": 0.026756,
     "end_time": "2023-01-08T09:34:00.648178",
     "exception": false,
     "start_time": "2023-01-08T09:34:00.621422",
     "status": "completed"
    },
    "tags": []
   },
   "source": [
    "## Technologies used ⚙️\n",
    "\n",
    "* <a href=\"https://github.com/mrankitgupta/Python-Lessons\">Python</a> <a href=\"https://github.com/mrankitgupta/Python-Lessons\" target=\"_blank\"> <img src=\"https://raw.githubusercontent.com/devicons/devicon/master/icons/python/python-original.svg\" alt=\"python\" width=\"25\" height=\"20\"/> </a>\n",
    "\n",
    "* <a href=\"https://github.com/mrankitgupta/Statistics-for-Data-Science-using-Python\">Statistics</a><a href=\"https://github.com/mrankitgupta/Statistics-for-Data-Science-using-Python\" target=\"_blank\" rel=\"noreferrer\"> <img src=\"https://raw.githubusercontent.com/mrankitgupta/66DaysOfData/c8c040f1c85d921db317152567f331354446286a/statistics-21.svg\" alt=\"Statistics\" width=\"25\" height=\"25\"/> </a>  \n",
    "\n",
    "* <a href=\"https://www.kaggle.com/mrankitgupta/titanic-survival-prediction-92-74-xgboost\">Jupyter</a> <a href=\"https://jupyter.org/\" target=\"_blank\" rel=\"noreferrer\"> <img src=\"https://raw.githubusercontent.com/mrankitgupta/mrankitgupta/0f1555f2d778eaaf7bc2c59bb42b3a13b9a27cee/images/icons8-jupyter.svg\" alt=\"jupyter\" width=\"25\" height=\"25\"/> </a>\n",
    "\n",
    "##### Python Libraries : \n",
    "* <a href=\"https://github.com/mrankitgupta/Kaggle-Pandas-Solved-Exercises\">Pandas</a><a href=\"https://github.com/mrankitgupta/Kaggle-Pandas-Solved-Exercises\" target=\"_blank\" rel=\"noreferrer\"> <img src=\"https://raw.githubusercontent.com/devicons/devicon/2ae2a900d2f041da66e950e4d48052658d850630/icons/pandas/pandas-original.svg\" alt=\"pandas\" width=\"25\" height=\"20\"/> </a> |  <a href=\"https://numpy.org/\">NumPy</a><a href=\"https://numpy.org/\" target=\"_blank\" rel=\"noreferrer\"> <img src=\"https://raw.githubusercontent.com/mrankitgupta/mrankitgupta/2a582d085b324cff4917325112229027309ecae3/Numpy-logo.svg\" alt=\"numpy\" width=\"25\" height=\"20\"/> </a> |  <a href=\"https://matplotlib.org/\">Matplotlib</a><a href=\"https://matplotlib.org/\" target=\"_blank\" rel=\"noreferrer\"> <img src=\"https://raw.githubusercontent.com/mrankitgupta/mrankitgupta/1331979c3208a15be2c2a6177ffc38ced3d6b434/Matplotlib_icon.svg\" alt=\"matplotlib\" width=\"25\" height=\"20\"/> </a> |  <a href=\"https://seaborn.pydata.org\">Seaborn</a><a href=\"https://seaborn.pydata.org\" target=\"_blank\" rel=\"noreferrer\"> <img src=\"https://seaborn.pydata.org/_images/logo-mark-lightbg.svg\" alt=\"Seaborn\" width=\"25\" height=\"20\"/> </a>  | \n",
    "\n",
    "* <a href=\"https://scikit-learn.org/\">Scikit-Learn</a> <a href=\"https://scikit-learn.org/\" target=\"_blank\"> <img src=\"https://upload.wikimedia.org/wikipedia/commons/0/05/Scikit_learn_logo_small.svg\" alt=\"scikit_learn\" width=\"40\" height=\"40\"/>  | <a href=\"https://xgboost.readthedocs.io/en/stable/\">XGBoost</a> <a href=\"https://xgboost.readthedocs.io/en/stable/\" target=\"_blank\"> <img src=\"https://raw.githubusercontent.com/mrankitgupta/mrankitgupta/9f33e6e4da32dfc8aad7dd2d290ac64e0836394b/images/xgboost_logo.svg\" alt=\"XGBoost\" width=\"40\" height=\"40\"/>"
   ]
  },
  {
   "cell_type": "markdown",
   "id": "372367fe",
   "metadata": {
    "papermill": {
     "duration": 0.025744,
     "end_time": "2023-01-08T09:34:00.700299",
     "exception": false,
     "start_time": "2023-01-08T09:34:00.674555",
     "status": "completed"
    },
    "tags": []
   },
   "source": [
    "### Project\n",
    "\n",
    "**Kaggle Project: [Titanic Survival Prediction](https://www.kaggle.com/mrankitgupta/titanic-survival-prediction-93-xgboost)** 🛳️ 🔗\n",
    "\n",
    "### Datasets \n",
    "\n",
    "Kaggle Titanic Datasets: <code>[Titanic Train](https://www.kaggle.com/competitions/titanic/data?select=train.csv)</code> & <code>[Titanic Test](https://www.kaggle.com/competitions/titanic/data?select=test.csv)</code>  "
   ]
  },
  {
   "cell_type": "code",
   "execution_count": 1,
   "id": "e8c38dfe",
   "metadata": {
    "execution": {
     "iopub.execute_input": "2023-01-08T09:34:00.758343Z",
     "iopub.status.busy": "2023-01-08T09:34:00.757281Z",
     "iopub.status.idle": "2023-01-08T09:34:01.986551Z",
     "shell.execute_reply": "2023-01-08T09:34:01.984248Z"
    },
    "papermill": {
     "duration": 1.262827,
     "end_time": "2023-01-08T09:34:01.990421",
     "exception": false,
     "start_time": "2023-01-08T09:34:00.727594",
     "status": "completed"
    },
    "tags": []
   },
   "outputs": [
    {
     "name": "stdout",
     "output_type": "stream",
     "text": [
      "/kaggle/input/titanic/train.csv\n",
      "/kaggle/input/titanic/test.csv\n",
      "/kaggle/input/titanic/gender_submission.csv\n"
     ]
    }
   ],
   "source": [
    "# This Python 3 environment comes with many helpful analytics libraries installed\n",
    "# It is defined by the kaggle/python Docker image: https://github.com/kaggle/docker-python\n",
    "# For example, here's several helpful packages to load\n",
    "\n",
    "import numpy as np # linear algebra\n",
    "import pandas as pd # data processing, CSV file I/O (e.g. pd.read_csv)\n",
    "import seaborn as sns \n",
    "import matplotlib.pyplot as plt\n",
    "# Input data files are available in the read-only \"../input/\" directory\n",
    "# For example, running this (by clicking run or pressing Shift+Enter) will list all files under the input directory\n",
    "\n",
    "import os\n",
    "for dirname, _, filenames in os.walk('/kaggle/input'):\n",
    "    for filename in filenames:\n",
    "        print(os.path.join(dirname, filename))\n",
    "        \n",
    "        \n",
    "# You can write up to 5GB to the current directory (/kaggle/working/) that gets preserved as output when you create a version using \"Save & Run All\" \n",
    "# You can also write temporary files to /kaggle/temp/, but they won't be saved outside of the current session"
   ]
  },
  {
   "cell_type": "markdown",
   "id": "f77f63ff",
   "metadata": {
    "papermill": {
     "duration": 0.028596,
     "end_time": "2023-01-08T09:34:02.048589",
     "exception": false,
     "start_time": "2023-01-08T09:34:02.019993",
     "status": "completed"
    },
    "tags": []
   },
   "source": [
    "# 1. Importing Library & Data"
   ]
  },
  {
   "cell_type": "code",
   "execution_count": 2,
   "id": "f9821f95",
   "metadata": {
    "execution": {
     "iopub.execute_input": "2023-01-08T09:34:02.107922Z",
     "iopub.status.busy": "2023-01-08T09:34:02.107067Z",
     "iopub.status.idle": "2023-01-08T09:34:03.532356Z",
     "shell.execute_reply": "2023-01-08T09:34:03.531046Z"
    },
    "papermill": {
     "duration": 1.458047,
     "end_time": "2023-01-08T09:34:03.535155",
     "exception": false,
     "start_time": "2023-01-08T09:34:02.077108",
     "status": "completed"
    },
    "tags": []
   },
   "outputs": [],
   "source": [
    "import pandas as pd\n",
    "import numpy as np\n",
    "import matplotlib.pyplot as plt\n",
    "import seaborn as sns\n",
    "import statsmodels.api as sm\n",
    "from sklearn.linear_model import LogisticRegression\n",
    "from sklearn.ensemble import RandomForestClassifier\n",
    "from sklearn.metrics import accuracy_score\n",
    "from sklearn.metrics import confusion_matrix\n",
    "from sklearn.metrics import classification_report\n",
    "from sklearn.model_selection import train_test_split\n",
    "from sklearn.model_selection import RandomizedSearchCV, GridSearchCV\n",
    "from xgboost import XGBClassifier\n",
    "from xgboost import plot_importance\n",
    "\n",
    "import warnings\n",
    "warnings.filterwarnings('ignore')"
   ]
  },
  {
   "cell_type": "markdown",
   "id": "893d58c0",
   "metadata": {
    "papermill": {
     "duration": 0.02542,
     "end_time": "2023-01-08T09:34:03.588157",
     "exception": false,
     "start_time": "2023-01-08T09:34:03.562737",
     "status": "completed"
    },
    "tags": []
   },
   "source": [
    "Here we import the data. For this analysis, we will be exclusively working with the Training set. We will be validating based on data from the training set as well. For our final submissions, we will make predictions based on the test set."
   ]
  },
  {
   "cell_type": "markdown",
   "id": "1ea22412",
   "metadata": {
    "papermill": {
     "duration": 0.02537,
     "end_time": "2023-01-08T09:34:03.639527",
     "exception": false,
     "start_time": "2023-01-08T09:34:03.614157",
     "status": "completed"
    },
    "tags": []
   },
   "source": [
    "## Acquire data"
   ]
  },
  {
   "cell_type": "code",
   "execution_count": 3,
   "id": "58a558ff",
   "metadata": {
    "execution": {
     "iopub.execute_input": "2023-01-08T09:34:03.692944Z",
     "iopub.status.busy": "2023-01-08T09:34:03.692507Z",
     "iopub.status.idle": "2023-01-08T09:34:03.744419Z",
     "shell.execute_reply": "2023-01-08T09:34:03.743181Z"
    },
    "papermill": {
     "duration": 0.08198,
     "end_time": "2023-01-08T09:34:03.747222",
     "exception": false,
     "start_time": "2023-01-08T09:34:03.665242",
     "status": "completed"
    },
    "tags": []
   },
   "outputs": [
    {
     "data": {
      "text/html": [
       "<div>\n",
       "<style scoped>\n",
       "    .dataframe tbody tr th:only-of-type {\n",
       "        vertical-align: middle;\n",
       "    }\n",
       "\n",
       "    .dataframe tbody tr th {\n",
       "        vertical-align: top;\n",
       "    }\n",
       "\n",
       "    .dataframe thead th {\n",
       "        text-align: right;\n",
       "    }\n",
       "</style>\n",
       "<table border=\"1\" class=\"dataframe\">\n",
       "  <thead>\n",
       "    <tr style=\"text-align: right;\">\n",
       "      <th></th>\n",
       "      <th>PassengerId</th>\n",
       "      <th>Survived</th>\n",
       "      <th>Pclass</th>\n",
       "      <th>Name</th>\n",
       "      <th>Sex</th>\n",
       "      <th>Age</th>\n",
       "      <th>SibSp</th>\n",
       "      <th>Parch</th>\n",
       "      <th>Ticket</th>\n",
       "      <th>Fare</th>\n",
       "      <th>Cabin</th>\n",
       "      <th>Embarked</th>\n",
       "    </tr>\n",
       "  </thead>\n",
       "  <tbody>\n",
       "    <tr>\n",
       "      <th>0</th>\n",
       "      <td>1</td>\n",
       "      <td>0</td>\n",
       "      <td>3</td>\n",
       "      <td>Braund, Mr. Owen Harris</td>\n",
       "      <td>male</td>\n",
       "      <td>22.0</td>\n",
       "      <td>1</td>\n",
       "      <td>0</td>\n",
       "      <td>A/5 21171</td>\n",
       "      <td>7.2500</td>\n",
       "      <td>NaN</td>\n",
       "      <td>S</td>\n",
       "    </tr>\n",
       "    <tr>\n",
       "      <th>1</th>\n",
       "      <td>2</td>\n",
       "      <td>1</td>\n",
       "      <td>1</td>\n",
       "      <td>Cumings, Mrs. John Bradley (Florence Briggs Th...</td>\n",
       "      <td>female</td>\n",
       "      <td>38.0</td>\n",
       "      <td>1</td>\n",
       "      <td>0</td>\n",
       "      <td>PC 17599</td>\n",
       "      <td>71.2833</td>\n",
       "      <td>C85</td>\n",
       "      <td>C</td>\n",
       "    </tr>\n",
       "    <tr>\n",
       "      <th>2</th>\n",
       "      <td>3</td>\n",
       "      <td>1</td>\n",
       "      <td>3</td>\n",
       "      <td>Heikkinen, Miss. Laina</td>\n",
       "      <td>female</td>\n",
       "      <td>26.0</td>\n",
       "      <td>0</td>\n",
       "      <td>0</td>\n",
       "      <td>STON/O2. 3101282</td>\n",
       "      <td>7.9250</td>\n",
       "      <td>NaN</td>\n",
       "      <td>S</td>\n",
       "    </tr>\n",
       "    <tr>\n",
       "      <th>3</th>\n",
       "      <td>4</td>\n",
       "      <td>1</td>\n",
       "      <td>1</td>\n",
       "      <td>Futrelle, Mrs. Jacques Heath (Lily May Peel)</td>\n",
       "      <td>female</td>\n",
       "      <td>35.0</td>\n",
       "      <td>1</td>\n",
       "      <td>0</td>\n",
       "      <td>113803</td>\n",
       "      <td>53.1000</td>\n",
       "      <td>C123</td>\n",
       "      <td>S</td>\n",
       "    </tr>\n",
       "    <tr>\n",
       "      <th>4</th>\n",
       "      <td>5</td>\n",
       "      <td>0</td>\n",
       "      <td>3</td>\n",
       "      <td>Allen, Mr. William Henry</td>\n",
       "      <td>male</td>\n",
       "      <td>35.0</td>\n",
       "      <td>0</td>\n",
       "      <td>0</td>\n",
       "      <td>373450</td>\n",
       "      <td>8.0500</td>\n",
       "      <td>NaN</td>\n",
       "      <td>S</td>\n",
       "    </tr>\n",
       "  </tbody>\n",
       "</table>\n",
       "</div>"
      ],
      "text/plain": [
       "   PassengerId  Survived  Pclass  \\\n",
       "0            1         0       3   \n",
       "1            2         1       1   \n",
       "2            3         1       3   \n",
       "3            4         1       1   \n",
       "4            5         0       3   \n",
       "\n",
       "                                                Name     Sex   Age  SibSp  \\\n",
       "0                            Braund, Mr. Owen Harris    male  22.0      1   \n",
       "1  Cumings, Mrs. John Bradley (Florence Briggs Th...  female  38.0      1   \n",
       "2                             Heikkinen, Miss. Laina  female  26.0      0   \n",
       "3       Futrelle, Mrs. Jacques Heath (Lily May Peel)  female  35.0      1   \n",
       "4                           Allen, Mr. William Henry    male  35.0      0   \n",
       "\n",
       "   Parch            Ticket     Fare Cabin Embarked  \n",
       "0      0         A/5 21171   7.2500   NaN        S  \n",
       "1      0          PC 17599  71.2833   C85        C  \n",
       "2      0  STON/O2. 3101282   7.9250   NaN        S  \n",
       "3      0            113803  53.1000  C123        S  \n",
       "4      0            373450   8.0500   NaN        S  "
      ]
     },
     "execution_count": 3,
     "metadata": {},
     "output_type": "execute_result"
    }
   ],
   "source": [
    "train = pd.read_csv(\"/kaggle/input/titanic/train.csv\")\n",
    "test = pd.read_csv('/kaggle/input/titanic/test.csv')\n",
    "train.head()"
   ]
  },
  {
   "cell_type": "code",
   "execution_count": 4,
   "id": "b9141ba4",
   "metadata": {
    "execution": {
     "iopub.execute_input": "2023-01-08T09:34:03.802179Z",
     "iopub.status.busy": "2023-01-08T09:34:03.801743Z",
     "iopub.status.idle": "2023-01-08T09:34:03.820408Z",
     "shell.execute_reply": "2023-01-08T09:34:03.819203Z"
    },
    "papermill": {
     "duration": 0.048704,
     "end_time": "2023-01-08T09:34:03.822992",
     "exception": false,
     "start_time": "2023-01-08T09:34:03.774288",
     "status": "completed"
    },
    "tags": []
   },
   "outputs": [
    {
     "data": {
      "text/html": [
       "<div>\n",
       "<style scoped>\n",
       "    .dataframe tbody tr th:only-of-type {\n",
       "        vertical-align: middle;\n",
       "    }\n",
       "\n",
       "    .dataframe tbody tr th {\n",
       "        vertical-align: top;\n",
       "    }\n",
       "\n",
       "    .dataframe thead th {\n",
       "        text-align: right;\n",
       "    }\n",
       "</style>\n",
       "<table border=\"1\" class=\"dataframe\">\n",
       "  <thead>\n",
       "    <tr style=\"text-align: right;\">\n",
       "      <th></th>\n",
       "      <th>PassengerId</th>\n",
       "      <th>Pclass</th>\n",
       "      <th>Name</th>\n",
       "      <th>Sex</th>\n",
       "      <th>Age</th>\n",
       "      <th>SibSp</th>\n",
       "      <th>Parch</th>\n",
       "      <th>Ticket</th>\n",
       "      <th>Fare</th>\n",
       "      <th>Cabin</th>\n",
       "      <th>Embarked</th>\n",
       "    </tr>\n",
       "  </thead>\n",
       "  <tbody>\n",
       "    <tr>\n",
       "      <th>0</th>\n",
       "      <td>892</td>\n",
       "      <td>3</td>\n",
       "      <td>Kelly, Mr. James</td>\n",
       "      <td>male</td>\n",
       "      <td>34.5</td>\n",
       "      <td>0</td>\n",
       "      <td>0</td>\n",
       "      <td>330911</td>\n",
       "      <td>7.8292</td>\n",
       "      <td>NaN</td>\n",
       "      <td>Q</td>\n",
       "    </tr>\n",
       "    <tr>\n",
       "      <th>1</th>\n",
       "      <td>893</td>\n",
       "      <td>3</td>\n",
       "      <td>Wilkes, Mrs. James (Ellen Needs)</td>\n",
       "      <td>female</td>\n",
       "      <td>47.0</td>\n",
       "      <td>1</td>\n",
       "      <td>0</td>\n",
       "      <td>363272</td>\n",
       "      <td>7.0000</td>\n",
       "      <td>NaN</td>\n",
       "      <td>S</td>\n",
       "    </tr>\n",
       "    <tr>\n",
       "      <th>2</th>\n",
       "      <td>894</td>\n",
       "      <td>2</td>\n",
       "      <td>Myles, Mr. Thomas Francis</td>\n",
       "      <td>male</td>\n",
       "      <td>62.0</td>\n",
       "      <td>0</td>\n",
       "      <td>0</td>\n",
       "      <td>240276</td>\n",
       "      <td>9.6875</td>\n",
       "      <td>NaN</td>\n",
       "      <td>Q</td>\n",
       "    </tr>\n",
       "    <tr>\n",
       "      <th>3</th>\n",
       "      <td>895</td>\n",
       "      <td>3</td>\n",
       "      <td>Wirz, Mr. Albert</td>\n",
       "      <td>male</td>\n",
       "      <td>27.0</td>\n",
       "      <td>0</td>\n",
       "      <td>0</td>\n",
       "      <td>315154</td>\n",
       "      <td>8.6625</td>\n",
       "      <td>NaN</td>\n",
       "      <td>S</td>\n",
       "    </tr>\n",
       "    <tr>\n",
       "      <th>4</th>\n",
       "      <td>896</td>\n",
       "      <td>3</td>\n",
       "      <td>Hirvonen, Mrs. Alexander (Helga E Lindqvist)</td>\n",
       "      <td>female</td>\n",
       "      <td>22.0</td>\n",
       "      <td>1</td>\n",
       "      <td>1</td>\n",
       "      <td>3101298</td>\n",
       "      <td>12.2875</td>\n",
       "      <td>NaN</td>\n",
       "      <td>S</td>\n",
       "    </tr>\n",
       "  </tbody>\n",
       "</table>\n",
       "</div>"
      ],
      "text/plain": [
       "   PassengerId  Pclass                                          Name     Sex  \\\n",
       "0          892       3                              Kelly, Mr. James    male   \n",
       "1          893       3              Wilkes, Mrs. James (Ellen Needs)  female   \n",
       "2          894       2                     Myles, Mr. Thomas Francis    male   \n",
       "3          895       3                              Wirz, Mr. Albert    male   \n",
       "4          896       3  Hirvonen, Mrs. Alexander (Helga E Lindqvist)  female   \n",
       "\n",
       "    Age  SibSp  Parch   Ticket     Fare Cabin Embarked  \n",
       "0  34.5      0      0   330911   7.8292   NaN        Q  \n",
       "1  47.0      1      0   363272   7.0000   NaN        S  \n",
       "2  62.0      0      0   240276   9.6875   NaN        Q  \n",
       "3  27.0      0      0   315154   8.6625   NaN        S  \n",
       "4  22.0      1      1  3101298  12.2875   NaN        S  "
      ]
     },
     "execution_count": 4,
     "metadata": {},
     "output_type": "execute_result"
    }
   ],
   "source": [
    "test.head()"
   ]
  },
  {
   "cell_type": "code",
   "execution_count": 5,
   "id": "7a8dbcf2",
   "metadata": {
    "execution": {
     "iopub.execute_input": "2023-01-08T09:34:03.879333Z",
     "iopub.status.busy": "2023-01-08T09:34:03.878314Z",
     "iopub.status.idle": "2023-01-08T09:34:03.883504Z",
     "shell.execute_reply": "2023-01-08T09:34:03.882124Z"
    },
    "papermill": {
     "duration": 0.036332,
     "end_time": "2023-01-08T09:34:03.886070",
     "exception": false,
     "start_time": "2023-01-08T09:34:03.849738",
     "status": "completed"
    },
    "tags": []
   },
   "outputs": [],
   "source": [
    "df = train"
   ]
  },
  {
   "cell_type": "markdown",
   "id": "5814017d",
   "metadata": {
    "papermill": {
     "duration": 0.027058,
     "end_time": "2023-01-08T09:34:03.940935",
     "exception": false,
     "start_time": "2023-01-08T09:34:03.913877",
     "status": "completed"
    },
    "tags": []
   },
   "source": [
    "# 2. Data Exploration"
   ]
  },
  {
   "cell_type": "code",
   "execution_count": 6,
   "id": "f0a3a2d2",
   "metadata": {
    "execution": {
     "iopub.execute_input": "2023-01-08T09:34:03.996735Z",
     "iopub.status.busy": "2023-01-08T09:34:03.996274Z",
     "iopub.status.idle": "2023-01-08T09:34:04.025660Z",
     "shell.execute_reply": "2023-01-08T09:34:04.024193Z"
    },
    "papermill": {
     "duration": 0.060758,
     "end_time": "2023-01-08T09:34:04.028770",
     "exception": false,
     "start_time": "2023-01-08T09:34:03.968012",
     "status": "completed"
    },
    "tags": []
   },
   "outputs": [
    {
     "name": "stdout",
     "output_type": "stream",
     "text": [
      "<class 'pandas.core.frame.DataFrame'>\n",
      "RangeIndex: 891 entries, 0 to 890\n",
      "Data columns (total 12 columns):\n",
      " #   Column       Non-Null Count  Dtype  \n",
      "---  ------       --------------  -----  \n",
      " 0   PassengerId  891 non-null    int64  \n",
      " 1   Survived     891 non-null    int64  \n",
      " 2   Pclass       891 non-null    int64  \n",
      " 3   Name         891 non-null    object \n",
      " 4   Sex          891 non-null    object \n",
      " 5   Age          714 non-null    float64\n",
      " 6   SibSp        891 non-null    int64  \n",
      " 7   Parch        891 non-null    int64  \n",
      " 8   Ticket       891 non-null    object \n",
      " 9   Fare         891 non-null    float64\n",
      " 10  Cabin        204 non-null    object \n",
      " 11  Embarked     889 non-null    object \n",
      "dtypes: float64(2), int64(5), object(5)\n",
      "memory usage: 83.7+ KB\n"
     ]
    }
   ],
   "source": [
    "df.info()"
   ]
  },
  {
   "cell_type": "code",
   "execution_count": 7,
   "id": "d63a7d35",
   "metadata": {
    "execution": {
     "iopub.execute_input": "2023-01-08T09:34:04.086758Z",
     "iopub.status.busy": "2023-01-08T09:34:04.086320Z",
     "iopub.status.idle": "2023-01-08T09:34:04.124459Z",
     "shell.execute_reply": "2023-01-08T09:34:04.123210Z"
    },
    "papermill": {
     "duration": 0.071427,
     "end_time": "2023-01-08T09:34:04.127083",
     "exception": false,
     "start_time": "2023-01-08T09:34:04.055656",
     "status": "completed"
    },
    "tags": []
   },
   "outputs": [
    {
     "data": {
      "text/html": [
       "<div>\n",
       "<style scoped>\n",
       "    .dataframe tbody tr th:only-of-type {\n",
       "        vertical-align: middle;\n",
       "    }\n",
       "\n",
       "    .dataframe tbody tr th {\n",
       "        vertical-align: top;\n",
       "    }\n",
       "\n",
       "    .dataframe thead th {\n",
       "        text-align: right;\n",
       "    }\n",
       "</style>\n",
       "<table border=\"1\" class=\"dataframe\">\n",
       "  <thead>\n",
       "    <tr style=\"text-align: right;\">\n",
       "      <th></th>\n",
       "      <th>PassengerId</th>\n",
       "      <th>Survived</th>\n",
       "      <th>Pclass</th>\n",
       "      <th>Age</th>\n",
       "      <th>SibSp</th>\n",
       "      <th>Parch</th>\n",
       "      <th>Fare</th>\n",
       "    </tr>\n",
       "  </thead>\n",
       "  <tbody>\n",
       "    <tr>\n",
       "      <th>count</th>\n",
       "      <td>891.000000</td>\n",
       "      <td>891.000000</td>\n",
       "      <td>891.000000</td>\n",
       "      <td>714.000000</td>\n",
       "      <td>891.000000</td>\n",
       "      <td>891.000000</td>\n",
       "      <td>891.000000</td>\n",
       "    </tr>\n",
       "    <tr>\n",
       "      <th>mean</th>\n",
       "      <td>446.000000</td>\n",
       "      <td>0.383838</td>\n",
       "      <td>2.308642</td>\n",
       "      <td>29.699118</td>\n",
       "      <td>0.523008</td>\n",
       "      <td>0.381594</td>\n",
       "      <td>32.204208</td>\n",
       "    </tr>\n",
       "    <tr>\n",
       "      <th>std</th>\n",
       "      <td>257.353842</td>\n",
       "      <td>0.486592</td>\n",
       "      <td>0.836071</td>\n",
       "      <td>14.526497</td>\n",
       "      <td>1.102743</td>\n",
       "      <td>0.806057</td>\n",
       "      <td>49.693429</td>\n",
       "    </tr>\n",
       "    <tr>\n",
       "      <th>min</th>\n",
       "      <td>1.000000</td>\n",
       "      <td>0.000000</td>\n",
       "      <td>1.000000</td>\n",
       "      <td>0.420000</td>\n",
       "      <td>0.000000</td>\n",
       "      <td>0.000000</td>\n",
       "      <td>0.000000</td>\n",
       "    </tr>\n",
       "    <tr>\n",
       "      <th>25%</th>\n",
       "      <td>223.500000</td>\n",
       "      <td>0.000000</td>\n",
       "      <td>2.000000</td>\n",
       "      <td>20.125000</td>\n",
       "      <td>0.000000</td>\n",
       "      <td>0.000000</td>\n",
       "      <td>7.910400</td>\n",
       "    </tr>\n",
       "    <tr>\n",
       "      <th>50%</th>\n",
       "      <td>446.000000</td>\n",
       "      <td>0.000000</td>\n",
       "      <td>3.000000</td>\n",
       "      <td>28.000000</td>\n",
       "      <td>0.000000</td>\n",
       "      <td>0.000000</td>\n",
       "      <td>14.454200</td>\n",
       "    </tr>\n",
       "    <tr>\n",
       "      <th>75%</th>\n",
       "      <td>668.500000</td>\n",
       "      <td>1.000000</td>\n",
       "      <td>3.000000</td>\n",
       "      <td>38.000000</td>\n",
       "      <td>1.000000</td>\n",
       "      <td>0.000000</td>\n",
       "      <td>31.000000</td>\n",
       "    </tr>\n",
       "    <tr>\n",
       "      <th>max</th>\n",
       "      <td>891.000000</td>\n",
       "      <td>1.000000</td>\n",
       "      <td>3.000000</td>\n",
       "      <td>80.000000</td>\n",
       "      <td>8.000000</td>\n",
       "      <td>6.000000</td>\n",
       "      <td>512.329200</td>\n",
       "    </tr>\n",
       "  </tbody>\n",
       "</table>\n",
       "</div>"
      ],
      "text/plain": [
       "       PassengerId    Survived      Pclass         Age       SibSp  \\\n",
       "count   891.000000  891.000000  891.000000  714.000000  891.000000   \n",
       "mean    446.000000    0.383838    2.308642   29.699118    0.523008   \n",
       "std     257.353842    0.486592    0.836071   14.526497    1.102743   \n",
       "min       1.000000    0.000000    1.000000    0.420000    0.000000   \n",
       "25%     223.500000    0.000000    2.000000   20.125000    0.000000   \n",
       "50%     446.000000    0.000000    3.000000   28.000000    0.000000   \n",
       "75%     668.500000    1.000000    3.000000   38.000000    1.000000   \n",
       "max     891.000000    1.000000    3.000000   80.000000    8.000000   \n",
       "\n",
       "            Parch        Fare  \n",
       "count  891.000000  891.000000  \n",
       "mean     0.381594   32.204208  \n",
       "std      0.806057   49.693429  \n",
       "min      0.000000    0.000000  \n",
       "25%      0.000000    7.910400  \n",
       "50%      0.000000   14.454200  \n",
       "75%      0.000000   31.000000  \n",
       "max      6.000000  512.329200  "
      ]
     },
     "execution_count": 7,
     "metadata": {},
     "output_type": "execute_result"
    }
   ],
   "source": [
    "df.describe()"
   ]
  },
  {
   "cell_type": "code",
   "execution_count": 8,
   "id": "3d7fff32",
   "metadata": {
    "execution": {
     "iopub.execute_input": "2023-01-08T09:34:04.184069Z",
     "iopub.status.busy": "2023-01-08T09:34:04.183623Z",
     "iopub.status.idle": "2023-01-08T09:34:04.208776Z",
     "shell.execute_reply": "2023-01-08T09:34:04.207453Z"
    },
    "papermill": {
     "duration": 0.056759,
     "end_time": "2023-01-08T09:34:04.211524",
     "exception": false,
     "start_time": "2023-01-08T09:34:04.154765",
     "status": "completed"
    },
    "tags": []
   },
   "outputs": [
    {
     "data": {
      "text/html": [
       "<div>\n",
       "<style scoped>\n",
       "    .dataframe tbody tr th:only-of-type {\n",
       "        vertical-align: middle;\n",
       "    }\n",
       "\n",
       "    .dataframe tbody tr th {\n",
       "        vertical-align: top;\n",
       "    }\n",
       "\n",
       "    .dataframe thead th {\n",
       "        text-align: right;\n",
       "    }\n",
       "</style>\n",
       "<table border=\"1\" class=\"dataframe\">\n",
       "  <thead>\n",
       "    <tr style=\"text-align: right;\">\n",
       "      <th></th>\n",
       "      <th>Name</th>\n",
       "      <th>Sex</th>\n",
       "      <th>Ticket</th>\n",
       "      <th>Cabin</th>\n",
       "      <th>Embarked</th>\n",
       "    </tr>\n",
       "  </thead>\n",
       "  <tbody>\n",
       "    <tr>\n",
       "      <th>count</th>\n",
       "      <td>891</td>\n",
       "      <td>891</td>\n",
       "      <td>891</td>\n",
       "      <td>204</td>\n",
       "      <td>889</td>\n",
       "    </tr>\n",
       "    <tr>\n",
       "      <th>unique</th>\n",
       "      <td>891</td>\n",
       "      <td>2</td>\n",
       "      <td>681</td>\n",
       "      <td>147</td>\n",
       "      <td>3</td>\n",
       "    </tr>\n",
       "    <tr>\n",
       "      <th>top</th>\n",
       "      <td>Braund, Mr. Owen Harris</td>\n",
       "      <td>male</td>\n",
       "      <td>347082</td>\n",
       "      <td>B96 B98</td>\n",
       "      <td>S</td>\n",
       "    </tr>\n",
       "    <tr>\n",
       "      <th>freq</th>\n",
       "      <td>1</td>\n",
       "      <td>577</td>\n",
       "      <td>7</td>\n",
       "      <td>4</td>\n",
       "      <td>644</td>\n",
       "    </tr>\n",
       "  </tbody>\n",
       "</table>\n",
       "</div>"
      ],
      "text/plain": [
       "                           Name   Sex  Ticket    Cabin Embarked\n",
       "count                       891   891     891      204      889\n",
       "unique                      891     2     681      147        3\n",
       "top     Braund, Mr. Owen Harris  male  347082  B96 B98        S\n",
       "freq                          1   577       7        4      644"
      ]
     },
     "execution_count": 8,
     "metadata": {},
     "output_type": "execute_result"
    }
   ],
   "source": [
    "# Describe string\n",
    "df.describe(include=object)"
   ]
  },
  {
   "cell_type": "code",
   "execution_count": 9,
   "id": "f9942edb",
   "metadata": {
    "execution": {
     "iopub.execute_input": "2023-01-08T09:34:04.267832Z",
     "iopub.status.busy": "2023-01-08T09:34:04.267365Z",
     "iopub.status.idle": "2023-01-08T09:34:04.275162Z",
     "shell.execute_reply": "2023-01-08T09:34:04.273865Z"
    },
    "papermill": {
     "duration": 0.038497,
     "end_time": "2023-01-08T09:34:04.277501",
     "exception": false,
     "start_time": "2023-01-08T09:34:04.239004",
     "status": "completed"
    },
    "tags": []
   },
   "outputs": [
    {
     "data": {
      "text/plain": [
       "array(['PassengerId', 'Survived', 'Pclass', 'Name', 'Sex', 'Age', 'SibSp',\n",
       "       'Parch', 'Ticket', 'Fare', 'Cabin', 'Embarked'], dtype=object)"
      ]
     },
     "execution_count": 9,
     "metadata": {},
     "output_type": "execute_result"
    }
   ],
   "source": [
    "df.columns.values"
   ]
  },
  {
   "cell_type": "code",
   "execution_count": 10,
   "id": "7935b61a",
   "metadata": {
    "execution": {
     "iopub.execute_input": "2023-01-08T09:34:04.335297Z",
     "iopub.status.busy": "2023-01-08T09:34:04.334888Z",
     "iopub.status.idle": "2023-01-08T09:34:04.350115Z",
     "shell.execute_reply": "2023-01-08T09:34:04.348865Z"
    },
    "papermill": {
     "duration": 0.046445,
     "end_time": "2023-01-08T09:34:04.352442",
     "exception": false,
     "start_time": "2023-01-08T09:34:04.305997",
     "status": "completed"
    },
    "tags": []
   },
   "outputs": [
    {
     "data": {
      "text/plain": [
       "PassengerId    0.002971\n",
       "Pclass         0.129755\n",
       "Age            0.038706\n",
       "SibSp          0.077914\n",
       "Parch          0.170176\n",
       "Fare           0.372661\n",
       "dtype: float64"
      ]
     },
     "execution_count": 10,
     "metadata": {},
     "output_type": "execute_result"
    }
   ],
   "source": [
    "ab = df.groupby(\"Survived\").mean()\n",
    "ab\n",
    "v1 = ab.iloc[0,:]\n",
    "v2 = ab.iloc[1,:]\n",
    "abs((v2-v1)/(v1+v2))"
   ]
  },
  {
   "cell_type": "code",
   "execution_count": 11,
   "id": "8abd5463",
   "metadata": {
    "execution": {
     "iopub.execute_input": "2023-01-08T09:34:04.409342Z",
     "iopub.status.busy": "2023-01-08T09:34:04.408856Z",
     "iopub.status.idle": "2023-01-08T09:34:04.959282Z",
     "shell.execute_reply": "2023-01-08T09:34:04.957569Z"
    },
    "papermill": {
     "duration": 0.582183,
     "end_time": "2023-01-08T09:34:04.962095",
     "exception": false,
     "start_time": "2023-01-08T09:34:04.379912",
     "status": "completed"
    },
    "tags": []
   },
   "outputs": [
    {
     "data": {
      "text/plain": [
       "<seaborn.axisgrid.FacetGrid at 0x7f3c39d1ae90>"
      ]
     },
     "execution_count": 11,
     "metadata": {},
     "output_type": "execute_result"
    },
    {
     "data": {
      "image/png": "[encoded data removed]",
      "text/plain": [
       "<Figure size 432x216 with 2 Axes>"
      ]
     },
     "metadata": {
      "needs_background": "light"
     },
     "output_type": "display_data"
    }
   ],
   "source": [
    "g = sns.FacetGrid(df, col='Survived')\n",
    "g.map(plt.hist, 'Age', bins=20)"
   ]
  },
  {
   "cell_type": "code",
   "execution_count": 12,
   "id": "0bbf78be",
   "metadata": {
    "execution": {
     "iopub.execute_input": "2023-01-08T09:34:05.020897Z",
     "iopub.status.busy": "2023-01-08T09:34:05.020424Z",
     "iopub.status.idle": "2023-01-08T09:34:06.740550Z",
     "shell.execute_reply": "2023-01-08T09:34:06.739650Z"
    },
    "papermill": {
     "duration": 1.75221,
     "end_time": "2023-01-08T09:34:06.742773",
     "exception": false,
     "start_time": "2023-01-08T09:34:04.990563",
     "status": "completed"
    },
    "tags": []
   },
   "outputs": [
    {
     "data": {
      "image/png": "[encoded data removed]",
      "text/plain": [
       "<Figure size 514.88x475.2 with 6 Axes>"
      ]
     },
     "metadata": {
      "needs_background": "light"
     },
     "output_type": "display_data"
    }
   ],
   "source": [
    "# grid = sns.FacetGrid(df, col='Pclass', hue='Survived')\n",
    "grid = sns.FacetGrid(df, col='Survived', row='Pclass', size=2.2, aspect=1.6)\n",
    "grid.map(plt.hist, 'Age', alpha=.5, bins=20)\n",
    "grid.add_legend();"
   ]
  },
  {
   "cell_type": "code",
   "execution_count": 13,
   "id": "804eb397",
   "metadata": {
    "execution": {
     "iopub.execute_input": "2023-01-08T09:34:06.802763Z",
     "iopub.status.busy": "2023-01-08T09:34:06.802015Z",
     "iopub.status.idle": "2023-01-08T09:34:08.070016Z",
     "shell.execute_reply": "2023-01-08T09:34:08.068773Z"
    },
    "papermill": {
     "duration": 1.301096,
     "end_time": "2023-01-08T09:34:08.072796",
     "exception": false,
     "start_time": "2023-01-08T09:34:06.771700",
     "status": "completed"
    },
    "tags": []
   },
   "outputs": [
    {
     "data": {
      "text/plain": [
       "<seaborn.axisgrid.FacetGrid at 0x7f3c3771f2d0>"
      ]
     },
     "execution_count": 13,
     "metadata": {},
     "output_type": "execute_result"
    },
    {
     "data": {
      "image/png": "[encoded data removed]",
      "text/plain": [
       "<Figure size 323.94x475.2 with 3 Axes>"
      ]
     },
     "metadata": {
      "needs_background": "light"
     },
     "output_type": "display_data"
    }
   ],
   "source": [
    "# grid = sns.FacetGrid(df, col='Embarked')\n",
    "grid = sns.FacetGrid(df, row='Embarked', size=2.2, aspect=1.6)\n",
    "grid.map(sns.pointplot, 'Pclass', 'Survived', 'Sex', palette='deep')\n",
    "grid.add_legend()"
   ]
  },
  {
   "cell_type": "code",
   "execution_count": 14,
   "id": "b6c35e01",
   "metadata": {
    "execution": {
     "iopub.execute_input": "2023-01-08T09:34:08.134582Z",
     "iopub.status.busy": "2023-01-08T09:34:08.134184Z",
     "iopub.status.idle": "2023-01-08T09:34:09.198586Z",
     "shell.execute_reply": "2023-01-08T09:34:09.197244Z"
    },
    "papermill": {
     "duration": 1.098251,
     "end_time": "2023-01-08T09:34:09.201288",
     "exception": false,
     "start_time": "2023-01-08T09:34:08.103037",
     "status": "completed"
    },
    "tags": []
   },
   "outputs": [
    {
     "data": {
      "text/plain": [
       "<seaborn.axisgrid.FacetGrid at 0x7f3c3757f550>"
      ]
     },
     "execution_count": 14,
     "metadata": {},
     "output_type": "execute_result"
    },
    {
     "data": {
      "image/png": "[encoded data removed]",
      "text/plain": [
       "<Figure size 514.88x475.2 with 6 Axes>"
      ]
     },
     "metadata": {
      "needs_background": "light"
     },
     "output_type": "display_data"
    }
   ],
   "source": [
    "# grid = sns.FacetGrid(df, col='Embarked', hue='Survived', palette={0: 'k', 1: 'w'})\n",
    "grid = sns.FacetGrid(df, row='Embarked', col='Survived', size=2.2, aspect=1.6)\n",
    "grid.map(sns.barplot, 'Sex', 'Fare', alpha=.5, ci=None)\n",
    "grid.add_legend()"
   ]
  },
  {
   "cell_type": "code",
   "execution_count": 15,
   "id": "30cc46d5",
   "metadata": {
    "execution": {
     "iopub.execute_input": "2023-01-08T09:34:09.262575Z",
     "iopub.status.busy": "2023-01-08T09:34:09.262164Z",
     "iopub.status.idle": "2023-01-08T09:34:09.874520Z",
     "shell.execute_reply": "2023-01-08T09:34:09.873368Z"
    },
    "papermill": {
     "duration": 0.645773,
     "end_time": "2023-01-08T09:34:09.877693",
     "exception": false,
     "start_time": "2023-01-08T09:34:09.231920",
     "status": "completed"
    },
    "tags": []
   },
   "outputs": [
    {
     "data": {
      "text/plain": [
       "<AxesSubplot:>"
      ]
     },
     "execution_count": 15,
     "metadata": {},
     "output_type": "execute_result"
    },
    {
     "data": {
      "image/png": "[encoded data removed]",
      "text/plain": [
       "<Figure size 576x576 with 2 Axes>"
      ]
     },
     "metadata": {
      "needs_background": "light"
     },
     "output_type": "display_data"
    }
   ],
   "source": [
    "corr = df.corr()\n",
    "plt.subplots(figsize=(8,8))\n",
    "sns.heatmap(corr,xticklabels=corr.columns,yticklabels=corr.columns,annot=True)"
   ]
  },
  {
   "cell_type": "markdown",
   "id": "41ef96a9",
   "metadata": {
    "papermill": {
     "duration": 0.032152,
     "end_time": "2023-01-08T09:34:09.942144",
     "exception": false,
     "start_time": "2023-01-08T09:34:09.909992",
     "status": "completed"
    },
    "tags": []
   },
   "source": [
    "# 5 Improving Base Model"
   ]
  },
  {
   "cell_type": "markdown",
   "id": "37eead61",
   "metadata": {
    "papermill": {
     "duration": 0.030591,
     "end_time": "2023-01-08T09:34:10.002394",
     "exception": false,
     "start_time": "2023-01-08T09:34:09.971803",
     "status": "completed"
    },
    "tags": []
   },
   "source": [
    "## 5.1 Based on Title (Accuracy = 80.45%)"
   ]
  },
  {
   "cell_type": "code",
   "execution_count": 16,
   "id": "bd9160a0",
   "metadata": {
    "execution": {
     "iopub.execute_input": "2023-01-08T09:34:10.072309Z",
     "iopub.status.busy": "2023-01-08T09:34:10.071245Z",
     "iopub.status.idle": "2023-01-08T09:34:10.078913Z",
     "shell.execute_reply": "2023-01-08T09:34:10.077537Z"
    },
    "papermill": {
     "duration": 0.045572,
     "end_time": "2023-01-08T09:34:10.082533",
     "exception": false,
     "start_time": "2023-01-08T09:34:10.036961",
     "status": "completed"
    },
    "tags": []
   },
   "outputs": [
    {
     "name": "stdout",
     "output_type": "stream",
     "text": [
      "0                              Braund, Mr. Owen Harris\n",
      "1    Cumings, Mrs. John Bradley (Florence Briggs Th...\n",
      "2                               Heikkinen, Miss. Laina\n",
      "3         Futrelle, Mrs. Jacques Heath (Lily May Peel)\n",
      "4                             Allen, Mr. William Henry\n",
      "Name: Name, dtype: object\n"
     ]
    }
   ],
   "source": [
    "print(df[\"Name\"].head())"
   ]
  },
  {
   "cell_type": "code",
   "execution_count": 17,
   "id": "8816aa67",
   "metadata": {
    "execution": {
     "iopub.execute_input": "2023-01-08T09:34:10.149286Z",
     "iopub.status.busy": "2023-01-08T09:34:10.148575Z",
     "iopub.status.idle": "2023-01-08T09:34:10.162087Z",
     "shell.execute_reply": "2023-01-08T09:34:10.160358Z"
    },
    "papermill": {
     "duration": 0.050719,
     "end_time": "2023-01-08T09:34:10.164533",
     "exception": false,
     "start_time": "2023-01-08T09:34:10.113814",
     "status": "completed"
    },
    "tags": []
   },
   "outputs": [
    {
     "name": "stdout",
     "output_type": "stream",
     "text": [
      "0      1\n",
      "1      5\n",
      "2      4\n",
      "3      5\n",
      "4      1\n",
      "      ..\n",
      "886    2\n",
      "887    4\n",
      "888    4\n",
      "889    1\n",
      "890    1\n",
      "Name: title, Length: 891, dtype: int64\n"
     ]
    }
   ],
   "source": [
    "# Splitting based on Title\n",
    "def get_title(name):\n",
    "    if \".\" in name:\n",
    "        return name.split(\",\")[1].split(\".\")[0].strip()\n",
    "    else:\n",
    "        return \"Unknown\"\n",
    "\n",
    "def title_map(title):\n",
    "    if title in [\"Mr\"]:\n",
    "        return 1\n",
    "    elif title in [\"Master\"]:\n",
    "        return 3\n",
    "    elif title in [\"Ms\", \"Mlle\", \"Miss\"]:\n",
    "        return 4\n",
    "    elif title in [\"Mme\",\"Mrs\"]:\n",
    "        return 5\n",
    "    else:\n",
    "        return 2\n",
    "\n",
    "df[\"title\"] = df[\"Name\"].apply(get_title).apply(title_map)\n",
    "print(df[\"title\"])"
   ]
  },
  {
   "cell_type": "markdown",
   "id": "b15fad13",
   "metadata": {
    "papermill": {
     "duration": 0.032573,
     "end_time": "2023-01-08T09:34:10.228847",
     "exception": false,
     "start_time": "2023-01-08T09:34:10.196274",
     "status": "completed"
    },
    "tags": []
   },
   "source": [
    "## 5.2 Based on Fare"
   ]
  },
  {
   "cell_type": "markdown",
   "id": "28b37fb2",
   "metadata": {
    "papermill": {
     "duration": 0.03089,
     "end_time": "2023-01-08T09:34:10.289713",
     "exception": false,
     "start_time": "2023-01-08T09:34:10.258823",
     "status": "completed"
    },
    "tags": []
   },
   "source": [
    "### 5.2.1 Based on Mean Fare (Accuracy = 78.77%)"
   ]
  },
  {
   "cell_type": "code",
   "execution_count": 18,
   "id": "c87e5591",
   "metadata": {
    "execution": {
     "iopub.execute_input": "2023-01-08T09:34:10.353936Z",
     "iopub.status.busy": "2023-01-08T09:34:10.352805Z",
     "iopub.status.idle": "2023-01-08T09:34:10.361985Z",
     "shell.execute_reply": "2023-01-08T09:34:10.360590Z"
    },
    "papermill": {
     "duration": 0.044193,
     "end_time": "2023-01-08T09:34:10.365217",
     "exception": false,
     "start_time": "2023-01-08T09:34:10.321024",
     "status": "completed"
    },
    "tags": []
   },
   "outputs": [
    {
     "name": "stdout",
     "output_type": "stream",
     "text": [
      "0      False\n",
      "1       True\n",
      "2      False\n",
      "3       True\n",
      "4      False\n",
      "       ...  \n",
      "886    False\n",
      "887    False\n",
      "888    False\n",
      "889    False\n",
      "890    False\n",
      "Name: Fare, Length: 891, dtype: bool\n"
     ]
    }
   ],
   "source": [
    "mf = df[\"Fare\"].mean()\n",
    "df[\"Fare\"] = df[\"Fare\"]>mf\n",
    "print(df[\"Fare\"])"
   ]
  },
  {
   "cell_type": "markdown",
   "id": "98e84d8a",
   "metadata": {
    "papermill": {
     "duration": 0.030402,
     "end_time": "2023-01-08T09:34:10.427744",
     "exception": false,
     "start_time": "2023-01-08T09:34:10.397342",
     "status": "completed"
    },
    "tags": []
   },
   "source": [
    "### 5.2.2 Based on Bucketing Fare (Accuracy = 78%)"
   ]
  },
  {
   "cell_type": "code",
   "execution_count": 19,
   "id": "3a3f9544",
   "metadata": {
    "execution": {
     "iopub.execute_input": "2023-01-08T09:34:10.491499Z",
     "iopub.status.busy": "2023-01-08T09:34:10.490828Z",
     "iopub.status.idle": "2023-01-08T09:34:10.496506Z",
     "shell.execute_reply": "2023-01-08T09:34:10.495048Z"
    },
    "papermill": {
     "duration": 0.041525,
     "end_time": "2023-01-08T09:34:10.499404",
     "exception": false,
     "start_time": "2023-01-08T09:34:10.457879",
     "status": "completed"
    },
    "tags": []
   },
   "outputs": [],
   "source": [
    "# df.loc[df[\"Fare\"] <=30, \"Fare\"]=0\n",
    "# # df.loc[df[\"Fare\"] > 7.91 & (df[\"Fare\"] <= 14.454), \"Fare\"]=1\n",
    "# # df.loc[df[\"Fare\"] > 14.454 & (df[\"Fare\"] <=31), \"Fare\"] =2\n",
    "# df.loc[df[\"Fare\"]>30, \"Fare\"]=3\n",
    "\n",
    "# # Convert float to int (Performing Bucketing, Fare converts to category)\n",
    "# df[\"Fare\"] = df[\"Fare\"].astype(int)"
   ]
  },
  {
   "cell_type": "markdown",
   "id": "c4ab5760",
   "metadata": {
    "papermill": {
     "duration": 0.02974,
     "end_time": "2023-01-08T09:34:10.559346",
     "exception": false,
     "start_time": "2023-01-08T09:34:10.529606",
     "status": "completed"
    },
    "tags": []
   },
   "source": [
    "# 3. Creating Base Model (Accuracy = 79.33%)"
   ]
  },
  {
   "cell_type": "code",
   "execution_count": 20,
   "id": "73b32701",
   "metadata": {
    "execution": {
     "iopub.execute_input": "2023-01-08T09:34:10.625495Z",
     "iopub.status.busy": "2023-01-08T09:34:10.625082Z",
     "iopub.status.idle": "2023-01-08T09:34:10.641485Z",
     "shell.execute_reply": "2023-01-08T09:34:10.639854Z"
    },
    "papermill": {
     "duration": 0.052482,
     "end_time": "2023-01-08T09:34:10.643890",
     "exception": false,
     "start_time": "2023-01-08T09:34:10.591408",
     "status": "completed"
    },
    "tags": []
   },
   "outputs": [
    {
     "name": "stdout",
     "output_type": "stream",
     "text": [
      "<class 'pandas.core.frame.DataFrame'>\n",
      "RangeIndex: 891 entries, 0 to 890\n",
      "Data columns (total 10 columns):\n",
      " #   Column    Non-Null Count  Dtype  \n",
      "---  ------    --------------  -----  \n",
      " 0   Survived  891 non-null    int64  \n",
      " 1   Pclass    891 non-null    int64  \n",
      " 2   Sex       891 non-null    object \n",
      " 3   Age       714 non-null    float64\n",
      " 4   SibSp     891 non-null    int64  \n",
      " 5   Parch     891 non-null    int64  \n",
      " 6   Fare      891 non-null    bool   \n",
      " 7   Cabin     204 non-null    object \n",
      " 8   Embarked  889 non-null    object \n",
      " 9   title     891 non-null    int64  \n",
      "dtypes: bool(1), float64(1), int64(5), object(3)\n",
      "memory usage: 63.6+ KB\n"
     ]
    }
   ],
   "source": [
    "df = df.drop([\"PassengerId\",\"Name\",\"Ticket\"], axis=\"columns\")\n",
    "df.info()"
   ]
  },
  {
   "cell_type": "code",
   "execution_count": 21,
   "id": "cc06c02e",
   "metadata": {
    "execution": {
     "iopub.execute_input": "2023-01-08T09:34:10.706608Z",
     "iopub.status.busy": "2023-01-08T09:34:10.705366Z",
     "iopub.status.idle": "2023-01-08T09:34:10.722241Z",
     "shell.execute_reply": "2023-01-08T09:34:10.720752Z"
    },
    "papermill": {
     "duration": 0.05093,
     "end_time": "2023-01-08T09:34:10.724732",
     "exception": false,
     "start_time": "2023-01-08T09:34:10.673802",
     "status": "completed"
    },
    "tags": []
   },
   "outputs": [
    {
     "name": "stdout",
     "output_type": "stream",
     "text": [
      "<class 'pandas.core.frame.DataFrame'>\n",
      "RangeIndex: 891 entries, 0 to 890\n",
      "Data columns (total 10 columns):\n",
      " #   Column    Non-Null Count  Dtype  \n",
      "---  ------    --------------  -----  \n",
      " 0   Survived  891 non-null    int64  \n",
      " 1   Pclass    891 non-null    int64  \n",
      " 2   Sex       891 non-null    int64  \n",
      " 3   Age       714 non-null    float64\n",
      " 4   SibSp     891 non-null    int64  \n",
      " 5   Parch     891 non-null    int64  \n",
      " 6   Fare      891 non-null    bool   \n",
      " 7   Cabin     204 non-null    object \n",
      " 8   Embarked  889 non-null    object \n",
      " 9   title     891 non-null    int64  \n",
      "dtypes: bool(1), float64(1), int64(6), object(2)\n",
      "memory usage: 63.6+ KB\n"
     ]
    }
   ],
   "source": [
    "df[\"Sex\"] = df[\"Sex\"].replace([\"male\", \"female\"],[0,1])\n",
    "df.info()"
   ]
  },
  {
   "cell_type": "code",
   "execution_count": 22,
   "id": "a14299f7",
   "metadata": {
    "execution": {
     "iopub.execute_input": "2023-01-08T09:34:10.788062Z",
     "iopub.status.busy": "2023-01-08T09:34:10.786908Z",
     "iopub.status.idle": "2023-01-08T09:34:10.802608Z",
     "shell.execute_reply": "2023-01-08T09:34:10.800787Z"
    },
    "papermill": {
     "duration": 0.050652,
     "end_time": "2023-01-08T09:34:10.805461",
     "exception": false,
     "start_time": "2023-01-08T09:34:10.754809",
     "status": "completed"
    },
    "tags": []
   },
   "outputs": [
    {
     "name": "stdout",
     "output_type": "stream",
     "text": [
      "<class 'pandas.core.frame.DataFrame'>\n",
      "RangeIndex: 891 entries, 0 to 890\n",
      "Data columns (total 10 columns):\n",
      " #   Column    Non-Null Count  Dtype  \n",
      "---  ------    --------------  -----  \n",
      " 0   Survived  891 non-null    int64  \n",
      " 1   Pclass    891 non-null    int64  \n",
      " 2   Sex       891 non-null    int64  \n",
      " 3   Age       714 non-null    float64\n",
      " 4   SibSp     891 non-null    int64  \n",
      " 5   Parch     891 non-null    int64  \n",
      " 6   Fare      891 non-null    bool   \n",
      " 7   Cabin     891 non-null    bool   \n",
      " 8   Embarked  889 non-null    object \n",
      " 9   title     891 non-null    int64  \n",
      "dtypes: bool(2), float64(1), int64(6), object(1)\n",
      "memory usage: 57.6+ KB\n"
     ]
    }
   ],
   "source": [
    "df[\"Cabin\"] = df[\"Cabin\"].isna()\n",
    "df.info()"
   ]
  },
  {
   "cell_type": "markdown",
   "id": "6fa4b6b6",
   "metadata": {
    "papermill": {
     "duration": 0.030191,
     "end_time": "2023-01-08T09:34:10.866443",
     "exception": false,
     "start_time": "2023-01-08T09:34:10.836252",
     "status": "completed"
    },
    "tags": []
   },
   "source": [
    "## 5.3 Grouping Title & Calculating Mean Age (Accuracy = 80.45%)"
   ]
  },
  {
   "cell_type": "code",
   "execution_count": 23,
   "id": "0962ce8b",
   "metadata": {
    "execution": {
     "iopub.execute_input": "2023-01-08T09:34:10.929747Z",
     "iopub.status.busy": "2023-01-08T09:34:10.929325Z",
     "iopub.status.idle": "2023-01-08T09:34:10.938043Z",
     "shell.execute_reply": "2023-01-08T09:34:10.936493Z"
    },
    "papermill": {
     "duration": 0.04395,
     "end_time": "2023-01-08T09:34:10.940524",
     "exception": false,
     "start_time": "2023-01-08T09:34:10.896574",
     "status": "completed"
    },
    "tags": []
   },
   "outputs": [
    {
     "name": "stdout",
     "output_type": "stream",
     "text": [
      "title\n",
      "1    32.368090\n",
      "2    45.545455\n",
      "3     4.574167\n",
      "4    21.845638\n",
      "5    35.788991\n",
      "Name: Age, dtype: float64\n"
     ]
    }
   ],
   "source": [
    "# Incase of taking mean age of all title, we can take mean age for a particular title only\n",
    "print(df.groupby(\"title\").Age.mean())"
   ]
  },
  {
   "cell_type": "code",
   "execution_count": 24,
   "id": "d55cca53",
   "metadata": {
    "execution": {
     "iopub.execute_input": "2023-01-08T09:34:11.003550Z",
     "iopub.status.busy": "2023-01-08T09:34:11.003126Z",
     "iopub.status.idle": "2023-01-08T09:34:11.011892Z",
     "shell.execute_reply": "2023-01-08T09:34:11.010742Z"
    },
    "papermill": {
     "duration": 0.043478,
     "end_time": "2023-01-08T09:34:11.014453",
     "exception": false,
     "start_time": "2023-01-08T09:34:10.970975",
     "status": "completed"
    },
    "tags": []
   },
   "outputs": [],
   "source": [
    "# df[\"Age\"][df[\"title\"]==1]=32\n",
    "# df[\"Age\"][df[\"title\"]==2]=45\n",
    "df[\"Age\"][df[\"title\"]==3]=7\n",
    "# df[\"Age\"][df[\"title\"]==4]=23\n",
    "# df[\"Age\"][df[\"title\"]==5]=35\n",
    "mage = df.Age.mean()\n",
    "df.Age = df.Age.fillna(mage)"
   ]
  },
  {
   "cell_type": "markdown",
   "id": "0a951c4a",
   "metadata": {
    "papermill": {
     "duration": 0.037785,
     "end_time": "2023-01-08T09:34:11.085083",
     "exception": false,
     "start_time": "2023-01-08T09:34:11.047298",
     "status": "completed"
    },
    "tags": []
   },
   "source": [
    "## 3.1 Considering Mean Age for NA values (Accuracy = 78.77%)"
   ]
  },
  {
   "cell_type": "code",
   "execution_count": 25,
   "id": "da308c76",
   "metadata": {
    "execution": {
     "iopub.execute_input": "2023-01-08T09:34:11.160082Z",
     "iopub.status.busy": "2023-01-08T09:34:11.159633Z",
     "iopub.status.idle": "2023-01-08T09:34:11.164474Z",
     "shell.execute_reply": "2023-01-08T09:34:11.163519Z"
    },
    "papermill": {
     "duration": 0.043805,
     "end_time": "2023-01-08T09:34:11.166800",
     "exception": false,
     "start_time": "2023-01-08T09:34:11.122995",
     "status": "completed"
    },
    "tags": []
   },
   "outputs": [],
   "source": [
    "# df[\"Age\"][df[\"Age\"].isna()] = df[\"Age\"].mean()\n",
    "# df.info()"
   ]
  },
  {
   "cell_type": "code",
   "execution_count": 26,
   "id": "e7e7b587",
   "metadata": {
    "execution": {
     "iopub.execute_input": "2023-01-08T09:34:11.230295Z",
     "iopub.status.busy": "2023-01-08T09:34:11.229568Z",
     "iopub.status.idle": "2023-01-08T09:34:11.243754Z",
     "shell.execute_reply": "2023-01-08T09:34:11.242648Z"
    },
    "papermill": {
     "duration": 0.048861,
     "end_time": "2023-01-08T09:34:11.246451",
     "exception": false,
     "start_time": "2023-01-08T09:34:11.197590",
     "status": "completed"
    },
    "tags": []
   },
   "outputs": [
    {
     "data": {
      "text/html": [
       "<div>\n",
       "<style scoped>\n",
       "    .dataframe tbody tr th:only-of-type {\n",
       "        vertical-align: middle;\n",
       "    }\n",
       "\n",
       "    .dataframe tbody tr th {\n",
       "        vertical-align: top;\n",
       "    }\n",
       "\n",
       "    .dataframe thead th {\n",
       "        text-align: right;\n",
       "    }\n",
       "</style>\n",
       "<table border=\"1\" class=\"dataframe\">\n",
       "  <thead>\n",
       "    <tr style=\"text-align: right;\">\n",
       "      <th></th>\n",
       "      <th>Survived</th>\n",
       "      <th>Pclass</th>\n",
       "      <th>Sex</th>\n",
       "      <th>Age</th>\n",
       "      <th>SibSp</th>\n",
       "      <th>Parch</th>\n",
       "      <th>Fare</th>\n",
       "      <th>Cabin</th>\n",
       "      <th>Embarked</th>\n",
       "      <th>title</th>\n",
       "    </tr>\n",
       "  </thead>\n",
       "  <tbody>\n",
       "    <tr>\n",
       "      <th>0</th>\n",
       "      <td>0</td>\n",
       "      <td>3</td>\n",
       "      <td>0</td>\n",
       "      <td>22.0</td>\n",
       "      <td>1</td>\n",
       "      <td>0</td>\n",
       "      <td>False</td>\n",
       "      <td>True</td>\n",
       "      <td>S</td>\n",
       "      <td>1</td>\n",
       "    </tr>\n",
       "    <tr>\n",
       "      <th>1</th>\n",
       "      <td>1</td>\n",
       "      <td>1</td>\n",
       "      <td>1</td>\n",
       "      <td>38.0</td>\n",
       "      <td>1</td>\n",
       "      <td>0</td>\n",
       "      <td>True</td>\n",
       "      <td>False</td>\n",
       "      <td>C</td>\n",
       "      <td>5</td>\n",
       "    </tr>\n",
       "    <tr>\n",
       "      <th>2</th>\n",
       "      <td>1</td>\n",
       "      <td>3</td>\n",
       "      <td>1</td>\n",
       "      <td>26.0</td>\n",
       "      <td>0</td>\n",
       "      <td>0</td>\n",
       "      <td>False</td>\n",
       "      <td>True</td>\n",
       "      <td>S</td>\n",
       "      <td>4</td>\n",
       "    </tr>\n",
       "    <tr>\n",
       "      <th>3</th>\n",
       "      <td>1</td>\n",
       "      <td>1</td>\n",
       "      <td>1</td>\n",
       "      <td>35.0</td>\n",
       "      <td>1</td>\n",
       "      <td>0</td>\n",
       "      <td>True</td>\n",
       "      <td>False</td>\n",
       "      <td>S</td>\n",
       "      <td>5</td>\n",
       "    </tr>\n",
       "    <tr>\n",
       "      <th>4</th>\n",
       "      <td>0</td>\n",
       "      <td>3</td>\n",
       "      <td>0</td>\n",
       "      <td>35.0</td>\n",
       "      <td>0</td>\n",
       "      <td>0</td>\n",
       "      <td>False</td>\n",
       "      <td>True</td>\n",
       "      <td>S</td>\n",
       "      <td>1</td>\n",
       "    </tr>\n",
       "  </tbody>\n",
       "</table>\n",
       "</div>"
      ],
      "text/plain": [
       "   Survived  Pclass  Sex   Age  SibSp  Parch   Fare  Cabin Embarked  title\n",
       "0         0       3    0  22.0      1      0  False   True        S      1\n",
       "1         1       1    1  38.0      1      0   True  False        C      5\n",
       "2         1       3    1  26.0      0      0  False   True        S      4\n",
       "3         1       1    1  35.0      1      0   True  False        S      5\n",
       "4         0       3    0  35.0      0      0  False   True        S      1"
      ]
     },
     "execution_count": 26,
     "metadata": {},
     "output_type": "execute_result"
    }
   ],
   "source": [
    "df.head()"
   ]
  },
  {
   "cell_type": "code",
   "execution_count": 27,
   "id": "2f1671f4",
   "metadata": {
    "execution": {
     "iopub.execute_input": "2023-01-08T09:34:11.311939Z",
     "iopub.status.busy": "2023-01-08T09:34:11.311473Z",
     "iopub.status.idle": "2023-01-08T09:34:11.330703Z",
     "shell.execute_reply": "2023-01-08T09:34:11.329090Z"
    },
    "papermill": {
     "duration": 0.054666,
     "end_time": "2023-01-08T09:34:11.333552",
     "exception": false,
     "start_time": "2023-01-08T09:34:11.278886",
     "status": "completed"
    },
    "tags": []
   },
   "outputs": [
    {
     "name": "stdout",
     "output_type": "stream",
     "text": [
      "<class 'pandas.core.frame.DataFrame'>\n",
      "RangeIndex: 891 entries, 0 to 890\n",
      "Data columns (total 12 columns):\n",
      " #   Column      Non-Null Count  Dtype  \n",
      "---  ------      --------------  -----  \n",
      " 0   Survived    891 non-null    int64  \n",
      " 1   Pclass      891 non-null    int64  \n",
      " 2   Sex         891 non-null    int64  \n",
      " 3   Age         891 non-null    float64\n",
      " 4   SibSp       891 non-null    int64  \n",
      " 5   Parch       891 non-null    int64  \n",
      " 6   Fare        891 non-null    bool   \n",
      " 7   Cabin       891 non-null    bool   \n",
      " 8   title       891 non-null    int64  \n",
      " 9   Embarked_C  891 non-null    uint8  \n",
      " 10  Embarked_Q  891 non-null    uint8  \n",
      " 11  Embarked_S  891 non-null    uint8  \n",
      "dtypes: bool(2), float64(1), int64(6), uint8(3)\n",
      "memory usage: 53.2 KB\n"
     ]
    }
   ],
   "source": [
    "df = pd.get_dummies(df)\n",
    "df.info()"
   ]
  },
  {
   "cell_type": "code",
   "execution_count": 28,
   "id": "e79e8f1f",
   "metadata": {
    "execution": {
     "iopub.execute_input": "2023-01-08T09:34:11.399116Z",
     "iopub.status.busy": "2023-01-08T09:34:11.398690Z",
     "iopub.status.idle": "2023-01-08T09:34:11.413356Z",
     "shell.execute_reply": "2023-01-08T09:34:11.412005Z"
    },
    "papermill": {
     "duration": 0.05112,
     "end_time": "2023-01-08T09:34:11.415772",
     "exception": false,
     "start_time": "2023-01-08T09:34:11.364652",
     "status": "completed"
    },
    "tags": []
   },
   "outputs": [
    {
     "data": {
      "text/plain": [
       "Pclass        0.129755\n",
       "Sex           0.643977\n",
       "Age           0.030072\n",
       "SibSp         0.077914\n",
       "Parch         0.170176\n",
       "Fare          0.408208\n",
       "Cabin         0.185190\n",
       "title         0.374197\n",
       "Embarked_C    0.331221\n",
       "Embarked_Q    0.012168\n",
       "Embarked_S    0.101449\n",
       "dtype: float64"
      ]
     },
     "execution_count": 28,
     "metadata": {},
     "output_type": "execute_result"
    }
   ],
   "source": [
    "ab = df.groupby(\"Survived\").mean()\n",
    "ab\n",
    "v1 = ab.iloc[0,:]\n",
    "v2 = ab.iloc[1,:]\n",
    "abs((v2-v1)/(v1+v2))"
   ]
  },
  {
   "cell_type": "code",
   "execution_count": 29,
   "id": "f25f5ad5",
   "metadata": {
    "execution": {
     "iopub.execute_input": "2023-01-08T09:34:11.481822Z",
     "iopub.status.busy": "2023-01-08T09:34:11.480636Z",
     "iopub.status.idle": "2023-01-08T09:34:11.486325Z",
     "shell.execute_reply": "2023-01-08T09:34:11.485007Z"
    },
    "papermill": {
     "duration": 0.040641,
     "end_time": "2023-01-08T09:34:11.488976",
     "exception": false,
     "start_time": "2023-01-08T09:34:11.448335",
     "status": "completed"
    },
    "tags": []
   },
   "outputs": [],
   "source": [
    "# sns.pairplot(df, hue='Survived')"
   ]
  },
  {
   "cell_type": "markdown",
   "id": "aaba9578",
   "metadata": {
    "papermill": {
     "duration": 0.031651,
     "end_time": "2023-01-08T09:34:11.552349",
     "exception": false,
     "start_time": "2023-01-08T09:34:11.520698",
     "status": "completed"
    },
    "tags": []
   },
   "source": [
    "# 4. Creating ML Model"
   ]
  },
  {
   "cell_type": "code",
   "execution_count": 30,
   "id": "fd09302b",
   "metadata": {
    "execution": {
     "iopub.execute_input": "2023-01-08T09:34:11.618224Z",
     "iopub.status.busy": "2023-01-08T09:34:11.617777Z",
     "iopub.status.idle": "2023-01-08T09:34:11.625921Z",
     "shell.execute_reply": "2023-01-08T09:34:11.624661Z"
    },
    "papermill": {
     "duration": 0.04403,
     "end_time": "2023-01-08T09:34:11.628761",
     "exception": false,
     "start_time": "2023-01-08T09:34:11.584731",
     "status": "completed"
    },
    "tags": []
   },
   "outputs": [],
   "source": [
    "y = df[\"Survived\"]\n",
    "df.drop(\"Survived\", axis = \"columns\", inplace=True)\n",
    "x = df"
   ]
  },
  {
   "cell_type": "code",
   "execution_count": 31,
   "id": "daba65fd",
   "metadata": {
    "execution": {
     "iopub.execute_input": "2023-01-08T09:34:11.693695Z",
     "iopub.status.busy": "2023-01-08T09:34:11.693248Z",
     "iopub.status.idle": "2023-01-08T09:34:11.713292Z",
     "shell.execute_reply": "2023-01-08T09:34:11.712454Z"
    },
    "papermill": {
     "duration": 0.054702,
     "end_time": "2023-01-08T09:34:11.715442",
     "exception": false,
     "start_time": "2023-01-08T09:34:11.660740",
     "status": "completed"
    },
    "tags": []
   },
   "outputs": [
    {
     "data": {
      "text/html": [
       "<div>\n",
       "<style scoped>\n",
       "    .dataframe tbody tr th:only-of-type {\n",
       "        vertical-align: middle;\n",
       "    }\n",
       "\n",
       "    .dataframe tbody tr th {\n",
       "        vertical-align: top;\n",
       "    }\n",
       "\n",
       "    .dataframe thead th {\n",
       "        text-align: right;\n",
       "    }\n",
       "</style>\n",
       "<table border=\"1\" class=\"dataframe\">\n",
       "  <thead>\n",
       "    <tr style=\"text-align: right;\">\n",
       "      <th></th>\n",
       "      <th>Pclass</th>\n",
       "      <th>Sex</th>\n",
       "      <th>Age</th>\n",
       "      <th>SibSp</th>\n",
       "      <th>Parch</th>\n",
       "      <th>Fare</th>\n",
       "      <th>Cabin</th>\n",
       "      <th>title</th>\n",
       "      <th>Embarked_C</th>\n",
       "      <th>Embarked_Q</th>\n",
       "      <th>Embarked_S</th>\n",
       "    </tr>\n",
       "  </thead>\n",
       "  <tbody>\n",
       "    <tr>\n",
       "      <th>0</th>\n",
       "      <td>3</td>\n",
       "      <td>0</td>\n",
       "      <td>22.00000</td>\n",
       "      <td>1</td>\n",
       "      <td>0</td>\n",
       "      <td>False</td>\n",
       "      <td>True</td>\n",
       "      <td>1</td>\n",
       "      <td>0</td>\n",
       "      <td>0</td>\n",
       "      <td>1</td>\n",
       "    </tr>\n",
       "    <tr>\n",
       "      <th>1</th>\n",
       "      <td>1</td>\n",
       "      <td>1</td>\n",
       "      <td>38.00000</td>\n",
       "      <td>1</td>\n",
       "      <td>0</td>\n",
       "      <td>True</td>\n",
       "      <td>False</td>\n",
       "      <td>5</td>\n",
       "      <td>1</td>\n",
       "      <td>0</td>\n",
       "      <td>0</td>\n",
       "    </tr>\n",
       "    <tr>\n",
       "      <th>2</th>\n",
       "      <td>3</td>\n",
       "      <td>1</td>\n",
       "      <td>26.00000</td>\n",
       "      <td>0</td>\n",
       "      <td>0</td>\n",
       "      <td>False</td>\n",
       "      <td>True</td>\n",
       "      <td>4</td>\n",
       "      <td>0</td>\n",
       "      <td>0</td>\n",
       "      <td>1</td>\n",
       "    </tr>\n",
       "    <tr>\n",
       "      <th>3</th>\n",
       "      <td>1</td>\n",
       "      <td>1</td>\n",
       "      <td>35.00000</td>\n",
       "      <td>1</td>\n",
       "      <td>0</td>\n",
       "      <td>True</td>\n",
       "      <td>False</td>\n",
       "      <td>5</td>\n",
       "      <td>0</td>\n",
       "      <td>0</td>\n",
       "      <td>1</td>\n",
       "    </tr>\n",
       "    <tr>\n",
       "      <th>4</th>\n",
       "      <td>3</td>\n",
       "      <td>0</td>\n",
       "      <td>35.00000</td>\n",
       "      <td>0</td>\n",
       "      <td>0</td>\n",
       "      <td>False</td>\n",
       "      <td>True</td>\n",
       "      <td>1</td>\n",
       "      <td>0</td>\n",
       "      <td>0</td>\n",
       "      <td>1</td>\n",
       "    </tr>\n",
       "    <tr>\n",
       "      <th>...</th>\n",
       "      <td>...</td>\n",
       "      <td>...</td>\n",
       "      <td>...</td>\n",
       "      <td>...</td>\n",
       "      <td>...</td>\n",
       "      <td>...</td>\n",
       "      <td>...</td>\n",
       "      <td>...</td>\n",
       "      <td>...</td>\n",
       "      <td>...</td>\n",
       "      <td>...</td>\n",
       "    </tr>\n",
       "    <tr>\n",
       "      <th>886</th>\n",
       "      <td>2</td>\n",
       "      <td>0</td>\n",
       "      <td>27.00000</td>\n",
       "      <td>0</td>\n",
       "      <td>0</td>\n",
       "      <td>False</td>\n",
       "      <td>True</td>\n",
       "      <td>2</td>\n",
       "      <td>0</td>\n",
       "      <td>0</td>\n",
       "      <td>1</td>\n",
       "    </tr>\n",
       "    <tr>\n",
       "      <th>887</th>\n",
       "      <td>1</td>\n",
       "      <td>1</td>\n",
       "      <td>19.00000</td>\n",
       "      <td>0</td>\n",
       "      <td>0</td>\n",
       "      <td>False</td>\n",
       "      <td>False</td>\n",
       "      <td>4</td>\n",
       "      <td>0</td>\n",
       "      <td>0</td>\n",
       "      <td>1</td>\n",
       "    </tr>\n",
       "    <tr>\n",
       "      <th>888</th>\n",
       "      <td>3</td>\n",
       "      <td>1</td>\n",
       "      <td>29.69429</td>\n",
       "      <td>1</td>\n",
       "      <td>2</td>\n",
       "      <td>False</td>\n",
       "      <td>True</td>\n",
       "      <td>4</td>\n",
       "      <td>0</td>\n",
       "      <td>0</td>\n",
       "      <td>1</td>\n",
       "    </tr>\n",
       "    <tr>\n",
       "      <th>889</th>\n",
       "      <td>1</td>\n",
       "      <td>0</td>\n",
       "      <td>26.00000</td>\n",
       "      <td>0</td>\n",
       "      <td>0</td>\n",
       "      <td>False</td>\n",
       "      <td>False</td>\n",
       "      <td>1</td>\n",
       "      <td>1</td>\n",
       "      <td>0</td>\n",
       "      <td>0</td>\n",
       "    </tr>\n",
       "    <tr>\n",
       "      <th>890</th>\n",
       "      <td>3</td>\n",
       "      <td>0</td>\n",
       "      <td>32.00000</td>\n",
       "      <td>0</td>\n",
       "      <td>0</td>\n",
       "      <td>False</td>\n",
       "      <td>True</td>\n",
       "      <td>1</td>\n",
       "      <td>0</td>\n",
       "      <td>1</td>\n",
       "      <td>0</td>\n",
       "    </tr>\n",
       "  </tbody>\n",
       "</table>\n",
       "<p>891 rows × 11 columns</p>\n",
       "</div>"
      ],
      "text/plain": [
       "     Pclass  Sex       Age  SibSp  Parch   Fare  Cabin  title  Embarked_C  \\\n",
       "0         3    0  22.00000      1      0  False   True      1           0   \n",
       "1         1    1  38.00000      1      0   True  False      5           1   \n",
       "2         3    1  26.00000      0      0  False   True      4           0   \n",
       "3         1    1  35.00000      1      0   True  False      5           0   \n",
       "4         3    0  35.00000      0      0  False   True      1           0   \n",
       "..      ...  ...       ...    ...    ...    ...    ...    ...         ...   \n",
       "886       2    0  27.00000      0      0  False   True      2           0   \n",
       "887       1    1  19.00000      0      0  False  False      4           0   \n",
       "888       3    1  29.69429      1      2  False   True      4           0   \n",
       "889       1    0  26.00000      0      0  False  False      1           1   \n",
       "890       3    0  32.00000      0      0  False   True      1           0   \n",
       "\n",
       "     Embarked_Q  Embarked_S  \n",
       "0             0           1  \n",
       "1             0           0  \n",
       "2             0           1  \n",
       "3             0           1  \n",
       "4             0           1  \n",
       "..          ...         ...  \n",
       "886           0           1  \n",
       "887           0           1  \n",
       "888           0           1  \n",
       "889           0           0  \n",
       "890           1           0  \n",
       "\n",
       "[891 rows x 11 columns]"
      ]
     },
     "execution_count": 31,
     "metadata": {},
     "output_type": "execute_result"
    }
   ],
   "source": [
    "x"
   ]
  },
  {
   "cell_type": "markdown",
   "id": "6005bf7b",
   "metadata": {
    "papermill": {
     "duration": 0.031713,
     "end_time": "2023-01-08T09:34:11.779498",
     "exception": false,
     "start_time": "2023-01-08T09:34:11.747785",
     "status": "completed"
    },
    "tags": []
   },
   "source": [
    "## 6.1 Random Forest Classifier Model (Accuracy = 85.47%)"
   ]
  },
  {
   "cell_type": "code",
   "execution_count": 32,
   "id": "ced562ca",
   "metadata": {
    "execution": {
     "iopub.execute_input": "2023-01-08T09:34:11.845974Z",
     "iopub.status.busy": "2023-01-08T09:34:11.845537Z",
     "iopub.status.idle": "2023-01-08T09:34:11.851130Z",
     "shell.execute_reply": "2023-01-08T09:34:11.850061Z"
    },
    "papermill": {
     "duration": 0.041147,
     "end_time": "2023-01-08T09:34:11.853512",
     "exception": false,
     "start_time": "2023-01-08T09:34:11.812365",
     "status": "completed"
    },
    "tags": []
   },
   "outputs": [],
   "source": [
    "model = RandomForestClassifier() # Accuracy = 85.47%\n",
    "\n",
    "# model = LogisticRegression()  # Accuracy = 89.39%"
   ]
  },
  {
   "cell_type": "code",
   "execution_count": 33,
   "id": "b97d4f49",
   "metadata": {
    "execution": {
     "iopub.execute_input": "2023-01-08T09:34:11.918123Z",
     "iopub.status.busy": "2023-01-08T09:34:11.917728Z",
     "iopub.status.idle": "2023-01-08T09:34:12.168398Z",
     "shell.execute_reply": "2023-01-08T09:34:12.166950Z"
    },
    "papermill": {
     "duration": 0.286794,
     "end_time": "2023-01-08T09:34:12.171194",
     "exception": false,
     "start_time": "2023-01-08T09:34:11.884400",
     "status": "completed"
    },
    "tags": []
   },
   "outputs": [
    {
     "name": "stdout",
     "output_type": "stream",
     "text": [
      "0.8491620111731844\n",
      "Survived 61\n",
      "Not Survived 118\n"
     ]
    },
    {
     "data": {
      "text/plain": [
       "array([[104,  13],\n",
       "       [ 14,  48]])"
      ]
     },
     "execution_count": 33,
     "metadata": {},
     "output_type": "execute_result"
    }
   ],
   "source": [
    "x_train, x_test, y_train, y_test = train_test_split(x, y, test_size=0.2, random_state=10)\n",
    "model.fit(x_train, y_train)\n",
    "print(model.score(x_test, y_test))\n",
    "\n",
    "yp = model.predict(x_test)\n",
    "print(\"Survived\", sum(yp!=0))\n",
    "print(\"Not Survived\", sum(yp==0))\n",
    "\n",
    "cm = confusion_matrix(y_test, yp)\n",
    "cm"
   ]
  },
  {
   "cell_type": "markdown",
   "id": "e23740bf",
   "metadata": {
    "papermill": {
     "duration": 0.032335,
     "end_time": "2023-01-08T09:34:12.235390",
     "exception": false,
     "start_time": "2023-01-08T09:34:12.203055",
     "status": "completed"
    },
    "tags": []
   },
   "source": [
    "## 6.2 XGBoost Classifier Model (Accuracy = 86.59%)"
   ]
  },
  {
   "cell_type": "code",
   "execution_count": 34,
   "id": "bd4d402a",
   "metadata": {
    "execution": {
     "iopub.execute_input": "2023-01-08T09:34:12.302221Z",
     "iopub.status.busy": "2023-01-08T09:34:12.301820Z",
     "iopub.status.idle": "2023-01-08T09:34:12.307247Z",
     "shell.execute_reply": "2023-01-08T09:34:12.305945Z"
    },
    "papermill": {
     "duration": 0.041872,
     "end_time": "2023-01-08T09:34:12.310030",
     "exception": false,
     "start_time": "2023-01-08T09:34:12.268158",
     "status": "completed"
    },
    "tags": []
   },
   "outputs": [],
   "source": [
    "model = XGBClassifier() # Accuracy = 86.59"
   ]
  },
  {
   "cell_type": "code",
   "execution_count": 35,
   "id": "f8085bc7",
   "metadata": {
    "execution": {
     "iopub.execute_input": "2023-01-08T09:34:12.377033Z",
     "iopub.status.busy": "2023-01-08T09:34:12.376591Z",
     "iopub.status.idle": "2023-01-08T09:34:12.724995Z",
     "shell.execute_reply": "2023-01-08T09:34:12.722583Z"
    },
    "papermill": {
     "duration": 0.385633,
     "end_time": "2023-01-08T09:34:12.727951",
     "exception": false,
     "start_time": "2023-01-08T09:34:12.342318",
     "status": "completed"
    },
    "tags": []
   },
   "outputs": [
    {
     "name": "stdout",
     "output_type": "stream",
     "text": [
      "0.8659217877094972\n",
      "Survived 54\n",
      "Not Survived 125\n"
     ]
    },
    {
     "data": {
      "text/plain": [
       "array([[109,   8],\n",
       "       [ 16,  46]])"
      ]
     },
     "execution_count": 35,
     "metadata": {},
     "output_type": "execute_result"
    }
   ],
   "source": [
    "x_train, x_test, y_train, y_test = train_test_split(x, y, test_size=0.2, random_state=10)\n",
    "model.fit(x_train, y_train)\n",
    "print(model.score(x_test, y_test))\n",
    "\n",
    "y_pred = model.predict(x_test)\n",
    "print(\"Survived\", sum(y_pred!=0))\n",
    "print(\"Not Survived\", sum(y_pred==0))\n",
    "\n",
    "cm = confusion_matrix(y_test, y_pred)\n",
    "cm"
   ]
  },
  {
   "cell_type": "code",
   "execution_count": 36,
   "id": "a9638bc1",
   "metadata": {
    "execution": {
     "iopub.execute_input": "2023-01-08T09:34:12.796504Z",
     "iopub.status.busy": "2023-01-08T09:34:12.795828Z",
     "iopub.status.idle": "2023-01-08T09:34:12.807091Z",
     "shell.execute_reply": "2023-01-08T09:34:12.805389Z"
    },
    "papermill": {
     "duration": 0.048537,
     "end_time": "2023-01-08T09:34:12.809943",
     "exception": false,
     "start_time": "2023-01-08T09:34:12.761406",
     "status": "completed"
    },
    "tags": []
   },
   "outputs": [
    {
     "name": "stdout",
     "output_type": "stream",
     "text": [
      "              precision    recall  f1-score   support\n",
      "\n",
      "           0       0.87      0.93      0.90       117\n",
      "           1       0.85      0.74      0.79        62\n",
      "\n",
      "    accuracy                           0.87       179\n",
      "   macro avg       0.86      0.84      0.85       179\n",
      "weighted avg       0.87      0.87      0.86       179\n",
      "\n"
     ]
    }
   ],
   "source": [
    "print(classification_report(y_test, y_pred))"
   ]
  },
  {
   "cell_type": "code",
   "execution_count": 37,
   "id": "f82dd6ab",
   "metadata": {
    "execution": {
     "iopub.execute_input": "2023-01-08T09:34:12.877357Z",
     "iopub.status.busy": "2023-01-08T09:34:12.876651Z",
     "iopub.status.idle": "2023-01-08T09:34:13.173006Z",
     "shell.execute_reply": "2023-01-08T09:34:13.171818Z"
    },
    "papermill": {
     "duration": 0.33219,
     "end_time": "2023-01-08T09:34:13.175497",
     "exception": false,
     "start_time": "2023-01-08T09:34:12.843307",
     "status": "completed"
    },
    "tags": []
   },
   "outputs": [
    {
     "data": {
      "text/plain": [
       "<AxesSubplot:title={'center':'Feature importance'}, xlabel='F score', ylabel='Features'>"
      ]
     },
     "execution_count": 37,
     "metadata": {},
     "output_type": "execute_result"
    },
    {
     "data": {
      "image/png": "[encoded data removed]",
      "text/plain": [
       "<Figure size 432x288 with 1 Axes>"
      ]
     },
     "metadata": {
      "needs_background": "light"
     },
     "output_type": "display_data"
    }
   ],
   "source": [
    "plot_importance(model)\n",
    "# plot.show()"
   ]
  },
  {
   "cell_type": "markdown",
   "id": "5270b107",
   "metadata": {
    "papermill": {
     "duration": 0.034466,
     "end_time": "2023-01-08T09:34:13.243864",
     "exception": false,
     "start_time": "2023-01-08T09:34:13.209398",
     "status": "completed"
    },
    "tags": []
   },
   "source": [
    "## 6.3 Logistic Regression Model (Accuracy = 89.39%)"
   ]
  },
  {
   "cell_type": "code",
   "execution_count": 38,
   "id": "2c6480e1",
   "metadata": {
    "execution": {
     "iopub.execute_input": "2023-01-08T09:34:13.313598Z",
     "iopub.status.busy": "2023-01-08T09:34:13.313190Z",
     "iopub.status.idle": "2023-01-08T09:34:13.319068Z",
     "shell.execute_reply": "2023-01-08T09:34:13.317802Z"
    },
    "papermill": {
     "duration": 0.043518,
     "end_time": "2023-01-08T09:34:13.321503",
     "exception": false,
     "start_time": "2023-01-08T09:34:13.277985",
     "status": "completed"
    },
    "tags": []
   },
   "outputs": [],
   "source": [
    "model = LogisticRegression()  # Accuracy = 89.39%"
   ]
  },
  {
   "cell_type": "code",
   "execution_count": 39,
   "id": "25373d6b",
   "metadata": {
    "execution": {
     "iopub.execute_input": "2023-01-08T09:34:13.390931Z",
     "iopub.status.busy": "2023-01-08T09:34:13.389854Z",
     "iopub.status.idle": "2023-01-08T09:34:13.445269Z",
     "shell.execute_reply": "2023-01-08T09:34:13.443758Z"
    },
    "papermill": {
     "duration": 0.093755,
     "end_time": "2023-01-08T09:34:13.448150",
     "exception": false,
     "start_time": "2023-01-08T09:34:13.354395",
     "status": "completed"
    },
    "tags": []
   },
   "outputs": [
    {
     "name": "stdout",
     "output_type": "stream",
     "text": [
      "0.8379888268156425\n",
      "Survived 69\n",
      "Not Survived 110\n"
     ]
    },
    {
     "data": {
      "text/plain": [
       "array([[99, 18],\n",
       "       [11, 51]])"
      ]
     },
     "execution_count": 39,
     "metadata": {},
     "output_type": "execute_result"
    }
   ],
   "source": [
    "x_train, x_test, y_train, y_test = train_test_split(x, y, test_size=0.2, random_state=10)\n",
    "model.fit(x_train, y_train)\n",
    "print(model.score(x_test, y_test))\n",
    "\n",
    "yp = model.predict(x_test)\n",
    "print(\"Survived\", sum(yp!=0))\n",
    "print(\"Not Survived\", sum(yp==0))\n",
    "\n",
    "cm = confusion_matrix(y_test, yp)\n",
    "cm"
   ]
  },
  {
   "cell_type": "markdown",
   "id": "c3f4a709",
   "metadata": {
    "papermill": {
     "duration": 0.033372,
     "end_time": "2023-01-08T09:34:13.514507",
     "exception": false,
     "start_time": "2023-01-08T09:34:13.481135",
     "status": "completed"
    },
    "tags": []
   },
   "source": [
    "# 5. Improving Base Model to Increase Accuracy"
   ]
  },
  {
   "cell_type": "markdown",
   "id": "92b808d9",
   "metadata": {
    "papermill": {
     "duration": 0.033178,
     "end_time": "2023-01-08T09:34:13.580344",
     "exception": false,
     "start_time": "2023-01-08T09:34:13.547166",
     "status": "completed"
    },
    "tags": []
   },
   "source": [
    "# 6. Hyperparameter Tunning"
   ]
  },
  {
   "cell_type": "markdown",
   "id": "da993be5",
   "metadata": {
    "papermill": {
     "duration": 0.034541,
     "end_time": "2023-01-08T09:34:13.647822",
     "exception": false,
     "start_time": "2023-01-08T09:34:13.613281",
     "status": "completed"
    },
    "tags": []
   },
   "source": [
    "## 6.1 Random Forest Classifier Model (Using RandomizedSearchCV & GridSearchCV) (83.584% Accuracy)"
   ]
  },
  {
   "cell_type": "code",
   "execution_count": 40,
   "id": "975c6b80",
   "metadata": {
    "execution": {
     "iopub.execute_input": "2023-01-08T09:34:13.715378Z",
     "iopub.status.busy": "2023-01-08T09:34:13.714971Z",
     "iopub.status.idle": "2023-01-08T09:34:13.723898Z",
     "shell.execute_reply": "2023-01-08T09:34:13.722767Z"
    },
    "papermill": {
     "duration": 0.045938,
     "end_time": "2023-01-08T09:34:13.726300",
     "exception": false,
     "start_time": "2023-01-08T09:34:13.680362",
     "status": "completed"
    },
    "tags": []
   },
   "outputs": [],
   "source": [
    "model = RandomForestClassifier() # Accuracy = 83.287%\n",
    "n_estimators = [int(x) for x in np.linspace(start=1, stop = 100, num = 40)]\n",
    "max_features = [\"auto\", \"sqrt\"]\n",
    "max_depth = [int(x) for x in np.linspace(1,50,num=25)]\n",
    "max_depth.append(None)\n",
    "min_samples_split = [2, 3, 4, 5, 7, 9, 10, 12, 14, 15, 17, 20]\n",
    "min_samples_leaf = [1, 2, 4, 5, 6, 8, 9, 10]\n",
    "bootstrap = [True, False]\n",
    "random_grid = {'n_estimators': n_estimators, \n",
    "               'max_features': max_features, \n",
    "               'max_depth': max_depth, \n",
    "               'min_samples_split': min_samples_split, \n",
    "               'min_samples_leaf': min_samples_leaf, \n",
    "               'bootstrap': bootstrap}"
   ]
  },
  {
   "cell_type": "code",
   "execution_count": 41,
   "id": "4e068583",
   "metadata": {
    "execution": {
     "iopub.execute_input": "2023-01-08T09:34:13.795913Z",
     "iopub.status.busy": "2023-01-08T09:34:13.794573Z",
     "iopub.status.idle": "2023-01-08T09:34:17.096460Z",
     "shell.execute_reply": "2023-01-08T09:34:17.095156Z"
    },
    "papermill": {
     "duration": 3.338966,
     "end_time": "2023-01-08T09:34:17.099147",
     "exception": false,
     "start_time": "2023-01-08T09:34:13.760181",
     "status": "completed"
    },
    "tags": []
   },
   "outputs": [
    {
     "name": "stdout",
     "output_type": "stream",
     "text": [
      "0.8286516853932584\n"
     ]
    },
    {
     "data": {
      "text/plain": [
       "{'n_estimators': 61,\n",
       " 'min_samples_split': 14,\n",
       " 'min_samples_leaf': 8,\n",
       " 'max_features': 'auto',\n",
       " 'max_depth': None,\n",
       " 'bootstrap': False}"
      ]
     },
     "execution_count": 41,
     "metadata": {},
     "output_type": "execute_result"
    }
   ],
   "source": [
    "rf_random = RandomizedSearchCV(estimator = model, param_distributions = random_grid, cv = 4)\n",
    "# OR\n",
    "# rf_random = GridSearchCV(model, random_grid, cv=5)\n",
    "\n",
    "x_train, x_test, y_train, y_test = train_test_split(x, y, test_size=0.2)\n",
    "rf_random.fit(x_train, y_train)\n",
    "print(rf_random.best_score_)\n",
    "rf_random.best_params_"
   ]
  },
  {
   "cell_type": "markdown",
   "id": "9237088a",
   "metadata": {
    "papermill": {
     "duration": 0.032694,
     "end_time": "2023-01-08T09:34:17.165778",
     "exception": false,
     "start_time": "2023-01-08T09:34:17.133084",
     "status": "completed"
    },
    "tags": []
   },
   "source": [
    "## 6.2 XGBoost Classifier Model (Using RandomizedSearchCV & GridSearchCV) (83.287% Accuracy)"
   ]
  },
  {
   "cell_type": "code",
   "execution_count": 42,
   "id": "fe4ebc2e",
   "metadata": {
    "execution": {
     "iopub.execute_input": "2023-01-08T09:34:17.234955Z",
     "iopub.status.busy": "2023-01-08T09:34:17.234513Z",
     "iopub.status.idle": "2023-01-08T09:34:17.242065Z",
     "shell.execute_reply": "2023-01-08T09:34:17.240926Z"
    },
    "papermill": {
     "duration": 0.045689,
     "end_time": "2023-01-08T09:34:17.244855",
     "exception": false,
     "start_time": "2023-01-08T09:34:17.199166",
     "status": "completed"
    },
    "tags": []
   },
   "outputs": [],
   "source": [
    "model = XGBClassifier()\n",
    "random_grid = { 'eta': [x for x in np.linspace(start=0.01, stop=0.2, num=4)],\n",
    "               'max_depth': range(1,10,1),\n",
    "               'min_child_weight': range(1,13,2),\n",
    "               'gamma': [i/10.0 for i in range (0,5)],\n",
    "               'subsample': [i/100.0 for i in range (60, 100, 5)],\n",
    "               'colsample_bytree': [i/100.0 for i in range (60, 100, 5)],\n",
    "               'reg_alpha': [0, 0.001, 0.005, 0.01, 0.05]\n",
    "              }"
   ]
  },
  {
   "cell_type": "code",
   "execution_count": 43,
   "id": "63c33929",
   "metadata": {
    "execution": {
     "iopub.execute_input": "2023-01-08T09:34:17.313608Z",
     "iopub.status.busy": "2023-01-08T09:34:17.313116Z",
     "iopub.status.idle": "2023-01-08T09:34:28.651008Z",
     "shell.execute_reply": "2023-01-08T09:34:28.648825Z"
    },
    "papermill": {
     "duration": 11.37648,
     "end_time": "2023-01-08T09:34:28.653985",
     "exception": false,
     "start_time": "2023-01-08T09:34:17.277505",
     "status": "completed"
    },
    "tags": []
   },
   "outputs": [
    {
     "name": "stdout",
     "output_type": "stream",
     "text": [
      "0.8188202247191011\n"
     ]
    },
    {
     "data": {
      "text/plain": [
       "{'subsample': 0.7,\n",
       " 'reg_alpha': 0.05,\n",
       " 'min_child_weight': 7,\n",
       " 'max_depth': 1,\n",
       " 'gamma': 0.1,\n",
       " 'eta': 0.2,\n",
       " 'colsample_bytree': 0.95}"
      ]
     },
     "execution_count": 43,
     "metadata": {},
     "output_type": "execute_result"
    }
   ],
   "source": [
    "rf_random = RandomizedSearchCV(estimator = model, param_distributions = random_grid, cv = 4)\n",
    "# OR\n",
    "# rf_random = GridSearchCV(model, random_grid, cv=5)\n",
    "\n",
    "x_train, x_test, y_train, y_test = train_test_split(x, y, test_size=0.2)\n",
    "rf_random.fit(x_train, y_train)\n",
    "print(rf_random.best_score_)\n",
    "rf_random.best_params_"
   ]
  },
  {
   "cell_type": "markdown",
   "id": "d916dd36",
   "metadata": {
    "papermill": {
     "duration": 0.032329,
     "end_time": "2023-01-08T09:34:28.719603",
     "exception": false,
     "start_time": "2023-01-08T09:34:28.687274",
     "status": "completed"
    },
    "tags": []
   },
   "source": [
    "# 7. Hyperparameter Tunning one-by-one using GridSearchCV "
   ]
  },
  {
   "cell_type": "markdown",
   "id": "16dc52d1",
   "metadata": {
    "papermill": {
     "duration": 0.033208,
     "end_time": "2023-01-08T09:34:28.785914",
     "exception": false,
     "start_time": "2023-01-08T09:34:28.752706",
     "status": "completed"
    },
    "tags": []
   },
   "source": [
    "## 7.1 eta= 0.09090909090909091 & Accuracy= 82.158%"
   ]
  },
  {
   "cell_type": "code",
   "execution_count": 44,
   "id": "56b7abdd",
   "metadata": {
    "execution": {
     "iopub.execute_input": "2023-01-08T09:34:28.853976Z",
     "iopub.status.busy": "2023-01-08T09:34:28.853570Z",
     "iopub.status.idle": "2023-01-08T09:34:28.858831Z",
     "shell.execute_reply": "2023-01-08T09:34:28.857849Z"
    },
    "papermill": {
     "duration": 0.041672,
     "end_time": "2023-01-08T09:34:28.860863",
     "exception": false,
     "start_time": "2023-01-08T09:34:28.819191",
     "status": "completed"
    },
    "tags": []
   },
   "outputs": [],
   "source": [
    "model = XGBClassifier()\n",
    "random_grid = { 'eta': [x for x in np.linspace(start=0, stop=0.5, num=12)]\n",
    "              }"
   ]
  },
  {
   "cell_type": "code",
   "execution_count": 45,
   "id": "5f008bf4",
   "metadata": {
    "execution": {
     "iopub.execute_input": "2023-01-08T09:34:28.928866Z",
     "iopub.status.busy": "2023-01-08T09:34:28.928378Z",
     "iopub.status.idle": "2023-01-08T09:34:48.494555Z",
     "shell.execute_reply": "2023-01-08T09:34:48.492897Z"
    },
    "papermill": {
     "duration": 19.604128,
     "end_time": "2023-01-08T09:34:48.497574",
     "exception": false,
     "start_time": "2023-01-08T09:34:28.893446",
     "status": "completed"
    },
    "tags": []
   },
   "outputs": [
    {
     "name": "stdout",
     "output_type": "stream",
     "text": [
      "0.8215798286220822\n"
     ]
    },
    {
     "data": {
      "text/plain": [
       "{'eta': 0.09090909090909091}"
      ]
     },
     "execution_count": 45,
     "metadata": {},
     "output_type": "execute_result"
    }
   ],
   "source": [
    "# rf_random = RandomizedSearchCV(estimator = model, param_distributions = random_grid, cv = 4)\n",
    "# OR\n",
    "rf_random = GridSearchCV(model, random_grid, cv=5)\n",
    "\n",
    "x_train, x_test, y_train, y_test = train_test_split(x, y, test_size=0.2, random_state=11)\n",
    "rf_random.fit(x_train, y_train)\n",
    "print(rf_random.best_score_)\n",
    "rf_random.best_params_"
   ]
  },
  {
   "cell_type": "markdown",
   "id": "b2fb8b4e",
   "metadata": {
    "papermill": {
     "duration": 0.033724,
     "end_time": "2023-01-08T09:34:48.565991",
     "exception": false,
     "start_time": "2023-01-08T09:34:48.532267",
     "status": "completed"
    },
    "tags": []
   },
   "source": [
    "## 7.2 max_depth=6  & Accuracy= 82.1658%"
   ]
  },
  {
   "cell_type": "code",
   "execution_count": 46,
   "id": "8f97e8d0",
   "metadata": {
    "execution": {
     "iopub.execute_input": "2023-01-08T09:34:48.637996Z",
     "iopub.status.busy": "2023-01-08T09:34:48.636519Z",
     "iopub.status.idle": "2023-01-08T09:34:48.642839Z",
     "shell.execute_reply": "2023-01-08T09:34:48.641927Z"
    },
    "papermill": {
     "duration": 0.045625,
     "end_time": "2023-01-08T09:34:48.645325",
     "exception": false,
     "start_time": "2023-01-08T09:34:48.599700",
     "status": "completed"
    },
    "tags": []
   },
   "outputs": [],
   "source": [
    "model = XGBClassifier(eta=0.09090909090909091)\n",
    "random_grid = {'max_depth': range(1,20,1)\n",
    "              }"
   ]
  },
  {
   "cell_type": "code",
   "execution_count": 47,
   "id": "a46eace1",
   "metadata": {
    "execution": {
     "iopub.execute_input": "2023-01-08T09:34:48.713093Z",
     "iopub.status.busy": "2023-01-08T09:34:48.712612Z",
     "iopub.status.idle": "2023-01-08T09:35:22.384867Z",
     "shell.execute_reply": "2023-01-08T09:35:22.383756Z"
    },
    "papermill": {
     "duration": 33.737254,
     "end_time": "2023-01-08T09:35:22.415237",
     "exception": false,
     "start_time": "2023-01-08T09:34:48.677983",
     "status": "completed"
    },
    "tags": []
   },
   "outputs": [
    {
     "name": "stdout",
     "output_type": "stream",
     "text": [
      "0.8215798286220822\n"
     ]
    },
    {
     "data": {
      "text/plain": [
       "{'max_depth': 6}"
      ]
     },
     "execution_count": 47,
     "metadata": {},
     "output_type": "execute_result"
    }
   ],
   "source": [
    "# rf_random = RandomizedSearchCV(estimator = model, param_distributions = random_grid, cv = 4)\n",
    "# OR\n",
    "rf_random = GridSearchCV(model, random_grid, cv=5)\n",
    "\n",
    "x_train, x_test, y_train, y_test = train_test_split(x, y, test_size=0.2, random_state=11)\n",
    "rf_random.fit(x_train, y_train)\n",
    "print(rf_random.best_score_)\n",
    "rf_random.best_params_"
   ]
  },
  {
   "cell_type": "markdown",
   "id": "6997bd99",
   "metadata": {
    "papermill": {
     "duration": 0.03288,
     "end_time": "2023-01-08T09:35:22.482615",
     "exception": false,
     "start_time": "2023-01-08T09:35:22.449735",
     "status": "completed"
    },
    "tags": []
   },
   "source": [
    "## 7.3 min_child_weight= 1 & Accuracy= 82.216%"
   ]
  },
  {
   "cell_type": "code",
   "execution_count": 48,
   "id": "9afbc8bb",
   "metadata": {
    "execution": {
     "iopub.execute_input": "2023-01-08T09:35:22.552999Z",
     "iopub.status.busy": "2023-01-08T09:35:22.551608Z",
     "iopub.status.idle": "2023-01-08T09:35:22.557447Z",
     "shell.execute_reply": "2023-01-08T09:35:22.556264Z"
    },
    "papermill": {
     "duration": 0.043109,
     "end_time": "2023-01-08T09:35:22.560035",
     "exception": false,
     "start_time": "2023-01-08T09:35:22.516926",
     "status": "completed"
    },
    "tags": []
   },
   "outputs": [],
   "source": [
    "model = XGBClassifier(eta=0.09090909090909091, max_depth=6)\n",
    "random_grid = {'min_child_weight': range(1,15,1)\n",
    "              }"
   ]
  },
  {
   "cell_type": "code",
   "execution_count": 49,
   "id": "a64d3234",
   "metadata": {
    "execution": {
     "iopub.execute_input": "2023-01-08T09:35:22.632542Z",
     "iopub.status.busy": "2023-01-08T09:35:22.632136Z",
     "iopub.status.idle": "2023-01-08T09:35:44.534157Z",
     "shell.execute_reply": "2023-01-08T09:35:44.530537Z"
    },
    "papermill": {
     "duration": 21.941775,
     "end_time": "2023-01-08T09:35:44.537204",
     "exception": false,
     "start_time": "2023-01-08T09:35:22.595429",
     "status": "completed"
    },
    "tags": []
   },
   "outputs": [
    {
     "name": "stdout",
     "output_type": "stream",
     "text": [
      "0.8215798286220822\n"
     ]
    },
    {
     "data": {
      "text/plain": [
       "{'min_child_weight': 1}"
      ]
     },
     "execution_count": 49,
     "metadata": {},
     "output_type": "execute_result"
    }
   ],
   "source": [
    "# rf_random = RandomizedSearchCV(estimator = model, param_distributions = random_grid, cv = 4)\n",
    "# OR\n",
    "rf_random = GridSearchCV(model, random_grid, cv=5)\n",
    "\n",
    "x_train, x_test, y_train, y_test = train_test_split(x, y, test_size=0.2, random_state=11)\n",
    "rf_random.fit(x_train, y_train)\n",
    "print(rf_random.best_score_)\n",
    "rf_random.best_params_"
   ]
  },
  {
   "cell_type": "markdown",
   "id": "8163a3db",
   "metadata": {
    "papermill": {
     "duration": 0.033897,
     "end_time": "2023-01-08T09:35:44.605779",
     "exception": false,
     "start_time": "2023-01-08T09:35:44.571882",
     "status": "completed"
    },
    "tags": []
   },
   "source": [
    "## 7.4 gamma= 0.2 & Accuracy= 82.44%"
   ]
  },
  {
   "cell_type": "code",
   "execution_count": 50,
   "id": "05f5334e",
   "metadata": {
    "execution": {
     "iopub.execute_input": "2023-01-08T09:35:44.675362Z",
     "iopub.status.busy": "2023-01-08T09:35:44.674850Z",
     "iopub.status.idle": "2023-01-08T09:35:44.682048Z",
     "shell.execute_reply": "2023-01-08T09:35:44.680581Z"
    },
    "papermill": {
     "duration": 0.045239,
     "end_time": "2023-01-08T09:35:44.685027",
     "exception": false,
     "start_time": "2023-01-08T09:35:44.639788",
     "status": "completed"
    },
    "tags": []
   },
   "outputs": [],
   "source": [
    "model = XGBClassifier(eta=0.09090909090909091, max_depth=6, min_child_weight=1)\n",
    "random_grid = {'gamma': [i/10.0 for i in range (0,5)]\n",
    "              }"
   ]
  },
  {
   "cell_type": "code",
   "execution_count": 51,
   "id": "ca19db10",
   "metadata": {
    "execution": {
     "iopub.execute_input": "2023-01-08T09:35:44.755321Z",
     "iopub.status.busy": "2023-01-08T09:35:44.754915Z",
     "iopub.status.idle": "2023-01-08T09:35:52.814076Z",
     "shell.execute_reply": "2023-01-08T09:35:52.811993Z"
    },
    "papermill": {
     "duration": 8.097986,
     "end_time": "2023-01-08T09:35:52.817062",
     "exception": false,
     "start_time": "2023-01-08T09:35:44.719076",
     "status": "completed"
    },
    "tags": []
   },
   "outputs": [
    {
     "name": "stdout",
     "output_type": "stream",
     "text": [
      "0.8243967300305328\n"
     ]
    },
    {
     "data": {
      "text/plain": [
       "{'gamma': 0.2}"
      ]
     },
     "execution_count": 51,
     "metadata": {},
     "output_type": "execute_result"
    }
   ],
   "source": [
    "# rf_random = RandomizedSearchCV(estimator = model, param_distributions = random_grid, cv = 4)\n",
    "# OR\n",
    "rf_random = GridSearchCV(model, random_grid, cv=5)\n",
    "\n",
    "x_train, x_test, y_train, y_test = train_test_split(x, y, test_size=0.2, random_state=11)\n",
    "rf_random.fit(x_train, y_train)\n",
    "print(rf_random.best_score_)\n",
    "rf_random.best_params_"
   ]
  },
  {
   "cell_type": "markdown",
   "id": "ce12078e",
   "metadata": {
    "papermill": {
     "duration": 0.03364,
     "end_time": "2023-01-08T09:35:52.886183",
     "exception": false,
     "start_time": "2023-01-08T09:35:52.852543",
     "status": "completed"
    },
    "tags": []
   },
   "source": [
    "## 7.5 subsample= 0.9 & Accuracy= 81.315%"
   ]
  },
  {
   "cell_type": "code",
   "execution_count": 52,
   "id": "032e3226",
   "metadata": {
    "execution": {
     "iopub.execute_input": "2023-01-08T09:35:52.957595Z",
     "iopub.status.busy": "2023-01-08T09:35:52.957150Z",
     "iopub.status.idle": "2023-01-08T09:35:52.963416Z",
     "shell.execute_reply": "2023-01-08T09:35:52.962342Z"
    },
    "papermill": {
     "duration": 0.044236,
     "end_time": "2023-01-08T09:35:52.966054",
     "exception": false,
     "start_time": "2023-01-08T09:35:52.921818",
     "status": "completed"
    },
    "tags": []
   },
   "outputs": [],
   "source": [
    "model = XGBClassifier(eta=0.09090909090909091, max_depth=6, min_child_weight=1, gama=0.2)\n",
    "random_grid = {'subsample': [i/100.0 for i in range (60, 100, 5)]\n",
    "              }"
   ]
  },
  {
   "cell_type": "code",
   "execution_count": 53,
   "id": "62b29aac",
   "metadata": {
    "execution": {
     "iopub.execute_input": "2023-01-08T09:35:53.037782Z",
     "iopub.status.busy": "2023-01-08T09:35:53.037368Z",
     "iopub.status.idle": "2023-01-08T09:36:07.089227Z",
     "shell.execute_reply": "2023-01-08T09:36:07.088230Z"
    },
    "papermill": {
     "duration": 14.091573,
     "end_time": "2023-01-08T09:36:07.092104",
     "exception": false,
     "start_time": "2023-01-08T09:35:53.000531",
     "status": "completed"
    },
    "tags": []
   },
   "outputs": [
    {
     "name": "stdout",
     "output_type": "stream",
     "text": [
      "[09:35:53] WARNING: ../src/learner.cc:627: \n",
      "Parameters: { \"gama\" } might not be used.\n",
      "\n",
      "  This could be a false alarm, with some parameters getting used by language bindings but\n",
      "  then being mistakenly passed down to XGBoost core, or some parameter actually being used\n",
      "  but getting flagged wrongly here. Please open an issue if you find any such cases.\n",
      "\n",
      "\n",
      "[09:35:53] WARNING: ../src/learner.cc:627: \n",
      "Parameters: { \"gama\" } might not be used.\n",
      "\n",
      "  This could be a false alarm, with some parameters getting used by language bindings but\n",
      "  then being mistakenly passed down to XGBoost core, or some parameter actually being used\n",
      "  but getting flagged wrongly here. Please open an issue if you find any such cases.\n",
      "\n",
      "\n",
      "[09:35:53] WARNING: ../src/learner.cc:627: \n",
      "Parameters: { \"gama\" } might not be used.\n",
      "\n",
      "  This could be a false alarm, with some parameters getting used by language bindings but\n",
      "  then being mistakenly passed down to XGBoost core, or some parameter actually being used\n",
      "  but getting flagged wrongly here. Please open an issue if you find any such cases.\n",
      "\n",
      "\n",
      "[09:35:54] WARNING: ../src/learner.cc:627: \n",
      "Parameters: { \"gama\" } might not be used.\n",
      "\n",
      "  This could be a false alarm, with some parameters getting used by language bindings but\n",
      "  then being mistakenly passed down to XGBoost core, or some parameter actually being used\n",
      "  but getting flagged wrongly here. Please open an issue if you find any such cases.\n",
      "\n",
      "\n",
      "[09:35:54] WARNING: ../src/learner.cc:627: \n",
      "Parameters: { \"gama\" } might not be used.\n",
      "\n",
      "  This could be a false alarm, with some parameters getting used by language bindings but\n",
      "  then being mistakenly passed down to XGBoost core, or some parameter actually being used\n",
      "  but getting flagged wrongly here. Please open an issue if you find any such cases.\n",
      "\n",
      "\n",
      "[09:35:54] WARNING: ../src/learner.cc:627: \n",
      "Parameters: { \"gama\" } might not be used.\n",
      "\n",
      "  This could be a false alarm, with some parameters getting used by language bindings but\n",
      "  then being mistakenly passed down to XGBoost core, or some parameter actually being used\n",
      "  but getting flagged wrongly here. Please open an issue if you find any such cases.\n",
      "\n",
      "\n",
      "[09:35:54] WARNING: ../src/learner.cc:627: \n",
      "Parameters: { \"gama\" } might not be used.\n",
      "\n",
      "  This could be a false alarm, with some parameters getting used by language bindings but\n",
      "  then being mistakenly passed down to XGBoost core, or some parameter actually being used\n",
      "  but getting flagged wrongly here. Please open an issue if you find any such cases.\n",
      "\n",
      "\n",
      "[09:35:55] WARNING: ../src/learner.cc:627: \n",
      "Parameters: { \"gama\" } might not be used.\n",
      "\n",
      "  This could be a false alarm, with some parameters getting used by language bindings but\n",
      "  then being mistakenly passed down to XGBoost core, or some parameter actually being used\n",
      "  but getting flagged wrongly here. Please open an issue if you find any such cases.\n",
      "\n",
      "\n",
      "[09:35:55] WARNING: ../src/learner.cc:627: \n",
      "Parameters: { \"gama\" } might not be used.\n",
      "\n",
      "  This could be a false alarm, with some parameters getting used by language bindings but\n",
      "  then being mistakenly passed down to XGBoost core, or some parameter actually being used\n",
      "  but getting flagged wrongly here. Please open an issue if you find any such cases.\n",
      "\n",
      "\n",
      "[09:35:55] WARNING: ../src/learner.cc:627: \n",
      "Parameters: { \"gama\" } might not be used.\n",
      "\n",
      "  This could be a false alarm, with some parameters getting used by language bindings but\n",
      "  then being mistakenly passed down to XGBoost core, or some parameter actually being used\n",
      "  but getting flagged wrongly here. Please open an issue if you find any such cases.\n",
      "\n",
      "\n",
      "[09:35:56] WARNING: ../src/learner.cc:627: \n",
      "Parameters: { \"gama\" } might not be used.\n",
      "\n",
      "  This could be a false alarm, with some parameters getting used by language bindings but\n",
      "  then being mistakenly passed down to XGBoost core, or some parameter actually being used\n",
      "  but getting flagged wrongly here. Please open an issue if you find any such cases.\n",
      "\n",
      "\n",
      "[09:35:56] WARNING: ../src/learner.cc:627: \n",
      "Parameters: { \"gama\" } might not be used.\n",
      "\n",
      "  This could be a false alarm, with some parameters getting used by language bindings but\n",
      "  then being mistakenly passed down to XGBoost core, or some parameter actually being used\n",
      "  but getting flagged wrongly here. Please open an issue if you find any such cases.\n",
      "\n",
      "\n",
      "[09:35:56] WARNING: ../src/learner.cc:627: \n",
      "Parameters: { \"gama\" } might not be used.\n",
      "\n",
      "  This could be a false alarm, with some parameters getting used by language bindings but\n",
      "  then being mistakenly passed down to XGBoost core, or some parameter actually being used\n",
      "  but getting flagged wrongly here. Please open an issue if you find any such cases.\n",
      "\n",
      "\n",
      "[09:35:57] WARNING: ../src/learner.cc:627: \n",
      "Parameters: { \"gama\" } might not be used.\n",
      "\n",
      "  This could be a false alarm, with some parameters getting used by language bindings but\n",
      "  then being mistakenly passed down to XGBoost core, or some parameter actually being used\n",
      "  but getting flagged wrongly here. Please open an issue if you find any such cases.\n",
      "\n",
      "\n",
      "[09:35:57] WARNING: ../src/learner.cc:627: \n",
      "Parameters: { \"gama\" } might not be used.\n",
      "\n",
      "  This could be a false alarm, with some parameters getting used by language bindings but\n",
      "  then being mistakenly passed down to XGBoost core, or some parameter actually being used\n",
      "  but getting flagged wrongly here. Please open an issue if you find any such cases.\n",
      "\n",
      "\n",
      "[09:35:57] WARNING: ../src/learner.cc:627: \n",
      "Parameters: { \"gama\" } might not be used.\n",
      "\n",
      "  This could be a false alarm, with some parameters getting used by language bindings but\n",
      "  then being mistakenly passed down to XGBoost core, or some parameter actually being used\n",
      "  but getting flagged wrongly here. Please open an issue if you find any such cases.\n",
      "\n",
      "\n",
      "[09:35:58] WARNING: ../src/learner.cc:627: \n",
      "Parameters: { \"gama\" } might not be used.\n",
      "\n",
      "  This could be a false alarm, with some parameters getting used by language bindings but\n",
      "  then being mistakenly passed down to XGBoost core, or some parameter actually being used\n",
      "  but getting flagged wrongly here. Please open an issue if you find any such cases.\n",
      "\n",
      "\n",
      "[09:35:58] WARNING: ../src/learner.cc:627: \n",
      "Parameters: { \"gama\" } might not be used.\n",
      "\n",
      "  This could be a false alarm, with some parameters getting used by language bindings but\n",
      "  then being mistakenly passed down to XGBoost core, or some parameter actually being used\n",
      "  but getting flagged wrongly here. Please open an issue if you find any such cases.\n",
      "\n",
      "\n",
      "[09:35:58] WARNING: ../src/learner.cc:627: \n",
      "Parameters: { \"gama\" } might not be used.\n",
      "\n",
      "  This could be a false alarm, with some parameters getting used by language bindings but\n",
      "  then being mistakenly passed down to XGBoost core, or some parameter actually being used\n",
      "  but getting flagged wrongly here. Please open an issue if you find any such cases.\n",
      "\n",
      "\n",
      "[09:35:59] WARNING: ../src/learner.cc:627: \n",
      "Parameters: { \"gama\" } might not be used.\n",
      "\n",
      "  This could be a false alarm, with some parameters getting used by language bindings but\n",
      "  then being mistakenly passed down to XGBoost core, or some parameter actually being used\n",
      "  but getting flagged wrongly here. Please open an issue if you find any such cases.\n",
      "\n",
      "\n",
      "[09:35:59] WARNING: ../src/learner.cc:627: \n",
      "Parameters: { \"gama\" } might not be used.\n",
      "\n",
      "  This could be a false alarm, with some parameters getting used by language bindings but\n",
      "  then being mistakenly passed down to XGBoost core, or some parameter actually being used\n",
      "  but getting flagged wrongly here. Please open an issue if you find any such cases.\n",
      "\n",
      "\n",
      "[09:35:59] WARNING: ../src/learner.cc:627: \n",
      "Parameters: { \"gama\" } might not be used.\n",
      "\n",
      "  This could be a false alarm, with some parameters getting used by language bindings but\n",
      "  then being mistakenly passed down to XGBoost core, or some parameter actually being used\n",
      "  but getting flagged wrongly here. Please open an issue if you find any such cases.\n",
      "\n",
      "\n",
      "[09:36:00] WARNING: ../src/learner.cc:627: \n",
      "Parameters: { \"gama\" } might not be used.\n",
      "\n",
      "  This could be a false alarm, with some parameters getting used by language bindings but\n",
      "  then being mistakenly passed down to XGBoost core, or some parameter actually being used\n",
      "  but getting flagged wrongly here. Please open an issue if you find any such cases.\n",
      "\n",
      "\n",
      "[09:36:00] WARNING: ../src/learner.cc:627: \n",
      "Parameters: { \"gama\" } might not be used.\n",
      "\n",
      "  This could be a false alarm, with some parameters getting used by language bindings but\n",
      "  then being mistakenly passed down to XGBoost core, or some parameter actually being used\n",
      "  but getting flagged wrongly here. Please open an issue if you find any such cases.\n",
      "\n",
      "\n",
      "[09:36:00] WARNING: ../src/learner.cc:627: \n",
      "Parameters: { \"gama\" } might not be used.\n",
      "\n",
      "  This could be a false alarm, with some parameters getting used by language bindings but\n",
      "  then being mistakenly passed down to XGBoost core, or some parameter actually being used\n",
      "  but getting flagged wrongly here. Please open an issue if you find any such cases.\n",
      "\n",
      "\n",
      "[09:36:00] WARNING: ../src/learner.cc:627: \n",
      "Parameters: { \"gama\" } might not be used.\n",
      "\n",
      "  This could be a false alarm, with some parameters getting used by language bindings but\n",
      "  then being mistakenly passed down to XGBoost core, or some parameter actually being used\n",
      "  but getting flagged wrongly here. Please open an issue if you find any such cases.\n",
      "\n",
      "\n",
      "[09:36:01] WARNING: ../src/learner.cc:627: \n",
      "Parameters: { \"gama\" } might not be used.\n",
      "\n",
      "  This could be a false alarm, with some parameters getting used by language bindings but\n",
      "  then being mistakenly passed down to XGBoost core, or some parameter actually being used\n",
      "  but getting flagged wrongly here. Please open an issue if you find any such cases.\n",
      "\n",
      "\n",
      "[09:36:01] WARNING: ../src/learner.cc:627: \n",
      "Parameters: { \"gama\" } might not be used.\n",
      "\n",
      "  This could be a false alarm, with some parameters getting used by language bindings but\n",
      "  then being mistakenly passed down to XGBoost core, or some parameter actually being used\n",
      "  but getting flagged wrongly here. Please open an issue if you find any such cases.\n",
      "\n",
      "\n",
      "[09:36:02] WARNING: ../src/learner.cc:627: \n",
      "Parameters: { \"gama\" } might not be used.\n",
      "\n",
      "  This could be a false alarm, with some parameters getting used by language bindings but\n",
      "  then being mistakenly passed down to XGBoost core, or some parameter actually being used\n",
      "  but getting flagged wrongly here. Please open an issue if you find any such cases.\n",
      "\n",
      "\n",
      "[09:36:02] WARNING: ../src/learner.cc:627: \n",
      "Parameters: { \"gama\" } might not be used.\n",
      "\n",
      "  This could be a false alarm, with some parameters getting used by language bindings but\n",
      "  then being mistakenly passed down to XGBoost core, or some parameter actually being used\n",
      "  but getting flagged wrongly here. Please open an issue if you find any such cases.\n",
      "\n",
      "\n",
      "[09:36:02] WARNING: ../src/learner.cc:627: \n",
      "Parameters: { \"gama\" } might not be used.\n",
      "\n",
      "  This could be a false alarm, with some parameters getting used by language bindings but\n",
      "  then being mistakenly passed down to XGBoost core, or some parameter actually being used\n",
      "  but getting flagged wrongly here. Please open an issue if you find any such cases.\n",
      "\n",
      "\n",
      "[09:36:02] WARNING: ../src/learner.cc:627: \n",
      "Parameters: { \"gama\" } might not be used.\n",
      "\n",
      "  This could be a false alarm, with some parameters getting used by language bindings but\n",
      "  then being mistakenly passed down to XGBoost core, or some parameter actually being used\n",
      "  but getting flagged wrongly here. Please open an issue if you find any such cases.\n",
      "\n",
      "\n",
      "[09:36:03] WARNING: ../src/learner.cc:627: \n",
      "Parameters: { \"gama\" } might not be used.\n",
      "\n",
      "  This could be a false alarm, with some parameters getting used by language bindings but\n",
      "  then being mistakenly passed down to XGBoost core, or some parameter actually being used\n",
      "  but getting flagged wrongly here. Please open an issue if you find any such cases.\n",
      "\n",
      "\n",
      "[09:36:03] WARNING: ../src/learner.cc:627: \n",
      "Parameters: { \"gama\" } might not be used.\n",
      "\n",
      "  This could be a false alarm, with some parameters getting used by language bindings but\n",
      "  then being mistakenly passed down to XGBoost core, or some parameter actually being used\n",
      "  but getting flagged wrongly here. Please open an issue if you find any such cases.\n",
      "\n",
      "\n",
      "[09:36:03] WARNING: ../src/learner.cc:627: \n",
      "Parameters: { \"gama\" } might not be used.\n",
      "\n",
      "  This could be a false alarm, with some parameters getting used by language bindings but\n",
      "  then being mistakenly passed down to XGBoost core, or some parameter actually being used\n",
      "  but getting flagged wrongly here. Please open an issue if you find any such cases.\n",
      "\n",
      "\n",
      "[09:36:04] WARNING: ../src/learner.cc:627: \n",
      "Parameters: { \"gama\" } might not be used.\n",
      "\n",
      "  This could be a false alarm, with some parameters getting used by language bindings but\n",
      "  then being mistakenly passed down to XGBoost core, or some parameter actually being used\n",
      "  but getting flagged wrongly here. Please open an issue if you find any such cases.\n",
      "\n",
      "\n",
      "[09:36:05] WARNING: ../src/learner.cc:627: \n",
      "Parameters: { \"gama\" } might not be used.\n",
      "\n",
      "  This could be a false alarm, with some parameters getting used by language bindings but\n",
      "  then being mistakenly passed down to XGBoost core, or some parameter actually being used\n",
      "  but getting flagged wrongly here. Please open an issue if you find any such cases.\n",
      "\n",
      "\n",
      "[09:36:05] WARNING: ../src/learner.cc:627: \n",
      "Parameters: { \"gama\" } might not be used.\n",
      "\n",
      "  This could be a false alarm, with some parameters getting used by language bindings but\n",
      "  then being mistakenly passed down to XGBoost core, or some parameter actually being used\n",
      "  but getting flagged wrongly here. Please open an issue if you find any such cases.\n",
      "\n",
      "\n",
      "[09:36:06] WARNING: ../src/learner.cc:627: \n",
      "Parameters: { \"gama\" } might not be used.\n",
      "\n",
      "  This could be a false alarm, with some parameters getting used by language bindings but\n",
      "  then being mistakenly passed down to XGBoost core, or some parameter actually being used\n",
      "  but getting flagged wrongly here. Please open an issue if you find any such cases.\n",
      "\n",
      "\n",
      "[09:36:06] WARNING: ../src/learner.cc:627: \n",
      "Parameters: { \"gama\" } might not be used.\n",
      "\n",
      "  This could be a false alarm, with some parameters getting used by language bindings but\n",
      "  then being mistakenly passed down to XGBoost core, or some parameter actually being used\n",
      "  but getting flagged wrongly here. Please open an issue if you find any such cases.\n",
      "\n",
      "\n",
      "[09:36:06] WARNING: ../src/learner.cc:627: \n",
      "Parameters: { \"gama\" } might not be used.\n",
      "\n",
      "  This could be a false alarm, with some parameters getting used by language bindings but\n",
      "  then being mistakenly passed down to XGBoost core, or some parameter actually being used\n",
      "  but getting flagged wrongly here. Please open an issue if you find any such cases.\n",
      "\n",
      "\n",
      "0.8131488230079779\n"
     ]
    },
    {
     "data": {
      "text/plain": [
       "{'subsample': 0.9}"
      ]
     },
     "execution_count": 53,
     "metadata": {},
     "output_type": "execute_result"
    }
   ],
   "source": [
    "# rf_random = RandomizedSearchCV(estimator = model, param_distributions = random_grid, cv = 4)\n",
    "# OR\n",
    "rf_random = GridSearchCV(model, random_grid, cv=5)\n",
    "\n",
    "x_train, x_test, y_train, y_test = train_test_split(x, y, test_size=0.2, random_state=11)\n",
    "rf_random.fit(x_train, y_train)\n",
    "print(rf_random.best_score_)\n",
    "rf_random.best_params_"
   ]
  },
  {
   "cell_type": "markdown",
   "id": "c3d4d338",
   "metadata": {
    "papermill": {
     "duration": 0.037242,
     "end_time": "2023-01-08T09:36:07.237534",
     "exception": false,
     "start_time": "2023-01-08T09:36:07.200292",
     "status": "completed"
    },
    "tags": []
   },
   "source": [
    "## 7.6 colsample_bytree= 0.73 & Accuracy= 81.176%"
   ]
  },
  {
   "cell_type": "code",
   "execution_count": 54,
   "id": "213d9d7b",
   "metadata": {
    "execution": {
     "iopub.execute_input": "2023-01-08T09:36:07.315550Z",
     "iopub.status.busy": "2023-01-08T09:36:07.314792Z",
     "iopub.status.idle": "2023-01-08T09:36:07.321006Z",
     "shell.execute_reply": "2023-01-08T09:36:07.319638Z"
    },
    "papermill": {
     "duration": 0.048718,
     "end_time": "2023-01-08T09:36:07.323877",
     "exception": false,
     "start_time": "2023-01-08T09:36:07.275159",
     "status": "completed"
    },
    "tags": []
   },
   "outputs": [],
   "source": [
    "model = XGBClassifier(eta=0.09090909090909091, max_depth=6, min_child_weight=1, gama=0.2, subsample=0.9)\n",
    "random_grid = {'colsample_bytree': [i/100.0 for i in range (70, 80, 1)]\n",
    "              }"
   ]
  },
  {
   "cell_type": "code",
   "execution_count": 55,
   "id": "1c2eac1a",
   "metadata": {
    "execution": {
     "iopub.execute_input": "2023-01-08T09:36:07.402651Z",
     "iopub.status.busy": "2023-01-08T09:36:07.402241Z",
     "iopub.status.idle": "2023-01-08T09:36:23.478808Z",
     "shell.execute_reply": "2023-01-08T09:36:23.477873Z"
    },
    "papermill": {
     "duration": 16.119579,
     "end_time": "2023-01-08T09:36:23.481635",
     "exception": false,
     "start_time": "2023-01-08T09:36:07.362056",
     "status": "completed"
    },
    "tags": []
   },
   "outputs": [
    {
     "name": "stdout",
     "output_type": "stream",
     "text": [
      "[09:36:07] WARNING: ../src/learner.cc:627: \n",
      "Parameters: { \"gama\" } might not be used.\n",
      "\n",
      "  This could be a false alarm, with some parameters getting used by language bindings but\n",
      "  then being mistakenly passed down to XGBoost core, or some parameter actually being used\n",
      "  but getting flagged wrongly here. Please open an issue if you find any such cases.\n",
      "\n",
      "\n",
      "[09:36:07] WARNING: ../src/learner.cc:627: \n",
      "Parameters: { \"gama\" } might not be used.\n",
      "\n",
      "  This could be a false alarm, with some parameters getting used by language bindings but\n",
      "  then being mistakenly passed down to XGBoost core, or some parameter actually being used\n",
      "  but getting flagged wrongly here. Please open an issue if you find any such cases.\n",
      "\n",
      "\n",
      "[09:36:08] WARNING: ../src/learner.cc:627: \n",
      "Parameters: { \"gama\" } might not be used.\n",
      "\n",
      "  This could be a false alarm, with some parameters getting used by language bindings but\n",
      "  then being mistakenly passed down to XGBoost core, or some parameter actually being used\n",
      "  but getting flagged wrongly here. Please open an issue if you find any such cases.\n",
      "\n",
      "\n",
      "[09:36:08] WARNING: ../src/learner.cc:627: \n",
      "Parameters: { \"gama\" } might not be used.\n",
      "\n",
      "  This could be a false alarm, with some parameters getting used by language bindings but\n",
      "  then being mistakenly passed down to XGBoost core, or some parameter actually being used\n",
      "  but getting flagged wrongly here. Please open an issue if you find any such cases.\n",
      "\n",
      "\n",
      "[09:36:08] WARNING: ../src/learner.cc:627: \n",
      "Parameters: { \"gama\" } might not be used.\n",
      "\n",
      "  This could be a false alarm, with some parameters getting used by language bindings but\n",
      "  then being mistakenly passed down to XGBoost core, or some parameter actually being used\n",
      "  but getting flagged wrongly here. Please open an issue if you find any such cases.\n",
      "\n",
      "\n",
      "[09:36:08] WARNING: ../src/learner.cc:627: \n",
      "Parameters: { \"gama\" } might not be used.\n",
      "\n",
      "  This could be a false alarm, with some parameters getting used by language bindings but\n",
      "  then being mistakenly passed down to XGBoost core, or some parameter actually being used\n",
      "  but getting flagged wrongly here. Please open an issue if you find any such cases.\n",
      "\n",
      "\n",
      "[09:36:09] WARNING: ../src/learner.cc:627: \n",
      "Parameters: { \"gama\" } might not be used.\n",
      "\n",
      "  This could be a false alarm, with some parameters getting used by language bindings but\n",
      "  then being mistakenly passed down to XGBoost core, or some parameter actually being used\n",
      "  but getting flagged wrongly here. Please open an issue if you find any such cases.\n",
      "\n",
      "\n",
      "[09:36:09] WARNING: ../src/learner.cc:627: \n",
      "Parameters: { \"gama\" } might not be used.\n",
      "\n",
      "  This could be a false alarm, with some parameters getting used by language bindings but\n",
      "  then being mistakenly passed down to XGBoost core, or some parameter actually being used\n",
      "  but getting flagged wrongly here. Please open an issue if you find any such cases.\n",
      "\n",
      "\n",
      "[09:36:09] WARNING: ../src/learner.cc:627: \n",
      "Parameters: { \"gama\" } might not be used.\n",
      "\n",
      "  This could be a false alarm, with some parameters getting used by language bindings but\n",
      "  then being mistakenly passed down to XGBoost core, or some parameter actually being used\n",
      "  but getting flagged wrongly here. Please open an issue if you find any such cases.\n",
      "\n",
      "\n",
      "[09:36:10] WARNING: ../src/learner.cc:627: \n",
      "Parameters: { \"gama\" } might not be used.\n",
      "\n",
      "  This could be a false alarm, with some parameters getting used by language bindings but\n",
      "  then being mistakenly passed down to XGBoost core, or some parameter actually being used\n",
      "  but getting flagged wrongly here. Please open an issue if you find any such cases.\n",
      "\n",
      "\n",
      "[09:36:10] WARNING: ../src/learner.cc:627: \n",
      "Parameters: { \"gama\" } might not be used.\n",
      "\n",
      "  This could be a false alarm, with some parameters getting used by language bindings but\n",
      "  then being mistakenly passed down to XGBoost core, or some parameter actually being used\n",
      "  but getting flagged wrongly here. Please open an issue if you find any such cases.\n",
      "\n",
      "\n",
      "[09:36:10] WARNING: ../src/learner.cc:627: \n",
      "Parameters: { \"gama\" } might not be used.\n",
      "\n",
      "  This could be a false alarm, with some parameters getting used by language bindings but\n",
      "  then being mistakenly passed down to XGBoost core, or some parameter actually being used\n",
      "  but getting flagged wrongly here. Please open an issue if you find any such cases.\n",
      "\n",
      "\n",
      "[09:36:11] WARNING: ../src/learner.cc:627: \n",
      "Parameters: { \"gama\" } might not be used.\n",
      "\n",
      "  This could be a false alarm, with some parameters getting used by language bindings but\n",
      "  then being mistakenly passed down to XGBoost core, or some parameter actually being used\n",
      "  but getting flagged wrongly here. Please open an issue if you find any such cases.\n",
      "\n",
      "\n",
      "[09:36:11] WARNING: ../src/learner.cc:627: \n",
      "Parameters: { \"gama\" } might not be used.\n",
      "\n",
      "  This could be a false alarm, with some parameters getting used by language bindings but\n",
      "  then being mistakenly passed down to XGBoost core, or some parameter actually being used\n",
      "  but getting flagged wrongly here. Please open an issue if you find any such cases.\n",
      "\n",
      "\n",
      "[09:36:11] WARNING: ../src/learner.cc:627: \n",
      "Parameters: { \"gama\" } might not be used.\n",
      "\n",
      "  This could be a false alarm, with some parameters getting used by language bindings but\n",
      "  then being mistakenly passed down to XGBoost core, or some parameter actually being used\n",
      "  but getting flagged wrongly here. Please open an issue if you find any such cases.\n",
      "\n",
      "\n",
      "[09:36:12] WARNING: ../src/learner.cc:627: \n",
      "Parameters: { \"gama\" } might not be used.\n",
      "\n",
      "  This could be a false alarm, with some parameters getting used by language bindings but\n",
      "  then being mistakenly passed down to XGBoost core, or some parameter actually being used\n",
      "  but getting flagged wrongly here. Please open an issue if you find any such cases.\n",
      "\n",
      "\n",
      "[09:36:12] WARNING: ../src/learner.cc:627: \n",
      "Parameters: { \"gama\" } might not be used.\n",
      "\n",
      "  This could be a false alarm, with some parameters getting used by language bindings but\n",
      "  then being mistakenly passed down to XGBoost core, or some parameter actually being used\n",
      "  but getting flagged wrongly here. Please open an issue if you find any such cases.\n",
      "\n",
      "\n",
      "[09:36:12] WARNING: ../src/learner.cc:627: \n",
      "Parameters: { \"gama\" } might not be used.\n",
      "\n",
      "  This could be a false alarm, with some parameters getting used by language bindings but\n",
      "  then being mistakenly passed down to XGBoost core, or some parameter actually being used\n",
      "  but getting flagged wrongly here. Please open an issue if you find any such cases.\n",
      "\n",
      "\n",
      "[09:36:13] WARNING: ../src/learner.cc:627: \n",
      "Parameters: { \"gama\" } might not be used.\n",
      "\n",
      "  This could be a false alarm, with some parameters getting used by language bindings but\n",
      "  then being mistakenly passed down to XGBoost core, or some parameter actually being used\n",
      "  but getting flagged wrongly here. Please open an issue if you find any such cases.\n",
      "\n",
      "\n",
      "[09:36:13] WARNING: ../src/learner.cc:627: \n",
      "Parameters: { \"gama\" } might not be used.\n",
      "\n",
      "  This could be a false alarm, with some parameters getting used by language bindings but\n",
      "  then being mistakenly passed down to XGBoost core, or some parameter actually being used\n",
      "  but getting flagged wrongly here. Please open an issue if you find any such cases.\n",
      "\n",
      "\n",
      "[09:36:13] WARNING: ../src/learner.cc:627: \n",
      "Parameters: { \"gama\" } might not be used.\n",
      "\n",
      "  This could be a false alarm, with some parameters getting used by language bindings but\n",
      "  then being mistakenly passed down to XGBoost core, or some parameter actually being used\n",
      "  but getting flagged wrongly here. Please open an issue if you find any such cases.\n",
      "\n",
      "\n",
      "[09:36:14] WARNING: ../src/learner.cc:627: \n",
      "Parameters: { \"gama\" } might not be used.\n",
      "\n",
      "  This could be a false alarm, with some parameters getting used by language bindings but\n",
      "  then being mistakenly passed down to XGBoost core, or some parameter actually being used\n",
      "  but getting flagged wrongly here. Please open an issue if you find any such cases.\n",
      "\n",
      "\n",
      "[09:36:14] WARNING: ../src/learner.cc:627: \n",
      "Parameters: { \"gama\" } might not be used.\n",
      "\n",
      "  This could be a false alarm, with some parameters getting used by language bindings but\n",
      "  then being mistakenly passed down to XGBoost core, or some parameter actually being used\n",
      "  but getting flagged wrongly here. Please open an issue if you find any such cases.\n",
      "\n",
      "\n",
      "[09:36:14] WARNING: ../src/learner.cc:627: \n",
      "Parameters: { \"gama\" } might not be used.\n",
      "\n",
      "  This could be a false alarm, with some parameters getting used by language bindings but\n",
      "  then being mistakenly passed down to XGBoost core, or some parameter actually being used\n",
      "  but getting flagged wrongly here. Please open an issue if you find any such cases.\n",
      "\n",
      "\n",
      "[09:36:14] WARNING: ../src/learner.cc:627: \n",
      "Parameters: { \"gama\" } might not be used.\n",
      "\n",
      "  This could be a false alarm, with some parameters getting used by language bindings but\n",
      "  then being mistakenly passed down to XGBoost core, or some parameter actually being used\n",
      "  but getting flagged wrongly here. Please open an issue if you find any such cases.\n",
      "\n",
      "\n",
      "[09:36:15] WARNING: ../src/learner.cc:627: \n",
      "Parameters: { \"gama\" } might not be used.\n",
      "\n",
      "  This could be a false alarm, with some parameters getting used by language bindings but\n",
      "  then being mistakenly passed down to XGBoost core, or some parameter actually being used\n",
      "  but getting flagged wrongly here. Please open an issue if you find any such cases.\n",
      "\n",
      "\n",
      "[09:36:15] WARNING: ../src/learner.cc:627: \n",
      "Parameters: { \"gama\" } might not be used.\n",
      "\n",
      "  This could be a false alarm, with some parameters getting used by language bindings but\n",
      "  then being mistakenly passed down to XGBoost core, or some parameter actually being used\n",
      "  but getting flagged wrongly here. Please open an issue if you find any such cases.\n",
      "\n",
      "\n",
      "[09:36:15] WARNING: ../src/learner.cc:627: \n",
      "Parameters: { \"gama\" } might not be used.\n",
      "\n",
      "  This could be a false alarm, with some parameters getting used by language bindings but\n",
      "  then being mistakenly passed down to XGBoost core, or some parameter actually being used\n",
      "  but getting flagged wrongly here. Please open an issue if you find any such cases.\n",
      "\n",
      "\n",
      "[09:36:16] WARNING: ../src/learner.cc:627: \n",
      "Parameters: { \"gama\" } might not be used.\n",
      "\n",
      "  This could be a false alarm, with some parameters getting used by language bindings but\n",
      "  then being mistakenly passed down to XGBoost core, or some parameter actually being used\n",
      "  but getting flagged wrongly here. Please open an issue if you find any such cases.\n",
      "\n",
      "\n",
      "[09:36:16] WARNING: ../src/learner.cc:627: \n",
      "Parameters: { \"gama\" } might not be used.\n",
      "\n",
      "  This could be a false alarm, with some parameters getting used by language bindings but\n",
      "  then being mistakenly passed down to XGBoost core, or some parameter actually being used\n",
      "  but getting flagged wrongly here. Please open an issue if you find any such cases.\n",
      "\n",
      "\n",
      "[09:36:16] WARNING: ../src/learner.cc:627: \n",
      "Parameters: { \"gama\" } might not be used.\n",
      "\n",
      "  This could be a false alarm, with some parameters getting used by language bindings but\n",
      "  then being mistakenly passed down to XGBoost core, or some parameter actually being used\n",
      "  but getting flagged wrongly here. Please open an issue if you find any such cases.\n",
      "\n",
      "\n",
      "[09:36:17] WARNING: ../src/learner.cc:627: \n",
      "Parameters: { \"gama\" } might not be used.\n",
      "\n",
      "  This could be a false alarm, with some parameters getting used by language bindings but\n",
      "  then being mistakenly passed down to XGBoost core, or some parameter actually being used\n",
      "  but getting flagged wrongly here. Please open an issue if you find any such cases.\n",
      "\n",
      "\n",
      "[09:36:17] WARNING: ../src/learner.cc:627: \n",
      "Parameters: { \"gama\" } might not be used.\n",
      "\n",
      "  This could be a false alarm, with some parameters getting used by language bindings but\n",
      "  then being mistakenly passed down to XGBoost core, or some parameter actually being used\n",
      "  but getting flagged wrongly here. Please open an issue if you find any such cases.\n",
      "\n",
      "\n",
      "[09:36:17] WARNING: ../src/learner.cc:627: \n",
      "Parameters: { \"gama\" } might not be used.\n",
      "\n",
      "  This could be a false alarm, with some parameters getting used by language bindings but\n",
      "  then being mistakenly passed down to XGBoost core, or some parameter actually being used\n",
      "  but getting flagged wrongly here. Please open an issue if you find any such cases.\n",
      "\n",
      "\n",
      "[09:36:18] WARNING: ../src/learner.cc:627: \n",
      "Parameters: { \"gama\" } might not be used.\n",
      "\n",
      "  This could be a false alarm, with some parameters getting used by language bindings but\n",
      "  then being mistakenly passed down to XGBoost core, or some parameter actually being used\n",
      "  but getting flagged wrongly here. Please open an issue if you find any such cases.\n",
      "\n",
      "\n",
      "[09:36:18] WARNING: ../src/learner.cc:627: \n",
      "Parameters: { \"gama\" } might not be used.\n",
      "\n",
      "  This could be a false alarm, with some parameters getting used by language bindings but\n",
      "  then being mistakenly passed down to XGBoost core, or some parameter actually being used\n",
      "  but getting flagged wrongly here. Please open an issue if you find any such cases.\n",
      "\n",
      "\n",
      "[09:36:18] WARNING: ../src/learner.cc:627: \n",
      "Parameters: { \"gama\" } might not be used.\n",
      "\n",
      "  This could be a false alarm, with some parameters getting used by language bindings but\n",
      "  then being mistakenly passed down to XGBoost core, or some parameter actually being used\n",
      "  but getting flagged wrongly here. Please open an issue if you find any such cases.\n",
      "\n",
      "\n",
      "[09:36:18] WARNING: ../src/learner.cc:627: \n",
      "Parameters: { \"gama\" } might not be used.\n",
      "\n",
      "  This could be a false alarm, with some parameters getting used by language bindings but\n",
      "  then being mistakenly passed down to XGBoost core, or some parameter actually being used\n",
      "  but getting flagged wrongly here. Please open an issue if you find any such cases.\n",
      "\n",
      "\n",
      "[09:36:19] WARNING: ../src/learner.cc:627: \n",
      "Parameters: { \"gama\" } might not be used.\n",
      "\n",
      "  This could be a false alarm, with some parameters getting used by language bindings but\n",
      "  then being mistakenly passed down to XGBoost core, or some parameter actually being used\n",
      "  but getting flagged wrongly here. Please open an issue if you find any such cases.\n",
      "\n",
      "\n",
      "[09:36:19] WARNING: ../src/learner.cc:627: \n",
      "Parameters: { \"gama\" } might not be used.\n",
      "\n",
      "  This could be a false alarm, with some parameters getting used by language bindings but\n",
      "  then being mistakenly passed down to XGBoost core, or some parameter actually being used\n",
      "  but getting flagged wrongly here. Please open an issue if you find any such cases.\n",
      "\n",
      "\n",
      "[09:36:19] WARNING: ../src/learner.cc:627: \n",
      "Parameters: { \"gama\" } might not be used.\n",
      "\n",
      "  This could be a false alarm, with some parameters getting used by language bindings but\n",
      "  then being mistakenly passed down to XGBoost core, or some parameter actually being used\n",
      "  but getting flagged wrongly here. Please open an issue if you find any such cases.\n",
      "\n",
      "\n",
      "[09:36:20] WARNING: ../src/learner.cc:627: \n",
      "Parameters: { \"gama\" } might not be used.\n",
      "\n",
      "  This could be a false alarm, with some parameters getting used by language bindings but\n",
      "  then being mistakenly passed down to XGBoost core, or some parameter actually being used\n",
      "  but getting flagged wrongly here. Please open an issue if you find any such cases.\n",
      "\n",
      "\n",
      "[09:36:20] WARNING: ../src/learner.cc:627: \n",
      "Parameters: { \"gama\" } might not be used.\n",
      "\n",
      "  This could be a false alarm, with some parameters getting used by language bindings but\n",
      "  then being mistakenly passed down to XGBoost core, or some parameter actually being used\n",
      "  but getting flagged wrongly here. Please open an issue if you find any such cases.\n",
      "\n",
      "\n",
      "[09:36:20] WARNING: ../src/learner.cc:627: \n",
      "Parameters: { \"gama\" } might not be used.\n",
      "\n",
      "  This could be a false alarm, with some parameters getting used by language bindings but\n",
      "  then being mistakenly passed down to XGBoost core, or some parameter actually being used\n",
      "  but getting flagged wrongly here. Please open an issue if you find any such cases.\n",
      "\n",
      "\n",
      "[09:36:21] WARNING: ../src/learner.cc:627: \n",
      "Parameters: { \"gama\" } might not be used.\n",
      "\n",
      "  This could be a false alarm, with some parameters getting used by language bindings but\n",
      "  then being mistakenly passed down to XGBoost core, or some parameter actually being used\n",
      "  but getting flagged wrongly here. Please open an issue if you find any such cases.\n",
      "\n",
      "\n",
      "[09:36:21] WARNING: ../src/learner.cc:627: \n",
      "Parameters: { \"gama\" } might not be used.\n",
      "\n",
      "  This could be a false alarm, with some parameters getting used by language bindings but\n",
      "  then being mistakenly passed down to XGBoost core, or some parameter actually being used\n",
      "  but getting flagged wrongly here. Please open an issue if you find any such cases.\n",
      "\n",
      "\n",
      "[09:36:21] WARNING: ../src/learner.cc:627: \n",
      "Parameters: { \"gama\" } might not be used.\n",
      "\n",
      "  This could be a false alarm, with some parameters getting used by language bindings but\n",
      "  then being mistakenly passed down to XGBoost core, or some parameter actually being used\n",
      "  but getting flagged wrongly here. Please open an issue if you find any such cases.\n",
      "\n",
      "\n",
      "[09:36:22] WARNING: ../src/learner.cc:627: \n",
      "Parameters: { \"gama\" } might not be used.\n",
      "\n",
      "  This could be a false alarm, with some parameters getting used by language bindings but\n",
      "  then being mistakenly passed down to XGBoost core, or some parameter actually being used\n",
      "  but getting flagged wrongly here. Please open an issue if you find any such cases.\n",
      "\n",
      "\n",
      "[09:36:22] WARNING: ../src/learner.cc:627: \n",
      "Parameters: { \"gama\" } might not be used.\n",
      "\n",
      "  This could be a false alarm, with some parameters getting used by language bindings but\n",
      "  then being mistakenly passed down to XGBoost core, or some parameter actually being used\n",
      "  but getting flagged wrongly here. Please open an issue if you find any such cases.\n",
      "\n",
      "\n",
      "[09:36:22] WARNING: ../src/learner.cc:627: \n",
      "Parameters: { \"gama\" } might not be used.\n",
      "\n",
      "  This could be a false alarm, with some parameters getting used by language bindings but\n",
      "  then being mistakenly passed down to XGBoost core, or some parameter actually being used\n",
      "  but getting flagged wrongly here. Please open an issue if you find any such cases.\n",
      "\n",
      "\n",
      "[09:36:23] WARNING: ../src/learner.cc:627: \n",
      "Parameters: { \"gama\" } might not be used.\n",
      "\n",
      "  This could be a false alarm, with some parameters getting used by language bindings but\n",
      "  then being mistakenly passed down to XGBoost core, or some parameter actually being used\n",
      "  but getting flagged wrongly here. Please open an issue if you find any such cases.\n",
      "\n",
      "\n",
      "0.8145572737122032\n"
     ]
    },
    {
     "data": {
      "text/plain": [
       "{'colsample_bytree': 0.7}"
      ]
     },
     "execution_count": 55,
     "metadata": {},
     "output_type": "execute_result"
    }
   ],
   "source": [
    "# rf_random = RandomizedSearchCV(estimator = model, param_distributions = random_grid, cv = 4)\n",
    "# OR\n",
    "rf_random = GridSearchCV(model, random_grid, cv=5)\n",
    "\n",
    "x_train, x_test, y_train, y_test = train_test_split(x, y, test_size=0.2, random_state=11)\n",
    "rf_random.fit(x_train, y_train)\n",
    "print(rf_random.best_score_)\n",
    "rf_random.best_params_"
   ]
  },
  {
   "cell_type": "markdown",
   "id": "e8e81152",
   "metadata": {
    "papermill": {
     "duration": 0.04184,
     "end_time": "2023-01-08T09:36:23.567416",
     "exception": false,
     "start_time": "2023-01-08T09:36:23.525576",
     "status": "completed"
    },
    "tags": []
   },
   "source": [
    "## 7.7 reg_alpha= 0.005 & Accuracy= 81.317%"
   ]
  },
  {
   "cell_type": "code",
   "execution_count": 56,
   "id": "f4312788",
   "metadata": {
    "execution": {
     "iopub.execute_input": "2023-01-08T09:36:23.656594Z",
     "iopub.status.busy": "2023-01-08T09:36:23.656172Z",
     "iopub.status.idle": "2023-01-08T09:36:23.662269Z",
     "shell.execute_reply": "2023-01-08T09:36:23.660773Z"
    },
    "papermill": {
     "duration": 0.055031,
     "end_time": "2023-01-08T09:36:23.664967",
     "exception": false,
     "start_time": "2023-01-08T09:36:23.609936",
     "status": "completed"
    },
    "tags": []
   },
   "outputs": [],
   "source": [
    "model = XGBClassifier(eta=0.09090909090909091, max_depth=6, min_child_weight=1, gama=0.2, subsample=0.9, colsample_bytree=0.73)\n",
    "random_grid = {'reg_alpha': [0, 0.001, 0.005, 0.01, 0.05]\n",
    "              }"
   ]
  },
  {
   "cell_type": "code",
   "execution_count": 57,
   "id": "34a01991",
   "metadata": {
    "execution": {
     "iopub.execute_input": "2023-01-08T09:36:23.755106Z",
     "iopub.status.busy": "2023-01-08T09:36:23.754587Z",
     "iopub.status.idle": "2023-01-08T09:36:31.828436Z",
     "shell.execute_reply": "2023-01-08T09:36:31.826743Z"
    },
    "papermill": {
     "duration": 8.123038,
     "end_time": "2023-01-08T09:36:31.831045",
     "exception": false,
     "start_time": "2023-01-08T09:36:23.708007",
     "status": "completed"
    },
    "tags": []
   },
   "outputs": [
    {
     "name": "stdout",
     "output_type": "stream",
     "text": [
      "[09:36:23] WARNING: ../src/learner.cc:627: \n",
      "Parameters: { \"gama\" } might not be used.\n",
      "\n",
      "  This could be a false alarm, with some parameters getting used by language bindings but\n",
      "  then being mistakenly passed down to XGBoost core, or some parameter actually being used\n",
      "  but getting flagged wrongly here. Please open an issue if you find any such cases.\n",
      "\n",
      "\n",
      "[09:36:24] WARNING: ../src/learner.cc:627: \n",
      "Parameters: { \"gama\" } might not be used.\n",
      "\n",
      "  This could be a false alarm, with some parameters getting used by language bindings but\n",
      "  then being mistakenly passed down to XGBoost core, or some parameter actually being used\n",
      "  but getting flagged wrongly here. Please open an issue if you find any such cases.\n",
      "\n",
      "\n",
      "[09:36:24] WARNING: ../src/learner.cc:627: \n",
      "Parameters: { \"gama\" } might not be used.\n",
      "\n",
      "  This could be a false alarm, with some parameters getting used by language bindings but\n",
      "  then being mistakenly passed down to XGBoost core, or some parameter actually being used\n",
      "  but getting flagged wrongly here. Please open an issue if you find any such cases.\n",
      "\n",
      "\n",
      "[09:36:24] WARNING: ../src/learner.cc:627: \n",
      "Parameters: { \"gama\" } might not be used.\n",
      "\n",
      "  This could be a false alarm, with some parameters getting used by language bindings but\n",
      "  then being mistakenly passed down to XGBoost core, or some parameter actually being used\n",
      "  but getting flagged wrongly here. Please open an issue if you find any such cases.\n",
      "\n",
      "\n",
      "[09:36:25] WARNING: ../src/learner.cc:627: \n",
      "Parameters: { \"gama\" } might not be used.\n",
      "\n",
      "  This could be a false alarm, with some parameters getting used by language bindings but\n",
      "  then being mistakenly passed down to XGBoost core, or some parameter actually being used\n",
      "  but getting flagged wrongly here. Please open an issue if you find any such cases.\n",
      "\n",
      "\n",
      "[09:36:25] WARNING: ../src/learner.cc:627: \n",
      "Parameters: { \"gama\" } might not be used.\n",
      "\n",
      "  This could be a false alarm, with some parameters getting used by language bindings but\n",
      "  then being mistakenly passed down to XGBoost core, or some parameter actually being used\n",
      "  but getting flagged wrongly here. Please open an issue if you find any such cases.\n",
      "\n",
      "\n",
      "[09:36:25] WARNING: ../src/learner.cc:627: \n",
      "Parameters: { \"gama\" } might not be used.\n",
      "\n",
      "  This could be a false alarm, with some parameters getting used by language bindings but\n",
      "  then being mistakenly passed down to XGBoost core, or some parameter actually being used\n",
      "  but getting flagged wrongly here. Please open an issue if you find any such cases.\n",
      "\n",
      "\n",
      "[09:36:25] WARNING: ../src/learner.cc:627: \n",
      "Parameters: { \"gama\" } might not be used.\n",
      "\n",
      "  This could be a false alarm, with some parameters getting used by language bindings but\n",
      "  then being mistakenly passed down to XGBoost core, or some parameter actually being used\n",
      "  but getting flagged wrongly here. Please open an issue if you find any such cases.\n",
      "\n",
      "\n",
      "[09:36:26] WARNING: ../src/learner.cc:627: \n",
      "Parameters: { \"gama\" } might not be used.\n",
      "\n",
      "  This could be a false alarm, with some parameters getting used by language bindings but\n",
      "  then being mistakenly passed down to XGBoost core, or some parameter actually being used\n",
      "  but getting flagged wrongly here. Please open an issue if you find any such cases.\n",
      "\n",
      "\n",
      "[09:36:26] WARNING: ../src/learner.cc:627: \n",
      "Parameters: { \"gama\" } might not be used.\n",
      "\n",
      "  This could be a false alarm, with some parameters getting used by language bindings but\n",
      "  then being mistakenly passed down to XGBoost core, or some parameter actually being used\n",
      "  but getting flagged wrongly here. Please open an issue if you find any such cases.\n",
      "\n",
      "\n",
      "[09:36:26] WARNING: ../src/learner.cc:627: \n",
      "Parameters: { \"gama\" } might not be used.\n",
      "\n",
      "  This could be a false alarm, with some parameters getting used by language bindings but\n",
      "  then being mistakenly passed down to XGBoost core, or some parameter actually being used\n",
      "  but getting flagged wrongly here. Please open an issue if you find any such cases.\n",
      "\n",
      "\n",
      "[09:36:27] WARNING: ../src/learner.cc:627: \n",
      "Parameters: { \"gama\" } might not be used.\n",
      "\n",
      "  This could be a false alarm, with some parameters getting used by language bindings but\n",
      "  then being mistakenly passed down to XGBoost core, or some parameter actually being used\n",
      "  but getting flagged wrongly here. Please open an issue if you find any such cases.\n",
      "\n",
      "\n",
      "[09:36:27] WARNING: ../src/learner.cc:627: \n",
      "Parameters: { \"gama\" } might not be used.\n",
      "\n",
      "  This could be a false alarm, with some parameters getting used by language bindings but\n",
      "  then being mistakenly passed down to XGBoost core, or some parameter actually being used\n",
      "  but getting flagged wrongly here. Please open an issue if you find any such cases.\n",
      "\n",
      "\n",
      "[09:36:27] WARNING: ../src/learner.cc:627: \n",
      "Parameters: { \"gama\" } might not be used.\n",
      "\n",
      "  This could be a false alarm, with some parameters getting used by language bindings but\n",
      "  then being mistakenly passed down to XGBoost core, or some parameter actually being used\n",
      "  but getting flagged wrongly here. Please open an issue if you find any such cases.\n",
      "\n",
      "\n",
      "[09:36:28] WARNING: ../src/learner.cc:627: \n",
      "Parameters: { \"gama\" } might not be used.\n",
      "\n",
      "  This could be a false alarm, with some parameters getting used by language bindings but\n",
      "  then being mistakenly passed down to XGBoost core, or some parameter actually being used\n",
      "  but getting flagged wrongly here. Please open an issue if you find any such cases.\n",
      "\n",
      "\n",
      "[09:36:28] WARNING: ../src/learner.cc:627: \n",
      "Parameters: { \"gama\" } might not be used.\n",
      "\n",
      "  This could be a false alarm, with some parameters getting used by language bindings but\n",
      "  then being mistakenly passed down to XGBoost core, or some parameter actually being used\n",
      "  but getting flagged wrongly here. Please open an issue if you find any such cases.\n",
      "\n",
      "\n",
      "[09:36:28] WARNING: ../src/learner.cc:627: \n",
      "Parameters: { \"gama\" } might not be used.\n",
      "\n",
      "  This could be a false alarm, with some parameters getting used by language bindings but\n",
      "  then being mistakenly passed down to XGBoost core, or some parameter actually being used\n",
      "  but getting flagged wrongly here. Please open an issue if you find any such cases.\n",
      "\n",
      "\n",
      "[09:36:29] WARNING: ../src/learner.cc:627: \n",
      "Parameters: { \"gama\" } might not be used.\n",
      "\n",
      "  This could be a false alarm, with some parameters getting used by language bindings but\n",
      "  then being mistakenly passed down to XGBoost core, or some parameter actually being used\n",
      "  but getting flagged wrongly here. Please open an issue if you find any such cases.\n",
      "\n",
      "\n",
      "[09:36:29] WARNING: ../src/learner.cc:627: \n",
      "Parameters: { \"gama\" } might not be used.\n",
      "\n",
      "  This could be a false alarm, with some parameters getting used by language bindings but\n",
      "  then being mistakenly passed down to XGBoost core, or some parameter actually being used\n",
      "  but getting flagged wrongly here. Please open an issue if you find any such cases.\n",
      "\n",
      "\n",
      "[09:36:29] WARNING: ../src/learner.cc:627: \n",
      "Parameters: { \"gama\" } might not be used.\n",
      "\n",
      "  This could be a false alarm, with some parameters getting used by language bindings but\n",
      "  then being mistakenly passed down to XGBoost core, or some parameter actually being used\n",
      "  but getting flagged wrongly here. Please open an issue if you find any such cases.\n",
      "\n",
      "\n",
      "[09:36:29] WARNING: ../src/learner.cc:627: \n",
      "Parameters: { \"gama\" } might not be used.\n",
      "\n",
      "  This could be a false alarm, with some parameters getting used by language bindings but\n",
      "  then being mistakenly passed down to XGBoost core, or some parameter actually being used\n",
      "  but getting flagged wrongly here. Please open an issue if you find any such cases.\n",
      "\n",
      "\n",
      "[09:36:30] WARNING: ../src/learner.cc:627: \n",
      "Parameters: { \"gama\" } might not be used.\n",
      "\n",
      "  This could be a false alarm, with some parameters getting used by language bindings but\n",
      "  then being mistakenly passed down to XGBoost core, or some parameter actually being used\n",
      "  but getting flagged wrongly here. Please open an issue if you find any such cases.\n",
      "\n",
      "\n",
      "[09:36:30] WARNING: ../src/learner.cc:627: \n",
      "Parameters: { \"gama\" } might not be used.\n",
      "\n",
      "  This could be a false alarm, with some parameters getting used by language bindings but\n",
      "  then being mistakenly passed down to XGBoost core, or some parameter actually being used\n",
      "  but getting flagged wrongly here. Please open an issue if you find any such cases.\n",
      "\n",
      "\n",
      "[09:36:30] WARNING: ../src/learner.cc:627: \n",
      "Parameters: { \"gama\" } might not be used.\n",
      "\n",
      "  This could be a false alarm, with some parameters getting used by language bindings but\n",
      "  then being mistakenly passed down to XGBoost core, or some parameter actually being used\n",
      "  but getting flagged wrongly here. Please open an issue if you find any such cases.\n",
      "\n",
      "\n",
      "[09:36:31] WARNING: ../src/learner.cc:627: \n",
      "Parameters: { \"gama\" } might not be used.\n",
      "\n",
      "  This could be a false alarm, with some parameters getting used by language bindings but\n",
      "  then being mistakenly passed down to XGBoost core, or some parameter actually being used\n",
      "  but getting flagged wrongly here. Please open an issue if you find any such cases.\n",
      "\n",
      "\n",
      "[09:36:31] WARNING: ../src/learner.cc:627: \n",
      "Parameters: { \"gama\" } might not be used.\n",
      "\n",
      "  This could be a false alarm, with some parameters getting used by language bindings but\n",
      "  then being mistakenly passed down to XGBoost core, or some parameter actually being used\n",
      "  but getting flagged wrongly here. Please open an issue if you find any such cases.\n",
      "\n",
      "\n",
      "0.8145474244065791\n"
     ]
    },
    {
     "data": {
      "text/plain": [
       "{'reg_alpha': 0.001}"
      ]
     },
     "execution_count": 57,
     "metadata": {},
     "output_type": "execute_result"
    }
   ],
   "source": [
    "# rf_random = RandomizedSearchCV(estimator = model, param_distributions = random_grid, cv = 4)\n",
    "# OR\n",
    "rf_random = GridSearchCV(model, random_grid, cv=5)\n",
    "\n",
    "x_train, x_test, y_train, y_test = train_test_split(x, y, test_size=0.2, random_state=11)\n",
    "rf_random.fit(x_train, y_train)\n",
    "print(rf_random.best_score_)\n",
    "rf_random.best_params_"
   ]
  },
  {
   "cell_type": "code",
   "execution_count": 58,
   "id": "16c19d64",
   "metadata": {
    "execution": {
     "iopub.execute_input": "2023-01-08T09:36:31.925792Z",
     "iopub.status.busy": "2023-01-08T09:36:31.925324Z",
     "iopub.status.idle": "2023-01-08T09:36:31.936227Z",
     "shell.execute_reply": "2023-01-08T09:36:31.934920Z"
    },
    "papermill": {
     "duration": 0.061481,
     "end_time": "2023-01-08T09:36:31.938749",
     "exception": false,
     "start_time": "2023-01-08T09:36:31.877268",
     "status": "completed"
    },
    "tags": []
   },
   "outputs": [
    {
     "data": {
      "text/plain": [
       "XGBClassifier(base_score=None, booster=None, callbacks=None,\n",
       "              colsample_bylevel=None, colsample_bynode=None,\n",
       "              colsample_bytree=0.73, early_stopping_rounds=None,\n",
       "              enable_categorical=False, eta=0.09090909090909091,\n",
       "              eval_metric=None, gama=0.2, gamma=None, gpu_id=None,\n",
       "              grow_policy=None, importance_type=None,\n",
       "              interaction_constraints=None, learning_rate=None, max_bin=None,\n",
       "              max_cat_to_onehot=None, max_delta_step=None, max_depth=6,\n",
       "              max_leaves=None, min_child_weight=1, missing=nan,\n",
       "              monotone_constraints=None, n_estimators=100, n_jobs=None,\n",
       "              num_parallel_tree=None, predictor=None, random_state=None, ...)"
      ]
     },
     "execution_count": 58,
     "metadata": {},
     "output_type": "execute_result"
    }
   ],
   "source": [
    "model"
   ]
  },
  {
   "cell_type": "markdown",
   "id": "22fe5ec0",
   "metadata": {
    "papermill": {
     "duration": 0.044115,
     "end_time": "2023-01-08T09:36:32.028162",
     "exception": false,
     "start_time": "2023-01-08T09:36:31.984047",
     "status": "completed"
    },
    "tags": []
   },
   "source": [
    "## 7.8 Overall Accuracy after cross validation (cv) on GridSearchCV = 81.32%"
   ]
  },
  {
   "cell_type": "code",
   "execution_count": 59,
   "id": "f0efa6f1",
   "metadata": {
    "execution": {
     "iopub.execute_input": "2023-01-08T09:36:32.119511Z",
     "iopub.status.busy": "2023-01-08T09:36:32.119110Z",
     "iopub.status.idle": "2023-01-08T09:36:32.124185Z",
     "shell.execute_reply": "2023-01-08T09:36:32.123088Z"
    },
    "papermill": {
     "duration": 0.052902,
     "end_time": "2023-01-08T09:36:32.126655",
     "exception": false,
     "start_time": "2023-01-08T09:36:32.073753",
     "status": "completed"
    },
    "tags": []
   },
   "outputs": [],
   "source": [
    "model = XGBClassifier(eta=0.09090909090909091, max_depth=6, min_child_weight=1, gama=0.2, subsample=0.9, colsample_bytree=0.73, reg_alpha=0.005)\n",
    "# random_grid = {'reg_alpha': [0, 0.001, 0.005, 0.01, 0.05]\n",
    "#               }"
   ]
  },
  {
   "cell_type": "code",
   "execution_count": 60,
   "id": "3818d127",
   "metadata": {
    "execution": {
     "iopub.execute_input": "2023-01-08T09:36:32.218179Z",
     "iopub.status.busy": "2023-01-08T09:36:32.217778Z",
     "iopub.status.idle": "2023-01-08T09:36:41.429692Z",
     "shell.execute_reply": "2023-01-08T09:36:41.428579Z"
    },
    "papermill": {
     "duration": 9.26139,
     "end_time": "2023-01-08T09:36:41.432834",
     "exception": false,
     "start_time": "2023-01-08T09:36:32.171444",
     "status": "completed"
    },
    "tags": []
   },
   "outputs": [
    {
     "name": "stdout",
     "output_type": "stream",
     "text": [
      "[09:36:32] WARNING: ../src/learner.cc:627: \n",
      "Parameters: { \"gama\" } might not be used.\n",
      "\n",
      "  This could be a false alarm, with some parameters getting used by language bindings but\n",
      "  then being mistakenly passed down to XGBoost core, or some parameter actually being used\n",
      "  but getting flagged wrongly here. Please open an issue if you find any such cases.\n",
      "\n",
      "\n",
      "[09:36:32] WARNING: ../src/learner.cc:627: \n",
      "Parameters: { \"gama\" } might not be used.\n",
      "\n",
      "  This could be a false alarm, with some parameters getting used by language bindings but\n",
      "  then being mistakenly passed down to XGBoost core, or some parameter actually being used\n",
      "  but getting flagged wrongly here. Please open an issue if you find any such cases.\n",
      "\n",
      "\n",
      "[09:36:32] WARNING: ../src/learner.cc:627: \n",
      "Parameters: { \"gama\" } might not be used.\n",
      "\n",
      "  This could be a false alarm, with some parameters getting used by language bindings but\n",
      "  then being mistakenly passed down to XGBoost core, or some parameter actually being used\n",
      "  but getting flagged wrongly here. Please open an issue if you find any such cases.\n",
      "\n",
      "\n",
      "[09:36:33] WARNING: ../src/learner.cc:627: \n",
      "Parameters: { \"gama\" } might not be used.\n",
      "\n",
      "  This could be a false alarm, with some parameters getting used by language bindings but\n",
      "  then being mistakenly passed down to XGBoost core, or some parameter actually being used\n",
      "  but getting flagged wrongly here. Please open an issue if you find any such cases.\n",
      "\n",
      "\n",
      "[09:36:33] WARNING: ../src/learner.cc:627: \n",
      "Parameters: { \"gama\" } might not be used.\n",
      "\n",
      "  This could be a false alarm, with some parameters getting used by language bindings but\n",
      "  then being mistakenly passed down to XGBoost core, or some parameter actually being used\n",
      "  but getting flagged wrongly here. Please open an issue if you find any such cases.\n",
      "\n",
      "\n",
      "[09:36:33] WARNING: ../src/learner.cc:627: \n",
      "Parameters: { \"gama\" } might not be used.\n",
      "\n",
      "  This could be a false alarm, with some parameters getting used by language bindings but\n",
      "  then being mistakenly passed down to XGBoost core, or some parameter actually being used\n",
      "  but getting flagged wrongly here. Please open an issue if you find any such cases.\n",
      "\n",
      "\n",
      "[09:36:34] WARNING: ../src/learner.cc:627: \n",
      "Parameters: { \"gama\" } might not be used.\n",
      "\n",
      "  This could be a false alarm, with some parameters getting used by language bindings but\n",
      "  then being mistakenly passed down to XGBoost core, or some parameter actually being used\n",
      "  but getting flagged wrongly here. Please open an issue if you find any such cases.\n",
      "\n",
      "\n",
      "[09:36:34] WARNING: ../src/learner.cc:627: \n",
      "Parameters: { \"gama\" } might not be used.\n",
      "\n",
      "  This could be a false alarm, with some parameters getting used by language bindings but\n",
      "  then being mistakenly passed down to XGBoost core, or some parameter actually being used\n",
      "  but getting flagged wrongly here. Please open an issue if you find any such cases.\n",
      "\n",
      "\n",
      "[09:36:34] WARNING: ../src/learner.cc:627: \n",
      "Parameters: { \"gama\" } might not be used.\n",
      "\n",
      "  This could be a false alarm, with some parameters getting used by language bindings but\n",
      "  then being mistakenly passed down to XGBoost core, or some parameter actually being used\n",
      "  but getting flagged wrongly here. Please open an issue if you find any such cases.\n",
      "\n",
      "\n",
      "[09:36:35] WARNING: ../src/learner.cc:627: \n",
      "Parameters: { \"gama\" } might not be used.\n",
      "\n",
      "  This could be a false alarm, with some parameters getting used by language bindings but\n",
      "  then being mistakenly passed down to XGBoost core, or some parameter actually being used\n",
      "  but getting flagged wrongly here. Please open an issue if you find any such cases.\n",
      "\n",
      "\n",
      "[09:36:35] WARNING: ../src/learner.cc:627: \n",
      "Parameters: { \"gama\" } might not be used.\n",
      "\n",
      "  This could be a false alarm, with some parameters getting used by language bindings but\n",
      "  then being mistakenly passed down to XGBoost core, or some parameter actually being used\n",
      "  but getting flagged wrongly here. Please open an issue if you find any such cases.\n",
      "\n",
      "\n",
      "[09:36:36] WARNING: ../src/learner.cc:627: \n",
      "Parameters: { \"gama\" } might not be used.\n",
      "\n",
      "  This could be a false alarm, with some parameters getting used by language bindings but\n",
      "  then being mistakenly passed down to XGBoost core, or some parameter actually being used\n",
      "  but getting flagged wrongly here. Please open an issue if you find any such cases.\n",
      "\n",
      "\n",
      "[09:36:37] WARNING: ../src/learner.cc:627: \n",
      "Parameters: { \"gama\" } might not be used.\n",
      "\n",
      "  This could be a false alarm, with some parameters getting used by language bindings but\n",
      "  then being mistakenly passed down to XGBoost core, or some parameter actually being used\n",
      "  but getting flagged wrongly here. Please open an issue if you find any such cases.\n",
      "\n",
      "\n",
      "[09:36:37] WARNING: ../src/learner.cc:627: \n",
      "Parameters: { \"gama\" } might not be used.\n",
      "\n",
      "  This could be a false alarm, with some parameters getting used by language bindings but\n",
      "  then being mistakenly passed down to XGBoost core, or some parameter actually being used\n",
      "  but getting flagged wrongly here. Please open an issue if you find any such cases.\n",
      "\n",
      "\n",
      "[09:36:37] WARNING: ../src/learner.cc:627: \n",
      "Parameters: { \"gama\" } might not be used.\n",
      "\n",
      "  This could be a false alarm, with some parameters getting used by language bindings but\n",
      "  then being mistakenly passed down to XGBoost core, or some parameter actually being used\n",
      "  but getting flagged wrongly here. Please open an issue if you find any such cases.\n",
      "\n",
      "\n",
      "[09:36:37] WARNING: ../src/learner.cc:627: \n",
      "Parameters: { \"gama\" } might not be used.\n",
      "\n",
      "  This could be a false alarm, with some parameters getting used by language bindings but\n",
      "  then being mistakenly passed down to XGBoost core, or some parameter actually being used\n",
      "  but getting flagged wrongly here. Please open an issue if you find any such cases.\n",
      "\n",
      "\n",
      "[09:36:38] WARNING: ../src/learner.cc:627: \n",
      "Parameters: { \"gama\" } might not be used.\n",
      "\n",
      "  This could be a false alarm, with some parameters getting used by language bindings but\n",
      "  then being mistakenly passed down to XGBoost core, or some parameter actually being used\n",
      "  but getting flagged wrongly here. Please open an issue if you find any such cases.\n",
      "\n",
      "\n",
      "[09:36:38] WARNING: ../src/learner.cc:627: \n",
      "Parameters: { \"gama\" } might not be used.\n",
      "\n",
      "  This could be a false alarm, with some parameters getting used by language bindings but\n",
      "  then being mistakenly passed down to XGBoost core, or some parameter actually being used\n",
      "  but getting flagged wrongly here. Please open an issue if you find any such cases.\n",
      "\n",
      "\n",
      "[09:36:38] WARNING: ../src/learner.cc:627: \n",
      "Parameters: { \"gama\" } might not be used.\n",
      "\n",
      "  This could be a false alarm, with some parameters getting used by language bindings but\n",
      "  then being mistakenly passed down to XGBoost core, or some parameter actually being used\n",
      "  but getting flagged wrongly here. Please open an issue if you find any such cases.\n",
      "\n",
      "\n",
      "[09:36:39] WARNING: ../src/learner.cc:627: \n",
      "Parameters: { \"gama\" } might not be used.\n",
      "\n",
      "  This could be a false alarm, with some parameters getting used by language bindings but\n",
      "  then being mistakenly passed down to XGBoost core, or some parameter actually being used\n",
      "  but getting flagged wrongly here. Please open an issue if you find any such cases.\n",
      "\n",
      "\n",
      "[09:36:39] WARNING: ../src/learner.cc:627: \n",
      "Parameters: { \"gama\" } might not be used.\n",
      "\n",
      "  This could be a false alarm, with some parameters getting used by language bindings but\n",
      "  then being mistakenly passed down to XGBoost core, or some parameter actually being used\n",
      "  but getting flagged wrongly here. Please open an issue if you find any such cases.\n",
      "\n",
      "\n",
      "[09:36:39] WARNING: ../src/learner.cc:627: \n",
      "Parameters: { \"gama\" } might not be used.\n",
      "\n",
      "  This could be a false alarm, with some parameters getting used by language bindings but\n",
      "  then being mistakenly passed down to XGBoost core, or some parameter actually being used\n",
      "  but getting flagged wrongly here. Please open an issue if you find any such cases.\n",
      "\n",
      "\n",
      "[09:36:40] WARNING: ../src/learner.cc:627: \n",
      "Parameters: { \"gama\" } might not be used.\n",
      "\n",
      "  This could be a false alarm, with some parameters getting used by language bindings but\n",
      "  then being mistakenly passed down to XGBoost core, or some parameter actually being used\n",
      "  but getting flagged wrongly here. Please open an issue if you find any such cases.\n",
      "\n",
      "\n",
      "[09:36:40] WARNING: ../src/learner.cc:627: \n",
      "Parameters: { \"gama\" } might not be used.\n",
      "\n",
      "  This could be a false alarm, with some parameters getting used by language bindings but\n",
      "  then being mistakenly passed down to XGBoost core, or some parameter actually being used\n",
      "  but getting flagged wrongly here. Please open an issue if you find any such cases.\n",
      "\n",
      "\n",
      "[09:36:40] WARNING: ../src/learner.cc:627: \n",
      "Parameters: { \"gama\" } might not be used.\n",
      "\n",
      "  This could be a false alarm, with some parameters getting used by language bindings but\n",
      "  then being mistakenly passed down to XGBoost core, or some parameter actually being used\n",
      "  but getting flagged wrongly here. Please open an issue if you find any such cases.\n",
      "\n",
      "\n",
      "[09:36:41] WARNING: ../src/learner.cc:627: \n",
      "Parameters: { \"gama\" } might not be used.\n",
      "\n",
      "  This could be a false alarm, with some parameters getting used by language bindings but\n",
      "  then being mistakenly passed down to XGBoost core, or some parameter actually being used\n",
      "  but getting flagged wrongly here. Please open an issue if you find any such cases.\n",
      "\n",
      "\n",
      "0.8145474244065791\n"
     ]
    },
    {
     "data": {
      "text/plain": [
       "{'reg_alpha': 0.001}"
      ]
     },
     "execution_count": 60,
     "metadata": {},
     "output_type": "execute_result"
    }
   ],
   "source": [
    "# rf_random = RandomizedSearchCV(estimator = model, param_distributions = random_grid, cv = 4)\n",
    "# OR\n",
    "# rf_random = GridSearchCV(model, random_grid, cv=5)\n",
    "\n",
    "x_train, x_test, y_train, y_test = train_test_split(x, y, test_size=0.2, random_state=11)\n",
    "rf_random.fit(x_train, y_train)\n",
    "print(rf_random.best_score_)\n",
    "rf_random.best_params_"
   ]
  },
  {
   "cell_type": "code",
   "execution_count": 61,
   "id": "4ee81da9",
   "metadata": {
    "execution": {
     "iopub.execute_input": "2023-01-08T09:36:41.529303Z",
     "iopub.status.busy": "2023-01-08T09:36:41.526917Z",
     "iopub.status.idle": "2023-01-08T09:36:41.536818Z",
     "shell.execute_reply": "2023-01-08T09:36:41.535741Z"
    },
    "papermill": {
     "duration": 0.060091,
     "end_time": "2023-01-08T09:36:41.539339",
     "exception": false,
     "start_time": "2023-01-08T09:36:41.479248",
     "status": "completed"
    },
    "tags": []
   },
   "outputs": [
    {
     "data": {
      "text/plain": [
       "XGBClassifier(base_score=None, booster=None, callbacks=None,\n",
       "              colsample_bylevel=None, colsample_bynode=None,\n",
       "              colsample_bytree=0.73, early_stopping_rounds=None,\n",
       "              enable_categorical=False, eta=0.09090909090909091,\n",
       "              eval_metric=None, gama=0.2, gamma=None, gpu_id=None,\n",
       "              grow_policy=None, importance_type=None,\n",
       "              interaction_constraints=None, learning_rate=None, max_bin=None,\n",
       "              max_cat_to_onehot=None, max_delta_step=None, max_depth=6,\n",
       "              max_leaves=None, min_child_weight=1, missing=nan,\n",
       "              monotone_constraints=None, n_estimators=100, n_jobs=None,\n",
       "              num_parallel_tree=None, predictor=None, random_state=None, ...)"
      ]
     },
     "execution_count": 61,
     "metadata": {},
     "output_type": "execute_result"
    }
   ],
   "source": [
    "model"
   ]
  },
  {
   "cell_type": "markdown",
   "id": "1feab587",
   "metadata": {
    "papermill": {
     "duration": 0.046831,
     "end_time": "2023-01-08T09:36:41.631847",
     "exception": false,
     "start_time": "2023-01-08T09:36:41.585016",
     "status": "completed"
    },
    "tags": []
   },
   "source": [
    "# 8. Final Accuracy based on optimized hyperparameters = 93%"
   ]
  },
  {
   "cell_type": "code",
   "execution_count": 62,
   "id": "01e46737",
   "metadata": {
    "execution": {
     "iopub.execute_input": "2023-01-08T09:36:41.727424Z",
     "iopub.status.busy": "2023-01-08T09:36:41.726166Z",
     "iopub.status.idle": "2023-01-08T09:36:41.732558Z",
     "shell.execute_reply": "2023-01-08T09:36:41.731758Z"
    },
    "papermill": {
     "duration": 0.056961,
     "end_time": "2023-01-08T09:36:41.735101",
     "exception": false,
     "start_time": "2023-01-08T09:36:41.678140",
     "status": "completed"
    },
    "tags": []
   },
   "outputs": [],
   "source": [
    "model = XGBClassifier(eta=0.09090909090909091, \n",
    "                      max_depth=6, \n",
    "                      min_child_weight=1, \n",
    "                      gama=0.2, \n",
    "                      subsample=0.9, \n",
    "                      colsample_bytree=0.73, \n",
    "                      reg_alpha=0.005)"
   ]
  },
  {
   "cell_type": "code",
   "execution_count": 63,
   "id": "1803af1f",
   "metadata": {
    "execution": {
     "iopub.execute_input": "2023-01-08T09:36:41.832147Z",
     "iopub.status.busy": "2023-01-08T09:36:41.830560Z",
     "iopub.status.idle": "2023-01-08T09:36:42.182845Z",
     "shell.execute_reply": "2023-01-08T09:36:42.181824Z"
    },
    "papermill": {
     "duration": 0.404413,
     "end_time": "2023-01-08T09:36:42.185640",
     "exception": false,
     "start_time": "2023-01-08T09:36:41.781227",
     "status": "completed"
    },
    "tags": []
   },
   "outputs": [
    {
     "name": "stdout",
     "output_type": "stream",
     "text": [
      "[09:36:41] WARNING: ../src/learner.cc:627: \n",
      "Parameters: { \"gama\" } might not be used.\n",
      "\n",
      "  This could be a false alarm, with some parameters getting used by language bindings but\n",
      "  then being mistakenly passed down to XGBoost core, or some parameter actually being used\n",
      "  but getting flagged wrongly here. Please open an issue if you find any such cases.\n",
      "\n",
      "\n",
      "0.9273743016759777\n",
      "Survived 54\n",
      "Not Survived 125\n"
     ]
    },
    {
     "data": {
      "text/plain": [
       "array([[115,   3],\n",
       "       [ 10,  51]])"
      ]
     },
     "execution_count": 63,
     "metadata": {},
     "output_type": "execute_result"
    }
   ],
   "source": [
    "# x_train, x_test, y_train, y_test = train_test_split(x, y, test_size=0.2, random_state=10)\n",
    "model.fit(x, y)\n",
    "print(model.score(x_test, y_test))\n",
    "\n",
    "y_pred = model.predict(x_test)\n",
    "print(\"Survived\", sum(y_pred!=0))\n",
    "print(\"Not Survived\", sum(y_pred==0))\n",
    "\n",
    "cm = confusion_matrix(y_test, y_pred)\n",
    "cm"
   ]
  },
  {
   "cell_type": "code",
   "execution_count": 64,
   "id": "1d7c7bea",
   "metadata": {
    "execution": {
     "iopub.execute_input": "2023-01-08T09:36:42.283610Z",
     "iopub.status.busy": "2023-01-08T09:36:42.282724Z",
     "iopub.status.idle": "2023-01-08T09:36:42.466849Z",
     "shell.execute_reply": "2023-01-08T09:36:42.465062Z"
    },
    "papermill": {
     "duration": 0.237464,
     "end_time": "2023-01-08T09:36:42.471321",
     "exception": false,
     "start_time": "2023-01-08T09:36:42.233857",
     "status": "completed"
    },
    "tags": []
   },
   "outputs": [
    {
     "data": {
      "image/png": "[encoded data removed]",
      "text/plain": [
       "<Figure size 576x576 with 1 Axes>"
      ]
     },
     "metadata": {
      "needs_background": "light"
     },
     "output_type": "display_data"
    }
   ],
   "source": [
    "# Confusion Matrix visualization\n",
    "fig, ax = plt.subplots(figsize=(8, 8))\n",
    "ax.imshow(cm)\n",
    "ax.grid(False)\n",
    "ax.xaxis.set(ticks=(0, 1), ticklabels=('Predicted 0s', 'Predicted 1s'))\n",
    "ax.yaxis.set(ticks=(0, 1), ticklabels=('Actual 0s', 'Actual 1s'))\n",
    "ax.set_ylim(1.5, -0.5)\n",
    "for i in range(2):\n",
    "    for j in range(2):\n",
    "        ax.text(j, i, cm[i, j], ha='center', va='center', color='red')\n",
    "plt.show()"
   ]
  },
  {
   "cell_type": "markdown",
   "id": "3f88b983",
   "metadata": {
    "papermill": {
     "duration": 0.046854,
     "end_time": "2023-01-08T09:36:42.572036",
     "exception": false,
     "start_time": "2023-01-08T09:36:42.525182",
     "status": "completed"
    },
    "tags": []
   },
   "source": [
    "## Final Analysis"
   ]
  },
  {
   "cell_type": "code",
   "execution_count": 65,
   "id": "9e61ac43",
   "metadata": {
    "execution": {
     "iopub.execute_input": "2023-01-08T09:36:42.667952Z",
     "iopub.status.busy": "2023-01-08T09:36:42.667230Z",
     "iopub.status.idle": "2023-01-08T09:36:42.962428Z",
     "shell.execute_reply": "2023-01-08T09:36:42.961036Z"
    },
    "papermill": {
     "duration": 0.346622,
     "end_time": "2023-01-08T09:36:42.965107",
     "exception": false,
     "start_time": "2023-01-08T09:36:42.618485",
     "status": "completed"
    },
    "tags": []
   },
   "outputs": [
    {
     "data": {
      "text/plain": [
       "<AxesSubplot:>"
      ]
     },
     "execution_count": 65,
     "metadata": {},
     "output_type": "execute_result"
    },
    {
     "data": {
      "image/png": "[encoded data removed]",
      "text/plain": [
       "<Figure size 1440x720 with 1 Axes>"
      ]
     },
     "metadata": {
      "needs_background": "light"
     },
     "output_type": "display_data"
    }
   ],
   "source": [
    "# For getting top 40 feature importance\n",
    "feature_important = model.get_booster().get_score(importance_type='weight')\n",
    "keys = list(feature_important.keys())\n",
    "values = list(feature_important.values())\n",
    "\n",
    "data = pd.DataFrame(data=values, index=keys, columns=[\"score\"]).sort_values(by = \"score\", ascending=False)\n",
    "data.nlargest(40, columns=\"score\").plot(kind='barh', figsize = (20,10)) ## plot top 40 features\n"
   ]
  },
  {
   "cell_type": "code",
   "execution_count": 66,
   "id": "09879807",
   "metadata": {
    "execution": {
     "iopub.execute_input": "2023-01-08T09:36:43.063808Z",
     "iopub.status.busy": "2023-01-08T09:36:43.063359Z",
     "iopub.status.idle": "2023-01-08T09:36:43.076809Z",
     "shell.execute_reply": "2023-01-08T09:36:43.075094Z"
    },
    "papermill": {
     "duration": 0.066598,
     "end_time": "2023-01-08T09:36:43.080161",
     "exception": false,
     "start_time": "2023-01-08T09:36:43.013563",
     "status": "completed"
    },
    "tags": []
   },
   "outputs": [
    {
     "name": "stdout",
     "output_type": "stream",
     "text": [
      "              precision    recall  f1-score   support\n",
      "\n",
      "           0       0.92      0.97      0.95       118\n",
      "           1       0.94      0.84      0.89        61\n",
      "\n",
      "    accuracy                           0.93       179\n",
      "   macro avg       0.93      0.91      0.92       179\n",
      "weighted avg       0.93      0.93      0.93       179\n",
      "\n"
     ]
    }
   ],
   "source": [
    "print(classification_report(y_test, y_pred))"
   ]
  },
  {
   "cell_type": "code",
   "execution_count": 67,
   "id": "7a8507a7",
   "metadata": {
    "execution": {
     "iopub.execute_input": "2023-01-08T09:36:43.180446Z",
     "iopub.status.busy": "2023-01-08T09:36:43.179501Z",
     "iopub.status.idle": "2023-01-08T09:36:43.207322Z",
     "shell.execute_reply": "2023-01-08T09:36:43.206161Z"
    },
    "papermill": {
     "duration": 0.081528,
     "end_time": "2023-01-08T09:36:43.210184",
     "exception": false,
     "start_time": "2023-01-08T09:36:43.128656",
     "status": "completed"
    },
    "tags": []
   },
   "outputs": [
    {
     "data": {
      "text/plain": [
       "array([0, 1, 1, 1, 0, 0, 0, 0, 1, 1, 1, 1, 0, 0, 0, 1, 0, 0, 1, 1, 0, 0,\n",
       "       1, 0, 0, 1, 0, 0, 1, 0, 0, 1, 1, 0, 0, 0, 0, 0, 0, 1, 0, 1, 0, 1,\n",
       "       1, 0, 0, 1, 0, 0, 0, 0, 1, 1, 0, 0, 1, 0, 1, 0, 0, 1, 0, 0, 0, 1,\n",
       "       1, 0, 0, 0, 0, 0, 0, 0, 1, 0, 0, 0, 1, 0, 0, 0, 1, 0, 1, 1, 0, 0,\n",
       "       1, 0, 0, 0, 0, 0, 0, 0, 0, 1, 1, 0, 0, 0, 0, 0, 0, 0, 0, 0, 0, 1,\n",
       "       0, 0, 0, 0, 0, 0, 0, 0, 0, 0, 0, 0, 0, 1, 0, 1, 0, 0, 1, 0, 0, 0,\n",
       "       0, 1, 0, 0, 1, 0, 0, 0, 1, 0, 1, 0, 0, 0, 0, 0, 0, 0, 0, 1, 0, 0,\n",
       "       0, 0, 1, 0, 0, 0, 0, 1, 0, 0, 0, 1, 1, 0, 0, 0, 0, 0, 1, 0, 0, 0,\n",
       "       0, 1, 0, 0, 0, 0, 0, 1, 1, 0, 1, 0, 0, 0, 1, 0, 0, 1, 1, 1, 0, 0,\n",
       "       1, 1, 0, 0, 0, 0, 0, 1, 0, 0, 1, 0, 0, 1, 0, 0, 0, 1, 1, 0, 1, 0,\n",
       "       0, 0, 0, 0, 0, 0, 0, 0, 0, 0, 1, 0, 0, 0, 0, 0, 0, 1, 0, 0, 1, 1,\n",
       "       0, 0, 0, 0, 0, 1, 0, 0, 0, 0, 0, 0, 0, 1, 1, 1, 1, 1, 0, 0, 0, 1,\n",
       "       1, 0, 0, 0, 1, 1, 0, 0, 1, 0, 1, 1, 0, 0, 0, 1, 0, 0, 0, 0, 0, 0,\n",
       "       0, 0, 0, 1, 1, 1, 0, 0, 0, 0, 0, 1, 0, 1, 1, 0, 0, 1, 0, 1, 1, 1,\n",
       "       0, 1, 1, 1, 1, 0, 0, 1, 1, 0, 1, 1, 0, 0, 1, 1, 0, 1, 0, 1, 1, 1,\n",
       "       1, 0, 0, 0, 1, 0, 0, 1, 0, 0, 1, 1, 0, 0, 0, 1, 1, 0, 1, 0, 0, 0,\n",
       "       0, 0, 0, 0, 1, 1, 1, 1, 0, 0, 0, 0, 0, 0, 1, 1, 1, 1, 1, 0, 0, 0,\n",
       "       0, 1, 0, 1, 0, 0, 1, 1, 0, 1, 0, 0, 0, 1, 0, 1, 1, 0, 0, 1, 1, 0,\n",
       "       0, 0, 0, 1, 0, 0, 0, 0, 0, 0, 0, 1, 0, 0, 0, 0, 1, 0, 0, 1, 1, 1,\n",
       "       0, 0, 0, 0, 0, 0, 0, 0, 1, 1, 0, 1, 1, 0, 1, 0, 0, 1, 0, 1, 0, 0,\n",
       "       1, 0, 0, 1, 0, 1, 1, 1, 1, 1, 0, 0, 0, 1, 0, 0, 0, 1, 1, 0, 1, 0,\n",
       "       0, 0, 0, 0, 0, 0, 0, 1, 0, 0, 1, 1, 0, 0, 0, 0, 0, 1, 0, 0, 0, 1,\n",
       "       1, 0, 1, 0, 0, 1, 0, 0, 0, 0, 0, 0, 1, 0, 0, 0, 0, 1, 1, 0, 1, 0,\n",
       "       1, 0, 0, 1, 0, 0, 1, 1, 0, 0, 1, 0, 1, 0, 1, 0, 0, 1, 0, 0, 1, 0,\n",
       "       0, 0, 1, 0, 0, 1, 0, 1, 0, 1, 0, 1, 1, 0, 0, 0, 0, 0, 1, 0, 0, 1,\n",
       "       1, 0, 0, 0, 0, 0, 1, 0, 1, 1, 0, 0, 0, 0, 0, 0, 0, 0, 0, 0, 0, 1,\n",
       "       1, 1, 0, 0, 1, 1, 1, 0, 1, 1, 0, 1, 0, 1, 0, 0, 0, 0, 0, 1, 0, 0,\n",
       "       0, 0, 1, 0, 0, 1, 1, 0, 0, 0, 0, 0, 0, 1, 1, 1, 0, 0, 1, 0, 0, 1,\n",
       "       0, 0, 1, 0, 0, 1, 0, 0, 0, 0, 0, 1, 0, 0, 0, 0, 1, 0, 0, 1, 0, 0,\n",
       "       0, 0, 0, 1, 0, 0, 1, 1, 0, 1, 0, 0, 0, 1, 0, 1, 1, 0, 0, 0, 0, 0,\n",
       "       1, 0, 0, 0, 0, 0, 0, 0, 0, 1, 1, 0, 0, 0, 0, 0, 0, 0, 0, 1, 1, 1,\n",
       "       0, 0, 0, 0, 0, 0, 0, 1, 0, 1, 0, 0, 0, 0, 0, 1, 1, 0, 1, 1, 0, 0,\n",
       "       0, 0, 1, 1, 1, 1, 1, 0, 1, 0, 0, 0, 1, 1, 0, 0, 1, 0, 0, 0, 1, 0,\n",
       "       1, 1, 0, 0, 1, 0, 0, 0, 0, 0, 0, 1, 0, 0, 0, 1, 1, 0, 0, 0, 0, 1,\n",
       "       0, 0, 1, 1, 0, 0, 1, 1, 0, 0, 0, 1, 0, 0, 0, 1, 0, 1, 0, 1, 0, 0,\n",
       "       0, 0, 1, 0, 1, 0, 0, 1, 0, 1, 1, 1, 0, 0, 0, 0, 0, 0, 1, 0, 0, 0,\n",
       "       0, 0, 0, 0, 1, 1, 0, 0, 0, 1, 1, 1, 0, 0, 0, 0, 0, 1, 0, 0, 0, 0,\n",
       "       0, 0, 0, 0, 0, 0, 1, 0, 0, 1, 0, 0, 0, 1, 0, 1, 1, 1, 0, 0, 0, 1,\n",
       "       0, 0, 1, 0, 0, 0, 1, 0, 0, 0, 0, 0, 0, 1, 0, 0, 0, 1, 1, 1, 1, 0,\n",
       "       1, 0, 0, 0, 1, 0, 0, 1, 1, 0, 0, 1, 0, 1, 1, 0, 1, 1, 0, 0, 0, 1,\n",
       "       1, 0, 0, 0, 0, 0, 0, 1, 0, 1, 0])"
      ]
     },
     "execution_count": 67,
     "metadata": {},
     "output_type": "execute_result"
    }
   ],
   "source": [
    "predict_output = model.predict(x)   #Provide array of predicted output\n",
    "predict_output"
   ]
  },
  {
   "cell_type": "markdown",
   "id": "d9692026",
   "metadata": {
    "papermill": {
     "duration": 0.049509,
     "end_time": "2023-01-08T09:36:43.308443",
     "exception": false,
     "start_time": "2023-01-08T09:36:43.258934",
     "status": "completed"
    },
    "tags": []
   },
   "source": [
    "### ROC curve , Threshold & Best score"
   ]
  },
  {
   "cell_type": "code",
   "execution_count": 68,
   "id": "9cb1247f",
   "metadata": {
    "execution": {
     "iopub.execute_input": "2023-01-08T09:36:43.411532Z",
     "iopub.status.busy": "2023-01-08T09:36:43.411024Z",
     "iopub.status.idle": "2023-01-08T09:36:43.689826Z",
     "shell.execute_reply": "2023-01-08T09:36:43.688053Z"
    },
    "papermill": {
     "duration": 0.333366,
     "end_time": "2023-01-08T09:36:43.692499",
     "exception": false,
     "start_time": "2023-01-08T09:36:43.359133",
     "status": "completed"
    },
    "tags": []
   },
   "outputs": [
    {
     "name": "stdout",
     "output_type": "stream",
     "text": [
      "Best Threshold=1.000000, G-Mean=0.872\n"
     ]
    },
    {
     "data": {
      "image/png": "[encoded data removed]",
      "text/plain": [
       "<Figure size 432x288 with 1 Axes>"
      ]
     },
     "metadata": {
      "needs_background": "light"
     },
     "output_type": "display_data"
    }
   ],
   "source": [
    "# roc curve , threshold & best score\n",
    "from numpy import sqrt\n",
    "from numpy import argmax\n",
    "\n",
    "from sklearn.datasets import make_classification\n",
    "from sklearn.metrics import roc_curve\n",
    "\n",
    "# calculate roc curves\n",
    "fpr, tpr, thresholds = roc_curve(y, predict_output)\n",
    "# plot the roc curve for the model\n",
    "\n",
    "# calculate the g-mean for each threshold\n",
    "gmeans = sqrt(tpr * (1-fpr))\n",
    "# locate the index of the largest g-mean\n",
    "ix = argmax(gmeans)\n",
    "print('Best Threshold=%f, G-Mean=%.3f' % (thresholds[ix], gmeans[ix]))\n",
    "\n",
    "# plot the roc curve for the model\n",
    "plt.plot([0,1], [0,1], linestyle='--', label='No Skill')\n",
    "plt.plot(fpr, tpr, marker='.', label='XGBoost')\n",
    "plt.scatter(fpr[ix], tpr[ix], marker='o', color='black', label='Best')\n",
    "# axis labels\n",
    "plt.xlabel('False Positive Rate')\n",
    "plt.ylabel('True Positive Rate')\n",
    "plt.legend()\n",
    "# show the plot\n",
    "plt.show()"
   ]
  },
  {
   "cell_type": "markdown",
   "id": "b70de1af",
   "metadata": {
    "papermill": {
     "duration": 0.048803,
     "end_time": "2023-01-08T09:36:43.789329",
     "exception": false,
     "start_time": "2023-01-08T09:36:43.740526",
     "status": "completed"
    },
    "tags": []
   },
   "source": [
    "# 9. Test Submission"
   ]
  },
  {
   "cell_type": "markdown",
   "id": "f0b0ab9a",
   "metadata": {
    "papermill": {
     "duration": 0.048881,
     "end_time": "2023-01-08T09:36:43.887402",
     "exception": false,
     "start_time": "2023-01-08T09:36:43.838521",
     "status": "completed"
    },
    "tags": []
   },
   "source": [
    "Reprocessing the best possible steps  on the test data set to find out the prediction for submission"
   ]
  },
  {
   "cell_type": "code",
   "execution_count": 69,
   "id": "e436ebeb",
   "metadata": {
    "execution": {
     "iopub.execute_input": "2023-01-08T09:36:43.990875Z",
     "iopub.status.busy": "2023-01-08T09:36:43.990136Z",
     "iopub.status.idle": "2023-01-08T09:36:44.008098Z",
     "shell.execute_reply": "2023-01-08T09:36:44.006860Z"
    },
    "papermill": {
     "duration": 0.072231,
     "end_time": "2023-01-08T09:36:44.010858",
     "exception": false,
     "start_time": "2023-01-08T09:36:43.938627",
     "status": "completed"
    },
    "tags": []
   },
   "outputs": [
    {
     "data": {
      "text/html": [
       "<div>\n",
       "<style scoped>\n",
       "    .dataframe tbody tr th:only-of-type {\n",
       "        vertical-align: middle;\n",
       "    }\n",
       "\n",
       "    .dataframe tbody tr th {\n",
       "        vertical-align: top;\n",
       "    }\n",
       "\n",
       "    .dataframe thead th {\n",
       "        text-align: right;\n",
       "    }\n",
       "</style>\n",
       "<table border=\"1\" class=\"dataframe\">\n",
       "  <thead>\n",
       "    <tr style=\"text-align: right;\">\n",
       "      <th></th>\n",
       "      <th>PassengerId</th>\n",
       "      <th>Pclass</th>\n",
       "      <th>Name</th>\n",
       "      <th>Sex</th>\n",
       "      <th>Age</th>\n",
       "      <th>SibSp</th>\n",
       "      <th>Parch</th>\n",
       "      <th>Ticket</th>\n",
       "      <th>Fare</th>\n",
       "      <th>Cabin</th>\n",
       "      <th>Embarked</th>\n",
       "    </tr>\n",
       "  </thead>\n",
       "  <tbody>\n",
       "    <tr>\n",
       "      <th>0</th>\n",
       "      <td>892</td>\n",
       "      <td>3</td>\n",
       "      <td>Kelly, Mr. James</td>\n",
       "      <td>male</td>\n",
       "      <td>34.5</td>\n",
       "      <td>0</td>\n",
       "      <td>0</td>\n",
       "      <td>330911</td>\n",
       "      <td>7.8292</td>\n",
       "      <td>NaN</td>\n",
       "      <td>Q</td>\n",
       "    </tr>\n",
       "    <tr>\n",
       "      <th>1</th>\n",
       "      <td>893</td>\n",
       "      <td>3</td>\n",
       "      <td>Wilkes, Mrs. James (Ellen Needs)</td>\n",
       "      <td>female</td>\n",
       "      <td>47.0</td>\n",
       "      <td>1</td>\n",
       "      <td>0</td>\n",
       "      <td>363272</td>\n",
       "      <td>7.0000</td>\n",
       "      <td>NaN</td>\n",
       "      <td>S</td>\n",
       "    </tr>\n",
       "    <tr>\n",
       "      <th>2</th>\n",
       "      <td>894</td>\n",
       "      <td>2</td>\n",
       "      <td>Myles, Mr. Thomas Francis</td>\n",
       "      <td>male</td>\n",
       "      <td>62.0</td>\n",
       "      <td>0</td>\n",
       "      <td>0</td>\n",
       "      <td>240276</td>\n",
       "      <td>9.6875</td>\n",
       "      <td>NaN</td>\n",
       "      <td>Q</td>\n",
       "    </tr>\n",
       "    <tr>\n",
       "      <th>3</th>\n",
       "      <td>895</td>\n",
       "      <td>3</td>\n",
       "      <td>Wirz, Mr. Albert</td>\n",
       "      <td>male</td>\n",
       "      <td>27.0</td>\n",
       "      <td>0</td>\n",
       "      <td>0</td>\n",
       "      <td>315154</td>\n",
       "      <td>8.6625</td>\n",
       "      <td>NaN</td>\n",
       "      <td>S</td>\n",
       "    </tr>\n",
       "    <tr>\n",
       "      <th>4</th>\n",
       "      <td>896</td>\n",
       "      <td>3</td>\n",
       "      <td>Hirvonen, Mrs. Alexander (Helga E Lindqvist)</td>\n",
       "      <td>female</td>\n",
       "      <td>22.0</td>\n",
       "      <td>1</td>\n",
       "      <td>1</td>\n",
       "      <td>3101298</td>\n",
       "      <td>12.2875</td>\n",
       "      <td>NaN</td>\n",
       "      <td>S</td>\n",
       "    </tr>\n",
       "  </tbody>\n",
       "</table>\n",
       "</div>"
      ],
      "text/plain": [
       "   PassengerId  Pclass                                          Name     Sex  \\\n",
       "0          892       3                              Kelly, Mr. James    male   \n",
       "1          893       3              Wilkes, Mrs. James (Ellen Needs)  female   \n",
       "2          894       2                     Myles, Mr. Thomas Francis    male   \n",
       "3          895       3                              Wirz, Mr. Albert    male   \n",
       "4          896       3  Hirvonen, Mrs. Alexander (Helga E Lindqvist)  female   \n",
       "\n",
       "    Age  SibSp  Parch   Ticket     Fare Cabin Embarked  \n",
       "0  34.5      0      0   330911   7.8292   NaN        Q  \n",
       "1  47.0      1      0   363272   7.0000   NaN        S  \n",
       "2  62.0      0      0   240276   9.6875   NaN        Q  \n",
       "3  27.0      0      0   315154   8.6625   NaN        S  \n",
       "4  22.0      1      1  3101298  12.2875   NaN        S  "
      ]
     },
     "execution_count": 69,
     "metadata": {},
     "output_type": "execute_result"
    }
   ],
   "source": [
    "test.head()"
   ]
  },
  {
   "cell_type": "code",
   "execution_count": 70,
   "id": "31fdbdc4",
   "metadata": {
    "execution": {
     "iopub.execute_input": "2023-01-08T09:36:44.117434Z",
     "iopub.status.busy": "2023-01-08T09:36:44.116541Z",
     "iopub.status.idle": "2023-01-08T09:36:44.132962Z",
     "shell.execute_reply": "2023-01-08T09:36:44.131487Z"
    },
    "papermill": {
     "duration": 0.070281,
     "end_time": "2023-01-08T09:36:44.135717",
     "exception": false,
     "start_time": "2023-01-08T09:36:44.065436",
     "status": "completed"
    },
    "tags": []
   },
   "outputs": [
    {
     "name": "stdout",
     "output_type": "stream",
     "text": [
      "<class 'pandas.core.frame.DataFrame'>\n",
      "RangeIndex: 418 entries, 0 to 417\n",
      "Data columns (total 11 columns):\n",
      " #   Column       Non-Null Count  Dtype  \n",
      "---  ------       --------------  -----  \n",
      " 0   PassengerId  418 non-null    int64  \n",
      " 1   Pclass       418 non-null    int64  \n",
      " 2   Name         418 non-null    object \n",
      " 3   Sex          418 non-null    object \n",
      " 4   Age          332 non-null    float64\n",
      " 5   SibSp        418 non-null    int64  \n",
      " 6   Parch        418 non-null    int64  \n",
      " 7   Ticket       418 non-null    object \n",
      " 8   Fare         417 non-null    float64\n",
      " 9   Cabin        91 non-null     object \n",
      " 10  Embarked     418 non-null    object \n",
      "dtypes: float64(2), int64(4), object(5)\n",
      "memory usage: 36.0+ KB\n"
     ]
    }
   ],
   "source": [
    "test.info()"
   ]
  },
  {
   "cell_type": "code",
   "execution_count": 71,
   "id": "11dd1abe",
   "metadata": {
    "execution": {
     "iopub.execute_input": "2023-01-08T09:36:44.234921Z",
     "iopub.status.busy": "2023-01-08T09:36:44.234443Z",
     "iopub.status.idle": "2023-01-08T09:36:44.242207Z",
     "shell.execute_reply": "2023-01-08T09:36:44.240819Z"
    },
    "papermill": {
     "duration": 0.06109,
     "end_time": "2023-01-08T09:36:44.245303",
     "exception": false,
     "start_time": "2023-01-08T09:36:44.184213",
     "status": "completed"
    },
    "tags": []
   },
   "outputs": [
    {
     "name": "stdout",
     "output_type": "stream",
     "text": [
      "0                                Kelly, Mr. James\n",
      "1                Wilkes, Mrs. James (Ellen Needs)\n",
      "2                       Myles, Mr. Thomas Francis\n",
      "3                                Wirz, Mr. Albert\n",
      "4    Hirvonen, Mrs. Alexander (Helga E Lindqvist)\n",
      "Name: Name, dtype: object\n"
     ]
    }
   ],
   "source": [
    "print(test[\"Name\"].head())"
   ]
  },
  {
   "cell_type": "code",
   "execution_count": 72,
   "id": "5891b94c",
   "metadata": {
    "execution": {
     "iopub.execute_input": "2023-01-08T09:36:44.347449Z",
     "iopub.status.busy": "2023-01-08T09:36:44.346912Z",
     "iopub.status.idle": "2023-01-08T09:36:44.359619Z",
     "shell.execute_reply": "2023-01-08T09:36:44.358018Z"
    },
    "papermill": {
     "duration": 0.066057,
     "end_time": "2023-01-08T09:36:44.362880",
     "exception": false,
     "start_time": "2023-01-08T09:36:44.296823",
     "status": "completed"
    },
    "tags": []
   },
   "outputs": [
    {
     "name": "stdout",
     "output_type": "stream",
     "text": [
      "0      1\n",
      "1      5\n",
      "2      1\n",
      "3      1\n",
      "4      5\n",
      "      ..\n",
      "413    1\n",
      "414    2\n",
      "415    1\n",
      "416    1\n",
      "417    3\n",
      "Name: title, Length: 418, dtype: int64\n"
     ]
    }
   ],
   "source": [
    "# Splitting based on Title\n",
    "def get_title(name):\n",
    "    if \".\" in name:\n",
    "        return name.split(\",\")[1].split(\".\")[0].strip()\n",
    "    else:\n",
    "        return \"Unknown\"\n",
    "\n",
    "def title_map(title):\n",
    "    if title in [\"Mr\"]:\n",
    "        return 1\n",
    "    elif title in [\"Master\"]:\n",
    "        return 3\n",
    "    elif title in [\"Ms\", \"Mlle\", \"Miss\"]:\n",
    "        return 4\n",
    "    elif title in [\"Mme\",\"Mrs\"]:\n",
    "        return 5\n",
    "    else:\n",
    "        return 2\n",
    "\n",
    "test[\"title\"] = test[\"Name\"].apply(get_title).apply(title_map)\n",
    "print(test[\"title\"])"
   ]
  },
  {
   "cell_type": "code",
   "execution_count": 73,
   "id": "0d570ea6",
   "metadata": {
    "execution": {
     "iopub.execute_input": "2023-01-08T09:36:44.465843Z",
     "iopub.status.busy": "2023-01-08T09:36:44.465371Z",
     "iopub.status.idle": "2023-01-08T09:36:44.474625Z",
     "shell.execute_reply": "2023-01-08T09:36:44.473291Z"
    },
    "papermill": {
     "duration": 0.062308,
     "end_time": "2023-01-08T09:36:44.477127",
     "exception": false,
     "start_time": "2023-01-08T09:36:44.414819",
     "status": "completed"
    },
    "tags": []
   },
   "outputs": [
    {
     "name": "stdout",
     "output_type": "stream",
     "text": [
      "0      False\n",
      "1      False\n",
      "2      False\n",
      "3      False\n",
      "4      False\n",
      "       ...  \n",
      "413    False\n",
      "414     True\n",
      "415    False\n",
      "416    False\n",
      "417    False\n",
      "Name: Fare, Length: 418, dtype: bool\n"
     ]
    }
   ],
   "source": [
    "mf = test[\"Fare\"].mean()\n",
    "test[\"Fare\"] = test[\"Fare\"]>mf\n",
    "print(test[\"Fare\"])"
   ]
  },
  {
   "cell_type": "code",
   "execution_count": 74,
   "id": "c5b9070d",
   "metadata": {
    "execution": {
     "iopub.execute_input": "2023-01-08T09:36:44.577443Z",
     "iopub.status.busy": "2023-01-08T09:36:44.576690Z",
     "iopub.status.idle": "2023-01-08T09:36:44.595571Z",
     "shell.execute_reply": "2023-01-08T09:36:44.593746Z"
    },
    "papermill": {
     "duration": 0.072596,
     "end_time": "2023-01-08T09:36:44.598374",
     "exception": false,
     "start_time": "2023-01-08T09:36:44.525778",
     "status": "completed"
    },
    "tags": []
   },
   "outputs": [
    {
     "name": "stdout",
     "output_type": "stream",
     "text": [
      "<class 'pandas.core.frame.DataFrame'>\n",
      "RangeIndex: 418 entries, 0 to 417\n",
      "Data columns (total 10 columns):\n",
      " #   Column       Non-Null Count  Dtype  \n",
      "---  ------       --------------  -----  \n",
      " 0   PassengerId  418 non-null    int64  \n",
      " 1   Pclass       418 non-null    int64  \n",
      " 2   Sex          418 non-null    object \n",
      " 3   Age          332 non-null    float64\n",
      " 4   SibSp        418 non-null    int64  \n",
      " 5   Parch        418 non-null    int64  \n",
      " 6   Fare         418 non-null    bool   \n",
      " 7   Cabin        91 non-null     object \n",
      " 8   Embarked     418 non-null    object \n",
      " 9   title        418 non-null    int64  \n",
      "dtypes: bool(1), float64(1), int64(5), object(3)\n",
      "memory usage: 29.9+ KB\n"
     ]
    }
   ],
   "source": [
    "test = test.drop([\"Name\",\"Ticket\"], axis=\"columns\")\n",
    "test.info()"
   ]
  },
  {
   "cell_type": "code",
   "execution_count": 75,
   "id": "aeab8d74",
   "metadata": {
    "execution": {
     "iopub.execute_input": "2023-01-08T09:36:44.702200Z",
     "iopub.status.busy": "2023-01-08T09:36:44.701792Z",
     "iopub.status.idle": "2023-01-08T09:36:44.720111Z",
     "shell.execute_reply": "2023-01-08T09:36:44.717844Z"
    },
    "papermill": {
     "duration": 0.07408,
     "end_time": "2023-01-08T09:36:44.723668",
     "exception": false,
     "start_time": "2023-01-08T09:36:44.649588",
     "status": "completed"
    },
    "tags": []
   },
   "outputs": [
    {
     "name": "stdout",
     "output_type": "stream",
     "text": [
      "<class 'pandas.core.frame.DataFrame'>\n",
      "RangeIndex: 418 entries, 0 to 417\n",
      "Data columns (total 10 columns):\n",
      " #   Column       Non-Null Count  Dtype  \n",
      "---  ------       --------------  -----  \n",
      " 0   PassengerId  418 non-null    int64  \n",
      " 1   Pclass       418 non-null    int64  \n",
      " 2   Sex          418 non-null    int64  \n",
      " 3   Age          332 non-null    float64\n",
      " 4   SibSp        418 non-null    int64  \n",
      " 5   Parch        418 non-null    int64  \n",
      " 6   Fare         418 non-null    bool   \n",
      " 7   Cabin        91 non-null     object \n",
      " 8   Embarked     418 non-null    object \n",
      " 9   title        418 non-null    int64  \n",
      "dtypes: bool(1), float64(1), int64(6), object(2)\n",
      "memory usage: 29.9+ KB\n"
     ]
    }
   ],
   "source": [
    "test[\"Sex\"] = test[\"Sex\"].replace([\"male\", \"female\"],[0,1])\n",
    "test.info()"
   ]
  },
  {
   "cell_type": "code",
   "execution_count": 76,
   "id": "d017e26b",
   "metadata": {
    "execution": {
     "iopub.execute_input": "2023-01-08T09:36:44.825432Z",
     "iopub.status.busy": "2023-01-08T09:36:44.824579Z",
     "iopub.status.idle": "2023-01-08T09:36:44.840610Z",
     "shell.execute_reply": "2023-01-08T09:36:44.838768Z"
    },
    "papermill": {
     "duration": 0.070166,
     "end_time": "2023-01-08T09:36:44.843814",
     "exception": false,
     "start_time": "2023-01-08T09:36:44.773648",
     "status": "completed"
    },
    "tags": []
   },
   "outputs": [
    {
     "name": "stdout",
     "output_type": "stream",
     "text": [
      "<class 'pandas.core.frame.DataFrame'>\n",
      "RangeIndex: 418 entries, 0 to 417\n",
      "Data columns (total 10 columns):\n",
      " #   Column       Non-Null Count  Dtype  \n",
      "---  ------       --------------  -----  \n",
      " 0   PassengerId  418 non-null    int64  \n",
      " 1   Pclass       418 non-null    int64  \n",
      " 2   Sex          418 non-null    int64  \n",
      " 3   Age          332 non-null    float64\n",
      " 4   SibSp        418 non-null    int64  \n",
      " 5   Parch        418 non-null    int64  \n",
      " 6   Fare         418 non-null    bool   \n",
      " 7   Cabin        418 non-null    bool   \n",
      " 8   Embarked     418 non-null    object \n",
      " 9   title        418 non-null    int64  \n",
      "dtypes: bool(2), float64(1), int64(6), object(1)\n",
      "memory usage: 27.1+ KB\n"
     ]
    }
   ],
   "source": [
    "test[\"Cabin\"] = test[\"Cabin\"].isna()\n",
    "test.info()"
   ]
  },
  {
   "cell_type": "code",
   "execution_count": 77,
   "id": "4e9abaec",
   "metadata": {
    "execution": {
     "iopub.execute_input": "2023-01-08T09:36:44.946314Z",
     "iopub.status.busy": "2023-01-08T09:36:44.945896Z",
     "iopub.status.idle": "2023-01-08T09:36:44.959586Z",
     "shell.execute_reply": "2023-01-08T09:36:44.958174Z"
    },
    "papermill": {
     "duration": 0.069635,
     "end_time": "2023-01-08T09:36:44.962616",
     "exception": false,
     "start_time": "2023-01-08T09:36:44.892981",
     "status": "completed"
    },
    "tags": []
   },
   "outputs": [
    {
     "name": "stdout",
     "output_type": "stream",
     "text": [
      "title\n",
      "1    32.000000\n",
      "2    43.833333\n",
      "3     7.406471\n",
      "4    21.774844\n",
      "5    38.903226\n",
      "Name: Age, dtype: float64\n"
     ]
    }
   ],
   "source": [
    "# Incase of taking mean age of all title, we can take mean age for a particular title only\n",
    "print(test.groupby(\"title\").Age.mean())\n",
    "\n",
    "test[\"Age\"][test[\"title\"]==3]=7\n",
    "\n",
    "mage = test.Age.mean()\n",
    "test.Age = test.Age.fillna(mage)"
   ]
  },
  {
   "cell_type": "code",
   "execution_count": 78,
   "id": "46eb731f",
   "metadata": {
    "execution": {
     "iopub.execute_input": "2023-01-08T09:36:45.074157Z",
     "iopub.status.busy": "2023-01-08T09:36:45.073230Z",
     "iopub.status.idle": "2023-01-08T09:36:45.099702Z",
     "shell.execute_reply": "2023-01-08T09:36:45.097882Z"
    },
    "papermill": {
     "duration": 0.088558,
     "end_time": "2023-01-08T09:36:45.103305",
     "exception": false,
     "start_time": "2023-01-08T09:36:45.014747",
     "status": "completed"
    },
    "tags": []
   },
   "outputs": [
    {
     "name": "stdout",
     "output_type": "stream",
     "text": [
      "<class 'pandas.core.frame.DataFrame'>\n",
      "RangeIndex: 418 entries, 0 to 417\n",
      "Data columns (total 12 columns):\n",
      " #   Column       Non-Null Count  Dtype  \n",
      "---  ------       --------------  -----  \n",
      " 0   PassengerId  418 non-null    int64  \n",
      " 1   Pclass       418 non-null    int64  \n",
      " 2   Sex          418 non-null    int64  \n",
      " 3   Age          418 non-null    float64\n",
      " 4   SibSp        418 non-null    int64  \n",
      " 5   Parch        418 non-null    int64  \n",
      " 6   Fare         418 non-null    bool   \n",
      " 7   Cabin        418 non-null    bool   \n",
      " 8   title        418 non-null    int64  \n",
      " 9   Embarked_C   418 non-null    uint8  \n",
      " 10  Embarked_Q   418 non-null    uint8  \n",
      " 11  Embarked_S   418 non-null    uint8  \n",
      "dtypes: bool(2), float64(1), int64(6), uint8(3)\n",
      "memory usage: 25.0 KB\n"
     ]
    }
   ],
   "source": [
    "test = pd.get_dummies(test)\n",
    "test.info()"
   ]
  },
  {
   "cell_type": "code",
   "execution_count": 79,
   "id": "0e550b71",
   "metadata": {
    "execution": {
     "iopub.execute_input": "2023-01-08T09:36:45.219643Z",
     "iopub.status.busy": "2023-01-08T09:36:45.218348Z",
     "iopub.status.idle": "2023-01-08T09:36:45.236016Z",
     "shell.execute_reply": "2023-01-08T09:36:45.234556Z"
    },
    "papermill": {
     "duration": 0.074846,
     "end_time": "2023-01-08T09:36:45.238802",
     "exception": false,
     "start_time": "2023-01-08T09:36:45.163956",
     "status": "completed"
    },
    "tags": []
   },
   "outputs": [
    {
     "data": {
      "text/html": [
       "<div>\n",
       "<style scoped>\n",
       "    .dataframe tbody tr th:only-of-type {\n",
       "        vertical-align: middle;\n",
       "    }\n",
       "\n",
       "    .dataframe tbody tr th {\n",
       "        vertical-align: top;\n",
       "    }\n",
       "\n",
       "    .dataframe thead th {\n",
       "        text-align: right;\n",
       "    }\n",
       "</style>\n",
       "<table border=\"1\" class=\"dataframe\">\n",
       "  <thead>\n",
       "    <tr style=\"text-align: right;\">\n",
       "      <th></th>\n",
       "      <th>PassengerId</th>\n",
       "      <th>Pclass</th>\n",
       "      <th>Sex</th>\n",
       "      <th>Age</th>\n",
       "      <th>SibSp</th>\n",
       "      <th>Parch</th>\n",
       "      <th>Fare</th>\n",
       "      <th>Cabin</th>\n",
       "      <th>title</th>\n",
       "      <th>Embarked_C</th>\n",
       "      <th>Embarked_Q</th>\n",
       "      <th>Embarked_S</th>\n",
       "    </tr>\n",
       "  </thead>\n",
       "  <tbody>\n",
       "    <tr>\n",
       "      <th>0</th>\n",
       "      <td>892</td>\n",
       "      <td>3</td>\n",
       "      <td>0</td>\n",
       "      <td>34.5</td>\n",
       "      <td>0</td>\n",
       "      <td>0</td>\n",
       "      <td>False</td>\n",
       "      <td>True</td>\n",
       "      <td>1</td>\n",
       "      <td>0</td>\n",
       "      <td>1</td>\n",
       "      <td>0</td>\n",
       "    </tr>\n",
       "    <tr>\n",
       "      <th>1</th>\n",
       "      <td>893</td>\n",
       "      <td>3</td>\n",
       "      <td>1</td>\n",
       "      <td>47.0</td>\n",
       "      <td>1</td>\n",
       "      <td>0</td>\n",
       "      <td>False</td>\n",
       "      <td>True</td>\n",
       "      <td>5</td>\n",
       "      <td>0</td>\n",
       "      <td>0</td>\n",
       "      <td>1</td>\n",
       "    </tr>\n",
       "    <tr>\n",
       "      <th>2</th>\n",
       "      <td>894</td>\n",
       "      <td>2</td>\n",
       "      <td>0</td>\n",
       "      <td>62.0</td>\n",
       "      <td>0</td>\n",
       "      <td>0</td>\n",
       "      <td>False</td>\n",
       "      <td>True</td>\n",
       "      <td>1</td>\n",
       "      <td>0</td>\n",
       "      <td>1</td>\n",
       "      <td>0</td>\n",
       "    </tr>\n",
       "    <tr>\n",
       "      <th>3</th>\n",
       "      <td>895</td>\n",
       "      <td>3</td>\n",
       "      <td>0</td>\n",
       "      <td>27.0</td>\n",
       "      <td>0</td>\n",
       "      <td>0</td>\n",
       "      <td>False</td>\n",
       "      <td>True</td>\n",
       "      <td>1</td>\n",
       "      <td>0</td>\n",
       "      <td>0</td>\n",
       "      <td>1</td>\n",
       "    </tr>\n",
       "    <tr>\n",
       "      <th>4</th>\n",
       "      <td>896</td>\n",
       "      <td>3</td>\n",
       "      <td>1</td>\n",
       "      <td>22.0</td>\n",
       "      <td>1</td>\n",
       "      <td>1</td>\n",
       "      <td>False</td>\n",
       "      <td>True</td>\n",
       "      <td>5</td>\n",
       "      <td>0</td>\n",
       "      <td>0</td>\n",
       "      <td>1</td>\n",
       "    </tr>\n",
       "  </tbody>\n",
       "</table>\n",
       "</div>"
      ],
      "text/plain": [
       "   PassengerId  Pclass  Sex   Age  SibSp  Parch   Fare  Cabin  title  \\\n",
       "0          892       3    0  34.5      0      0  False   True      1   \n",
       "1          893       3    1  47.0      1      0  False   True      5   \n",
       "2          894       2    0  62.0      0      0  False   True      1   \n",
       "3          895       3    0  27.0      0      0  False   True      1   \n",
       "4          896       3    1  22.0      1      1  False   True      5   \n",
       "\n",
       "   Embarked_C  Embarked_Q  Embarked_S  \n",
       "0           0           1           0  \n",
       "1           0           0           1  \n",
       "2           0           1           0  \n",
       "3           0           0           1  \n",
       "4           0           0           1  "
      ]
     },
     "execution_count": 79,
     "metadata": {},
     "output_type": "execute_result"
    }
   ],
   "source": [
    "test.head()"
   ]
  },
  {
   "cell_type": "code",
   "execution_count": 80,
   "id": "de2aa379",
   "metadata": {
    "execution": {
     "iopub.execute_input": "2023-01-08T09:36:45.343414Z",
     "iopub.status.busy": "2023-01-08T09:36:45.342955Z",
     "iopub.status.idle": "2023-01-08T09:36:45.353382Z",
     "shell.execute_reply": "2023-01-08T09:36:45.352115Z"
    },
    "papermill": {
     "duration": 0.065121,
     "end_time": "2023-01-08T09:36:45.355862",
     "exception": false,
     "start_time": "2023-01-08T09:36:45.290741",
     "status": "completed"
    },
    "tags": []
   },
   "outputs": [
    {
     "data": {
      "text/plain": [
       "((891, 11), (891,), (418, 11))"
      ]
     },
     "execution_count": 80,
     "metadata": {},
     "output_type": "execute_result"
    }
   ],
   "source": [
    "x_test  = test.drop(\"PassengerId\", axis=1).copy()\n",
    "x.shape, y.shape, x_test.shape"
   ]
  },
  {
   "cell_type": "code",
   "execution_count": 81,
   "id": "15602a03",
   "metadata": {
    "execution": {
     "iopub.execute_input": "2023-01-08T09:36:45.458537Z",
     "iopub.status.busy": "2023-01-08T09:36:45.457547Z",
     "iopub.status.idle": "2023-01-08T09:36:45.465214Z",
     "shell.execute_reply": "2023-01-08T09:36:45.463976Z"
    },
    "papermill": {
     "duration": 0.060745,
     "end_time": "2023-01-08T09:36:45.467471",
     "exception": false,
     "start_time": "2023-01-08T09:36:45.406726",
     "status": "completed"
    },
    "tags": []
   },
   "outputs": [
    {
     "data": {
      "text/plain": [
       "((891, 11), (418, 12), (418, 11))"
      ]
     },
     "execution_count": 81,
     "metadata": {},
     "output_type": "execute_result"
    }
   ],
   "source": [
    "df.shape, test.shape, x_test.shape"
   ]
  },
  {
   "cell_type": "markdown",
   "id": "33536fde",
   "metadata": {
    "papermill": {
     "duration": 0.051651,
     "end_time": "2023-01-08T09:36:45.569546",
     "exception": false,
     "start_time": "2023-01-08T09:36:45.517895",
     "status": "completed"
    },
    "tags": []
   },
   "source": [
    "### Using the model with best accuracy "
   ]
  },
  {
   "cell_type": "code",
   "execution_count": 82,
   "id": "1b09cab9",
   "metadata": {
    "execution": {
     "iopub.execute_input": "2023-01-08T09:36:45.674239Z",
     "iopub.status.busy": "2023-01-08T09:36:45.673809Z",
     "iopub.status.idle": "2023-01-08T09:36:45.680230Z",
     "shell.execute_reply": "2023-01-08T09:36:45.679350Z"
    },
    "papermill": {
     "duration": 0.061154,
     "end_time": "2023-01-08T09:36:45.682387",
     "exception": false,
     "start_time": "2023-01-08T09:36:45.621233",
     "status": "completed"
    },
    "tags": []
   },
   "outputs": [],
   "source": [
    "model = XGBClassifier(eta=0.09090909090909091, \n",
    "                      max_depth=6, \n",
    "                      min_child_weight=1, \n",
    "                      gama=0.2, \n",
    "                      subsample=0.9, \n",
    "                      colsample_bytree=0.73, \n",
    "                      reg_alpha=0.005)"
   ]
  },
  {
   "cell_type": "code",
   "execution_count": 83,
   "id": "1eee977c",
   "metadata": {
    "execution": {
     "iopub.execute_input": "2023-01-08T09:36:45.783875Z",
     "iopub.status.busy": "2023-01-08T09:36:45.782802Z",
     "iopub.status.idle": "2023-01-08T09:36:46.125727Z",
     "shell.execute_reply": "2023-01-08T09:36:46.124551Z"
    },
    "papermill": {
     "duration": 0.399233,
     "end_time": "2023-01-08T09:36:46.130795",
     "exception": false,
     "start_time": "2023-01-08T09:36:45.731562",
     "status": "completed"
    },
    "tags": []
   },
   "outputs": [
    {
     "name": "stdout",
     "output_type": "stream",
     "text": [
      "[09:36:45] WARNING: ../src/learner.cc:627: \n",
      "Parameters: { \"gama\" } might not be used.\n",
      "\n",
      "  This could be a false alarm, with some parameters getting used by language bindings but\n",
      "  then being mistakenly passed down to XGBoost core, or some parameter actually being used\n",
      "  but getting flagged wrongly here. Please open an issue if you find any such cases.\n",
      "\n",
      "\n",
      "0.8933782267115601\n",
      "Survived 157\n",
      "Not Survived 261\n"
     ]
    }
   ],
   "source": [
    "model.fit(x, y)\n",
    "print(model.score(x, y))\n",
    "\n",
    "y_pred = model.predict(x_test)\n",
    "\n",
    "print(\"Survived\", sum(y_pred!=0))\n",
    "print(\"Not Survived\", sum(y_pred==0))"
   ]
  },
  {
   "cell_type": "markdown",
   "id": "8b1608d4",
   "metadata": {
    "papermill": {
     "duration": 0.050171,
     "end_time": "2023-01-08T09:36:46.232724",
     "exception": false,
     "start_time": "2023-01-08T09:36:46.182553",
     "status": "completed"
    },
    "tags": []
   },
   "source": [
    "## Submission"
   ]
  },
  {
   "cell_type": "code",
   "execution_count": 84,
   "id": "f8cb51bc",
   "metadata": {
    "execution": {
     "iopub.execute_input": "2023-01-08T09:36:46.334097Z",
     "iopub.status.busy": "2023-01-08T09:36:46.333659Z",
     "iopub.status.idle": "2023-01-08T09:36:46.350377Z",
     "shell.execute_reply": "2023-01-08T09:36:46.349216Z"
    },
    "papermill": {
     "duration": 0.070327,
     "end_time": "2023-01-08T09:36:46.352954",
     "exception": false,
     "start_time": "2023-01-08T09:36:46.282627",
     "status": "completed"
    },
    "tags": []
   },
   "outputs": [
    {
     "data": {
      "text/html": [
       "<div>\n",
       "<style scoped>\n",
       "    .dataframe tbody tr th:only-of-type {\n",
       "        vertical-align: middle;\n",
       "    }\n",
       "\n",
       "    .dataframe tbody tr th {\n",
       "        vertical-align: top;\n",
       "    }\n",
       "\n",
       "    .dataframe thead th {\n",
       "        text-align: right;\n",
       "    }\n",
       "</style>\n",
       "<table border=\"1\" class=\"dataframe\">\n",
       "  <thead>\n",
       "    <tr style=\"text-align: right;\">\n",
       "      <th></th>\n",
       "      <th>PassengerId</th>\n",
       "      <th>Survived</th>\n",
       "    </tr>\n",
       "  </thead>\n",
       "  <tbody>\n",
       "    <tr>\n",
       "      <th>0</th>\n",
       "      <td>892</td>\n",
       "      <td>0</td>\n",
       "    </tr>\n",
       "    <tr>\n",
       "      <th>1</th>\n",
       "      <td>893</td>\n",
       "      <td>0</td>\n",
       "    </tr>\n",
       "    <tr>\n",
       "      <th>2</th>\n",
       "      <td>894</td>\n",
       "      <td>0</td>\n",
       "    </tr>\n",
       "    <tr>\n",
       "      <th>3</th>\n",
       "      <td>895</td>\n",
       "      <td>0</td>\n",
       "    </tr>\n",
       "    <tr>\n",
       "      <th>4</th>\n",
       "      <td>896</td>\n",
       "      <td>1</td>\n",
       "    </tr>\n",
       "    <tr>\n",
       "      <th>...</th>\n",
       "      <td>...</td>\n",
       "      <td>...</td>\n",
       "    </tr>\n",
       "    <tr>\n",
       "      <th>413</th>\n",
       "      <td>1305</td>\n",
       "      <td>0</td>\n",
       "    </tr>\n",
       "    <tr>\n",
       "      <th>414</th>\n",
       "      <td>1306</td>\n",
       "      <td>1</td>\n",
       "    </tr>\n",
       "    <tr>\n",
       "      <th>415</th>\n",
       "      <td>1307</td>\n",
       "      <td>0</td>\n",
       "    </tr>\n",
       "    <tr>\n",
       "      <th>416</th>\n",
       "      <td>1308</td>\n",
       "      <td>0</td>\n",
       "    </tr>\n",
       "    <tr>\n",
       "      <th>417</th>\n",
       "      <td>1309</td>\n",
       "      <td>1</td>\n",
       "    </tr>\n",
       "  </tbody>\n",
       "</table>\n",
       "<p>418 rows × 2 columns</p>\n",
       "</div>"
      ],
      "text/plain": [
       "     PassengerId  Survived\n",
       "0            892         0\n",
       "1            893         0\n",
       "2            894         0\n",
       "3            895         0\n",
       "4            896         1\n",
       "..           ...       ...\n",
       "413         1305         0\n",
       "414         1306         1\n",
       "415         1307         0\n",
       "416         1308         0\n",
       "417         1309         1\n",
       "\n",
       "[418 rows x 2 columns]"
      ]
     },
     "execution_count": 84,
     "metadata": {},
     "output_type": "execute_result"
    }
   ],
   "source": [
    "submission = pd.DataFrame({\n",
    "        \"PassengerId\": test[\"PassengerId\"],\n",
    "        \"Survived\": y_pred\n",
    "    })\n",
    "\n",
    "submission.to_csv('submission.csv', index=False)\n",
    "\n",
    "submission"
   ]
  },
  {
   "cell_type": "markdown",
   "id": "7f620902",
   "metadata": {
    "papermill": {
     "duration": 0.050137,
     "end_time": "2023-01-08T09:36:46.453323",
     "exception": false,
     "start_time": "2023-01-08T09:36:46.403186",
     "status": "completed"
    },
    "tags": []
   },
   "source": [
    "<h4 align=\"center\">**************** The End ****************</h4>"
   ]
  },
  {
   "cell_type": "markdown",
   "id": "aecc6224",
   "metadata": {
    "papermill": {
     "duration": 0.050787,
     "end_time": "2023-01-08T09:36:46.556026",
     "exception": false,
     "start_time": "2023-01-08T09:36:46.505239",
     "status": "completed"
    },
    "tags": []
   },
   "source": [
    "## Related Projects❓ 👨‍💻 🛰️\n",
    "\n",
    "<code>[Spotify Data Analysis using Python](https://github.com/mrankitgupta/Spotify-Data-Analysis-using-Python)</code> 📊\n",
    "\n",
    "<code>[Data Analyst Roadmap](https://github.com/mrankitgupta/Data-Analyst-Roadmap)</code> ⌛\n",
    "\n",
    "<code>[Statistics for Data Science using Python](https://github.com/mrankitgupta/Statistics-for-Data-Science-using-Python)</code> 📊\n",
    "\n",
    "<code>[Sales Insights - Data Analysis using Tableau & SQL](https://github.com/mrankitgupta/Sales-Insights-Data-Analysis-using-Tableau-and-SQL)</code> 📊\n",
    " \n",
    "<code>[Kaggle - Pandas Solved Exercises](https://github.com/mrankitgupta/Kaggle-Pandas-Solved-Exercises)</code> 📊\n",
    " \n",
    "<code>[Python Lessons](https://github.com/mrankitgupta/PythonLessons)</code> 📑\n",
    " \n",
    "<code>[Python Libraries for Data Science](https://github.com/mrankitgupta/PythonLibraries)</code> 🗂️\n"
   ]
  },
  {
   "cell_type": "markdown",
   "id": "616f48de",
   "metadata": {
    "papermill": {
     "duration": 0.051686,
     "end_time": "2023-01-08T09:36:46.658587",
     "exception": false,
     "start_time": "2023-01-08T09:36:46.606901",
     "status": "completed"
    },
    "tags": []
   },
   "source": [
    "### Liked my Contributions❓ Follow Me👉 [Kaggle](https://www.kaggle.com/MrAnkitGupta) and [GitHub](https://github.com/MrAnkitGupta)\n",
    "\n",
    "[Nominate Me for GitHub Stars](https://stars.github.com/nominate/) ⭐ ✨"
   ]
  },
  {
   "cell_type": "markdown",
   "id": "7d2cdedf",
   "metadata": {
    "papermill": {
     "duration": 0.049015,
     "end_time": "2023-01-08T09:36:46.758835",
     "exception": false,
     "start_time": "2023-01-08T09:36:46.709820",
     "status": "completed"
    },
    "tags": []
   },
   "source": [
    "## For any queries/doubts 🔗 👇 \n",
    "\n",
    "### [Ankit Gupta](https://bio.link/AnkitGupta)\n",
    "<p align=\"left\"> <a href=\"https://twitter.com/MrAnkitGupta_/\" target=\"blank\"><img src=\"https://img.shields.io/twitter/follow/MrAnkitGupta_?logo=twitter&style=for-the-badge\" alt=\"MrAnkitGupta_\" /></a> </p>\n",
    "\n",
    "<a href=\"https://www.linkedin.com/in/mrankitgupta\" target=\"blank\"><img align=\"center\" src=\"https://img.shields.io/badge/-MrAnkitGupta-blue?style=flat-square&logo=Linkedin&logoColor=white&link=https://www.linkedin.com/in/mrankitgupta/\" alt=\"MrAnkitGupta\" height=\"20\" width=\"100\" /></a>\n",
    "<a href=\"https://www.instagram.com/MrAnkitGupta_\" target=\"blank\"><img align=\"center\" src=\"https://img.shields.io/badge/-@MrAnkitGupta_-D7008A?style=flat-square&labelColor=D7008A&logo=Instagram&logoColor=white&link=https://www.instagram.com/MrAnkitGupta_\" alt=\"MrAnkitGupta_\" height=\"20\" width=\"110\" /></a>\n",
    "<a href=\"https://bio.link/AnkitGupta\" target=\"blank\"><img align=\"center\" src=\"https://img.shields.io/badge/website-000000?style=for-the-badge&logo=About.me&logoColor=white&link=https://bio.link/AnkitGupta\" alt=\"AnkitGupta\" height=\"20\" width=\"90\" /></a>\n",
    "<a href=\"https://github.com/mrankitgupta/\" target=\"blank\"><img align=\"center\" src=\"https://img.shields.io/github/followers/mrankitgupta?label=Follow&style=social&link=https://github.com/mrankitgupta/\" alt=\"MrAnkitGupta\" height=\"20\" width=\"90\" /></a>\n",
    "<a href=\"https://kaggle.com/mrankitgupta\" target=\"blank\"><img align=\"center\" src=\"https://raw.githubusercontent.com/rahuldkjain/github-profile-readme-generator/master/src/images/icons/Social/kaggle.svg\" alt=\"mrankitgupta\" height=\"20\" width=\"18\" /></a>[aggle](https://kaggle.com/mrankitgupta)"
   ]
  }
 ],
 "metadata": {
  "kernelspec": {
   "display_name": "Python 3",
   "language": "python",
   "name": "python3"
  },
  "language_info": {
   "codemirror_mode": {
    "name": "ipython",
    "version": 3
   },
   "file_extension": ".py",
   "mimetype": "text/x-python",
   "name": "python",
   "nbconvert_exporter": "python",
   "pygments_lexer": "ipython3",
   "version": "3.7.12"
  },
  "papermill": {
   "default_parameters": {},
   "duration": 177.277124,
   "end_time": "2023-01-08T09:36:47.734649",
   "environment_variables": {},
   "exception": null,
   "input_path": "__notebook__.ipynb",
   "output_path": "__notebook__.ipynb",
   "parameters": {},
   "start_time": "2023-01-08T09:33:50.457525",
   "version": "2.3.4"
  }
 },
 "nbformat": 4,
 "nbformat_minor": 5
}
