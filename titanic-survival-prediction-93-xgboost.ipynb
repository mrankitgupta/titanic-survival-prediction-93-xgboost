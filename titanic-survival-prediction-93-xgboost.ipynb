{
 "cells": [
  {
   "cell_type": "markdown",
   "id": "d5359ae0",
   "metadata": {
    "papermill": {
     "duration": 0.028395,
     "end_time": "2023-01-08T10:51:12.863622",
     "exception": false,
     "start_time": "2023-01-08T10:51:12.835227",
     "status": "completed"
    },
    "tags": []
   },
   "source": [
    "# **Titanic Survival Prediction: Machine Learning Model** 🛳️\n",
    "## **Best results : 93% accuracy**\n",
    "## **ML Models used:** XGBoost, Random Forest, Logistic Regression"
   ]
  },
  {
   "cell_type": "markdown",
   "id": "7d4cc743",
   "metadata": {
    "papermill": {
     "duration": 0.025609,
     "end_time": "2023-01-08T10:51:12.915290",
     "exception": false,
     "start_time": "2023-01-08T10:51:12.889681",
     "status": "completed"
    },
    "tags": []
   },
   "source": [
    "## By - **[Ankit Gupta](https://bio.link/AnkitGupta)**"
   ]
  },
  {
   "cell_type": "markdown",
   "id": "34df0f58",
   "metadata": {
    "papermill": {
     "duration": 0.025498,
     "end_time": "2023-01-08T10:51:12.968169",
     "exception": false,
     "start_time": "2023-01-08T10:51:12.942671",
     "status": "completed"
    },
    "tags": []
   },
   "source": [
    "### **Titanic Survival Prediction Project** 🛳️\n",
    "\n",
    "In this notebook, The goal is to correctly predict if someone survived the Titanic shipwreck using different Machine Learning Model & Hyperparameter tunning."
   ]
  },
  {
   "cell_type": "markdown",
   "id": "be0d4e31",
   "metadata": {
    "papermill": {
     "duration": 0.025426,
     "end_time": "2023-01-08T10:51:13.019708",
     "exception": false,
     "start_time": "2023-01-08T10:51:12.994282",
     "status": "completed"
    },
    "tags": []
   },
   "source": [
    "### **Prerequisites:** \n",
    "<code>[Data Analyst Roadmap](https://github.com/mrankitgupta/Data-Analyst-Roadmap)</code> ⌛\n",
    "\n",
    "<code>[Python Lessons](https://github.com/mrankitgupta/PythonLessons)</code> 📑\n",
    "\n",
    "<code>[Python Libraries for Data Science](https://github.com/mrankitgupta/PythonLibraries)</code> 🗂️"
   ]
  },
  {
   "cell_type": "markdown",
   "id": "c7ce3d16",
   "metadata": {
    "papermill": {
     "duration": 0.027633,
     "end_time": "2023-01-08T10:51:13.074584",
     "exception": false,
     "start_time": "2023-01-08T10:51:13.046951",
     "status": "completed"
    },
    "tags": []
   },
   "source": [
    "### **Overview**\n",
    "\n",
    "1. **Understand the shape of the data (Histograms, box plots, etc.)**\n",
    "\n",
    "1. **Data Cleaning**\n",
    "\n",
    "1. **Data Exploration**\n",
    "\n",
    "1. **Feature Engineering**\n",
    "\n",
    "1. **Data Preprocessing for Model**\n",
    "\n",
    "1. **Basic Model Building**\n",
    "\n",
    "1. **Model Tuning**\n",
    "\n",
    "1. **Ensemble Modle Building**\n",
    "\n",
    "1. **Results**"
   ]
  },
  {
   "cell_type": "markdown",
   "id": "34ca69a1",
   "metadata": {
    "papermill": {
     "duration": 0.026621,
     "end_time": "2023-01-08T10:51:13.127342",
     "exception": false,
     "start_time": "2023-01-08T10:51:13.100721",
     "status": "completed"
    },
    "tags": []
   },
   "source": [
    "## **Workflow stages**"
   ]
  },
  {
   "cell_type": "markdown",
   "id": "459d21e7",
   "metadata": {
    "papermill": {
     "duration": 0.025564,
     "end_time": "2023-01-08T10:51:13.178851",
     "exception": false,
     "start_time": "2023-01-08T10:51:13.153287",
     "status": "completed"
    },
    "tags": []
   },
   "source": [
    "The competition solution workflow goes through seven stages described in the Data Science Solutions book.\n",
    "\n",
    "1. Question or problem definition.\n",
    "1. Acquire training and testing data.\n",
    "1. Wrangle, prepare, cleanse the data.\n",
    "1. Analyze, identify patterns, and explore the data.\n",
    "1. Model, predict and solve the problem.\n",
    "1. Visualize, report, and present the problem solving steps and final solution.\n",
    "1. Supply or submit the results."
   ]
  },
  {
   "cell_type": "markdown",
   "id": "4f7c87fd",
   "metadata": {
    "papermill": {
     "duration": 0.025458,
     "end_time": "2023-01-08T10:51:13.230140",
     "exception": false,
     "start_time": "2023-01-08T10:51:13.204682",
     "status": "completed"
    },
    "tags": []
   },
   "source": [
    "## **About the Project & problem definition** 🛳️"
   ]
  },
  {
   "cell_type": "markdown",
   "id": "da17daa6",
   "metadata": {
    "papermill": {
     "duration": 0.025339,
     "end_time": "2023-01-08T10:51:13.281409",
     "exception": false,
     "start_time": "2023-01-08T10:51:13.256070",
     "status": "completed"
    },
    "tags": []
   },
   "source": [
    "Competition sites like Kaggle define the problem to solve or questions to ask while providing the datasets for training your data science model and testing the model results against a test dataset. The question or problem definition for Titanic Survival competition is [described here at Kaggle](https://www.kaggle.com/c/titanic).\n",
    "\n",
    "Knowing from a training set of samples listing passengers who survived or did not survive the Titanic disaster, can our model determine based on a given test dataset not containing the survival information, if these passengers in the test dataset survived or not.\n",
    "\n",
    "We may also want to develop some early understanding about the domain of our problem. This is described on the [Kaggle competition description page here](https://www.kaggle.com/c/titanic). Here are the highlights to note.\n",
    "\n",
    "On April 15, 1912, during her maiden voyage, the Titanic sank after colliding with an iceberg, killing 1502 out of 2224 passengers and crew. Translated 32% survival rate.\n",
    "One of the reasons that the shipwreck led to such loss of life was that there were not enough lifeboats for the passengers and crew.\n",
    "Although there was some element of luck involved in surviving the sinking, some groups of people were more likely to survive than others, such as women, children, and the upper-class."
   ]
  },
  {
   "cell_type": "markdown",
   "id": "60a4a6b3",
   "metadata": {
    "papermill": {
     "duration": 0.02521,
     "end_time": "2023-01-08T10:51:13.332383",
     "exception": false,
     "start_time": "2023-01-08T10:51:13.307173",
     "status": "completed"
    },
    "tags": []
   },
   "source": [
    "## Technologies used ⚙️\n",
    "\n",
    "* <a href=\"https://github.com/mrankitgupta/Python-Lessons\">Python</a> <a href=\"https://github.com/mrankitgupta/Python-Lessons\" target=\"_blank\"> <img src=\"https://raw.githubusercontent.com/devicons/devicon/master/icons/python/python-original.svg\" alt=\"python\" width=\"25\" height=\"20\"/> </a>\n",
    "\n",
    "* <a href=\"https://github.com/mrankitgupta/Statistics-for-Data-Science-using-Python\">Statistics</a><a href=\"https://github.com/mrankitgupta/Statistics-for-Data-Science-using-Python\" target=\"_blank\" rel=\"noreferrer\"> <img src=\"https://raw.githubusercontent.com/mrankitgupta/66DaysOfData/c8c040f1c85d921db317152567f331354446286a/statistics-21.svg\" alt=\"Statistics\" width=\"25\" height=\"25\"/> </a>  \n",
    "\n",
    "* <a href=\"https://www.kaggle.com/mrankitgupta/titanic-survival-prediction-92-74-xgboost\">Jupyter</a> <a href=\"https://jupyter.org/\" target=\"_blank\" rel=\"noreferrer\"> <img src=\"https://raw.githubusercontent.com/mrankitgupta/mrankitgupta/0f1555f2d778eaaf7bc2c59bb42b3a13b9a27cee/images/icons8-jupyter.svg\" alt=\"jupyter\" width=\"25\" height=\"25\"/> </a>\n",
    "\n",
    "##### Python Libraries : \n",
    "* <a href=\"https://github.com/mrankitgupta/Kaggle-Pandas-Solved-Exercises\">Pandas</a><a href=\"https://github.com/mrankitgupta/Kaggle-Pandas-Solved-Exercises\" target=\"_blank\" rel=\"noreferrer\"> <img src=\"https://raw.githubusercontent.com/devicons/devicon/2ae2a900d2f041da66e950e4d48052658d850630/icons/pandas/pandas-original.svg\" alt=\"pandas\" width=\"25\" height=\"20\"/> </a> |  <a href=\"https://numpy.org/\">NumPy</a><a href=\"https://numpy.org/\" target=\"_blank\" rel=\"noreferrer\"> <img src=\"https://raw.githubusercontent.com/mrankitgupta/mrankitgupta/2a582d085b324cff4917325112229027309ecae3/Numpy-logo.svg\" alt=\"numpy\" width=\"25\" height=\"20\"/> </a> |  <a href=\"https://matplotlib.org/\">Matplotlib</a><a href=\"https://matplotlib.org/\" target=\"_blank\" rel=\"noreferrer\"> <img src=\"https://raw.githubusercontent.com/mrankitgupta/mrankitgupta/1331979c3208a15be2c2a6177ffc38ced3d6b434/Matplotlib_icon.svg\" alt=\"matplotlib\" width=\"25\" height=\"20\"/> </a> |  <a href=\"https://seaborn.pydata.org\">Seaborn</a><a href=\"https://seaborn.pydata.org\" target=\"_blank\" rel=\"noreferrer\"> <img src=\"https://seaborn.pydata.org/_images/logo-mark-lightbg.svg\" alt=\"Seaborn\" width=\"25\" height=\"20\"/> </a>  | \n",
    "\n",
    "* <a href=\"https://scikit-learn.org/\">Scikit-Learn</a> <a href=\"https://scikit-learn.org/\" target=\"_blank\"> <img src=\"https://upload.wikimedia.org/wikipedia/commons/0/05/Scikit_learn_logo_small.svg\" alt=\"scikit_learn\" width=\"40\" height=\"40\"/>  | <a href=\"https://xgboost.readthedocs.io/en/stable/\">XGBoost</a> <a href=\"https://xgboost.readthedocs.io/en/stable/\" target=\"_blank\"> <img src=\"https://raw.githubusercontent.com/mrankitgupta/mrankitgupta/9f33e6e4da32dfc8aad7dd2d290ac64e0836394b/images/xgboost_logo.svg\" alt=\"XGBoost\" width=\"40\" height=\"40\"/>"
   ]
  },
  {
   "cell_type": "markdown",
   "id": "ac00fd77",
   "metadata": {
    "papermill": {
     "duration": 0.02545,
     "end_time": "2023-01-08T10:51:13.383379",
     "exception": false,
     "start_time": "2023-01-08T10:51:13.357929",
     "status": "completed"
    },
    "tags": []
   },
   "source": [
    "### Project\n",
    "\n",
    "**Kaggle Project: [Titanic Survival Prediction](https://www.kaggle.com/mrankitgupta/titanic-survival-prediction-93-xgboost)** 🛳️ 🔗\n",
    "\n",
    "### Datasets \n",
    "\n",
    "Kaggle Titanic Datasets: <code>[Titanic Train](https://www.kaggle.com/competitions/titanic/data?select=train.csv)</code> & <code>[Titanic Test](https://www.kaggle.com/competitions/titanic/data?select=test.csv)</code>  "
   ]
  },
  {
   "cell_type": "code",
   "execution_count": 1,
   "id": "3793dcf6",
   "metadata": {
    "execution": {
     "iopub.execute_input": "2023-01-08T10:51:13.438154Z",
     "iopub.status.busy": "2023-01-08T10:51:13.436378Z",
     "iopub.status.idle": "2023-01-08T10:51:14.617274Z",
     "shell.execute_reply": "2023-01-08T10:51:14.615807Z"
    },
    "papermill": {
     "duration": 1.212444,
     "end_time": "2023-01-08T10:51:14.621519",
     "exception": false,
     "start_time": "2023-01-08T10:51:13.409075",
     "status": "completed"
    },
    "tags": []
   },
   "outputs": [
    {
     "name": "stdout",
     "output_type": "stream",
     "text": [
      "/kaggle/input/titanic/train.csv\n",
      "/kaggle/input/titanic/test.csv\n",
      "/kaggle/input/titanic/gender_submission.csv\n"
     ]
    }
   ],
   "source": [
    "# This Python 3 environment comes with many helpful analytics libraries installed\n",
    "# It is defined by the kaggle/python Docker image: https://github.com/kaggle/docker-python\n",
    "# For example, here's several helpful packages to load\n",
    "\n",
    "import numpy as np # linear algebra\n",
    "import pandas as pd # data processing, CSV file I/O (e.g. pd.read_csv)\n",
    "import seaborn as sns \n",
    "import matplotlib.pyplot as plt\n",
    "# Input data files are available in the read-only \"../input/\" directory\n",
    "# For example, running this (by clicking run or pressing Shift+Enter) will list all files under the input directory\n",
    "\n",
    "import os\n",
    "for dirname, _, filenames in os.walk('/kaggle/input'):\n",
    "    for filename in filenames:\n",
    "        print(os.path.join(dirname, filename))\n",
    "        \n",
    "        \n",
    "# You can write up to 5GB to the current directory (/kaggle/working/) that gets preserved as output when you create a version using \"Save & Run All\" \n",
    "# You can also write temporary files to /kaggle/temp/, but they won't be saved outside of the current session"
   ]
  },
  {
   "cell_type": "markdown",
   "id": "44d24dd5",
   "metadata": {
    "papermill": {
     "duration": 0.027112,
     "end_time": "2023-01-08T10:51:14.678183",
     "exception": false,
     "start_time": "2023-01-08T10:51:14.651071",
     "status": "completed"
    },
    "tags": []
   },
   "source": [
    "# 1. Importing Library & Data"
   ]
  },
  {
   "cell_type": "code",
   "execution_count": 2,
   "id": "7174dbef",
   "metadata": {
    "execution": {
     "iopub.execute_input": "2023-01-08T10:51:14.734802Z",
     "iopub.status.busy": "2023-01-08T10:51:14.734310Z",
     "iopub.status.idle": "2023-01-08T10:51:15.933370Z",
     "shell.execute_reply": "2023-01-08T10:51:15.932070Z"
    },
    "papermill": {
     "duration": 1.231515,
     "end_time": "2023-01-08T10:51:15.936650",
     "exception": false,
     "start_time": "2023-01-08T10:51:14.705135",
     "status": "completed"
    },
    "tags": []
   },
   "outputs": [],
   "source": [
    "import pandas as pd\n",
    "import numpy as np\n",
    "import matplotlib.pyplot as plt\n",
    "import seaborn as sns\n",
    "import statsmodels.api as sm\n",
    "from sklearn.linear_model import LogisticRegression\n",
    "from sklearn.ensemble import RandomForestClassifier\n",
    "from sklearn.metrics import accuracy_score\n",
    "from sklearn.metrics import confusion_matrix\n",
    "from sklearn.metrics import classification_report\n",
    "from sklearn.model_selection import train_test_split\n",
    "from sklearn.model_selection import RandomizedSearchCV, GridSearchCV\n",
    "from xgboost import XGBClassifier\n",
    "from xgboost import plot_importance\n",
    "\n",
    "import warnings\n",
    "warnings.filterwarnings('ignore')"
   ]
  },
  {
   "cell_type": "markdown",
   "id": "f509a277",
   "metadata": {
    "papermill": {
     "duration": 0.029539,
     "end_time": "2023-01-08T10:51:15.993550",
     "exception": false,
     "start_time": "2023-01-08T10:51:15.964011",
     "status": "completed"
    },
    "tags": []
   },
   "source": [
    "Here we import the data. For this analysis, we will be exclusively working with the Training set. We will be validating based on data from the training set as well. For our final submissions, we will make predictions based on the test set."
   ]
  },
  {
   "cell_type": "markdown",
   "id": "c9e42e8d",
   "metadata": {
    "papermill": {
     "duration": 0.026369,
     "end_time": "2023-01-08T10:51:16.048255",
     "exception": false,
     "start_time": "2023-01-08T10:51:16.021886",
     "status": "completed"
    },
    "tags": []
   },
   "source": [
    "## Acquire data"
   ]
  },
  {
   "cell_type": "code",
   "execution_count": 3,
   "id": "aba4aba4",
   "metadata": {
    "execution": {
     "iopub.execute_input": "2023-01-08T10:51:16.106266Z",
     "iopub.status.busy": "2023-01-08T10:51:16.105804Z",
     "iopub.status.idle": "2023-01-08T10:51:16.159361Z",
     "shell.execute_reply": "2023-01-08T10:51:16.158165Z"
    },
    "papermill": {
     "duration": 0.085463,
     "end_time": "2023-01-08T10:51:16.162125",
     "exception": false,
     "start_time": "2023-01-08T10:51:16.076662",
     "status": "completed"
    },
    "tags": []
   },
   "outputs": [
    {
     "data": {
      "text/html": [
       "<div>\n",
       "<style scoped>\n",
       "    .dataframe tbody tr th:only-of-type {\n",
       "        vertical-align: middle;\n",
       "    }\n",
       "\n",
       "    .dataframe tbody tr th {\n",
       "        vertical-align: top;\n",
       "    }\n",
       "\n",
       "    .dataframe thead th {\n",
       "        text-align: right;\n",
       "    }\n",
       "</style>\n",
       "<table border=\"1\" class=\"dataframe\">\n",
       "  <thead>\n",
       "    <tr style=\"text-align: right;\">\n",
       "      <th></th>\n",
       "      <th>PassengerId</th>\n",
       "      <th>Survived</th>\n",
       "      <th>Pclass</th>\n",
       "      <th>Name</th>\n",
       "      <th>Sex</th>\n",
       "      <th>Age</th>\n",
       "      <th>SibSp</th>\n",
       "      <th>Parch</th>\n",
       "      <th>Ticket</th>\n",
       "      <th>Fare</th>\n",
       "      <th>Cabin</th>\n",
       "      <th>Embarked</th>\n",
       "    </tr>\n",
       "  </thead>\n",
       "  <tbody>\n",
       "    <tr>\n",
       "      <th>0</th>\n",
       "      <td>1</td>\n",
       "      <td>0</td>\n",
       "      <td>3</td>\n",
       "      <td>Braund, Mr. Owen Harris</td>\n",
       "      <td>male</td>\n",
       "      <td>22.0</td>\n",
       "      <td>1</td>\n",
       "      <td>0</td>\n",
       "      <td>A/5 21171</td>\n",
       "      <td>7.2500</td>\n",
       "      <td>NaN</td>\n",
       "      <td>S</td>\n",
       "    </tr>\n",
       "    <tr>\n",
       "      <th>1</th>\n",
       "      <td>2</td>\n",
       "      <td>1</td>\n",
       "      <td>1</td>\n",
       "      <td>Cumings, Mrs. John Bradley (Florence Briggs Th...</td>\n",
       "      <td>female</td>\n",
       "      <td>38.0</td>\n",
       "      <td>1</td>\n",
       "      <td>0</td>\n",
       "      <td>PC 17599</td>\n",
       "      <td>71.2833</td>\n",
       "      <td>C85</td>\n",
       "      <td>C</td>\n",
       "    </tr>\n",
       "    <tr>\n",
       "      <th>2</th>\n",
       "      <td>3</td>\n",
       "      <td>1</td>\n",
       "      <td>3</td>\n",
       "      <td>Heikkinen, Miss. Laina</td>\n",
       "      <td>female</td>\n",
       "      <td>26.0</td>\n",
       "      <td>0</td>\n",
       "      <td>0</td>\n",
       "      <td>STON/O2. 3101282</td>\n",
       "      <td>7.9250</td>\n",
       "      <td>NaN</td>\n",
       "      <td>S</td>\n",
       "    </tr>\n",
       "    <tr>\n",
       "      <th>3</th>\n",
       "      <td>4</td>\n",
       "      <td>1</td>\n",
       "      <td>1</td>\n",
       "      <td>Futrelle, Mrs. Jacques Heath (Lily May Peel)</td>\n",
       "      <td>female</td>\n",
       "      <td>35.0</td>\n",
       "      <td>1</td>\n",
       "      <td>0</td>\n",
       "      <td>113803</td>\n",
       "      <td>53.1000</td>\n",
       "      <td>C123</td>\n",
       "      <td>S</td>\n",
       "    </tr>\n",
       "    <tr>\n",
       "      <th>4</th>\n",
       "      <td>5</td>\n",
       "      <td>0</td>\n",
       "      <td>3</td>\n",
       "      <td>Allen, Mr. William Henry</td>\n",
       "      <td>male</td>\n",
       "      <td>35.0</td>\n",
       "      <td>0</td>\n",
       "      <td>0</td>\n",
       "      <td>373450</td>\n",
       "      <td>8.0500</td>\n",
       "      <td>NaN</td>\n",
       "      <td>S</td>\n",
       "    </tr>\n",
       "  </tbody>\n",
       "</table>\n",
       "</div>"
      ],
      "text/plain": [
       "   PassengerId  Survived  Pclass  \\\n",
       "0            1         0       3   \n",
       "1            2         1       1   \n",
       "2            3         1       3   \n",
       "3            4         1       1   \n",
       "4            5         0       3   \n",
       "\n",
       "                                                Name     Sex   Age  SibSp  \\\n",
       "0                            Braund, Mr. Owen Harris    male  22.0      1   \n",
       "1  Cumings, Mrs. John Bradley (Florence Briggs Th...  female  38.0      1   \n",
       "2                             Heikkinen, Miss. Laina  female  26.0      0   \n",
       "3       Futrelle, Mrs. Jacques Heath (Lily May Peel)  female  35.0      1   \n",
       "4                           Allen, Mr. William Henry    male  35.0      0   \n",
       "\n",
       "   Parch            Ticket     Fare Cabin Embarked  \n",
       "0      0         A/5 21171   7.2500   NaN        S  \n",
       "1      0          PC 17599  71.2833   C85        C  \n",
       "2      0  STON/O2. 3101282   7.9250   NaN        S  \n",
       "3      0            113803  53.1000  C123        S  \n",
       "4      0            373450   8.0500   NaN        S  "
      ]
     },
     "execution_count": 3,
     "metadata": {},
     "output_type": "execute_result"
    }
   ],
   "source": [
    "train = pd.read_csv(\"/kaggle/input/titanic/train.csv\")\n",
    "test = pd.read_csv('/kaggle/input/titanic/test.csv')\n",
    "train.head()"
   ]
  },
  {
   "cell_type": "code",
   "execution_count": 4,
   "id": "ff13f670",
   "metadata": {
    "execution": {
     "iopub.execute_input": "2023-01-08T10:51:16.217439Z",
     "iopub.status.busy": "2023-01-08T10:51:16.216299Z",
     "iopub.status.idle": "2023-01-08T10:51:16.233168Z",
     "shell.execute_reply": "2023-01-08T10:51:16.231757Z"
    },
    "papermill": {
     "duration": 0.047149,
     "end_time": "2023-01-08T10:51:16.235960",
     "exception": false,
     "start_time": "2023-01-08T10:51:16.188811",
     "status": "completed"
    },
    "tags": []
   },
   "outputs": [
    {
     "data": {
      "text/html": [
       "<div>\n",
       "<style scoped>\n",
       "    .dataframe tbody tr th:only-of-type {\n",
       "        vertical-align: middle;\n",
       "    }\n",
       "\n",
       "    .dataframe tbody tr th {\n",
       "        vertical-align: top;\n",
       "    }\n",
       "\n",
       "    .dataframe thead th {\n",
       "        text-align: right;\n",
       "    }\n",
       "</style>\n",
       "<table border=\"1\" class=\"dataframe\">\n",
       "  <thead>\n",
       "    <tr style=\"text-align: right;\">\n",
       "      <th></th>\n",
       "      <th>PassengerId</th>\n",
       "      <th>Pclass</th>\n",
       "      <th>Name</th>\n",
       "      <th>Sex</th>\n",
       "      <th>Age</th>\n",
       "      <th>SibSp</th>\n",
       "      <th>Parch</th>\n",
       "      <th>Ticket</th>\n",
       "      <th>Fare</th>\n",
       "      <th>Cabin</th>\n",
       "      <th>Embarked</th>\n",
       "    </tr>\n",
       "  </thead>\n",
       "  <tbody>\n",
       "    <tr>\n",
       "      <th>0</th>\n",
       "      <td>892</td>\n",
       "      <td>3</td>\n",
       "      <td>Kelly, Mr. James</td>\n",
       "      <td>male</td>\n",
       "      <td>34.5</td>\n",
       "      <td>0</td>\n",
       "      <td>0</td>\n",
       "      <td>330911</td>\n",
       "      <td>7.8292</td>\n",
       "      <td>NaN</td>\n",
       "      <td>Q</td>\n",
       "    </tr>\n",
       "    <tr>\n",
       "      <th>1</th>\n",
       "      <td>893</td>\n",
       "      <td>3</td>\n",
       "      <td>Wilkes, Mrs. James (Ellen Needs)</td>\n",
       "      <td>female</td>\n",
       "      <td>47.0</td>\n",
       "      <td>1</td>\n",
       "      <td>0</td>\n",
       "      <td>363272</td>\n",
       "      <td>7.0000</td>\n",
       "      <td>NaN</td>\n",
       "      <td>S</td>\n",
       "    </tr>\n",
       "    <tr>\n",
       "      <th>2</th>\n",
       "      <td>894</td>\n",
       "      <td>2</td>\n",
       "      <td>Myles, Mr. Thomas Francis</td>\n",
       "      <td>male</td>\n",
       "      <td>62.0</td>\n",
       "      <td>0</td>\n",
       "      <td>0</td>\n",
       "      <td>240276</td>\n",
       "      <td>9.6875</td>\n",
       "      <td>NaN</td>\n",
       "      <td>Q</td>\n",
       "    </tr>\n",
       "    <tr>\n",
       "      <th>3</th>\n",
       "      <td>895</td>\n",
       "      <td>3</td>\n",
       "      <td>Wirz, Mr. Albert</td>\n",
       "      <td>male</td>\n",
       "      <td>27.0</td>\n",
       "      <td>0</td>\n",
       "      <td>0</td>\n",
       "      <td>315154</td>\n",
       "      <td>8.6625</td>\n",
       "      <td>NaN</td>\n",
       "      <td>S</td>\n",
       "    </tr>\n",
       "    <tr>\n",
       "      <th>4</th>\n",
       "      <td>896</td>\n",
       "      <td>3</td>\n",
       "      <td>Hirvonen, Mrs. Alexander (Helga E Lindqvist)</td>\n",
       "      <td>female</td>\n",
       "      <td>22.0</td>\n",
       "      <td>1</td>\n",
       "      <td>1</td>\n",
       "      <td>3101298</td>\n",
       "      <td>12.2875</td>\n",
       "      <td>NaN</td>\n",
       "      <td>S</td>\n",
       "    </tr>\n",
       "  </tbody>\n",
       "</table>\n",
       "</div>"
      ],
      "text/plain": [
       "   PassengerId  Pclass                                          Name     Sex  \\\n",
       "0          892       3                              Kelly, Mr. James    male   \n",
       "1          893       3              Wilkes, Mrs. James (Ellen Needs)  female   \n",
       "2          894       2                     Myles, Mr. Thomas Francis    male   \n",
       "3          895       3                              Wirz, Mr. Albert    male   \n",
       "4          896       3  Hirvonen, Mrs. Alexander (Helga E Lindqvist)  female   \n",
       "\n",
       "    Age  SibSp  Parch   Ticket     Fare Cabin Embarked  \n",
       "0  34.5      0      0   330911   7.8292   NaN        Q  \n",
       "1  47.0      1      0   363272   7.0000   NaN        S  \n",
       "2  62.0      0      0   240276   9.6875   NaN        Q  \n",
       "3  27.0      0      0   315154   8.6625   NaN        S  \n",
       "4  22.0      1      1  3101298  12.2875   NaN        S  "
      ]
     },
     "execution_count": 4,
     "metadata": {},
     "output_type": "execute_result"
    }
   ],
   "source": [
    "test.head()"
   ]
  },
  {
   "cell_type": "code",
   "execution_count": 5,
   "id": "14f13f86",
   "metadata": {
    "execution": {
     "iopub.execute_input": "2023-01-08T10:51:16.292770Z",
     "iopub.status.busy": "2023-01-08T10:51:16.292079Z",
     "iopub.status.idle": "2023-01-08T10:51:16.296177Z",
     "shell.execute_reply": "2023-01-08T10:51:16.295375Z"
    },
    "papermill": {
     "duration": 0.035735,
     "end_time": "2023-01-08T10:51:16.298764",
     "exception": false,
     "start_time": "2023-01-08T10:51:16.263029",
     "status": "completed"
    },
    "tags": []
   },
   "outputs": [],
   "source": [
    "df = train"
   ]
  },
  {
   "cell_type": "markdown",
   "id": "dbec1386",
   "metadata": {
    "papermill": {
     "duration": 0.026951,
     "end_time": "2023-01-08T10:51:16.354081",
     "exception": false,
     "start_time": "2023-01-08T10:51:16.327130",
     "status": "completed"
    },
    "tags": []
   },
   "source": [
    "# 2. Data Exploration"
   ]
  },
  {
   "cell_type": "code",
   "execution_count": 6,
   "id": "914778d0",
   "metadata": {
    "execution": {
     "iopub.execute_input": "2023-01-08T10:51:16.413599Z",
     "iopub.status.busy": "2023-01-08T10:51:16.412986Z",
     "iopub.status.idle": "2023-01-08T10:51:16.436431Z",
     "shell.execute_reply": "2023-01-08T10:51:16.435583Z"
    },
    "papermill": {
     "duration": 0.05612,
     "end_time": "2023-01-08T10:51:16.439593",
     "exception": false,
     "start_time": "2023-01-08T10:51:16.383473",
     "status": "completed"
    },
    "tags": []
   },
   "outputs": [
    {
     "name": "stdout",
     "output_type": "stream",
     "text": [
      "<class 'pandas.core.frame.DataFrame'>\n",
      "RangeIndex: 891 entries, 0 to 890\n",
      "Data columns (total 12 columns):\n",
      " #   Column       Non-Null Count  Dtype  \n",
      "---  ------       --------------  -----  \n",
      " 0   PassengerId  891 non-null    int64  \n",
      " 1   Survived     891 non-null    int64  \n",
      " 2   Pclass       891 non-null    int64  \n",
      " 3   Name         891 non-null    object \n",
      " 4   Sex          891 non-null    object \n",
      " 5   Age          714 non-null    float64\n",
      " 6   SibSp        891 non-null    int64  \n",
      " 7   Parch        891 non-null    int64  \n",
      " 8   Ticket       891 non-null    object \n",
      " 9   Fare         891 non-null    float64\n",
      " 10  Cabin        204 non-null    object \n",
      " 11  Embarked     889 non-null    object \n",
      "dtypes: float64(2), int64(5), object(5)\n",
      "memory usage: 83.7+ KB\n"
     ]
    }
   ],
   "source": [
    "df.info()"
   ]
  },
  {
   "cell_type": "code",
   "execution_count": 7,
   "id": "0ffc69f2",
   "metadata": {
    "execution": {
     "iopub.execute_input": "2023-01-08T10:51:16.496653Z",
     "iopub.status.busy": "2023-01-08T10:51:16.495597Z",
     "iopub.status.idle": "2023-01-08T10:51:16.531429Z",
     "shell.execute_reply": "2023-01-08T10:51:16.530321Z"
    },
    "papermill": {
     "duration": 0.067051,
     "end_time": "2023-01-08T10:51:16.534068",
     "exception": false,
     "start_time": "2023-01-08T10:51:16.467017",
     "status": "completed"
    },
    "tags": []
   },
   "outputs": [
    {
     "data": {
      "text/html": [
       "<div>\n",
       "<style scoped>\n",
       "    .dataframe tbody tr th:only-of-type {\n",
       "        vertical-align: middle;\n",
       "    }\n",
       "\n",
       "    .dataframe tbody tr th {\n",
       "        vertical-align: top;\n",
       "    }\n",
       "\n",
       "    .dataframe thead th {\n",
       "        text-align: right;\n",
       "    }\n",
       "</style>\n",
       "<table border=\"1\" class=\"dataframe\">\n",
       "  <thead>\n",
       "    <tr style=\"text-align: right;\">\n",
       "      <th></th>\n",
       "      <th>PassengerId</th>\n",
       "      <th>Survived</th>\n",
       "      <th>Pclass</th>\n",
       "      <th>Age</th>\n",
       "      <th>SibSp</th>\n",
       "      <th>Parch</th>\n",
       "      <th>Fare</th>\n",
       "    </tr>\n",
       "  </thead>\n",
       "  <tbody>\n",
       "    <tr>\n",
       "      <th>count</th>\n",
       "      <td>891.000000</td>\n",
       "      <td>891.000000</td>\n",
       "      <td>891.000000</td>\n",
       "      <td>714.000000</td>\n",
       "      <td>891.000000</td>\n",
       "      <td>891.000000</td>\n",
       "      <td>891.000000</td>\n",
       "    </tr>\n",
       "    <tr>\n",
       "      <th>mean</th>\n",
       "      <td>446.000000</td>\n",
       "      <td>0.383838</td>\n",
       "      <td>2.308642</td>\n",
       "      <td>29.699118</td>\n",
       "      <td>0.523008</td>\n",
       "      <td>0.381594</td>\n",
       "      <td>32.204208</td>\n",
       "    </tr>\n",
       "    <tr>\n",
       "      <th>std</th>\n",
       "      <td>257.353842</td>\n",
       "      <td>0.486592</td>\n",
       "      <td>0.836071</td>\n",
       "      <td>14.526497</td>\n",
       "      <td>1.102743</td>\n",
       "      <td>0.806057</td>\n",
       "      <td>49.693429</td>\n",
       "    </tr>\n",
       "    <tr>\n",
       "      <th>min</th>\n",
       "      <td>1.000000</td>\n",
       "      <td>0.000000</td>\n",
       "      <td>1.000000</td>\n",
       "      <td>0.420000</td>\n",
       "      <td>0.000000</td>\n",
       "      <td>0.000000</td>\n",
       "      <td>0.000000</td>\n",
       "    </tr>\n",
       "    <tr>\n",
       "      <th>25%</th>\n",
       "      <td>223.500000</td>\n",
       "      <td>0.000000</td>\n",
       "      <td>2.000000</td>\n",
       "      <td>20.125000</td>\n",
       "      <td>0.000000</td>\n",
       "      <td>0.000000</td>\n",
       "      <td>7.910400</td>\n",
       "    </tr>\n",
       "    <tr>\n",
       "      <th>50%</th>\n",
       "      <td>446.000000</td>\n",
       "      <td>0.000000</td>\n",
       "      <td>3.000000</td>\n",
       "      <td>28.000000</td>\n",
       "      <td>0.000000</td>\n",
       "      <td>0.000000</td>\n",
       "      <td>14.454200</td>\n",
       "    </tr>\n",
       "    <tr>\n",
       "      <th>75%</th>\n",
       "      <td>668.500000</td>\n",
       "      <td>1.000000</td>\n",
       "      <td>3.000000</td>\n",
       "      <td>38.000000</td>\n",
       "      <td>1.000000</td>\n",
       "      <td>0.000000</td>\n",
       "      <td>31.000000</td>\n",
       "    </tr>\n",
       "    <tr>\n",
       "      <th>max</th>\n",
       "      <td>891.000000</td>\n",
       "      <td>1.000000</td>\n",
       "      <td>3.000000</td>\n",
       "      <td>80.000000</td>\n",
       "      <td>8.000000</td>\n",
       "      <td>6.000000</td>\n",
       "      <td>512.329200</td>\n",
       "    </tr>\n",
       "  </tbody>\n",
       "</table>\n",
       "</div>"
      ],
      "text/plain": [
       "       PassengerId    Survived      Pclass         Age       SibSp  \\\n",
       "count   891.000000  891.000000  891.000000  714.000000  891.000000   \n",
       "mean    446.000000    0.383838    2.308642   29.699118    0.523008   \n",
       "std     257.353842    0.486592    0.836071   14.526497    1.102743   \n",
       "min       1.000000    0.000000    1.000000    0.420000    0.000000   \n",
       "25%     223.500000    0.000000    2.000000   20.125000    0.000000   \n",
       "50%     446.000000    0.000000    3.000000   28.000000    0.000000   \n",
       "75%     668.500000    1.000000    3.000000   38.000000    1.000000   \n",
       "max     891.000000    1.000000    3.000000   80.000000    8.000000   \n",
       "\n",
       "            Parch        Fare  \n",
       "count  891.000000  891.000000  \n",
       "mean     0.381594   32.204208  \n",
       "std      0.806057   49.693429  \n",
       "min      0.000000    0.000000  \n",
       "25%      0.000000    7.910400  \n",
       "50%      0.000000   14.454200  \n",
       "75%      0.000000   31.000000  \n",
       "max      6.000000  512.329200  "
      ]
     },
     "execution_count": 7,
     "metadata": {},
     "output_type": "execute_result"
    }
   ],
   "source": [
    "df.describe()"
   ]
  },
  {
   "cell_type": "code",
   "execution_count": 8,
   "id": "026be095",
   "metadata": {
    "execution": {
     "iopub.execute_input": "2023-01-08T10:51:16.592198Z",
     "iopub.status.busy": "2023-01-08T10:51:16.591768Z",
     "iopub.status.idle": "2023-01-08T10:51:16.615882Z",
     "shell.execute_reply": "2023-01-08T10:51:16.614596Z"
    },
    "papermill": {
     "duration": 0.056656,
     "end_time": "2023-01-08T10:51:16.618442",
     "exception": false,
     "start_time": "2023-01-08T10:51:16.561786",
     "status": "completed"
    },
    "tags": []
   },
   "outputs": [
    {
     "data": {
      "text/html": [
       "<div>\n",
       "<style scoped>\n",
       "    .dataframe tbody tr th:only-of-type {\n",
       "        vertical-align: middle;\n",
       "    }\n",
       "\n",
       "    .dataframe tbody tr th {\n",
       "        vertical-align: top;\n",
       "    }\n",
       "\n",
       "    .dataframe thead th {\n",
       "        text-align: right;\n",
       "    }\n",
       "</style>\n",
       "<table border=\"1\" class=\"dataframe\">\n",
       "  <thead>\n",
       "    <tr style=\"text-align: right;\">\n",
       "      <th></th>\n",
       "      <th>Name</th>\n",
       "      <th>Sex</th>\n",
       "      <th>Ticket</th>\n",
       "      <th>Cabin</th>\n",
       "      <th>Embarked</th>\n",
       "    </tr>\n",
       "  </thead>\n",
       "  <tbody>\n",
       "    <tr>\n",
       "      <th>count</th>\n",
       "      <td>891</td>\n",
       "      <td>891</td>\n",
       "      <td>891</td>\n",
       "      <td>204</td>\n",
       "      <td>889</td>\n",
       "    </tr>\n",
       "    <tr>\n",
       "      <th>unique</th>\n",
       "      <td>891</td>\n",
       "      <td>2</td>\n",
       "      <td>681</td>\n",
       "      <td>147</td>\n",
       "      <td>3</td>\n",
       "    </tr>\n",
       "    <tr>\n",
       "      <th>top</th>\n",
       "      <td>Braund, Mr. Owen Harris</td>\n",
       "      <td>male</td>\n",
       "      <td>347082</td>\n",
       "      <td>B96 B98</td>\n",
       "      <td>S</td>\n",
       "    </tr>\n",
       "    <tr>\n",
       "      <th>freq</th>\n",
       "      <td>1</td>\n",
       "      <td>577</td>\n",
       "      <td>7</td>\n",
       "      <td>4</td>\n",
       "      <td>644</td>\n",
       "    </tr>\n",
       "  </tbody>\n",
       "</table>\n",
       "</div>"
      ],
      "text/plain": [
       "                           Name   Sex  Ticket    Cabin Embarked\n",
       "count                       891   891     891      204      889\n",
       "unique                      891     2     681      147        3\n",
       "top     Braund, Mr. Owen Harris  male  347082  B96 B98        S\n",
       "freq                          1   577       7        4      644"
      ]
     },
     "execution_count": 8,
     "metadata": {},
     "output_type": "execute_result"
    }
   ],
   "source": [
    "# Describe string\n",
    "df.describe(include=object)"
   ]
  },
  {
   "cell_type": "code",
   "execution_count": 9,
   "id": "ec57499a",
   "metadata": {
    "execution": {
     "iopub.execute_input": "2023-01-08T10:51:16.676341Z",
     "iopub.status.busy": "2023-01-08T10:51:16.675939Z",
     "iopub.status.idle": "2023-01-08T10:51:16.683062Z",
     "shell.execute_reply": "2023-01-08T10:51:16.681835Z"
    },
    "papermill": {
     "duration": 0.040256,
     "end_time": "2023-01-08T10:51:16.686733",
     "exception": false,
     "start_time": "2023-01-08T10:51:16.646477",
     "status": "completed"
    },
    "tags": []
   },
   "outputs": [
    {
     "data": {
      "text/plain": [
       "array(['PassengerId', 'Survived', 'Pclass', 'Name', 'Sex', 'Age', 'SibSp',\n",
       "       'Parch', 'Ticket', 'Fare', 'Cabin', 'Embarked'], dtype=object)"
      ]
     },
     "execution_count": 9,
     "metadata": {},
     "output_type": "execute_result"
    }
   ],
   "source": [
    "df.columns.values"
   ]
  },
  {
   "cell_type": "code",
   "execution_count": 10,
   "id": "d0526271",
   "metadata": {
    "execution": {
     "iopub.execute_input": "2023-01-08T10:51:16.747514Z",
     "iopub.status.busy": "2023-01-08T10:51:16.747070Z",
     "iopub.status.idle": "2023-01-08T10:51:16.763430Z",
     "shell.execute_reply": "2023-01-08T10:51:16.761848Z"
    },
    "papermill": {
     "duration": 0.049916,
     "end_time": "2023-01-08T10:51:16.766355",
     "exception": false,
     "start_time": "2023-01-08T10:51:16.716439",
     "status": "completed"
    },
    "tags": []
   },
   "outputs": [
    {
     "data": {
      "text/plain": [
       "PassengerId    0.002971\n",
       "Pclass         0.129755\n",
       "Age            0.038706\n",
       "SibSp          0.077914\n",
       "Parch          0.170176\n",
       "Fare           0.372661\n",
       "dtype: float64"
      ]
     },
     "execution_count": 10,
     "metadata": {},
     "output_type": "execute_result"
    }
   ],
   "source": [
    "ab = df.groupby(\"Survived\").mean()\n",
    "ab\n",
    "v1 = ab.iloc[0,:]\n",
    "v2 = ab.iloc[1,:]\n",
    "abs((v2-v1)/(v1+v2))"
   ]
  },
  {
   "cell_type": "code",
   "execution_count": 11,
   "id": "4ae9838d",
   "metadata": {
    "execution": {
     "iopub.execute_input": "2023-01-08T10:51:16.825932Z",
     "iopub.status.busy": "2023-01-08T10:51:16.824580Z",
     "iopub.status.idle": "2023-01-08T10:51:17.351007Z",
     "shell.execute_reply": "2023-01-08T10:51:17.349914Z"
    },
    "papermill": {
     "duration": 0.559058,
     "end_time": "2023-01-08T10:51:17.353624",
     "exception": false,
     "start_time": "2023-01-08T10:51:16.794566",
     "status": "completed"
    },
    "tags": []
   },
   "outputs": [
    {
     "data": {
      "text/plain": [
       "<seaborn.axisgrid.FacetGrid at 0x7f3b2d403410>"
      ]
     },
     "execution_count": 11,
     "metadata": {},
     "output_type": "execute_result"
    },
    {
     "data": {
      "image/png": "[encoded data removed]",
      "text/plain": [
       "<Figure size 432x216 with 2 Axes>"
      ]
     },
     "metadata": {
      "needs_background": "light"
     },
     "output_type": "display_data"
    }
   ],
   "source": [
    "g = sns.FacetGrid(df, col='Survived')\n",
    "g.map(plt.hist, 'Age', bins=20)"
   ]
  },
  {
   "cell_type": "code",
   "execution_count": 12,
   "id": "83e6e266",
   "metadata": {
    "execution": {
     "iopub.execute_input": "2023-01-08T10:51:17.410980Z",
     "iopub.status.busy": "2023-01-08T10:51:17.410527Z",
     "iopub.status.idle": "2023-01-08T10:51:19.011928Z",
     "shell.execute_reply": "2023-01-08T10:51:19.010856Z"
    },
    "papermill": {
     "duration": 1.632752,
     "end_time": "2023-01-08T10:51:19.014336",
     "exception": false,
     "start_time": "2023-01-08T10:51:17.381584",
     "status": "completed"
    },
    "tags": []
   },
   "outputs": [
    {
     "data": {
      "image/png": "[encoded data removed]",
      "text/plain": [
       "<Figure size 514.88x475.2 with 6 Axes>"
      ]
     },
     "metadata": {
      "needs_background": "light"
     },
     "output_type": "display_data"
    }
   ],
   "source": [
    "# grid = sns.FacetGrid(df, col='Pclass', hue='Survived')\n",
    "grid = sns.FacetGrid(df, col='Survived', row='Pclass', size=2.2, aspect=1.6)\n",
    "grid.map(plt.hist, 'Age', alpha=.5, bins=20)\n",
    "grid.add_legend();"
   ]
  },
  {
   "cell_type": "code",
   "execution_count": 13,
   "id": "e7e7820f",
   "metadata": {
    "execution": {
     "iopub.execute_input": "2023-01-08T10:51:19.072336Z",
     "iopub.status.busy": "2023-01-08T10:51:19.071936Z",
     "iopub.status.idle": "2023-01-08T10:51:20.314367Z",
     "shell.execute_reply": "2023-01-08T10:51:20.312960Z"
    },
    "papermill": {
     "duration": 1.274693,
     "end_time": "2023-01-08T10:51:20.317303",
     "exception": false,
     "start_time": "2023-01-08T10:51:19.042610",
     "status": "completed"
    },
    "tags": []
   },
   "outputs": [
    {
     "data": {
      "text/plain": [
       "<seaborn.axisgrid.FacetGrid at 0x7f3b16243710>"
      ]
     },
     "execution_count": 13,
     "metadata": {},
     "output_type": "execute_result"
    },
    {
     "data": {
      "image/png": "[encoded data removed]",
      "text/plain": [
       "<Figure size 323.94x475.2 with 3 Axes>"
      ]
     },
     "metadata": {
      "needs_background": "light"
     },
     "output_type": "display_data"
    }
   ],
   "source": [
    "# grid = sns.FacetGrid(df, col='Embarked')\n",
    "grid = sns.FacetGrid(df, row='Embarked', size=2.2, aspect=1.6)\n",
    "grid.map(sns.pointplot, 'Pclass', 'Survived', 'Sex', palette='deep')\n",
    "grid.add_legend()"
   ]
  },
  {
   "cell_type": "code",
   "execution_count": 14,
   "id": "9c82c2de",
   "metadata": {
    "execution": {
     "iopub.execute_input": "2023-01-08T10:51:20.380728Z",
     "iopub.status.busy": "2023-01-08T10:51:20.380235Z",
     "iopub.status.idle": "2023-01-08T10:51:21.455419Z",
     "shell.execute_reply": "2023-01-08T10:51:21.454043Z"
    },
    "papermill": {
     "duration": 1.109662,
     "end_time": "2023-01-08T10:51:21.458135",
     "exception": false,
     "start_time": "2023-01-08T10:51:20.348473",
     "status": "completed"
    },
    "tags": []
   },
   "outputs": [
    {
     "data": {
      "text/plain": [
       "<seaborn.axisgrid.FacetGrid at 0x7f3b1609a190>"
      ]
     },
     "execution_count": 14,
     "metadata": {},
     "output_type": "execute_result"
    },
    {
     "data": {
      "image/png": "[encoded data removed]",
      "text/plain": [
       "<Figure size 514.88x475.2 with 6 Axes>"
      ]
     },
     "metadata": {
      "needs_background": "light"
     },
     "output_type": "display_data"
    }
   ],
   "source": [
    "# grid = sns.FacetGrid(df, col='Embarked', hue='Survived', palette={0: 'k', 1: 'w'})\n",
    "grid = sns.FacetGrid(df, row='Embarked', col='Survived', size=2.2, aspect=1.6)\n",
    "grid.map(sns.barplot, 'Sex', 'Fare', alpha=.5, ci=None)\n",
    "grid.add_legend()"
   ]
  },
  {
   "cell_type": "code",
   "execution_count": 15,
   "id": "1447bd1d",
   "metadata": {
    "execution": {
     "iopub.execute_input": "2023-01-08T10:51:21.520529Z",
     "iopub.status.busy": "2023-01-08T10:51:21.520068Z",
     "iopub.status.idle": "2023-01-08T10:51:22.125108Z",
     "shell.execute_reply": "2023-01-08T10:51:22.124197Z"
    },
    "papermill": {
     "duration": 0.638955,
     "end_time": "2023-01-08T10:51:22.127255",
     "exception": false,
     "start_time": "2023-01-08T10:51:21.488300",
     "status": "completed"
    },
    "tags": []
   },
   "outputs": [
    {
     "data": {
      "text/plain": [
       "<AxesSubplot:>"
      ]
     },
     "execution_count": 15,
     "metadata": {},
     "output_type": "execute_result"
    },
    {
     "data": {
      "image/png": "[encoded data removed]",
      "text/plain": [
       "<Figure size 576x576 with 2 Axes>"
      ]
     },
     "metadata": {
      "needs_background": "light"
     },
     "output_type": "display_data"
    }
   ],
   "source": [
    "corr = df.corr()\n",
    "plt.subplots(figsize=(8,8))\n",
    "sns.heatmap(corr,xticklabels=corr.columns,yticklabels=corr.columns,annot=True)"
   ]
  },
  {
   "cell_type": "markdown",
   "id": "aba4e74d",
   "metadata": {
    "papermill": {
     "duration": 0.029466,
     "end_time": "2023-01-08T10:51:22.189001",
     "exception": false,
     "start_time": "2023-01-08T10:51:22.159535",
     "status": "completed"
    },
    "tags": []
   },
   "source": [
    "# 5 Improving Base Model"
   ]
  },
  {
   "cell_type": "markdown",
   "id": "2017d4a7",
   "metadata": {
    "papermill": {
     "duration": 0.029726,
     "end_time": "2023-01-08T10:51:22.248417",
     "exception": false,
     "start_time": "2023-01-08T10:51:22.218691",
     "status": "completed"
    },
    "tags": []
   },
   "source": [
    "## 5.1 Based on Title (Accuracy = 80.45%)"
   ]
  },
  {
   "cell_type": "code",
   "execution_count": 16,
   "id": "9861c44e",
   "metadata": {
    "execution": {
     "iopub.execute_input": "2023-01-08T10:51:22.310248Z",
     "iopub.status.busy": "2023-01-08T10:51:22.309598Z",
     "iopub.status.idle": "2023-01-08T10:51:22.315487Z",
     "shell.execute_reply": "2023-01-08T10:51:22.314633Z"
    },
    "papermill": {
     "duration": 0.040083,
     "end_time": "2023-01-08T10:51:22.318187",
     "exception": false,
     "start_time": "2023-01-08T10:51:22.278104",
     "status": "completed"
    },
    "tags": []
   },
   "outputs": [
    {
     "name": "stdout",
     "output_type": "stream",
     "text": [
      "0                              Braund, Mr. Owen Harris\n",
      "1    Cumings, Mrs. John Bradley (Florence Briggs Th...\n",
      "2                               Heikkinen, Miss. Laina\n",
      "3         Futrelle, Mrs. Jacques Heath (Lily May Peel)\n",
      "4                             Allen, Mr. William Henry\n",
      "Name: Name, dtype: object\n"
     ]
    }
   ],
   "source": [
    "print(df[\"Name\"].head())"
   ]
  },
  {
   "cell_type": "code",
   "execution_count": 17,
   "id": "6e940514",
   "metadata": {
    "execution": {
     "iopub.execute_input": "2023-01-08T10:51:22.383587Z",
     "iopub.status.busy": "2023-01-08T10:51:22.382973Z",
     "iopub.status.idle": "2023-01-08T10:51:22.395923Z",
     "shell.execute_reply": "2023-01-08T10:51:22.394652Z"
    },
    "papermill": {
     "duration": 0.049245,
     "end_time": "2023-01-08T10:51:22.399185",
     "exception": false,
     "start_time": "2023-01-08T10:51:22.349940",
     "status": "completed"
    },
    "tags": []
   },
   "outputs": [
    {
     "name": "stdout",
     "output_type": "stream",
     "text": [
      "0      1\n",
      "1      5\n",
      "2      4\n",
      "3      5\n",
      "4      1\n",
      "      ..\n",
      "886    2\n",
      "887    4\n",
      "888    4\n",
      "889    1\n",
      "890    1\n",
      "Name: title, Length: 891, dtype: int64\n"
     ]
    }
   ],
   "source": [
    "# Splitting based on Title\n",
    "def get_title(name):\n",
    "    if \".\" in name:\n",
    "        return name.split(\",\")[1].split(\".\")[0].strip()\n",
    "    else:\n",
    "        return \"Unknown\"\n",
    "\n",
    "def title_map(title):\n",
    "    if title in [\"Mr\"]:\n",
    "        return 1\n",
    "    elif title in [\"Master\"]:\n",
    "        return 3\n",
    "    elif title in [\"Ms\", \"Mlle\", \"Miss\"]:\n",
    "        return 4\n",
    "    elif title in [\"Mme\",\"Mrs\"]:\n",
    "        return 5\n",
    "    else:\n",
    "        return 2\n",
    "\n",
    "df[\"title\"] = df[\"Name\"].apply(get_title).apply(title_map)\n",
    "print(df[\"title\"])"
   ]
  },
  {
   "cell_type": "markdown",
   "id": "bbce2640",
   "metadata": {
    "papermill": {
     "duration": 0.029546,
     "end_time": "2023-01-08T10:51:22.459291",
     "exception": false,
     "start_time": "2023-01-08T10:51:22.429745",
     "status": "completed"
    },
    "tags": []
   },
   "source": [
    "## 5.2 Based on Fare"
   ]
  },
  {
   "cell_type": "markdown",
   "id": "d1b0dc48",
   "metadata": {
    "papermill": {
     "duration": 0.029852,
     "end_time": "2023-01-08T10:51:22.519715",
     "exception": false,
     "start_time": "2023-01-08T10:51:22.489863",
     "status": "completed"
    },
    "tags": []
   },
   "source": [
    "### 5.2.1 Based on Mean Fare (Accuracy = 78.77%)"
   ]
  },
  {
   "cell_type": "code",
   "execution_count": 18,
   "id": "3c831952",
   "metadata": {
    "execution": {
     "iopub.execute_input": "2023-01-08T10:51:22.581854Z",
     "iopub.status.busy": "2023-01-08T10:51:22.581413Z",
     "iopub.status.idle": "2023-01-08T10:51:22.590966Z",
     "shell.execute_reply": "2023-01-08T10:51:22.589505Z"
    },
    "papermill": {
     "duration": 0.04383,
     "end_time": "2023-01-08T10:51:22.593502",
     "exception": false,
     "start_time": "2023-01-08T10:51:22.549672",
     "status": "completed"
    },
    "tags": []
   },
   "outputs": [
    {
     "name": "stdout",
     "output_type": "stream",
     "text": [
      "0      False\n",
      "1       True\n",
      "2      False\n",
      "3       True\n",
      "4      False\n",
      "       ...  \n",
      "886    False\n",
      "887    False\n",
      "888    False\n",
      "889    False\n",
      "890    False\n",
      "Name: Fare, Length: 891, dtype: bool\n"
     ]
    }
   ],
   "source": [
    "mf = df[\"Fare\"].mean()\n",
    "df[\"Fare\"] = df[\"Fare\"]>mf\n",
    "print(df[\"Fare\"])"
   ]
  },
  {
   "cell_type": "markdown",
   "id": "db9a563c",
   "metadata": {
    "papermill": {
     "duration": 0.030684,
     "end_time": "2023-01-08T10:51:22.655329",
     "exception": false,
     "start_time": "2023-01-08T10:51:22.624645",
     "status": "completed"
    },
    "tags": []
   },
   "source": [
    "### 5.2.2 Based on Bucketing Fare (Accuracy = 78%)"
   ]
  },
  {
   "cell_type": "code",
   "execution_count": 19,
   "id": "64aae80b",
   "metadata": {
    "execution": {
     "iopub.execute_input": "2023-01-08T10:51:22.718222Z",
     "iopub.status.busy": "2023-01-08T10:51:22.717190Z",
     "iopub.status.idle": "2023-01-08T10:51:22.722181Z",
     "shell.execute_reply": "2023-01-08T10:51:22.721284Z"
    },
    "papermill": {
     "duration": 0.038698,
     "end_time": "2023-01-08T10:51:22.724396",
     "exception": false,
     "start_time": "2023-01-08T10:51:22.685698",
     "status": "completed"
    },
    "tags": []
   },
   "outputs": [],
   "source": [
    "# df.loc[df[\"Fare\"] <=30, \"Fare\"]=0\n",
    "# # df.loc[df[\"Fare\"] > 7.91 & (df[\"Fare\"] <= 14.454), \"Fare\"]=1\n",
    "# # df.loc[df[\"Fare\"] > 14.454 & (df[\"Fare\"] <=31), \"Fare\"] =2\n",
    "# df.loc[df[\"Fare\"]>30, \"Fare\"]=3\n",
    "\n",
    "# # Convert float to int (Performing Bucketing, Fare converts to category)\n",
    "# df[\"Fare\"] = df[\"Fare\"].astype(int)"
   ]
  },
  {
   "cell_type": "markdown",
   "id": "b139f01b",
   "metadata": {
    "papermill": {
     "duration": 0.030077,
     "end_time": "2023-01-08T10:51:22.785440",
     "exception": false,
     "start_time": "2023-01-08T10:51:22.755363",
     "status": "completed"
    },
    "tags": []
   },
   "source": [
    "# 3. Creating Base Model (Accuracy = 79.33%)"
   ]
  },
  {
   "cell_type": "code",
   "execution_count": 20,
   "id": "585a730a",
   "metadata": {
    "execution": {
     "iopub.execute_input": "2023-01-08T10:51:22.847197Z",
     "iopub.status.busy": "2023-01-08T10:51:22.846493Z",
     "iopub.status.idle": "2023-01-08T10:51:22.862100Z",
     "shell.execute_reply": "2023-01-08T10:51:22.860678Z"
    },
    "papermill": {
     "duration": 0.049154,
     "end_time": "2023-01-08T10:51:22.864540",
     "exception": false,
     "start_time": "2023-01-08T10:51:22.815386",
     "status": "completed"
    },
    "tags": []
   },
   "outputs": [
    {
     "name": "stdout",
     "output_type": "stream",
     "text": [
      "<class 'pandas.core.frame.DataFrame'>\n",
      "RangeIndex: 891 entries, 0 to 890\n",
      "Data columns (total 10 columns):\n",
      " #   Column    Non-Null Count  Dtype  \n",
      "---  ------    --------------  -----  \n",
      " 0   Survived  891 non-null    int64  \n",
      " 1   Pclass    891 non-null    int64  \n",
      " 2   Sex       891 non-null    object \n",
      " 3   Age       714 non-null    float64\n",
      " 4   SibSp     891 non-null    int64  \n",
      " 5   Parch     891 non-null    int64  \n",
      " 6   Fare      891 non-null    bool   \n",
      " 7   Cabin     204 non-null    object \n",
      " 8   Embarked  889 non-null    object \n",
      " 9   title     891 non-null    int64  \n",
      "dtypes: bool(1), float64(1), int64(5), object(3)\n",
      "memory usage: 63.6+ KB\n"
     ]
    }
   ],
   "source": [
    "df = df.drop([\"PassengerId\",\"Name\",\"Ticket\"], axis=\"columns\")\n",
    "df.info()"
   ]
  },
  {
   "cell_type": "code",
   "execution_count": 21,
   "id": "74b364bb",
   "metadata": {
    "execution": {
     "iopub.execute_input": "2023-01-08T10:51:22.927350Z",
     "iopub.status.busy": "2023-01-08T10:51:22.926709Z",
     "iopub.status.idle": "2023-01-08T10:51:22.941925Z",
     "shell.execute_reply": "2023-01-08T10:51:22.940411Z"
    },
    "papermill": {
     "duration": 0.049113,
     "end_time": "2023-01-08T10:51:22.944443",
     "exception": false,
     "start_time": "2023-01-08T10:51:22.895330",
     "status": "completed"
    },
    "tags": []
   },
   "outputs": [
    {
     "name": "stdout",
     "output_type": "stream",
     "text": [
      "<class 'pandas.core.frame.DataFrame'>\n",
      "RangeIndex: 891 entries, 0 to 890\n",
      "Data columns (total 10 columns):\n",
      " #   Column    Non-Null Count  Dtype  \n",
      "---  ------    --------------  -----  \n",
      " 0   Survived  891 non-null    int64  \n",
      " 1   Pclass    891 non-null    int64  \n",
      " 2   Sex       891 non-null    int64  \n",
      " 3   Age       714 non-null    float64\n",
      " 4   SibSp     891 non-null    int64  \n",
      " 5   Parch     891 non-null    int64  \n",
      " 6   Fare      891 non-null    bool   \n",
      " 7   Cabin     204 non-null    object \n",
      " 8   Embarked  889 non-null    object \n",
      " 9   title     891 non-null    int64  \n",
      "dtypes: bool(1), float64(1), int64(6), object(2)\n",
      "memory usage: 63.6+ KB\n"
     ]
    }
   ],
   "source": [
    "df[\"Sex\"] = df[\"Sex\"].replace([\"male\", \"female\"],[0,1])\n",
    "df.info()"
   ]
  },
  {
   "cell_type": "code",
   "execution_count": 22,
   "id": "0d7f9354",
   "metadata": {
    "execution": {
     "iopub.execute_input": "2023-01-08T10:51:23.007847Z",
     "iopub.status.busy": "2023-01-08T10:51:23.006582Z",
     "iopub.status.idle": "2023-01-08T10:51:23.021409Z",
     "shell.execute_reply": "2023-01-08T10:51:23.020219Z"
    },
    "papermill": {
     "duration": 0.048896,
     "end_time": "2023-01-08T10:51:23.023904",
     "exception": false,
     "start_time": "2023-01-08T10:51:22.975008",
     "status": "completed"
    },
    "tags": []
   },
   "outputs": [
    {
     "name": "stdout",
     "output_type": "stream",
     "text": [
      "<class 'pandas.core.frame.DataFrame'>\n",
      "RangeIndex: 891 entries, 0 to 890\n",
      "Data columns (total 10 columns):\n",
      " #   Column    Non-Null Count  Dtype  \n",
      "---  ------    --------------  -----  \n",
      " 0   Survived  891 non-null    int64  \n",
      " 1   Pclass    891 non-null    int64  \n",
      " 2   Sex       891 non-null    int64  \n",
      " 3   Age       714 non-null    float64\n",
      " 4   SibSp     891 non-null    int64  \n",
      " 5   Parch     891 non-null    int64  \n",
      " 6   Fare      891 non-null    bool   \n",
      " 7   Cabin     891 non-null    bool   \n",
      " 8   Embarked  889 non-null    object \n",
      " 9   title     891 non-null    int64  \n",
      "dtypes: bool(2), float64(1), int64(6), object(1)\n",
      "memory usage: 57.6+ KB\n"
     ]
    }
   ],
   "source": [
    "df[\"Cabin\"] = df[\"Cabin\"].isna()\n",
    "df.info()"
   ]
  },
  {
   "cell_type": "markdown",
   "id": "b41d076f",
   "metadata": {
    "papermill": {
     "duration": 0.030403,
     "end_time": "2023-01-08T10:51:23.085083",
     "exception": false,
     "start_time": "2023-01-08T10:51:23.054680",
     "status": "completed"
    },
    "tags": []
   },
   "source": [
    "## 5.3 Grouping Title & Calculating Mean Age (Accuracy = 80.45%)"
   ]
  },
  {
   "cell_type": "code",
   "execution_count": 23,
   "id": "44542190",
   "metadata": {
    "execution": {
     "iopub.execute_input": "2023-01-08T10:51:23.149110Z",
     "iopub.status.busy": "2023-01-08T10:51:23.148724Z",
     "iopub.status.idle": "2023-01-08T10:51:23.156399Z",
     "shell.execute_reply": "2023-01-08T10:51:23.155237Z"
    },
    "papermill": {
     "duration": 0.042844,
     "end_time": "2023-01-08T10:51:23.158907",
     "exception": false,
     "start_time": "2023-01-08T10:51:23.116063",
     "status": "completed"
    },
    "tags": []
   },
   "outputs": [
    {
     "name": "stdout",
     "output_type": "stream",
     "text": [
      "title\n",
      "1    32.368090\n",
      "2    45.545455\n",
      "3     4.574167\n",
      "4    21.845638\n",
      "5    35.788991\n",
      "Name: Age, dtype: float64\n"
     ]
    }
   ],
   "source": [
    "# Incase of taking mean age of all title, we can take mean age for a particular title only\n",
    "print(df.groupby(\"title\").Age.mean())"
   ]
  },
  {
   "cell_type": "code",
   "execution_count": 24,
   "id": "f4e51e72",
   "metadata": {
    "execution": {
     "iopub.execute_input": "2023-01-08T10:51:23.221549Z",
     "iopub.status.busy": "2023-01-08T10:51:23.220914Z",
     "iopub.status.idle": "2023-01-08T10:51:23.229490Z",
     "shell.execute_reply": "2023-01-08T10:51:23.228687Z"
    },
    "papermill": {
     "duration": 0.042604,
     "end_time": "2023-01-08T10:51:23.231799",
     "exception": false,
     "start_time": "2023-01-08T10:51:23.189195",
     "status": "completed"
    },
    "tags": []
   },
   "outputs": [],
   "source": [
    "# df[\"Age\"][df[\"title\"]==1]=32\n",
    "# df[\"Age\"][df[\"title\"]==2]=45\n",
    "df[\"Age\"][df[\"title\"]==3]=7\n",
    "# df[\"Age\"][df[\"title\"]==4]=23\n",
    "# df[\"Age\"][df[\"title\"]==5]=35\n",
    "mage = df.Age.mean()\n",
    "df.Age = df.Age.fillna(mage)"
   ]
  },
  {
   "cell_type": "markdown",
   "id": "11ebb84a",
   "metadata": {
    "papermill": {
     "duration": 0.030327,
     "end_time": "2023-01-08T10:51:23.292973",
     "exception": false,
     "start_time": "2023-01-08T10:51:23.262646",
     "status": "completed"
    },
    "tags": []
   },
   "source": [
    "## 3.1 Considering Mean Age for NA values (Accuracy = 78.77%)"
   ]
  },
  {
   "cell_type": "code",
   "execution_count": 25,
   "id": "614fbd68",
   "metadata": {
    "execution": {
     "iopub.execute_input": "2023-01-08T10:51:23.355685Z",
     "iopub.status.busy": "2023-01-08T10:51:23.355262Z",
     "iopub.status.idle": "2023-01-08T10:51:23.360018Z",
     "shell.execute_reply": "2023-01-08T10:51:23.358757Z"
    },
    "papermill": {
     "duration": 0.038952,
     "end_time": "2023-01-08T10:51:23.362454",
     "exception": false,
     "start_time": "2023-01-08T10:51:23.323502",
     "status": "completed"
    },
    "tags": []
   },
   "outputs": [],
   "source": [
    "# df[\"Age\"][df[\"Age\"].isna()] = df[\"Age\"].mean()\n",
    "# df.info()"
   ]
  },
  {
   "cell_type": "code",
   "execution_count": 26,
   "id": "c1ccbd3c",
   "metadata": {
    "execution": {
     "iopub.execute_input": "2023-01-08T10:51:23.427155Z",
     "iopub.status.busy": "2023-01-08T10:51:23.426482Z",
     "iopub.status.idle": "2023-01-08T10:51:23.442483Z",
     "shell.execute_reply": "2023-01-08T10:51:23.441348Z"
    },
    "papermill": {
     "duration": 0.050737,
     "end_time": "2023-01-08T10:51:23.444763",
     "exception": false,
     "start_time": "2023-01-08T10:51:23.394026",
     "status": "completed"
    },
    "tags": []
   },
   "outputs": [
    {
     "data": {
      "text/html": [
       "<div>\n",
       "<style scoped>\n",
       "    .dataframe tbody tr th:only-of-type {\n",
       "        vertical-align: middle;\n",
       "    }\n",
       "\n",
       "    .dataframe tbody tr th {\n",
       "        vertical-align: top;\n",
       "    }\n",
       "\n",
       "    .dataframe thead th {\n",
       "        text-align: right;\n",
       "    }\n",
       "</style>\n",
       "<table border=\"1\" class=\"dataframe\">\n",
       "  <thead>\n",
       "    <tr style=\"text-align: right;\">\n",
       "      <th></th>\n",
       "      <th>Survived</th>\n",
       "      <th>Pclass</th>\n",
       "      <th>Sex</th>\n",
       "      <th>Age</th>\n",
       "      <th>SibSp</th>\n",
       "      <th>Parch</th>\n",
       "      <th>Fare</th>\n",
       "      <th>Cabin</th>\n",
       "      <th>Embarked</th>\n",
       "      <th>title</th>\n",
       "    </tr>\n",
       "  </thead>\n",
       "  <tbody>\n",
       "    <tr>\n",
       "      <th>0</th>\n",
       "      <td>0</td>\n",
       "      <td>3</td>\n",
       "      <td>0</td>\n",
       "      <td>22.0</td>\n",
       "      <td>1</td>\n",
       "      <td>0</td>\n",
       "      <td>False</td>\n",
       "      <td>True</td>\n",
       "      <td>S</td>\n",
       "      <td>1</td>\n",
       "    </tr>\n",
       "    <tr>\n",
       "      <th>1</th>\n",
       "      <td>1</td>\n",
       "      <td>1</td>\n",
       "      <td>1</td>\n",
       "      <td>38.0</td>\n",
       "      <td>1</td>\n",
       "      <td>0</td>\n",
       "      <td>True</td>\n",
       "      <td>False</td>\n",
       "      <td>C</td>\n",
       "      <td>5</td>\n",
       "    </tr>\n",
       "    <tr>\n",
       "      <th>2</th>\n",
       "      <td>1</td>\n",
       "      <td>3</td>\n",
       "      <td>1</td>\n",
       "      <td>26.0</td>\n",
       "      <td>0</td>\n",
       "      <td>0</td>\n",
       "      <td>False</td>\n",
       "      <td>True</td>\n",
       "      <td>S</td>\n",
       "      <td>4</td>\n",
       "    </tr>\n",
       "    <tr>\n",
       "      <th>3</th>\n",
       "      <td>1</td>\n",
       "      <td>1</td>\n",
       "      <td>1</td>\n",
       "      <td>35.0</td>\n",
       "      <td>1</td>\n",
       "      <td>0</td>\n",
       "      <td>True</td>\n",
       "      <td>False</td>\n",
       "      <td>S</td>\n",
       "      <td>5</td>\n",
       "    </tr>\n",
       "    <tr>\n",
       "      <th>4</th>\n",
       "      <td>0</td>\n",
       "      <td>3</td>\n",
       "      <td>0</td>\n",
       "      <td>35.0</td>\n",
       "      <td>0</td>\n",
       "      <td>0</td>\n",
       "      <td>False</td>\n",
       "      <td>True</td>\n",
       "      <td>S</td>\n",
       "      <td>1</td>\n",
       "    </tr>\n",
       "  </tbody>\n",
       "</table>\n",
       "</div>"
      ],
      "text/plain": [
       "   Survived  Pclass  Sex   Age  SibSp  Parch   Fare  Cabin Embarked  title\n",
       "0         0       3    0  22.0      1      0  False   True        S      1\n",
       "1         1       1    1  38.0      1      0   True  False        C      5\n",
       "2         1       3    1  26.0      0      0  False   True        S      4\n",
       "3         1       1    1  35.0      1      0   True  False        S      5\n",
       "4         0       3    0  35.0      0      0  False   True        S      1"
      ]
     },
     "execution_count": 26,
     "metadata": {},
     "output_type": "execute_result"
    }
   ],
   "source": [
    "df.head()"
   ]
  },
  {
   "cell_type": "code",
   "execution_count": 27,
   "id": "e4e6348d",
   "metadata": {
    "execution": {
     "iopub.execute_input": "2023-01-08T10:51:23.508062Z",
     "iopub.status.busy": "2023-01-08T10:51:23.507643Z",
     "iopub.status.idle": "2023-01-08T10:51:23.527485Z",
     "shell.execute_reply": "2023-01-08T10:51:23.525655Z"
    },
    "papermill": {
     "duration": 0.055613,
     "end_time": "2023-01-08T10:51:23.530877",
     "exception": false,
     "start_time": "2023-01-08T10:51:23.475264",
     "status": "completed"
    },
    "tags": []
   },
   "outputs": [
    {
     "name": "stdout",
     "output_type": "stream",
     "text": [
      "<class 'pandas.core.frame.DataFrame'>\n",
      "RangeIndex: 891 entries, 0 to 890\n",
      "Data columns (total 12 columns):\n",
      " #   Column      Non-Null Count  Dtype  \n",
      "---  ------      --------------  -----  \n",
      " 0   Survived    891 non-null    int64  \n",
      " 1   Pclass      891 non-null    int64  \n",
      " 2   Sex         891 non-null    int64  \n",
      " 3   Age         891 non-null    float64\n",
      " 4   SibSp       891 non-null    int64  \n",
      " 5   Parch       891 non-null    int64  \n",
      " 6   Fare        891 non-null    bool   \n",
      " 7   Cabin       891 non-null    bool   \n",
      " 8   title       891 non-null    int64  \n",
      " 9   Embarked_C  891 non-null    uint8  \n",
      " 10  Embarked_Q  891 non-null    uint8  \n",
      " 11  Embarked_S  891 non-null    uint8  \n",
      "dtypes: bool(2), float64(1), int64(6), uint8(3)\n",
      "memory usage: 53.2 KB\n"
     ]
    }
   ],
   "source": [
    "df = pd.get_dummies(df)\n",
    "df.info()"
   ]
  },
  {
   "cell_type": "code",
   "execution_count": 28,
   "id": "9be692cc",
   "metadata": {
    "execution": {
     "iopub.execute_input": "2023-01-08T10:51:23.596680Z",
     "iopub.status.busy": "2023-01-08T10:51:23.596255Z",
     "iopub.status.idle": "2023-01-08T10:51:23.609907Z",
     "shell.execute_reply": "2023-01-08T10:51:23.608837Z"
    },
    "papermill": {
     "duration": 0.048521,
     "end_time": "2023-01-08T10:51:23.612167",
     "exception": false,
     "start_time": "2023-01-08T10:51:23.563646",
     "status": "completed"
    },
    "tags": []
   },
   "outputs": [
    {
     "data": {
      "text/plain": [
       "Pclass        0.129755\n",
       "Sex           0.643977\n",
       "Age           0.030072\n",
       "SibSp         0.077914\n",
       "Parch         0.170176\n",
       "Fare          0.408208\n",
       "Cabin         0.185190\n",
       "title         0.374197\n",
       "Embarked_C    0.331221\n",
       "Embarked_Q    0.012168\n",
       "Embarked_S    0.101449\n",
       "dtype: float64"
      ]
     },
     "execution_count": 28,
     "metadata": {},
     "output_type": "execute_result"
    }
   ],
   "source": [
    "ab = df.groupby(\"Survived\").mean()\n",
    "ab\n",
    "v1 = ab.iloc[0,:]\n",
    "v2 = ab.iloc[1,:]\n",
    "abs((v2-v1)/(v1+v2))"
   ]
  },
  {
   "cell_type": "code",
   "execution_count": 29,
   "id": "0866a54c",
   "metadata": {
    "execution": {
     "iopub.execute_input": "2023-01-08T10:51:23.677221Z",
     "iopub.status.busy": "2023-01-08T10:51:23.676828Z",
     "iopub.status.idle": "2023-01-08T10:51:23.681325Z",
     "shell.execute_reply": "2023-01-08T10:51:23.680298Z"
    },
    "papermill": {
     "duration": 0.038809,
     "end_time": "2023-01-08T10:51:23.683397",
     "exception": false,
     "start_time": "2023-01-08T10:51:23.644588",
     "status": "completed"
    },
    "tags": []
   },
   "outputs": [],
   "source": [
    "# sns.pairplot(df, hue='Survived')"
   ]
  },
  {
   "cell_type": "markdown",
   "id": "7bca1a48",
   "metadata": {
    "papermill": {
     "duration": 0.032709,
     "end_time": "2023-01-08T10:51:23.748281",
     "exception": false,
     "start_time": "2023-01-08T10:51:23.715572",
     "status": "completed"
    },
    "tags": []
   },
   "source": [
    "# 4. Creating ML Model"
   ]
  },
  {
   "cell_type": "code",
   "execution_count": 30,
   "id": "b6f0a9d1",
   "metadata": {
    "execution": {
     "iopub.execute_input": "2023-01-08T10:51:23.814211Z",
     "iopub.status.busy": "2023-01-08T10:51:23.813797Z",
     "iopub.status.idle": "2023-01-08T10:51:23.819919Z",
     "shell.execute_reply": "2023-01-08T10:51:23.819107Z"
    },
    "papermill": {
     "duration": 0.04139,
     "end_time": "2023-01-08T10:51:23.821895",
     "exception": false,
     "start_time": "2023-01-08T10:51:23.780505",
     "status": "completed"
    },
    "tags": []
   },
   "outputs": [],
   "source": [
    "y = df[\"Survived\"]\n",
    "df.drop(\"Survived\", axis = \"columns\", inplace=True)\n",
    "x = df"
   ]
  },
  {
   "cell_type": "code",
   "execution_count": 31,
   "id": "f5913b59",
   "metadata": {
    "execution": {
     "iopub.execute_input": "2023-01-08T10:51:23.886227Z",
     "iopub.status.busy": "2023-01-08T10:51:23.885838Z",
     "iopub.status.idle": "2023-01-08T10:51:23.904632Z",
     "shell.execute_reply": "2023-01-08T10:51:23.903571Z"
    },
    "papermill": {
     "duration": 0.053962,
     "end_time": "2023-01-08T10:51:23.906884",
     "exception": false,
     "start_time": "2023-01-08T10:51:23.852922",
     "status": "completed"
    },
    "tags": []
   },
   "outputs": [
    {
     "data": {
      "text/html": [
       "<div>\n",
       "<style scoped>\n",
       "    .dataframe tbody tr th:only-of-type {\n",
       "        vertical-align: middle;\n",
       "    }\n",
       "\n",
       "    .dataframe tbody tr th {\n",
       "        vertical-align: top;\n",
       "    }\n",
       "\n",
       "    .dataframe thead th {\n",
       "        text-align: right;\n",
       "    }\n",
       "</style>\n",
       "<table border=\"1\" class=\"dataframe\">\n",
       "  <thead>\n",
       "    <tr style=\"text-align: right;\">\n",
       "      <th></th>\n",
       "      <th>Pclass</th>\n",
       "      <th>Sex</th>\n",
       "      <th>Age</th>\n",
       "      <th>SibSp</th>\n",
       "      <th>Parch</th>\n",
       "      <th>Fare</th>\n",
       "      <th>Cabin</th>\n",
       "      <th>title</th>\n",
       "      <th>Embarked_C</th>\n",
       "      <th>Embarked_Q</th>\n",
       "      <th>Embarked_S</th>\n",
       "    </tr>\n",
       "  </thead>\n",
       "  <tbody>\n",
       "    <tr>\n",
       "      <th>0</th>\n",
       "      <td>3</td>\n",
       "      <td>0</td>\n",
       "      <td>22.00000</td>\n",
       "      <td>1</td>\n",
       "      <td>0</td>\n",
       "      <td>False</td>\n",
       "      <td>True</td>\n",
       "      <td>1</td>\n",
       "      <td>0</td>\n",
       "      <td>0</td>\n",
       "      <td>1</td>\n",
       "    </tr>\n",
       "    <tr>\n",
       "      <th>1</th>\n",
       "      <td>1</td>\n",
       "      <td>1</td>\n",
       "      <td>38.00000</td>\n",
       "      <td>1</td>\n",
       "      <td>0</td>\n",
       "      <td>True</td>\n",
       "      <td>False</td>\n",
       "      <td>5</td>\n",
       "      <td>1</td>\n",
       "      <td>0</td>\n",
       "      <td>0</td>\n",
       "    </tr>\n",
       "    <tr>\n",
       "      <th>2</th>\n",
       "      <td>3</td>\n",
       "      <td>1</td>\n",
       "      <td>26.00000</td>\n",
       "      <td>0</td>\n",
       "      <td>0</td>\n",
       "      <td>False</td>\n",
       "      <td>True</td>\n",
       "      <td>4</td>\n",
       "      <td>0</td>\n",
       "      <td>0</td>\n",
       "      <td>1</td>\n",
       "    </tr>\n",
       "    <tr>\n",
       "      <th>3</th>\n",
       "      <td>1</td>\n",
       "      <td>1</td>\n",
       "      <td>35.00000</td>\n",
       "      <td>1</td>\n",
       "      <td>0</td>\n",
       "      <td>True</td>\n",
       "      <td>False</td>\n",
       "      <td>5</td>\n",
       "      <td>0</td>\n",
       "      <td>0</td>\n",
       "      <td>1</td>\n",
       "    </tr>\n",
       "    <tr>\n",
       "      <th>4</th>\n",
       "      <td>3</td>\n",
       "      <td>0</td>\n",
       "      <td>35.00000</td>\n",
       "      <td>0</td>\n",
       "      <td>0</td>\n",
       "      <td>False</td>\n",
       "      <td>True</td>\n",
       "      <td>1</td>\n",
       "      <td>0</td>\n",
       "      <td>0</td>\n",
       "      <td>1</td>\n",
       "    </tr>\n",
       "    <tr>\n",
       "      <th>...</th>\n",
       "      <td>...</td>\n",
       "      <td>...</td>\n",
       "      <td>...</td>\n",
       "      <td>...</td>\n",
       "      <td>...</td>\n",
       "      <td>...</td>\n",
       "      <td>...</td>\n",
       "      <td>...</td>\n",
       "      <td>...</td>\n",
       "      <td>...</td>\n",
       "      <td>...</td>\n",
       "    </tr>\n",
       "    <tr>\n",
       "      <th>886</th>\n",
       "      <td>2</td>\n",
       "      <td>0</td>\n",
       "      <td>27.00000</td>\n",
       "      <td>0</td>\n",
       "      <td>0</td>\n",
       "      <td>False</td>\n",
       "      <td>True</td>\n",
       "      <td>2</td>\n",
       "      <td>0</td>\n",
       "      <td>0</td>\n",
       "      <td>1</td>\n",
       "    </tr>\n",
       "    <tr>\n",
       "      <th>887</th>\n",
       "      <td>1</td>\n",
       "      <td>1</td>\n",
       "      <td>19.00000</td>\n",
       "      <td>0</td>\n",
       "      <td>0</td>\n",
       "      <td>False</td>\n",
       "      <td>False</td>\n",
       "      <td>4</td>\n",
       "      <td>0</td>\n",
       "      <td>0</td>\n",
       "      <td>1</td>\n",
       "    </tr>\n",
       "    <tr>\n",
       "      <th>888</th>\n",
       "      <td>3</td>\n",
       "      <td>1</td>\n",
       "      <td>29.69429</td>\n",
       "      <td>1</td>\n",
       "      <td>2</td>\n",
       "      <td>False</td>\n",
       "      <td>True</td>\n",
       "      <td>4</td>\n",
       "      <td>0</td>\n",
       "      <td>0</td>\n",
       "      <td>1</td>\n",
       "    </tr>\n",
       "    <tr>\n",
       "      <th>889</th>\n",
       "      <td>1</td>\n",
       "      <td>0</td>\n",
       "      <td>26.00000</td>\n",
       "      <td>0</td>\n",
       "      <td>0</td>\n",
       "      <td>False</td>\n",
       "      <td>False</td>\n",
       "      <td>1</td>\n",
       "      <td>1</td>\n",
       "      <td>0</td>\n",
       "      <td>0</td>\n",
       "    </tr>\n",
       "    <tr>\n",
       "      <th>890</th>\n",
       "      <td>3</td>\n",
       "      <td>0</td>\n",
       "      <td>32.00000</td>\n",
       "      <td>0</td>\n",
       "      <td>0</td>\n",
       "      <td>False</td>\n",
       "      <td>True</td>\n",
       "      <td>1</td>\n",
       "      <td>0</td>\n",
       "      <td>1</td>\n",
       "      <td>0</td>\n",
       "    </tr>\n",
       "  </tbody>\n",
       "</table>\n",
       "<p>891 rows × 11 columns</p>\n",
       "</div>"
      ],
      "text/plain": [
       "     Pclass  Sex       Age  SibSp  Parch   Fare  Cabin  title  Embarked_C  \\\n",
       "0         3    0  22.00000      1      0  False   True      1           0   \n",
       "1         1    1  38.00000      1      0   True  False      5           1   \n",
       "2         3    1  26.00000      0      0  False   True      4           0   \n",
       "3         1    1  35.00000      1      0   True  False      5           0   \n",
       "4         3    0  35.00000      0      0  False   True      1           0   \n",
       "..      ...  ...       ...    ...    ...    ...    ...    ...         ...   \n",
       "886       2    0  27.00000      0      0  False   True      2           0   \n",
       "887       1    1  19.00000      0      0  False  False      4           0   \n",
       "888       3    1  29.69429      1      2  False   True      4           0   \n",
       "889       1    0  26.00000      0      0  False  False      1           1   \n",
       "890       3    0  32.00000      0      0  False   True      1           0   \n",
       "\n",
       "     Embarked_Q  Embarked_S  \n",
       "0             0           1  \n",
       "1             0           0  \n",
       "2             0           1  \n",
       "3             0           1  \n",
       "4             0           1  \n",
       "..          ...         ...  \n",
       "886           0           1  \n",
       "887           0           1  \n",
       "888           0           1  \n",
       "889           0           0  \n",
       "890           1           0  \n",
       "\n",
       "[891 rows x 11 columns]"
      ]
     },
     "execution_count": 31,
     "metadata": {},
     "output_type": "execute_result"
    }
   ],
   "source": [
    "x"
   ]
  },
  {
   "cell_type": "markdown",
   "id": "9e5e0fd9",
   "metadata": {
    "papermill": {
     "duration": 0.030912,
     "end_time": "2023-01-08T10:51:23.968972",
     "exception": false,
     "start_time": "2023-01-08T10:51:23.938060",
     "status": "completed"
    },
    "tags": []
   },
   "source": [
    "## 6.1 Random Forest Classifier Model (Accuracy = 85.47%)"
   ]
  },
  {
   "cell_type": "code",
   "execution_count": 32,
   "id": "99291ea0",
   "metadata": {
    "execution": {
     "iopub.execute_input": "2023-01-08T10:51:24.033546Z",
     "iopub.status.busy": "2023-01-08T10:51:24.033129Z",
     "iopub.status.idle": "2023-01-08T10:51:24.038155Z",
     "shell.execute_reply": "2023-01-08T10:51:24.037143Z"
    },
    "papermill": {
     "duration": 0.039854,
     "end_time": "2023-01-08T10:51:24.040447",
     "exception": false,
     "start_time": "2023-01-08T10:51:24.000593",
     "status": "completed"
    },
    "tags": []
   },
   "outputs": [],
   "source": [
    "model = RandomForestClassifier() # Accuracy = 85.47%\n",
    "\n",
    "# model = LogisticRegression()  # Accuracy = 89.39%"
   ]
  },
  {
   "cell_type": "code",
   "execution_count": 33,
   "id": "4132263f",
   "metadata": {
    "execution": {
     "iopub.execute_input": "2023-01-08T10:51:24.106278Z",
     "iopub.status.busy": "2023-01-08T10:51:24.105871Z",
     "iopub.status.idle": "2023-01-08T10:51:24.340901Z",
     "shell.execute_reply": "2023-01-08T10:51:24.339462Z"
    },
    "papermill": {
     "duration": 0.270927,
     "end_time": "2023-01-08T10:51:24.343098",
     "exception": false,
     "start_time": "2023-01-08T10:51:24.072171",
     "status": "completed"
    },
    "tags": []
   },
   "outputs": [
    {
     "name": "stdout",
     "output_type": "stream",
     "text": [
      "0.8324022346368715\n",
      "Survived 64\n",
      "Not Survived 115\n"
     ]
    },
    {
     "data": {
      "text/plain": [
       "array([[101,  16],\n",
       "       [ 14,  48]])"
      ]
     },
     "execution_count": 33,
     "metadata": {},
     "output_type": "execute_result"
    }
   ],
   "source": [
    "x_train, x_test, y_train, y_test = train_test_split(x, y, test_size=0.2, random_state=10)\n",
    "model.fit(x_train, y_train)\n",
    "print(model.score(x_test, y_test))\n",
    "\n",
    "yp = model.predict(x_test)\n",
    "print(\"Survived\", sum(yp!=0))\n",
    "print(\"Not Survived\", sum(yp==0))\n",
    "\n",
    "cm = confusion_matrix(y_test, yp)\n",
    "cm"
   ]
  },
  {
   "cell_type": "markdown",
   "id": "5b8e7636",
   "metadata": {
    "papermill": {
     "duration": 0.031347,
     "end_time": "2023-01-08T10:51:24.406641",
     "exception": false,
     "start_time": "2023-01-08T10:51:24.375294",
     "status": "completed"
    },
    "tags": []
   },
   "source": [
    "## 6.2 XGBoost Classifier Model (Accuracy = 86.59%)"
   ]
  },
  {
   "cell_type": "code",
   "execution_count": 34,
   "id": "833bcbc4",
   "metadata": {
    "execution": {
     "iopub.execute_input": "2023-01-08T10:51:24.472750Z",
     "iopub.status.busy": "2023-01-08T10:51:24.472277Z",
     "iopub.status.idle": "2023-01-08T10:51:24.477832Z",
     "shell.execute_reply": "2023-01-08T10:51:24.476651Z"
    },
    "papermill": {
     "duration": 0.0417,
     "end_time": "2023-01-08T10:51:24.480115",
     "exception": false,
     "start_time": "2023-01-08T10:51:24.438415",
     "status": "completed"
    },
    "tags": []
   },
   "outputs": [],
   "source": [
    "model = XGBClassifier() # Accuracy = 86.59"
   ]
  },
  {
   "cell_type": "code",
   "execution_count": 35,
   "id": "3b05ed19",
   "metadata": {
    "execution": {
     "iopub.execute_input": "2023-01-08T10:51:24.544683Z",
     "iopub.status.busy": "2023-01-08T10:51:24.544251Z",
     "iopub.status.idle": "2023-01-08T10:51:24.953846Z",
     "shell.execute_reply": "2023-01-08T10:51:24.951982Z"
    },
    "papermill": {
     "duration": 0.445344,
     "end_time": "2023-01-08T10:51:24.956782",
     "exception": false,
     "start_time": "2023-01-08T10:51:24.511438",
     "status": "completed"
    },
    "tags": []
   },
   "outputs": [
    {
     "name": "stdout",
     "output_type": "stream",
     "text": [
      "0.8659217877094972\n",
      "Survived 54\n",
      "Not Survived 125\n"
     ]
    },
    {
     "data": {
      "text/plain": [
       "array([[109,   8],\n",
       "       [ 16,  46]])"
      ]
     },
     "execution_count": 35,
     "metadata": {},
     "output_type": "execute_result"
    }
   ],
   "source": [
    "x_train, x_test, y_train, y_test = train_test_split(x, y, test_size=0.2, random_state=10)\n",
    "model.fit(x_train, y_train)\n",
    "print(model.score(x_test, y_test))\n",
    "\n",
    "y_pred = model.predict(x_test)\n",
    "print(\"Survived\", sum(y_pred!=0))\n",
    "print(\"Not Survived\", sum(y_pred==0))\n",
    "\n",
    "cm = confusion_matrix(y_test, y_pred)\n",
    "cm"
   ]
  },
  {
   "cell_type": "code",
   "execution_count": 36,
   "id": "0c54b0f5",
   "metadata": {
    "execution": {
     "iopub.execute_input": "2023-01-08T10:51:25.033662Z",
     "iopub.status.busy": "2023-01-08T10:51:25.033235Z",
     "iopub.status.idle": "2023-01-08T10:51:25.044369Z",
     "shell.execute_reply": "2023-01-08T10:51:25.042533Z"
    },
    "papermill": {
     "duration": 0.047839,
     "end_time": "2023-01-08T10:51:25.047434",
     "exception": false,
     "start_time": "2023-01-08T10:51:24.999595",
     "status": "completed"
    },
    "tags": []
   },
   "outputs": [
    {
     "name": "stdout",
     "output_type": "stream",
     "text": [
      "              precision    recall  f1-score   support\n",
      "\n",
      "           0       0.87      0.93      0.90       117\n",
      "           1       0.85      0.74      0.79        62\n",
      "\n",
      "    accuracy                           0.87       179\n",
      "   macro avg       0.86      0.84      0.85       179\n",
      "weighted avg       0.87      0.87      0.86       179\n",
      "\n"
     ]
    }
   ],
   "source": [
    "print(classification_report(y_test, y_pred))"
   ]
  },
  {
   "cell_type": "code",
   "execution_count": 37,
   "id": "096feff9",
   "metadata": {
    "execution": {
     "iopub.execute_input": "2023-01-08T10:51:25.113715Z",
     "iopub.status.busy": "2023-01-08T10:51:25.112468Z",
     "iopub.status.idle": "2023-01-08T10:51:25.401260Z",
     "shell.execute_reply": "2023-01-08T10:51:25.399858Z"
    },
    "papermill": {
     "duration": 0.324308,
     "end_time": "2023-01-08T10:51:25.403652",
     "exception": false,
     "start_time": "2023-01-08T10:51:25.079344",
     "status": "completed"
    },
    "tags": []
   },
   "outputs": [
    {
     "data": {
      "text/plain": [
       "<AxesSubplot:title={'center':'Feature importance'}, xlabel='F score', ylabel='Features'>"
      ]
     },
     "execution_count": 37,
     "metadata": {},
     "output_type": "execute_result"
    },
    {
     "data": {
      "image/png": "[encoded data removed]",
      "text/plain": [
       "<Figure size 432x288 with 1 Axes>"
      ]
     },
     "metadata": {
      "needs_background": "light"
     },
     "output_type": "display_data"
    }
   ],
   "source": [
    "plot_importance(model)\n",
    "# plot.show()"
   ]
  },
  {
   "cell_type": "markdown",
   "id": "75b39abe",
   "metadata": {
    "papermill": {
     "duration": 0.032376,
     "end_time": "2023-01-08T10:51:25.468192",
     "exception": false,
     "start_time": "2023-01-08T10:51:25.435816",
     "status": "completed"
    },
    "tags": []
   },
   "source": [
    "## 6.3 Logistic Regression Model (Accuracy = 89.39%)"
   ]
  },
  {
   "cell_type": "code",
   "execution_count": 38,
   "id": "920bda27",
   "metadata": {
    "execution": {
     "iopub.execute_input": "2023-01-08T10:51:25.536540Z",
     "iopub.status.busy": "2023-01-08T10:51:25.535514Z",
     "iopub.status.idle": "2023-01-08T10:51:25.541667Z",
     "shell.execute_reply": "2023-01-08T10:51:25.540554Z"
    },
    "papermill": {
     "duration": 0.043236,
     "end_time": "2023-01-08T10:51:25.544191",
     "exception": false,
     "start_time": "2023-01-08T10:51:25.500955",
     "status": "completed"
    },
    "tags": []
   },
   "outputs": [],
   "source": [
    "model = LogisticRegression()  # Accuracy = 89.39%"
   ]
  },
  {
   "cell_type": "code",
   "execution_count": 39,
   "id": "8ecab8fe",
   "metadata": {
    "execution": {
     "iopub.execute_input": "2023-01-08T10:51:25.612216Z",
     "iopub.status.busy": "2023-01-08T10:51:25.611805Z",
     "iopub.status.idle": "2023-01-08T10:51:25.664928Z",
     "shell.execute_reply": "2023-01-08T10:51:25.662886Z"
    },
    "papermill": {
     "duration": 0.09078,
     "end_time": "2023-01-08T10:51:25.667519",
     "exception": false,
     "start_time": "2023-01-08T10:51:25.576739",
     "status": "completed"
    },
    "tags": []
   },
   "outputs": [
    {
     "name": "stdout",
     "output_type": "stream",
     "text": [
      "0.8379888268156425\n",
      "Survived 69\n",
      "Not Survived 110\n"
     ]
    },
    {
     "data": {
      "text/plain": [
       "array([[99, 18],\n",
       "       [11, 51]])"
      ]
     },
     "execution_count": 39,
     "metadata": {},
     "output_type": "execute_result"
    }
   ],
   "source": [
    "x_train, x_test, y_train, y_test = train_test_split(x, y, test_size=0.2, random_state=10)\n",
    "model.fit(x_train, y_train)\n",
    "print(model.score(x_test, y_test))\n",
    "\n",
    "yp = model.predict(x_test)\n",
    "print(\"Survived\", sum(yp!=0))\n",
    "print(\"Not Survived\", sum(yp==0))\n",
    "\n",
    "cm = confusion_matrix(y_test, yp)\n",
    "cm"
   ]
  },
  {
   "cell_type": "markdown",
   "id": "aed09869",
   "metadata": {
    "papermill": {
     "duration": 0.032362,
     "end_time": "2023-01-08T10:51:25.732507",
     "exception": false,
     "start_time": "2023-01-08T10:51:25.700145",
     "status": "completed"
    },
    "tags": []
   },
   "source": [
    "# 5. Improving Base Model to Increase Accuracy"
   ]
  },
  {
   "cell_type": "markdown",
   "id": "48bc4d64",
   "metadata": {
    "papermill": {
     "duration": 0.032054,
     "end_time": "2023-01-08T10:51:25.796974",
     "exception": false,
     "start_time": "2023-01-08T10:51:25.764920",
     "status": "completed"
    },
    "tags": []
   },
   "source": [
    "# 6. Hyperparameter Tunning"
   ]
  },
  {
   "cell_type": "markdown",
   "id": "dec5d2af",
   "metadata": {
    "papermill": {
     "duration": 0.03198,
     "end_time": "2023-01-08T10:51:25.861364",
     "exception": false,
     "start_time": "2023-01-08T10:51:25.829384",
     "status": "completed"
    },
    "tags": []
   },
   "source": [
    "## 6.1 Random Forest Classifier Model (Using RandomizedSearchCV & GridSearchCV) (83.584% Accuracy)"
   ]
  },
  {
   "cell_type": "code",
   "execution_count": 40,
   "id": "5db89613",
   "metadata": {
    "execution": {
     "iopub.execute_input": "2023-01-08T10:51:25.929496Z",
     "iopub.status.busy": "2023-01-08T10:51:25.928398Z",
     "iopub.status.idle": "2023-01-08T10:51:25.936628Z",
     "shell.execute_reply": "2023-01-08T10:51:25.935821Z"
    },
    "papermill": {
     "duration": 0.044967,
     "end_time": "2023-01-08T10:51:25.938703",
     "exception": false,
     "start_time": "2023-01-08T10:51:25.893736",
     "status": "completed"
    },
    "tags": []
   },
   "outputs": [],
   "source": [
    "model = RandomForestClassifier() # Accuracy = 83.287%\n",
    "n_estimators = [int(x) for x in np.linspace(start=1, stop = 100, num = 40)]\n",
    "max_features = [\"auto\", \"sqrt\"]\n",
    "max_depth = [int(x) for x in np.linspace(1,50,num=25)]\n",
    "max_depth.append(None)\n",
    "min_samples_split = [2, 3, 4, 5, 7, 9, 10, 12, 14, 15, 17, 20]\n",
    "min_samples_leaf = [1, 2, 4, 5, 6, 8, 9, 10]\n",
    "bootstrap = [True, False]\n",
    "random_grid = {'n_estimators': n_estimators, \n",
    "               'max_features': max_features, \n",
    "               'max_depth': max_depth, \n",
    "               'min_samples_split': min_samples_split, \n",
    "               'min_samples_leaf': min_samples_leaf, \n",
    "               'bootstrap': bootstrap}"
   ]
  },
  {
   "cell_type": "code",
   "execution_count": 41,
   "id": "365c397f",
   "metadata": {
    "execution": {
     "iopub.execute_input": "2023-01-08T10:51:26.006588Z",
     "iopub.status.busy": "2023-01-08T10:51:26.005364Z",
     "iopub.status.idle": "2023-01-08T10:51:29.684732Z",
     "shell.execute_reply": "2023-01-08T10:51:29.683301Z"
    },
    "papermill": {
     "duration": 3.716252,
     "end_time": "2023-01-08T10:51:29.687367",
     "exception": false,
     "start_time": "2023-01-08T10:51:25.971115",
     "status": "completed"
    },
    "tags": []
   },
   "outputs": [
    {
     "name": "stdout",
     "output_type": "stream",
     "text": [
      "0.8314606741573034\n"
     ]
    },
    {
     "data": {
      "text/plain": [
       "{'n_estimators': 97,\n",
       " 'min_samples_split': 17,\n",
       " 'min_samples_leaf': 6,\n",
       " 'max_features': 'auto',\n",
       " 'max_depth': 21,\n",
       " 'bootstrap': True}"
      ]
     },
     "execution_count": 41,
     "metadata": {},
     "output_type": "execute_result"
    }
   ],
   "source": [
    "rf_random = RandomizedSearchCV(estimator = model, param_distributions = random_grid, cv = 4)\n",
    "# OR\n",
    "# rf_random = GridSearchCV(model, random_grid, cv=5)\n",
    "\n",
    "x_train, x_test, y_train, y_test = train_test_split(x, y, test_size=0.2)\n",
    "rf_random.fit(x_train, y_train)\n",
    "print(rf_random.best_score_)\n",
    "rf_random.best_params_"
   ]
  },
  {
   "cell_type": "markdown",
   "id": "b947affc",
   "metadata": {
    "papermill": {
     "duration": 0.032559,
     "end_time": "2023-01-08T10:51:29.753359",
     "exception": false,
     "start_time": "2023-01-08T10:51:29.720800",
     "status": "completed"
    },
    "tags": []
   },
   "source": [
    "## 6.2 XGBoost Classifier Model (Using RandomizedSearchCV & GridSearchCV) (83.287% Accuracy)"
   ]
  },
  {
   "cell_type": "code",
   "execution_count": 42,
   "id": "e972e260",
   "metadata": {
    "execution": {
     "iopub.execute_input": "2023-01-08T10:51:29.820376Z",
     "iopub.status.busy": "2023-01-08T10:51:29.819576Z",
     "iopub.status.idle": "2023-01-08T10:51:29.827604Z",
     "shell.execute_reply": "2023-01-08T10:51:29.826609Z"
    },
    "papermill": {
     "duration": 0.043821,
     "end_time": "2023-01-08T10:51:29.829653",
     "exception": false,
     "start_time": "2023-01-08T10:51:29.785832",
     "status": "completed"
    },
    "tags": []
   },
   "outputs": [],
   "source": [
    "model = XGBClassifier()\n",
    "random_grid = { 'eta': [x for x in np.linspace(start=0.01, stop=0.2, num=4)],\n",
    "               'max_depth': range(1,10,1),\n",
    "               'min_child_weight': range(1,13,2),\n",
    "               'gamma': [i/10.0 for i in range (0,5)],\n",
    "               'subsample': [i/100.0 for i in range (60, 100, 5)],\n",
    "               'colsample_bytree': [i/100.0 for i in range (60, 100, 5)],\n",
    "               'reg_alpha': [0, 0.001, 0.005, 0.01, 0.05]\n",
    "              }"
   ]
  },
  {
   "cell_type": "code",
   "execution_count": 43,
   "id": "05391dde",
   "metadata": {
    "execution": {
     "iopub.execute_input": "2023-01-08T10:51:29.896742Z",
     "iopub.status.busy": "2023-01-08T10:51:29.896064Z",
     "iopub.status.idle": "2023-01-08T10:51:41.532363Z",
     "shell.execute_reply": "2023-01-08T10:51:41.531315Z"
    },
    "papermill": {
     "duration": 11.672877,
     "end_time": "2023-01-08T10:51:41.535069",
     "exception": false,
     "start_time": "2023-01-08T10:51:29.862192",
     "status": "completed"
    },
    "tags": []
   },
   "outputs": [
    {
     "name": "stdout",
     "output_type": "stream",
     "text": [
      "0.8342696629213483\n"
     ]
    },
    {
     "data": {
      "text/plain": [
       "{'subsample': 0.65,\n",
       " 'reg_alpha': 0.001,\n",
       " 'min_child_weight': 1,\n",
       " 'max_depth': 4,\n",
       " 'gamma': 0.3,\n",
       " 'eta': 0.1366666666666667,\n",
       " 'colsample_bytree': 0.6}"
      ]
     },
     "execution_count": 43,
     "metadata": {},
     "output_type": "execute_result"
    }
   ],
   "source": [
    "rf_random = RandomizedSearchCV(estimator = model, param_distributions = random_grid, cv = 4)\n",
    "# OR\n",
    "# rf_random = GridSearchCV(model, random_grid, cv=5)\n",
    "\n",
    "x_train, x_test, y_train, y_test = train_test_split(x, y, test_size=0.2)\n",
    "rf_random.fit(x_train, y_train)\n",
    "print(rf_random.best_score_)\n",
    "rf_random.best_params_"
   ]
  },
  {
   "cell_type": "markdown",
   "id": "2dfeba65",
   "metadata": {
    "papermill": {
     "duration": 0.033909,
     "end_time": "2023-01-08T10:51:41.603145",
     "exception": false,
     "start_time": "2023-01-08T10:51:41.569236",
     "status": "completed"
    },
    "tags": []
   },
   "source": [
    "# 7. Hyperparameter Tunning one-by-one using GridSearchCV "
   ]
  },
  {
   "cell_type": "markdown",
   "id": "b0a86bf9",
   "metadata": {
    "papermill": {
     "duration": 0.032416,
     "end_time": "2023-01-08T10:51:41.668441",
     "exception": false,
     "start_time": "2023-01-08T10:51:41.636025",
     "status": "completed"
    },
    "tags": []
   },
   "source": [
    "## 7.1 eta= 0.09090909090909091 & Accuracy= 82.158%"
   ]
  },
  {
   "cell_type": "code",
   "execution_count": 44,
   "id": "532d8c88",
   "metadata": {
    "execution": {
     "iopub.execute_input": "2023-01-08T10:51:41.740449Z",
     "iopub.status.busy": "2023-01-08T10:51:41.740029Z",
     "iopub.status.idle": "2023-01-08T10:51:41.745952Z",
     "shell.execute_reply": "2023-01-08T10:51:41.744928Z"
    },
    "papermill": {
     "duration": 0.047061,
     "end_time": "2023-01-08T10:51:41.748228",
     "exception": false,
     "start_time": "2023-01-08T10:51:41.701167",
     "status": "completed"
    },
    "tags": []
   },
   "outputs": [],
   "source": [
    "model = XGBClassifier()\n",
    "random_grid = { 'eta': [x for x in np.linspace(start=0, stop=0.5, num=12)]\n",
    "              }"
   ]
  },
  {
   "cell_type": "code",
   "execution_count": 45,
   "id": "7072757d",
   "metadata": {
    "execution": {
     "iopub.execute_input": "2023-01-08T10:51:41.815905Z",
     "iopub.status.busy": "2023-01-08T10:51:41.815227Z",
     "iopub.status.idle": "2023-01-08T10:51:59.640106Z",
     "shell.execute_reply": "2023-01-08T10:51:59.639104Z"
    },
    "papermill": {
     "duration": 17.861996,
     "end_time": "2023-01-08T10:51:59.642926",
     "exception": false,
     "start_time": "2023-01-08T10:51:41.780930",
     "status": "completed"
    },
    "tags": []
   },
   "outputs": [
    {
     "name": "stdout",
     "output_type": "stream",
     "text": [
      "0.8215798286220822\n"
     ]
    },
    {
     "data": {
      "text/plain": [
       "{'eta': 0.09090909090909091}"
      ]
     },
     "execution_count": 45,
     "metadata": {},
     "output_type": "execute_result"
    }
   ],
   "source": [
    "# rf_random = RandomizedSearchCV(estimator = model, param_distributions = random_grid, cv = 4)\n",
    "# OR\n",
    "rf_random = GridSearchCV(model, random_grid, cv=5)\n",
    "\n",
    "x_train, x_test, y_train, y_test = train_test_split(x, y, test_size=0.2, random_state=11)\n",
    "rf_random.fit(x_train, y_train)\n",
    "print(rf_random.best_score_)\n",
    "rf_random.best_params_"
   ]
  },
  {
   "cell_type": "markdown",
   "id": "68184654",
   "metadata": {
    "papermill": {
     "duration": 0.034075,
     "end_time": "2023-01-08T10:51:59.711225",
     "exception": false,
     "start_time": "2023-01-08T10:51:59.677150",
     "status": "completed"
    },
    "tags": []
   },
   "source": [
    "## 7.2 max_depth=6  & Accuracy= 82.1658%"
   ]
  },
  {
   "cell_type": "code",
   "execution_count": 46,
   "id": "f100bf87",
   "metadata": {
    "execution": {
     "iopub.execute_input": "2023-01-08T10:51:59.782865Z",
     "iopub.status.busy": "2023-01-08T10:51:59.782430Z",
     "iopub.status.idle": "2023-01-08T10:51:59.787136Z",
     "shell.execute_reply": "2023-01-08T10:51:59.786277Z"
    },
    "papermill": {
     "duration": 0.041551,
     "end_time": "2023-01-08T10:51:59.789258",
     "exception": false,
     "start_time": "2023-01-08T10:51:59.747707",
     "status": "completed"
    },
    "tags": []
   },
   "outputs": [],
   "source": [
    "model = XGBClassifier(eta=0.09090909090909091)\n",
    "random_grid = {'max_depth': range(1,20,1)\n",
    "              }"
   ]
  },
  {
   "cell_type": "code",
   "execution_count": 47,
   "id": "d5bcf77f",
   "metadata": {
    "execution": {
     "iopub.execute_input": "2023-01-08T10:51:59.858357Z",
     "iopub.status.busy": "2023-01-08T10:51:59.857173Z",
     "iopub.status.idle": "2023-01-08T10:52:31.614979Z",
     "shell.execute_reply": "2023-01-08T10:52:31.613695Z"
    },
    "papermill": {
     "duration": 31.820983,
     "end_time": "2023-01-08T10:52:31.643483",
     "exception": false,
     "start_time": "2023-01-08T10:51:59.822500",
     "status": "completed"
    },
    "tags": []
   },
   "outputs": [
    {
     "name": "stdout",
     "output_type": "stream",
     "text": [
      "0.8215798286220822\n"
     ]
    },
    {
     "data": {
      "text/plain": [
       "{'max_depth': 6}"
      ]
     },
     "execution_count": 47,
     "metadata": {},
     "output_type": "execute_result"
    }
   ],
   "source": [
    "# rf_random = RandomizedSearchCV(estimator = model, param_distributions = random_grid, cv = 4)\n",
    "# OR\n",
    "rf_random = GridSearchCV(model, random_grid, cv=5)\n",
    "\n",
    "x_train, x_test, y_train, y_test = train_test_split(x, y, test_size=0.2, random_state=11)\n",
    "rf_random.fit(x_train, y_train)\n",
    "print(rf_random.best_score_)\n",
    "rf_random.best_params_"
   ]
  },
  {
   "cell_type": "markdown",
   "id": "4b8de70c",
   "metadata": {
    "papermill": {
     "duration": 0.032794,
     "end_time": "2023-01-08T10:52:31.709526",
     "exception": false,
     "start_time": "2023-01-08T10:52:31.676732",
     "status": "completed"
    },
    "tags": []
   },
   "source": [
    "## 7.3 min_child_weight= 1 & Accuracy= 82.216%"
   ]
  },
  {
   "cell_type": "code",
   "execution_count": 48,
   "id": "95ee8856",
   "metadata": {
    "execution": {
     "iopub.execute_input": "2023-01-08T10:52:31.781742Z",
     "iopub.status.busy": "2023-01-08T10:52:31.780656Z",
     "iopub.status.idle": "2023-01-08T10:52:31.786736Z",
     "shell.execute_reply": "2023-01-08T10:52:31.785864Z"
    },
    "papermill": {
     "duration": 0.043473,
     "end_time": "2023-01-08T10:52:31.789118",
     "exception": false,
     "start_time": "2023-01-08T10:52:31.745645",
     "status": "completed"
    },
    "tags": []
   },
   "outputs": [],
   "source": [
    "model = XGBClassifier(eta=0.09090909090909091, max_depth=6)\n",
    "random_grid = {'min_child_weight': range(1,15,1)\n",
    "              }"
   ]
  },
  {
   "cell_type": "code",
   "execution_count": 49,
   "id": "8c6aa082",
   "metadata": {
    "execution": {
     "iopub.execute_input": "2023-01-08T10:52:31.858945Z",
     "iopub.status.busy": "2023-01-08T10:52:31.858155Z",
     "iopub.status.idle": "2023-01-08T10:52:52.109968Z",
     "shell.execute_reply": "2023-01-08T10:52:52.108373Z"
    },
    "papermill": {
     "duration": 20.289189,
     "end_time": "2023-01-08T10:52:52.112884",
     "exception": false,
     "start_time": "2023-01-08T10:52:31.823695",
     "status": "completed"
    },
    "tags": []
   },
   "outputs": [
    {
     "name": "stdout",
     "output_type": "stream",
     "text": [
      "0.8215798286220822\n"
     ]
    },
    {
     "data": {
      "text/plain": [
       "{'min_child_weight': 1}"
      ]
     },
     "execution_count": 49,
     "metadata": {},
     "output_type": "execute_result"
    }
   ],
   "source": [
    "# rf_random = RandomizedSearchCV(estimator = model, param_distributions = random_grid, cv = 4)\n",
    "# OR\n",
    "rf_random = GridSearchCV(model, random_grid, cv=5)\n",
    "\n",
    "x_train, x_test, y_train, y_test = train_test_split(x, y, test_size=0.2, random_state=11)\n",
    "rf_random.fit(x_train, y_train)\n",
    "print(rf_random.best_score_)\n",
    "rf_random.best_params_"
   ]
  },
  {
   "cell_type": "markdown",
   "id": "d3ad74fa",
   "metadata": {
    "papermill": {
     "duration": 0.033969,
     "end_time": "2023-01-08T10:52:52.181902",
     "exception": false,
     "start_time": "2023-01-08T10:52:52.147933",
     "status": "completed"
    },
    "tags": []
   },
   "source": [
    "## 7.4 gamma= 0.2 & Accuracy= 82.44%"
   ]
  },
  {
   "cell_type": "code",
   "execution_count": 50,
   "id": "13b123f7",
   "metadata": {
    "execution": {
     "iopub.execute_input": "2023-01-08T10:52:52.249999Z",
     "iopub.status.busy": "2023-01-08T10:52:52.249576Z",
     "iopub.status.idle": "2023-01-08T10:52:52.255106Z",
     "shell.execute_reply": "2023-01-08T10:52:52.253892Z"
    },
    "papermill": {
     "duration": 0.042341,
     "end_time": "2023-01-08T10:52:52.257440",
     "exception": false,
     "start_time": "2023-01-08T10:52:52.215099",
     "status": "completed"
    },
    "tags": []
   },
   "outputs": [],
   "source": [
    "model = XGBClassifier(eta=0.09090909090909091, max_depth=6, min_child_weight=1)\n",
    "random_grid = {'gamma': [i/10.0 for i in range (0,5)]\n",
    "              }"
   ]
  },
  {
   "cell_type": "code",
   "execution_count": 51,
   "id": "3f7ae894",
   "metadata": {
    "execution": {
     "iopub.execute_input": "2023-01-08T10:52:52.326276Z",
     "iopub.status.busy": "2023-01-08T10:52:52.325279Z",
     "iopub.status.idle": "2023-01-08T10:52:59.989135Z",
     "shell.execute_reply": "2023-01-08T10:52:59.987477Z"
    },
    "papermill": {
     "duration": 7.701563,
     "end_time": "2023-01-08T10:52:59.992051",
     "exception": false,
     "start_time": "2023-01-08T10:52:52.290488",
     "status": "completed"
    },
    "tags": []
   },
   "outputs": [
    {
     "name": "stdout",
     "output_type": "stream",
     "text": [
      "0.8243967300305328\n"
     ]
    },
    {
     "data": {
      "text/plain": [
       "{'gamma': 0.2}"
      ]
     },
     "execution_count": 51,
     "metadata": {},
     "output_type": "execute_result"
    }
   ],
   "source": [
    "# rf_random = RandomizedSearchCV(estimator = model, param_distributions = random_grid, cv = 4)\n",
    "# OR\n",
    "rf_random = GridSearchCV(model, random_grid, cv=5)\n",
    "\n",
    "x_train, x_test, y_train, y_test = train_test_split(x, y, test_size=0.2, random_state=11)\n",
    "rf_random.fit(x_train, y_train)\n",
    "print(rf_random.best_score_)\n",
    "rf_random.best_params_"
   ]
  },
  {
   "cell_type": "markdown",
   "id": "24118250",
   "metadata": {
    "papermill": {
     "duration": 0.033417,
     "end_time": "2023-01-08T10:53:00.060520",
     "exception": false,
     "start_time": "2023-01-08T10:53:00.027103",
     "status": "completed"
    },
    "tags": []
   },
   "source": [
    "## 7.5 subsample= 0.9 & Accuracy= 81.315%"
   ]
  },
  {
   "cell_type": "code",
   "execution_count": 52,
   "id": "88f27391",
   "metadata": {
    "execution": {
     "iopub.execute_input": "2023-01-08T10:53:00.130535Z",
     "iopub.status.busy": "2023-01-08T10:53:00.129690Z",
     "iopub.status.idle": "2023-01-08T10:53:00.135038Z",
     "shell.execute_reply": "2023-01-08T10:53:00.134209Z"
    },
    "papermill": {
     "duration": 0.042813,
     "end_time": "2023-01-08T10:53:00.137180",
     "exception": false,
     "start_time": "2023-01-08T10:53:00.094367",
     "status": "completed"
    },
    "tags": []
   },
   "outputs": [],
   "source": [
    "model = XGBClassifier(eta=0.09090909090909091, max_depth=6, min_child_weight=1, gama=0.2)\n",
    "random_grid = {'subsample': [i/100.0 for i in range (60, 100, 5)]\n",
    "              }"
   ]
  },
  {
   "cell_type": "code",
   "execution_count": 53,
   "id": "f65df0b6",
   "metadata": {
    "execution": {
     "iopub.execute_input": "2023-01-08T10:53:00.209002Z",
     "iopub.status.busy": "2023-01-08T10:53:00.207763Z",
     "iopub.status.idle": "2023-01-08T10:53:13.668737Z",
     "shell.execute_reply": "2023-01-08T10:53:13.667040Z"
    },
    "papermill": {
     "duration": 13.499295,
     "end_time": "2023-01-08T10:53:13.671720",
     "exception": false,
     "start_time": "2023-01-08T10:53:00.172425",
     "status": "completed"
    },
    "tags": []
   },
   "outputs": [
    {
     "name": "stdout",
     "output_type": "stream",
     "text": [
      "[10:53:00] WARNING: ../src/learner.cc:627: \n",
      "Parameters: { \"gama\" } might not be used.\n",
      "\n",
      "  This could be a false alarm, with some parameters getting used by language bindings but\n",
      "  then being mistakenly passed down to XGBoost core, or some parameter actually being used\n",
      "  but getting flagged wrongly here. Please open an issue if you find any such cases.\n",
      "\n",
      "\n",
      "[10:53:00] WARNING: ../src/learner.cc:627: \n",
      "Parameters: { \"gama\" } might not be used.\n",
      "\n",
      "  This could be a false alarm, with some parameters getting used by language bindings but\n",
      "  then being mistakenly passed down to XGBoost core, or some parameter actually being used\n",
      "  but getting flagged wrongly here. Please open an issue if you find any such cases.\n",
      "\n",
      "\n",
      "[10:53:00] WARNING: ../src/learner.cc:627: \n",
      "Parameters: { \"gama\" } might not be used.\n",
      "\n",
      "  This could be a false alarm, with some parameters getting used by language bindings but\n",
      "  then being mistakenly passed down to XGBoost core, or some parameter actually being used\n",
      "  but getting flagged wrongly here. Please open an issue if you find any such cases.\n",
      "\n",
      "\n",
      "[10:53:01] WARNING: ../src/learner.cc:627: \n",
      "Parameters: { \"gama\" } might not be used.\n",
      "\n",
      "  This could be a false alarm, with some parameters getting used by language bindings but\n",
      "  then being mistakenly passed down to XGBoost core, or some parameter actually being used\n",
      "  but getting flagged wrongly here. Please open an issue if you find any such cases.\n",
      "\n",
      "\n",
      "[10:53:01] WARNING: ../src/learner.cc:627: \n",
      "Parameters: { \"gama\" } might not be used.\n",
      "\n",
      "  This could be a false alarm, with some parameters getting used by language bindings but\n",
      "  then being mistakenly passed down to XGBoost core, or some parameter actually being used\n",
      "  but getting flagged wrongly here. Please open an issue if you find any such cases.\n",
      "\n",
      "\n",
      "[10:53:01] WARNING: ../src/learner.cc:627: \n",
      "Parameters: { \"gama\" } might not be used.\n",
      "\n",
      "  This could be a false alarm, with some parameters getting used by language bindings but\n",
      "  then being mistakenly passed down to XGBoost core, or some parameter actually being used\n",
      "  but getting flagged wrongly here. Please open an issue if you find any such cases.\n",
      "\n",
      "\n",
      "[10:53:02] WARNING: ../src/learner.cc:627: \n",
      "Parameters: { \"gama\" } might not be used.\n",
      "\n",
      "  This could be a false alarm, with some parameters getting used by language bindings but\n",
      "  then being mistakenly passed down to XGBoost core, or some parameter actually being used\n",
      "  but getting flagged wrongly here. Please open an issue if you find any such cases.\n",
      "\n",
      "\n",
      "[10:53:02] WARNING: ../src/learner.cc:627: \n",
      "Parameters: { \"gama\" } might not be used.\n",
      "\n",
      "  This could be a false alarm, with some parameters getting used by language bindings but\n",
      "  then being mistakenly passed down to XGBoost core, or some parameter actually being used\n",
      "  but getting flagged wrongly here. Please open an issue if you find any such cases.\n",
      "\n",
      "\n",
      "[10:53:02] WARNING: ../src/learner.cc:627: \n",
      "Parameters: { \"gama\" } might not be used.\n",
      "\n",
      "  This could be a false alarm, with some parameters getting used by language bindings but\n",
      "  then being mistakenly passed down to XGBoost core, or some parameter actually being used\n",
      "  but getting flagged wrongly here. Please open an issue if you find any such cases.\n",
      "\n",
      "\n",
      "[10:53:02] WARNING: ../src/learner.cc:627: \n",
      "Parameters: { \"gama\" } might not be used.\n",
      "\n",
      "  This could be a false alarm, with some parameters getting used by language bindings but\n",
      "  then being mistakenly passed down to XGBoost core, or some parameter actually being used\n",
      "  but getting flagged wrongly here. Please open an issue if you find any such cases.\n",
      "\n",
      "\n",
      "[10:53:03] WARNING: ../src/learner.cc:627: \n",
      "Parameters: { \"gama\" } might not be used.\n",
      "\n",
      "  This could be a false alarm, with some parameters getting used by language bindings but\n",
      "  then being mistakenly passed down to XGBoost core, or some parameter actually being used\n",
      "  but getting flagged wrongly here. Please open an issue if you find any such cases.\n",
      "\n",
      "\n",
      "[10:53:03] WARNING: ../src/learner.cc:627: \n",
      "Parameters: { \"gama\" } might not be used.\n",
      "\n",
      "  This could be a false alarm, with some parameters getting used by language bindings but\n",
      "  then being mistakenly passed down to XGBoost core, or some parameter actually being used\n",
      "  but getting flagged wrongly here. Please open an issue if you find any such cases.\n",
      "\n",
      "\n",
      "[10:53:03] WARNING: ../src/learner.cc:627: \n",
      "Parameters: { \"gama\" } might not be used.\n",
      "\n",
      "  This could be a false alarm, with some parameters getting used by language bindings but\n",
      "  then being mistakenly passed down to XGBoost core, or some parameter actually being used\n",
      "  but getting flagged wrongly here. Please open an issue if you find any such cases.\n",
      "\n",
      "\n",
      "[10:53:04] WARNING: ../src/learner.cc:627: \n",
      "Parameters: { \"gama\" } might not be used.\n",
      "\n",
      "  This could be a false alarm, with some parameters getting used by language bindings but\n",
      "  then being mistakenly passed down to XGBoost core, or some parameter actually being used\n",
      "  but getting flagged wrongly here. Please open an issue if you find any such cases.\n",
      "\n",
      "\n",
      "[10:53:04] WARNING: ../src/learner.cc:627: \n",
      "Parameters: { \"gama\" } might not be used.\n",
      "\n",
      "  This could be a false alarm, with some parameters getting used by language bindings but\n",
      "  then being mistakenly passed down to XGBoost core, or some parameter actually being used\n",
      "  but getting flagged wrongly here. Please open an issue if you find any such cases.\n",
      "\n",
      "\n",
      "[10:53:04] WARNING: ../src/learner.cc:627: \n",
      "Parameters: { \"gama\" } might not be used.\n",
      "\n",
      "  This could be a false alarm, with some parameters getting used by language bindings but\n",
      "  then being mistakenly passed down to XGBoost core, or some parameter actually being used\n",
      "  but getting flagged wrongly here. Please open an issue if you find any such cases.\n",
      "\n",
      "\n",
      "[10:53:05] WARNING: ../src/learner.cc:627: \n",
      "Parameters: { \"gama\" } might not be used.\n",
      "\n",
      "  This could be a false alarm, with some parameters getting used by language bindings but\n",
      "  then being mistakenly passed down to XGBoost core, or some parameter actually being used\n",
      "  but getting flagged wrongly here. Please open an issue if you find any such cases.\n",
      "\n",
      "\n",
      "[10:53:05] WARNING: ../src/learner.cc:627: \n",
      "Parameters: { \"gama\" } might not be used.\n",
      "\n",
      "  This could be a false alarm, with some parameters getting used by language bindings but\n",
      "  then being mistakenly passed down to XGBoost core, or some parameter actually being used\n",
      "  but getting flagged wrongly here. Please open an issue if you find any such cases.\n",
      "\n",
      "\n",
      "[10:53:05] WARNING: ../src/learner.cc:627: \n",
      "Parameters: { \"gama\" } might not be used.\n",
      "\n",
      "  This could be a false alarm, with some parameters getting used by language bindings but\n",
      "  then being mistakenly passed down to XGBoost core, or some parameter actually being used\n",
      "  but getting flagged wrongly here. Please open an issue if you find any such cases.\n",
      "\n",
      "\n",
      "[10:53:06] WARNING: ../src/learner.cc:627: \n",
      "Parameters: { \"gama\" } might not be used.\n",
      "\n",
      "  This could be a false alarm, with some parameters getting used by language bindings but\n",
      "  then being mistakenly passed down to XGBoost core, or some parameter actually being used\n",
      "  but getting flagged wrongly here. Please open an issue if you find any such cases.\n",
      "\n",
      "\n",
      "[10:53:06] WARNING: ../src/learner.cc:627: \n",
      "Parameters: { \"gama\" } might not be used.\n",
      "\n",
      "  This could be a false alarm, with some parameters getting used by language bindings but\n",
      "  then being mistakenly passed down to XGBoost core, or some parameter actually being used\n",
      "  but getting flagged wrongly here. Please open an issue if you find any such cases.\n",
      "\n",
      "\n",
      "[10:53:06] WARNING: ../src/learner.cc:627: \n",
      "Parameters: { \"gama\" } might not be used.\n",
      "\n",
      "  This could be a false alarm, with some parameters getting used by language bindings but\n",
      "  then being mistakenly passed down to XGBoost core, or some parameter actually being used\n",
      "  but getting flagged wrongly here. Please open an issue if you find any such cases.\n",
      "\n",
      "\n",
      "[10:53:06] WARNING: ../src/learner.cc:627: \n",
      "Parameters: { \"gama\" } might not be used.\n",
      "\n",
      "  This could be a false alarm, with some parameters getting used by language bindings but\n",
      "  then being mistakenly passed down to XGBoost core, or some parameter actually being used\n",
      "  but getting flagged wrongly here. Please open an issue if you find any such cases.\n",
      "\n",
      "\n",
      "[10:53:07] WARNING: ../src/learner.cc:627: \n",
      "Parameters: { \"gama\" } might not be used.\n",
      "\n",
      "  This could be a false alarm, with some parameters getting used by language bindings but\n",
      "  then being mistakenly passed down to XGBoost core, or some parameter actually being used\n",
      "  but getting flagged wrongly here. Please open an issue if you find any such cases.\n",
      "\n",
      "\n",
      "[10:53:07] WARNING: ../src/learner.cc:627: \n",
      "Parameters: { \"gama\" } might not be used.\n",
      "\n",
      "  This could be a false alarm, with some parameters getting used by language bindings but\n",
      "  then being mistakenly passed down to XGBoost core, or some parameter actually being used\n",
      "  but getting flagged wrongly here. Please open an issue if you find any such cases.\n",
      "\n",
      "\n",
      "[10:53:07] WARNING: ../src/learner.cc:627: \n",
      "Parameters: { \"gama\" } might not be used.\n",
      "\n",
      "  This could be a false alarm, with some parameters getting used by language bindings but\n",
      "  then being mistakenly passed down to XGBoost core, or some parameter actually being used\n",
      "  but getting flagged wrongly here. Please open an issue if you find any such cases.\n",
      "\n",
      "\n",
      "[10:53:09] WARNING: ../src/learner.cc:627: \n",
      "Parameters: { \"gama\" } might not be used.\n",
      "\n",
      "  This could be a false alarm, with some parameters getting used by language bindings but\n",
      "  then being mistakenly passed down to XGBoost core, or some parameter actually being used\n",
      "  but getting flagged wrongly here. Please open an issue if you find any such cases.\n",
      "\n",
      "\n",
      "[10:53:09] WARNING: ../src/learner.cc:627: \n",
      "Parameters: { \"gama\" } might not be used.\n",
      "\n",
      "  This could be a false alarm, with some parameters getting used by language bindings but\n",
      "  then being mistakenly passed down to XGBoost core, or some parameter actually being used\n",
      "  but getting flagged wrongly here. Please open an issue if you find any such cases.\n",
      "\n",
      "\n",
      "[10:53:09] WARNING: ../src/learner.cc:627: \n",
      "Parameters: { \"gama\" } might not be used.\n",
      "\n",
      "  This could be a false alarm, with some parameters getting used by language bindings but\n",
      "  then being mistakenly passed down to XGBoost core, or some parameter actually being used\n",
      "  but getting flagged wrongly here. Please open an issue if you find any such cases.\n",
      "\n",
      "\n",
      "[10:53:10] WARNING: ../src/learner.cc:627: \n",
      "Parameters: { \"gama\" } might not be used.\n",
      "\n",
      "  This could be a false alarm, with some parameters getting used by language bindings but\n",
      "  then being mistakenly passed down to XGBoost core, or some parameter actually being used\n",
      "  but getting flagged wrongly here. Please open an issue if you find any such cases.\n",
      "\n",
      "\n",
      "[10:53:10] WARNING: ../src/learner.cc:627: \n",
      "Parameters: { \"gama\" } might not be used.\n",
      "\n",
      "  This could be a false alarm, with some parameters getting used by language bindings but\n",
      "  then being mistakenly passed down to XGBoost core, or some parameter actually being used\n",
      "  but getting flagged wrongly here. Please open an issue if you find any such cases.\n",
      "\n",
      "\n",
      "[10:53:10] WARNING: ../src/learner.cc:627: \n",
      "Parameters: { \"gama\" } might not be used.\n",
      "\n",
      "  This could be a false alarm, with some parameters getting used by language bindings but\n",
      "  then being mistakenly passed down to XGBoost core, or some parameter actually being used\n",
      "  but getting flagged wrongly here. Please open an issue if you find any such cases.\n",
      "\n",
      "\n",
      "[10:53:10] WARNING: ../src/learner.cc:627: \n",
      "Parameters: { \"gama\" } might not be used.\n",
      "\n",
      "  This could be a false alarm, with some parameters getting used by language bindings but\n",
      "  then being mistakenly passed down to XGBoost core, or some parameter actually being used\n",
      "  but getting flagged wrongly here. Please open an issue if you find any such cases.\n",
      "\n",
      "\n",
      "[10:53:11] WARNING: ../src/learner.cc:627: \n",
      "Parameters: { \"gama\" } might not be used.\n",
      "\n",
      "  This could be a false alarm, with some parameters getting used by language bindings but\n",
      "  then being mistakenly passed down to XGBoost core, or some parameter actually being used\n",
      "  but getting flagged wrongly here. Please open an issue if you find any such cases.\n",
      "\n",
      "\n",
      "[10:53:11] WARNING: ../src/learner.cc:627: \n",
      "Parameters: { \"gama\" } might not be used.\n",
      "\n",
      "  This could be a false alarm, with some parameters getting used by language bindings but\n",
      "  then being mistakenly passed down to XGBoost core, or some parameter actually being used\n",
      "  but getting flagged wrongly here. Please open an issue if you find any such cases.\n",
      "\n",
      "\n",
      "[10:53:11] WARNING: ../src/learner.cc:627: \n",
      "Parameters: { \"gama\" } might not be used.\n",
      "\n",
      "  This could be a false alarm, with some parameters getting used by language bindings but\n",
      "  then being mistakenly passed down to XGBoost core, or some parameter actually being used\n",
      "  but getting flagged wrongly here. Please open an issue if you find any such cases.\n",
      "\n",
      "\n",
      "[10:53:12] WARNING: ../src/learner.cc:627: \n",
      "Parameters: { \"gama\" } might not be used.\n",
      "\n",
      "  This could be a false alarm, with some parameters getting used by language bindings but\n",
      "  then being mistakenly passed down to XGBoost core, or some parameter actually being used\n",
      "  but getting flagged wrongly here. Please open an issue if you find any such cases.\n",
      "\n",
      "\n",
      "[10:53:12] WARNING: ../src/learner.cc:627: \n",
      "Parameters: { \"gama\" } might not be used.\n",
      "\n",
      "  This could be a false alarm, with some parameters getting used by language bindings but\n",
      "  then being mistakenly passed down to XGBoost core, or some parameter actually being used\n",
      "  but getting flagged wrongly here. Please open an issue if you find any such cases.\n",
      "\n",
      "\n",
      "[10:53:12] WARNING: ../src/learner.cc:627: \n",
      "Parameters: { \"gama\" } might not be used.\n",
      "\n",
      "  This could be a false alarm, with some parameters getting used by language bindings but\n",
      "  then being mistakenly passed down to XGBoost core, or some parameter actually being used\n",
      "  but getting flagged wrongly here. Please open an issue if you find any such cases.\n",
      "\n",
      "\n",
      "[10:53:13] WARNING: ../src/learner.cc:627: \n",
      "Parameters: { \"gama\" } might not be used.\n",
      "\n",
      "  This could be a false alarm, with some parameters getting used by language bindings but\n",
      "  then being mistakenly passed down to XGBoost core, or some parameter actually being used\n",
      "  but getting flagged wrongly here. Please open an issue if you find any such cases.\n",
      "\n",
      "\n",
      "[10:53:13] WARNING: ../src/learner.cc:627: \n",
      "Parameters: { \"gama\" } might not be used.\n",
      "\n",
      "  This could be a false alarm, with some parameters getting used by language bindings but\n",
      "  then being mistakenly passed down to XGBoost core, or some parameter actually being used\n",
      "  but getting flagged wrongly here. Please open an issue if you find any such cases.\n",
      "\n",
      "\n",
      "0.8131488230079779\n"
     ]
    },
    {
     "data": {
      "text/plain": [
       "{'subsample': 0.9}"
      ]
     },
     "execution_count": 53,
     "metadata": {},
     "output_type": "execute_result"
    }
   ],
   "source": [
    "# rf_random = RandomizedSearchCV(estimator = model, param_distributions = random_grid, cv = 4)\n",
    "# OR\n",
    "rf_random = GridSearchCV(model, random_grid, cv=5)\n",
    "\n",
    "x_train, x_test, y_train, y_test = train_test_split(x, y, test_size=0.2, random_state=11)\n",
    "rf_random.fit(x_train, y_train)\n",
    "print(rf_random.best_score_)\n",
    "rf_random.best_params_"
   ]
  },
  {
   "cell_type": "markdown",
   "id": "21c5edaa",
   "metadata": {
    "papermill": {
     "duration": 0.037187,
     "end_time": "2023-01-08T10:53:13.823936",
     "exception": false,
     "start_time": "2023-01-08T10:53:13.786749",
     "status": "completed"
    },
    "tags": []
   },
   "source": [
    "## 7.6 colsample_bytree= 0.73 & Accuracy= 81.176%"
   ]
  },
  {
   "cell_type": "code",
   "execution_count": 54,
   "id": "b36ce377",
   "metadata": {
    "execution": {
     "iopub.execute_input": "2023-01-08T10:53:13.901200Z",
     "iopub.status.busy": "2023-01-08T10:53:13.900435Z",
     "iopub.status.idle": "2023-01-08T10:53:13.906724Z",
     "shell.execute_reply": "2023-01-08T10:53:13.905548Z"
    },
    "papermill": {
     "duration": 0.047893,
     "end_time": "2023-01-08T10:53:13.909148",
     "exception": false,
     "start_time": "2023-01-08T10:53:13.861255",
     "status": "completed"
    },
    "tags": []
   },
   "outputs": [],
   "source": [
    "model = XGBClassifier(eta=0.09090909090909091, max_depth=6, min_child_weight=1, gama=0.2, subsample=0.9)\n",
    "random_grid = {'colsample_bytree': [i/100.0 for i in range (70, 80, 1)]\n",
    "              }"
   ]
  },
  {
   "cell_type": "code",
   "execution_count": 55,
   "id": "bad52946",
   "metadata": {
    "execution": {
     "iopub.execute_input": "2023-01-08T10:53:13.988177Z",
     "iopub.status.busy": "2023-01-08T10:53:13.987183Z",
     "iopub.status.idle": "2023-01-08T10:53:29.279188Z",
     "shell.execute_reply": "2023-01-08T10:53:29.278279Z"
    },
    "papermill": {
     "duration": 15.334005,
     "end_time": "2023-01-08T10:53:29.282000",
     "exception": false,
     "start_time": "2023-01-08T10:53:13.947995",
     "status": "completed"
    },
    "tags": []
   },
   "outputs": [
    {
     "name": "stdout",
     "output_type": "stream",
     "text": [
      "[10:53:14] WARNING: ../src/learner.cc:627: \n",
      "Parameters: { \"gama\" } might not be used.\n",
      "\n",
      "  This could be a false alarm, with some parameters getting used by language bindings but\n",
      "  then being mistakenly passed down to XGBoost core, or some parameter actually being used\n",
      "  but getting flagged wrongly here. Please open an issue if you find any such cases.\n",
      "\n",
      "\n",
      "[10:53:14] WARNING: ../src/learner.cc:627: \n",
      "Parameters: { \"gama\" } might not be used.\n",
      "\n",
      "  This could be a false alarm, with some parameters getting used by language bindings but\n",
      "  then being mistakenly passed down to XGBoost core, or some parameter actually being used\n",
      "  but getting flagged wrongly here. Please open an issue if you find any such cases.\n",
      "\n",
      "\n",
      "[10:53:14] WARNING: ../src/learner.cc:627: \n",
      "Parameters: { \"gama\" } might not be used.\n",
      "\n",
      "  This could be a false alarm, with some parameters getting used by language bindings but\n",
      "  then being mistakenly passed down to XGBoost core, or some parameter actually being used\n",
      "  but getting flagged wrongly here. Please open an issue if you find any such cases.\n",
      "\n",
      "\n",
      "[10:53:14] WARNING: ../src/learner.cc:627: \n",
      "Parameters: { \"gama\" } might not be used.\n",
      "\n",
      "  This could be a false alarm, with some parameters getting used by language bindings but\n",
      "  then being mistakenly passed down to XGBoost core, or some parameter actually being used\n",
      "  but getting flagged wrongly here. Please open an issue if you find any such cases.\n",
      "\n",
      "\n",
      "[10:53:15] WARNING: ../src/learner.cc:627: \n",
      "Parameters: { \"gama\" } might not be used.\n",
      "\n",
      "  This could be a false alarm, with some parameters getting used by language bindings but\n",
      "  then being mistakenly passed down to XGBoost core, or some parameter actually being used\n",
      "  but getting flagged wrongly here. Please open an issue if you find any such cases.\n",
      "\n",
      "\n",
      "[10:53:15] WARNING: ../src/learner.cc:627: \n",
      "Parameters: { \"gama\" } might not be used.\n",
      "\n",
      "  This could be a false alarm, with some parameters getting used by language bindings but\n",
      "  then being mistakenly passed down to XGBoost core, or some parameter actually being used\n",
      "  but getting flagged wrongly here. Please open an issue if you find any such cases.\n",
      "\n",
      "\n",
      "[10:53:15] WARNING: ../src/learner.cc:627: \n",
      "Parameters: { \"gama\" } might not be used.\n",
      "\n",
      "  This could be a false alarm, with some parameters getting used by language bindings but\n",
      "  then being mistakenly passed down to XGBoost core, or some parameter actually being used\n",
      "  but getting flagged wrongly here. Please open an issue if you find any such cases.\n",
      "\n",
      "\n",
      "[10:53:16] WARNING: ../src/learner.cc:627: \n",
      "Parameters: { \"gama\" } might not be used.\n",
      "\n",
      "  This could be a false alarm, with some parameters getting used by language bindings but\n",
      "  then being mistakenly passed down to XGBoost core, or some parameter actually being used\n",
      "  but getting flagged wrongly here. Please open an issue if you find any such cases.\n",
      "\n",
      "\n",
      "[10:53:16] WARNING: ../src/learner.cc:627: \n",
      "Parameters: { \"gama\" } might not be used.\n",
      "\n",
      "  This could be a false alarm, with some parameters getting used by language bindings but\n",
      "  then being mistakenly passed down to XGBoost core, or some parameter actually being used\n",
      "  but getting flagged wrongly here. Please open an issue if you find any such cases.\n",
      "\n",
      "\n",
      "[10:53:16] WARNING: ../src/learner.cc:627: \n",
      "Parameters: { \"gama\" } might not be used.\n",
      "\n",
      "  This could be a false alarm, with some parameters getting used by language bindings but\n",
      "  then being mistakenly passed down to XGBoost core, or some parameter actually being used\n",
      "  but getting flagged wrongly here. Please open an issue if you find any such cases.\n",
      "\n",
      "\n",
      "[10:53:17] WARNING: ../src/learner.cc:627: \n",
      "Parameters: { \"gama\" } might not be used.\n",
      "\n",
      "  This could be a false alarm, with some parameters getting used by language bindings but\n",
      "  then being mistakenly passed down to XGBoost core, or some parameter actually being used\n",
      "  but getting flagged wrongly here. Please open an issue if you find any such cases.\n",
      "\n",
      "\n",
      "[10:53:17] WARNING: ../src/learner.cc:627: \n",
      "Parameters: { \"gama\" } might not be used.\n",
      "\n",
      "  This could be a false alarm, with some parameters getting used by language bindings but\n",
      "  then being mistakenly passed down to XGBoost core, or some parameter actually being used\n",
      "  but getting flagged wrongly here. Please open an issue if you find any such cases.\n",
      "\n",
      "\n",
      "[10:53:17] WARNING: ../src/learner.cc:627: \n",
      "Parameters: { \"gama\" } might not be used.\n",
      "\n",
      "  This could be a false alarm, with some parameters getting used by language bindings but\n",
      "  then being mistakenly passed down to XGBoost core, or some parameter actually being used\n",
      "  but getting flagged wrongly here. Please open an issue if you find any such cases.\n",
      "\n",
      "\n",
      "[10:53:17] WARNING: ../src/learner.cc:627: \n",
      "Parameters: { \"gama\" } might not be used.\n",
      "\n",
      "  This could be a false alarm, with some parameters getting used by language bindings but\n",
      "  then being mistakenly passed down to XGBoost core, or some parameter actually being used\n",
      "  but getting flagged wrongly here. Please open an issue if you find any such cases.\n",
      "\n",
      "\n",
      "[10:53:18] WARNING: ../src/learner.cc:627: \n",
      "Parameters: { \"gama\" } might not be used.\n",
      "\n",
      "  This could be a false alarm, with some parameters getting used by language bindings but\n",
      "  then being mistakenly passed down to XGBoost core, or some parameter actually being used\n",
      "  but getting flagged wrongly here. Please open an issue if you find any such cases.\n",
      "\n",
      "\n",
      "[10:53:18] WARNING: ../src/learner.cc:627: \n",
      "Parameters: { \"gama\" } might not be used.\n",
      "\n",
      "  This could be a false alarm, with some parameters getting used by language bindings but\n",
      "  then being mistakenly passed down to XGBoost core, or some parameter actually being used\n",
      "  but getting flagged wrongly here. Please open an issue if you find any such cases.\n",
      "\n",
      "\n",
      "[10:53:18] WARNING: ../src/learner.cc:627: \n",
      "Parameters: { \"gama\" } might not be used.\n",
      "\n",
      "  This could be a false alarm, with some parameters getting used by language bindings but\n",
      "  then being mistakenly passed down to XGBoost core, or some parameter actually being used\n",
      "  but getting flagged wrongly here. Please open an issue if you find any such cases.\n",
      "\n",
      "\n",
      "[10:53:19] WARNING: ../src/learner.cc:627: \n",
      "Parameters: { \"gama\" } might not be used.\n",
      "\n",
      "  This could be a false alarm, with some parameters getting used by language bindings but\n",
      "  then being mistakenly passed down to XGBoost core, or some parameter actually being used\n",
      "  but getting flagged wrongly here. Please open an issue if you find any such cases.\n",
      "\n",
      "\n",
      "[10:53:19] WARNING: ../src/learner.cc:627: \n",
      "Parameters: { \"gama\" } might not be used.\n",
      "\n",
      "  This could be a false alarm, with some parameters getting used by language bindings but\n",
      "  then being mistakenly passed down to XGBoost core, or some parameter actually being used\n",
      "  but getting flagged wrongly here. Please open an issue if you find any such cases.\n",
      "\n",
      "\n",
      "[10:53:19] WARNING: ../src/learner.cc:627: \n",
      "Parameters: { \"gama\" } might not be used.\n",
      "\n",
      "  This could be a false alarm, with some parameters getting used by language bindings but\n",
      "  then being mistakenly passed down to XGBoost core, or some parameter actually being used\n",
      "  but getting flagged wrongly here. Please open an issue if you find any such cases.\n",
      "\n",
      "\n",
      "[10:53:19] WARNING: ../src/learner.cc:627: \n",
      "Parameters: { \"gama\" } might not be used.\n",
      "\n",
      "  This could be a false alarm, with some parameters getting used by language bindings but\n",
      "  then being mistakenly passed down to XGBoost core, or some parameter actually being used\n",
      "  but getting flagged wrongly here. Please open an issue if you find any such cases.\n",
      "\n",
      "\n",
      "[10:53:20] WARNING: ../src/learner.cc:627: \n",
      "Parameters: { \"gama\" } might not be used.\n",
      "\n",
      "  This could be a false alarm, with some parameters getting used by language bindings but\n",
      "  then being mistakenly passed down to XGBoost core, or some parameter actually being used\n",
      "  but getting flagged wrongly here. Please open an issue if you find any such cases.\n",
      "\n",
      "\n",
      "[10:53:20] WARNING: ../src/learner.cc:627: \n",
      "Parameters: { \"gama\" } might not be used.\n",
      "\n",
      "  This could be a false alarm, with some parameters getting used by language bindings but\n",
      "  then being mistakenly passed down to XGBoost core, or some parameter actually being used\n",
      "  but getting flagged wrongly here. Please open an issue if you find any such cases.\n",
      "\n",
      "\n",
      "[10:53:20] WARNING: ../src/learner.cc:627: \n",
      "Parameters: { \"gama\" } might not be used.\n",
      "\n",
      "  This could be a false alarm, with some parameters getting used by language bindings but\n",
      "  then being mistakenly passed down to XGBoost core, or some parameter actually being used\n",
      "  but getting flagged wrongly here. Please open an issue if you find any such cases.\n",
      "\n",
      "\n",
      "[10:53:21] WARNING: ../src/learner.cc:627: \n",
      "Parameters: { \"gama\" } might not be used.\n",
      "\n",
      "  This could be a false alarm, with some parameters getting used by language bindings but\n",
      "  then being mistakenly passed down to XGBoost core, or some parameter actually being used\n",
      "  but getting flagged wrongly here. Please open an issue if you find any such cases.\n",
      "\n",
      "\n",
      "[10:53:21] WARNING: ../src/learner.cc:627: \n",
      "Parameters: { \"gama\" } might not be used.\n",
      "\n",
      "  This could be a false alarm, with some parameters getting used by language bindings but\n",
      "  then being mistakenly passed down to XGBoost core, or some parameter actually being used\n",
      "  but getting flagged wrongly here. Please open an issue if you find any such cases.\n",
      "\n",
      "\n",
      "[10:53:21] WARNING: ../src/learner.cc:627: \n",
      "Parameters: { \"gama\" } might not be used.\n",
      "\n",
      "  This could be a false alarm, with some parameters getting used by language bindings but\n",
      "  then being mistakenly passed down to XGBoost core, or some parameter actually being used\n",
      "  but getting flagged wrongly here. Please open an issue if you find any such cases.\n",
      "\n",
      "\n",
      "[10:53:22] WARNING: ../src/learner.cc:627: \n",
      "Parameters: { \"gama\" } might not be used.\n",
      "\n",
      "  This could be a false alarm, with some parameters getting used by language bindings but\n",
      "  then being mistakenly passed down to XGBoost core, or some parameter actually being used\n",
      "  but getting flagged wrongly here. Please open an issue if you find any such cases.\n",
      "\n",
      "\n",
      "[10:53:22] WARNING: ../src/learner.cc:627: \n",
      "Parameters: { \"gama\" } might not be used.\n",
      "\n",
      "  This could be a false alarm, with some parameters getting used by language bindings but\n",
      "  then being mistakenly passed down to XGBoost core, or some parameter actually being used\n",
      "  but getting flagged wrongly here. Please open an issue if you find any such cases.\n",
      "\n",
      "\n",
      "[10:53:22] WARNING: ../src/learner.cc:627: \n",
      "Parameters: { \"gama\" } might not be used.\n",
      "\n",
      "  This could be a false alarm, with some parameters getting used by language bindings but\n",
      "  then being mistakenly passed down to XGBoost core, or some parameter actually being used\n",
      "  but getting flagged wrongly here. Please open an issue if you find any such cases.\n",
      "\n",
      "\n",
      "[10:53:22] WARNING: ../src/learner.cc:627: \n",
      "Parameters: { \"gama\" } might not be used.\n",
      "\n",
      "  This could be a false alarm, with some parameters getting used by language bindings but\n",
      "  then being mistakenly passed down to XGBoost core, or some parameter actually being used\n",
      "  but getting flagged wrongly here. Please open an issue if you find any such cases.\n",
      "\n",
      "\n",
      "[10:53:23] WARNING: ../src/learner.cc:627: \n",
      "Parameters: { \"gama\" } might not be used.\n",
      "\n",
      "  This could be a false alarm, with some parameters getting used by language bindings but\n",
      "  then being mistakenly passed down to XGBoost core, or some parameter actually being used\n",
      "  but getting flagged wrongly here. Please open an issue if you find any such cases.\n",
      "\n",
      "\n",
      "[10:53:23] WARNING: ../src/learner.cc:627: \n",
      "Parameters: { \"gama\" } might not be used.\n",
      "\n",
      "  This could be a false alarm, with some parameters getting used by language bindings but\n",
      "  then being mistakenly passed down to XGBoost core, or some parameter actually being used\n",
      "  but getting flagged wrongly here. Please open an issue if you find any such cases.\n",
      "\n",
      "\n",
      "[10:53:23] WARNING: ../src/learner.cc:627: \n",
      "Parameters: { \"gama\" } might not be used.\n",
      "\n",
      "  This could be a false alarm, with some parameters getting used by language bindings but\n",
      "  then being mistakenly passed down to XGBoost core, or some parameter actually being used\n",
      "  but getting flagged wrongly here. Please open an issue if you find any such cases.\n",
      "\n",
      "\n",
      "[10:53:24] WARNING: ../src/learner.cc:627: \n",
      "Parameters: { \"gama\" } might not be used.\n",
      "\n",
      "  This could be a false alarm, with some parameters getting used by language bindings but\n",
      "  then being mistakenly passed down to XGBoost core, or some parameter actually being used\n",
      "  but getting flagged wrongly here. Please open an issue if you find any such cases.\n",
      "\n",
      "\n",
      "[10:53:24] WARNING: ../src/learner.cc:627: \n",
      "Parameters: { \"gama\" } might not be used.\n",
      "\n",
      "  This could be a false alarm, with some parameters getting used by language bindings but\n",
      "  then being mistakenly passed down to XGBoost core, or some parameter actually being used\n",
      "  but getting flagged wrongly here. Please open an issue if you find any such cases.\n",
      "\n",
      "\n",
      "[10:53:24] WARNING: ../src/learner.cc:627: \n",
      "Parameters: { \"gama\" } might not be used.\n",
      "\n",
      "  This could be a false alarm, with some parameters getting used by language bindings but\n",
      "  then being mistakenly passed down to XGBoost core, or some parameter actually being used\n",
      "  but getting flagged wrongly here. Please open an issue if you find any such cases.\n",
      "\n",
      "\n",
      "[10:53:25] WARNING: ../src/learner.cc:627: \n",
      "Parameters: { \"gama\" } might not be used.\n",
      "\n",
      "  This could be a false alarm, with some parameters getting used by language bindings but\n",
      "  then being mistakenly passed down to XGBoost core, or some parameter actually being used\n",
      "  but getting flagged wrongly here. Please open an issue if you find any such cases.\n",
      "\n",
      "\n",
      "[10:53:25] WARNING: ../src/learner.cc:627: \n",
      "Parameters: { \"gama\" } might not be used.\n",
      "\n",
      "  This could be a false alarm, with some parameters getting used by language bindings but\n",
      "  then being mistakenly passed down to XGBoost core, or some parameter actually being used\n",
      "  but getting flagged wrongly here. Please open an issue if you find any such cases.\n",
      "\n",
      "\n",
      "[10:53:25] WARNING: ../src/learner.cc:627: \n",
      "Parameters: { \"gama\" } might not be used.\n",
      "\n",
      "  This could be a false alarm, with some parameters getting used by language bindings but\n",
      "  then being mistakenly passed down to XGBoost core, or some parameter actually being used\n",
      "  but getting flagged wrongly here. Please open an issue if you find any such cases.\n",
      "\n",
      "\n",
      "[10:53:25] WARNING: ../src/learner.cc:627: \n",
      "Parameters: { \"gama\" } might not be used.\n",
      "\n",
      "  This could be a false alarm, with some parameters getting used by language bindings but\n",
      "  then being mistakenly passed down to XGBoost core, or some parameter actually being used\n",
      "  but getting flagged wrongly here. Please open an issue if you find any such cases.\n",
      "\n",
      "\n",
      "[10:53:26] WARNING: ../src/learner.cc:627: \n",
      "Parameters: { \"gama\" } might not be used.\n",
      "\n",
      "  This could be a false alarm, with some parameters getting used by language bindings but\n",
      "  then being mistakenly passed down to XGBoost core, or some parameter actually being used\n",
      "  but getting flagged wrongly here. Please open an issue if you find any such cases.\n",
      "\n",
      "\n",
      "[10:53:26] WARNING: ../src/learner.cc:627: \n",
      "Parameters: { \"gama\" } might not be used.\n",
      "\n",
      "  This could be a false alarm, with some parameters getting used by language bindings but\n",
      "  then being mistakenly passed down to XGBoost core, or some parameter actually being used\n",
      "  but getting flagged wrongly here. Please open an issue if you find any such cases.\n",
      "\n",
      "\n",
      "[10:53:26] WARNING: ../src/learner.cc:627: \n",
      "Parameters: { \"gama\" } might not be used.\n",
      "\n",
      "  This could be a false alarm, with some parameters getting used by language bindings but\n",
      "  then being mistakenly passed down to XGBoost core, or some parameter actually being used\n",
      "  but getting flagged wrongly here. Please open an issue if you find any such cases.\n",
      "\n",
      "\n",
      "[10:53:27] WARNING: ../src/learner.cc:627: \n",
      "Parameters: { \"gama\" } might not be used.\n",
      "\n",
      "  This could be a false alarm, with some parameters getting used by language bindings but\n",
      "  then being mistakenly passed down to XGBoost core, or some parameter actually being used\n",
      "  but getting flagged wrongly here. Please open an issue if you find any such cases.\n",
      "\n",
      "\n",
      "[10:53:27] WARNING: ../src/learner.cc:627: \n",
      "Parameters: { \"gama\" } might not be used.\n",
      "\n",
      "  This could be a false alarm, with some parameters getting used by language bindings but\n",
      "  then being mistakenly passed down to XGBoost core, or some parameter actually being used\n",
      "  but getting flagged wrongly here. Please open an issue if you find any such cases.\n",
      "\n",
      "\n",
      "[10:53:27] WARNING: ../src/learner.cc:627: \n",
      "Parameters: { \"gama\" } might not be used.\n",
      "\n",
      "  This could be a false alarm, with some parameters getting used by language bindings but\n",
      "  then being mistakenly passed down to XGBoost core, or some parameter actually being used\n",
      "  but getting flagged wrongly here. Please open an issue if you find any such cases.\n",
      "\n",
      "\n",
      "[10:53:28] WARNING: ../src/learner.cc:627: \n",
      "Parameters: { \"gama\" } might not be used.\n",
      "\n",
      "  This could be a false alarm, with some parameters getting used by language bindings but\n",
      "  then being mistakenly passed down to XGBoost core, or some parameter actually being used\n",
      "  but getting flagged wrongly here. Please open an issue if you find any such cases.\n",
      "\n",
      "\n",
      "[10:53:28] WARNING: ../src/learner.cc:627: \n",
      "Parameters: { \"gama\" } might not be used.\n",
      "\n",
      "  This could be a false alarm, with some parameters getting used by language bindings but\n",
      "  then being mistakenly passed down to XGBoost core, or some parameter actually being used\n",
      "  but getting flagged wrongly here. Please open an issue if you find any such cases.\n",
      "\n",
      "\n",
      "[10:53:28] WARNING: ../src/learner.cc:627: \n",
      "Parameters: { \"gama\" } might not be used.\n",
      "\n",
      "  This could be a false alarm, with some parameters getting used by language bindings but\n",
      "  then being mistakenly passed down to XGBoost core, or some parameter actually being used\n",
      "  but getting flagged wrongly here. Please open an issue if you find any such cases.\n",
      "\n",
      "\n",
      "[10:53:28] WARNING: ../src/learner.cc:627: \n",
      "Parameters: { \"gama\" } might not be used.\n",
      "\n",
      "  This could be a false alarm, with some parameters getting used by language bindings but\n",
      "  then being mistakenly passed down to XGBoost core, or some parameter actually being used\n",
      "  but getting flagged wrongly here. Please open an issue if you find any such cases.\n",
      "\n",
      "\n",
      "0.8145572737122032\n"
     ]
    },
    {
     "data": {
      "text/plain": [
       "{'colsample_bytree': 0.7}"
      ]
     },
     "execution_count": 55,
     "metadata": {},
     "output_type": "execute_result"
    }
   ],
   "source": [
    "# rf_random = RandomizedSearchCV(estimator = model, param_distributions = random_grid, cv = 4)\n",
    "# OR\n",
    "rf_random = GridSearchCV(model, random_grid, cv=5)\n",
    "\n",
    "x_train, x_test, y_train, y_test = train_test_split(x, y, test_size=0.2, random_state=11)\n",
    "rf_random.fit(x_train, y_train)\n",
    "print(rf_random.best_score_)\n",
    "rf_random.best_params_"
   ]
  },
  {
   "cell_type": "markdown",
   "id": "cadd92a7",
   "metadata": {
    "papermill": {
     "duration": 0.041678,
     "end_time": "2023-01-08T10:53:29.365752",
     "exception": false,
     "start_time": "2023-01-08T10:53:29.324074",
     "status": "completed"
    },
    "tags": []
   },
   "source": [
    "## 7.7 reg_alpha= 0.005 & Accuracy= 81.317%"
   ]
  },
  {
   "cell_type": "code",
   "execution_count": 56,
   "id": "129ed77b",
   "metadata": {
    "execution": {
     "iopub.execute_input": "2023-01-08T10:53:29.453022Z",
     "iopub.status.busy": "2023-01-08T10:53:29.452572Z",
     "iopub.status.idle": "2023-01-08T10:53:29.458046Z",
     "shell.execute_reply": "2023-01-08T10:53:29.457006Z"
    },
    "papermill": {
     "duration": 0.052168,
     "end_time": "2023-01-08T10:53:29.460505",
     "exception": false,
     "start_time": "2023-01-08T10:53:29.408337",
     "status": "completed"
    },
    "tags": []
   },
   "outputs": [],
   "source": [
    "model = XGBClassifier(eta=0.09090909090909091, max_depth=6, min_child_weight=1, gama=0.2, subsample=0.9, colsample_bytree=0.73)\n",
    "random_grid = {'reg_alpha': [0, 0.001, 0.005, 0.01, 0.05]\n",
    "              }"
   ]
  },
  {
   "cell_type": "code",
   "execution_count": 57,
   "id": "cf8c3377",
   "metadata": {
    "execution": {
     "iopub.execute_input": "2023-01-08T10:53:29.548810Z",
     "iopub.status.busy": "2023-01-08T10:53:29.548346Z",
     "iopub.status.idle": "2023-01-08T10:53:37.342551Z",
     "shell.execute_reply": "2023-01-08T10:53:37.341682Z"
    },
    "papermill": {
     "duration": 7.841693,
     "end_time": "2023-01-08T10:53:37.345231",
     "exception": false,
     "start_time": "2023-01-08T10:53:29.503538",
     "status": "completed"
    },
    "tags": []
   },
   "outputs": [
    {
     "name": "stdout",
     "output_type": "stream",
     "text": [
      "[10:53:29] WARNING: ../src/learner.cc:627: \n",
      "Parameters: { \"gama\" } might not be used.\n",
      "\n",
      "  This could be a false alarm, with some parameters getting used by language bindings but\n",
      "  then being mistakenly passed down to XGBoost core, or some parameter actually being used\n",
      "  but getting flagged wrongly here. Please open an issue if you find any such cases.\n",
      "\n",
      "\n",
      "[10:53:29] WARNING: ../src/learner.cc:627: \n",
      "Parameters: { \"gama\" } might not be used.\n",
      "\n",
      "  This could be a false alarm, with some parameters getting used by language bindings but\n",
      "  then being mistakenly passed down to XGBoost core, or some parameter actually being used\n",
      "  but getting flagged wrongly here. Please open an issue if you find any such cases.\n",
      "\n",
      "\n",
      "[10:53:30] WARNING: ../src/learner.cc:627: \n",
      "Parameters: { \"gama\" } might not be used.\n",
      "\n",
      "  This could be a false alarm, with some parameters getting used by language bindings but\n",
      "  then being mistakenly passed down to XGBoost core, or some parameter actually being used\n",
      "  but getting flagged wrongly here. Please open an issue if you find any such cases.\n",
      "\n",
      "\n",
      "[10:53:30] WARNING: ../src/learner.cc:627: \n",
      "Parameters: { \"gama\" } might not be used.\n",
      "\n",
      "  This could be a false alarm, with some parameters getting used by language bindings but\n",
      "  then being mistakenly passed down to XGBoost core, or some parameter actually being used\n",
      "  but getting flagged wrongly here. Please open an issue if you find any such cases.\n",
      "\n",
      "\n",
      "[10:53:30] WARNING: ../src/learner.cc:627: \n",
      "Parameters: { \"gama\" } might not be used.\n",
      "\n",
      "  This could be a false alarm, with some parameters getting used by language bindings but\n",
      "  then being mistakenly passed down to XGBoost core, or some parameter actually being used\n",
      "  but getting flagged wrongly here. Please open an issue if you find any such cases.\n",
      "\n",
      "\n",
      "[10:53:31] WARNING: ../src/learner.cc:627: \n",
      "Parameters: { \"gama\" } might not be used.\n",
      "\n",
      "  This could be a false alarm, with some parameters getting used by language bindings but\n",
      "  then being mistakenly passed down to XGBoost core, or some parameter actually being used\n",
      "  but getting flagged wrongly here. Please open an issue if you find any such cases.\n",
      "\n",
      "\n",
      "[10:53:31] WARNING: ../src/learner.cc:627: \n",
      "Parameters: { \"gama\" } might not be used.\n",
      "\n",
      "  This could be a false alarm, with some parameters getting used by language bindings but\n",
      "  then being mistakenly passed down to XGBoost core, or some parameter actually being used\n",
      "  but getting flagged wrongly here. Please open an issue if you find any such cases.\n",
      "\n",
      "\n",
      "[10:53:31] WARNING: ../src/learner.cc:627: \n",
      "Parameters: { \"gama\" } might not be used.\n",
      "\n",
      "  This could be a false alarm, with some parameters getting used by language bindings but\n",
      "  then being mistakenly passed down to XGBoost core, or some parameter actually being used\n",
      "  but getting flagged wrongly here. Please open an issue if you find any such cases.\n",
      "\n",
      "\n",
      "[10:53:31] WARNING: ../src/learner.cc:627: \n",
      "Parameters: { \"gama\" } might not be used.\n",
      "\n",
      "  This could be a false alarm, with some parameters getting used by language bindings but\n",
      "  then being mistakenly passed down to XGBoost core, or some parameter actually being used\n",
      "  but getting flagged wrongly here. Please open an issue if you find any such cases.\n",
      "\n",
      "\n",
      "[10:53:32] WARNING: ../src/learner.cc:627: \n",
      "Parameters: { \"gama\" } might not be used.\n",
      "\n",
      "  This could be a false alarm, with some parameters getting used by language bindings but\n",
      "  then being mistakenly passed down to XGBoost core, or some parameter actually being used\n",
      "  but getting flagged wrongly here. Please open an issue if you find any such cases.\n",
      "\n",
      "\n",
      "[10:53:32] WARNING: ../src/learner.cc:627: \n",
      "Parameters: { \"gama\" } might not be used.\n",
      "\n",
      "  This could be a false alarm, with some parameters getting used by language bindings but\n",
      "  then being mistakenly passed down to XGBoost core, or some parameter actually being used\n",
      "  but getting flagged wrongly here. Please open an issue if you find any such cases.\n",
      "\n",
      "\n",
      "[10:53:32] WARNING: ../src/learner.cc:627: \n",
      "Parameters: { \"gama\" } might not be used.\n",
      "\n",
      "  This could be a false alarm, with some parameters getting used by language bindings but\n",
      "  then being mistakenly passed down to XGBoost core, or some parameter actually being used\n",
      "  but getting flagged wrongly here. Please open an issue if you find any such cases.\n",
      "\n",
      "\n",
      "[10:53:33] WARNING: ../src/learner.cc:627: \n",
      "Parameters: { \"gama\" } might not be used.\n",
      "\n",
      "  This could be a false alarm, with some parameters getting used by language bindings but\n",
      "  then being mistakenly passed down to XGBoost core, or some parameter actually being used\n",
      "  but getting flagged wrongly here. Please open an issue if you find any such cases.\n",
      "\n",
      "\n",
      "[10:53:33] WARNING: ../src/learner.cc:627: \n",
      "Parameters: { \"gama\" } might not be used.\n",
      "\n",
      "  This could be a false alarm, with some parameters getting used by language bindings but\n",
      "  then being mistakenly passed down to XGBoost core, or some parameter actually being used\n",
      "  but getting flagged wrongly here. Please open an issue if you find any such cases.\n",
      "\n",
      "\n",
      "[10:53:33] WARNING: ../src/learner.cc:627: \n",
      "Parameters: { \"gama\" } might not be used.\n",
      "\n",
      "  This could be a false alarm, with some parameters getting used by language bindings but\n",
      "  then being mistakenly passed down to XGBoost core, or some parameter actually being used\n",
      "  but getting flagged wrongly here. Please open an issue if you find any such cases.\n",
      "\n",
      "\n",
      "[10:53:34] WARNING: ../src/learner.cc:627: \n",
      "Parameters: { \"gama\" } might not be used.\n",
      "\n",
      "  This could be a false alarm, with some parameters getting used by language bindings but\n",
      "  then being mistakenly passed down to XGBoost core, or some parameter actually being used\n",
      "  but getting flagged wrongly here. Please open an issue if you find any such cases.\n",
      "\n",
      "\n",
      "[10:53:34] WARNING: ../src/learner.cc:627: \n",
      "Parameters: { \"gama\" } might not be used.\n",
      "\n",
      "  This could be a false alarm, with some parameters getting used by language bindings but\n",
      "  then being mistakenly passed down to XGBoost core, or some parameter actually being used\n",
      "  but getting flagged wrongly here. Please open an issue if you find any such cases.\n",
      "\n",
      "\n",
      "[10:53:34] WARNING: ../src/learner.cc:627: \n",
      "Parameters: { \"gama\" } might not be used.\n",
      "\n",
      "  This could be a false alarm, with some parameters getting used by language bindings but\n",
      "  then being mistakenly passed down to XGBoost core, or some parameter actually being used\n",
      "  but getting flagged wrongly here. Please open an issue if you find any such cases.\n",
      "\n",
      "\n",
      "[10:53:34] WARNING: ../src/learner.cc:627: \n",
      "Parameters: { \"gama\" } might not be used.\n",
      "\n",
      "  This could be a false alarm, with some parameters getting used by language bindings but\n",
      "  then being mistakenly passed down to XGBoost core, or some parameter actually being used\n",
      "  but getting flagged wrongly here. Please open an issue if you find any such cases.\n",
      "\n",
      "\n",
      "[10:53:35] WARNING: ../src/learner.cc:627: \n",
      "Parameters: { \"gama\" } might not be used.\n",
      "\n",
      "  This could be a false alarm, with some parameters getting used by language bindings but\n",
      "  then being mistakenly passed down to XGBoost core, or some parameter actually being used\n",
      "  but getting flagged wrongly here. Please open an issue if you find any such cases.\n",
      "\n",
      "\n",
      "[10:53:35] WARNING: ../src/learner.cc:627: \n",
      "Parameters: { \"gama\" } might not be used.\n",
      "\n",
      "  This could be a false alarm, with some parameters getting used by language bindings but\n",
      "  then being mistakenly passed down to XGBoost core, or some parameter actually being used\n",
      "  but getting flagged wrongly here. Please open an issue if you find any such cases.\n",
      "\n",
      "\n",
      "[10:53:35] WARNING: ../src/learner.cc:627: \n",
      "Parameters: { \"gama\" } might not be used.\n",
      "\n",
      "  This could be a false alarm, with some parameters getting used by language bindings but\n",
      "  then being mistakenly passed down to XGBoost core, or some parameter actually being used\n",
      "  but getting flagged wrongly here. Please open an issue if you find any such cases.\n",
      "\n",
      "\n",
      "[10:53:36] WARNING: ../src/learner.cc:627: \n",
      "Parameters: { \"gama\" } might not be used.\n",
      "\n",
      "  This could be a false alarm, with some parameters getting used by language bindings but\n",
      "  then being mistakenly passed down to XGBoost core, or some parameter actually being used\n",
      "  but getting flagged wrongly here. Please open an issue if you find any such cases.\n",
      "\n",
      "\n",
      "[10:53:36] WARNING: ../src/learner.cc:627: \n",
      "Parameters: { \"gama\" } might not be used.\n",
      "\n",
      "  This could be a false alarm, with some parameters getting used by language bindings but\n",
      "  then being mistakenly passed down to XGBoost core, or some parameter actually being used\n",
      "  but getting flagged wrongly here. Please open an issue if you find any such cases.\n",
      "\n",
      "\n",
      "[10:53:36] WARNING: ../src/learner.cc:627: \n",
      "Parameters: { \"gama\" } might not be used.\n",
      "\n",
      "  This could be a false alarm, with some parameters getting used by language bindings but\n",
      "  then being mistakenly passed down to XGBoost core, or some parameter actually being used\n",
      "  but getting flagged wrongly here. Please open an issue if you find any such cases.\n",
      "\n",
      "\n",
      "[10:53:37] WARNING: ../src/learner.cc:627: \n",
      "Parameters: { \"gama\" } might not be used.\n",
      "\n",
      "  This could be a false alarm, with some parameters getting used by language bindings but\n",
      "  then being mistakenly passed down to XGBoost core, or some parameter actually being used\n",
      "  but getting flagged wrongly here. Please open an issue if you find any such cases.\n",
      "\n",
      "\n",
      "0.8145474244065791\n"
     ]
    },
    {
     "data": {
      "text/plain": [
       "{'reg_alpha': 0.001}"
      ]
     },
     "execution_count": 57,
     "metadata": {},
     "output_type": "execute_result"
    }
   ],
   "source": [
    "# rf_random = RandomizedSearchCV(estimator = model, param_distributions = random_grid, cv = 4)\n",
    "# OR\n",
    "rf_random = GridSearchCV(model, random_grid, cv=5)\n",
    "\n",
    "x_train, x_test, y_train, y_test = train_test_split(x, y, test_size=0.2, random_state=11)\n",
    "rf_random.fit(x_train, y_train)\n",
    "print(rf_random.best_score_)\n",
    "rf_random.best_params_"
   ]
  },
  {
   "cell_type": "code",
   "execution_count": 58,
   "id": "1db9f6cb",
   "metadata": {
    "execution": {
     "iopub.execute_input": "2023-01-08T10:53:37.436488Z",
     "iopub.status.busy": "2023-01-08T10:53:37.435484Z",
     "iopub.status.idle": "2023-01-08T10:53:37.444901Z",
     "shell.execute_reply": "2023-01-08T10:53:37.443981Z"
    },
    "papermill": {
     "duration": 0.056447,
     "end_time": "2023-01-08T10:53:37.447162",
     "exception": false,
     "start_time": "2023-01-08T10:53:37.390715",
     "status": "completed"
    },
    "tags": []
   },
   "outputs": [
    {
     "data": {
      "text/plain": [
       "XGBClassifier(base_score=None, booster=None, callbacks=None,\n",
       "              colsample_bylevel=None, colsample_bynode=None,\n",
       "              colsample_bytree=0.73, early_stopping_rounds=None,\n",
       "              enable_categorical=False, eta=0.09090909090909091,\n",
       "              eval_metric=None, gama=0.2, gamma=None, gpu_id=None,\n",
       "              grow_policy=None, importance_type=None,\n",
       "              interaction_constraints=None, learning_rate=None, max_bin=None,\n",
       "              max_cat_to_onehot=None, max_delta_step=None, max_depth=6,\n",
       "              max_leaves=None, min_child_weight=1, missing=nan,\n",
       "              monotone_constraints=None, n_estimators=100, n_jobs=None,\n",
       "              num_parallel_tree=None, predictor=None, random_state=None, ...)"
      ]
     },
     "execution_count": 58,
     "metadata": {},
     "output_type": "execute_result"
    }
   ],
   "source": [
    "model"
   ]
  },
  {
   "cell_type": "markdown",
   "id": "c19b2522",
   "metadata": {
    "papermill": {
     "duration": 0.043505,
     "end_time": "2023-01-08T10:53:37.534805",
     "exception": false,
     "start_time": "2023-01-08T10:53:37.491300",
     "status": "completed"
    },
    "tags": []
   },
   "source": [
    "## 7.8 Overall Accuracy after cross validation (cv) on GridSearchCV = 81.32%"
   ]
  },
  {
   "cell_type": "code",
   "execution_count": 59,
   "id": "9e115c59",
   "metadata": {
    "execution": {
     "iopub.execute_input": "2023-01-08T10:53:37.624429Z",
     "iopub.status.busy": "2023-01-08T10:53:37.624049Z",
     "iopub.status.idle": "2023-01-08T10:53:37.630602Z",
     "shell.execute_reply": "2023-01-08T10:53:37.629665Z"
    },
    "papermill": {
     "duration": 0.054174,
     "end_time": "2023-01-08T10:53:37.632802",
     "exception": false,
     "start_time": "2023-01-08T10:53:37.578628",
     "status": "completed"
    },
    "tags": []
   },
   "outputs": [],
   "source": [
    "model = XGBClassifier(eta=0.09090909090909091, max_depth=6, min_child_weight=1, gama=0.2, subsample=0.9, colsample_bytree=0.73, reg_alpha=0.005)\n",
    "# random_grid = {'reg_alpha': [0, 0.001, 0.005, 0.01, 0.05]\n",
    "#               }"
   ]
  },
  {
   "cell_type": "code",
   "execution_count": 60,
   "id": "70e48c43",
   "metadata": {
    "execution": {
     "iopub.execute_input": "2023-01-08T10:53:37.721982Z",
     "iopub.status.busy": "2023-01-08T10:53:37.721102Z",
     "iopub.status.idle": "2023-01-08T10:53:46.382321Z",
     "shell.execute_reply": "2023-01-08T10:53:46.381414Z"
    },
    "papermill": {
     "duration": 8.708513,
     "end_time": "2023-01-08T10:53:46.384852",
     "exception": false,
     "start_time": "2023-01-08T10:53:37.676339",
     "status": "completed"
    },
    "tags": []
   },
   "outputs": [
    {
     "name": "stdout",
     "output_type": "stream",
     "text": [
      "[10:53:37] WARNING: ../src/learner.cc:627: \n",
      "Parameters: { \"gama\" } might not be used.\n",
      "\n",
      "  This could be a false alarm, with some parameters getting used by language bindings but\n",
      "  then being mistakenly passed down to XGBoost core, or some parameter actually being used\n",
      "  but getting flagged wrongly here. Please open an issue if you find any such cases.\n",
      "\n",
      "\n",
      "[10:53:38] WARNING: ../src/learner.cc:627: \n",
      "Parameters: { \"gama\" } might not be used.\n",
      "\n",
      "  This could be a false alarm, with some parameters getting used by language bindings but\n",
      "  then being mistakenly passed down to XGBoost core, or some parameter actually being used\n",
      "  but getting flagged wrongly here. Please open an issue if you find any such cases.\n",
      "\n",
      "\n",
      "[10:53:38] WARNING: ../src/learner.cc:627: \n",
      "Parameters: { \"gama\" } might not be used.\n",
      "\n",
      "  This could be a false alarm, with some parameters getting used by language bindings but\n",
      "  then being mistakenly passed down to XGBoost core, or some parameter actually being used\n",
      "  but getting flagged wrongly here. Please open an issue if you find any such cases.\n",
      "\n",
      "\n",
      "[10:53:38] WARNING: ../src/learner.cc:627: \n",
      "Parameters: { \"gama\" } might not be used.\n",
      "\n",
      "  This could be a false alarm, with some parameters getting used by language bindings but\n",
      "  then being mistakenly passed down to XGBoost core, or some parameter actually being used\n",
      "  but getting flagged wrongly here. Please open an issue if you find any such cases.\n",
      "\n",
      "\n",
      "[10:53:38] WARNING: ../src/learner.cc:627: \n",
      "Parameters: { \"gama\" } might not be used.\n",
      "\n",
      "  This could be a false alarm, with some parameters getting used by language bindings but\n",
      "  then being mistakenly passed down to XGBoost core, or some parameter actually being used\n",
      "  but getting flagged wrongly here. Please open an issue if you find any such cases.\n",
      "\n",
      "\n",
      "[10:53:39] WARNING: ../src/learner.cc:627: \n",
      "Parameters: { \"gama\" } might not be used.\n",
      "\n",
      "  This could be a false alarm, with some parameters getting used by language bindings but\n",
      "  then being mistakenly passed down to XGBoost core, or some parameter actually being used\n",
      "  but getting flagged wrongly here. Please open an issue if you find any such cases.\n",
      "\n",
      "\n",
      "[10:53:39] WARNING: ../src/learner.cc:627: \n",
      "Parameters: { \"gama\" } might not be used.\n",
      "\n",
      "  This could be a false alarm, with some parameters getting used by language bindings but\n",
      "  then being mistakenly passed down to XGBoost core, or some parameter actually being used\n",
      "  but getting flagged wrongly here. Please open an issue if you find any such cases.\n",
      "\n",
      "\n",
      "[10:53:40] WARNING: ../src/learner.cc:627: \n",
      "Parameters: { \"gama\" } might not be used.\n",
      "\n",
      "  This could be a false alarm, with some parameters getting used by language bindings but\n",
      "  then being mistakenly passed down to XGBoost core, or some parameter actually being used\n",
      "  but getting flagged wrongly here. Please open an issue if you find any such cases.\n",
      "\n",
      "\n",
      "[10:53:41] WARNING: ../src/learner.cc:627: \n",
      "Parameters: { \"gama\" } might not be used.\n",
      "\n",
      "  This could be a false alarm, with some parameters getting used by language bindings but\n",
      "  then being mistakenly passed down to XGBoost core, or some parameter actually being used\n",
      "  but getting flagged wrongly here. Please open an issue if you find any such cases.\n",
      "\n",
      "\n",
      "[10:53:41] WARNING: ../src/learner.cc:627: \n",
      "Parameters: { \"gama\" } might not be used.\n",
      "\n",
      "  This could be a false alarm, with some parameters getting used by language bindings but\n",
      "  then being mistakenly passed down to XGBoost core, or some parameter actually being used\n",
      "  but getting flagged wrongly here. Please open an issue if you find any such cases.\n",
      "\n",
      "\n",
      "[10:53:41] WARNING: ../src/learner.cc:627: \n",
      "Parameters: { \"gama\" } might not be used.\n",
      "\n",
      "  This could be a false alarm, with some parameters getting used by language bindings but\n",
      "  then being mistakenly passed down to XGBoost core, or some parameter actually being used\n",
      "  but getting flagged wrongly here. Please open an issue if you find any such cases.\n",
      "\n",
      "\n",
      "[10:53:41] WARNING: ../src/learner.cc:627: \n",
      "Parameters: { \"gama\" } might not be used.\n",
      "\n",
      "  This could be a false alarm, with some parameters getting used by language bindings but\n",
      "  then being mistakenly passed down to XGBoost core, or some parameter actually being used\n",
      "  but getting flagged wrongly here. Please open an issue if you find any such cases.\n",
      "\n",
      "\n",
      "[10:53:42] WARNING: ../src/learner.cc:627: \n",
      "Parameters: { \"gama\" } might not be used.\n",
      "\n",
      "  This could be a false alarm, with some parameters getting used by language bindings but\n",
      "  then being mistakenly passed down to XGBoost core, or some parameter actually being used\n",
      "  but getting flagged wrongly here. Please open an issue if you find any such cases.\n",
      "\n",
      "\n",
      "[10:53:42] WARNING: ../src/learner.cc:627: \n",
      "Parameters: { \"gama\" } might not be used.\n",
      "\n",
      "  This could be a false alarm, with some parameters getting used by language bindings but\n",
      "  then being mistakenly passed down to XGBoost core, or some parameter actually being used\n",
      "  but getting flagged wrongly here. Please open an issue if you find any such cases.\n",
      "\n",
      "\n",
      "[10:53:42] WARNING: ../src/learner.cc:627: \n",
      "Parameters: { \"gama\" } might not be used.\n",
      "\n",
      "  This could be a false alarm, with some parameters getting used by language bindings but\n",
      "  then being mistakenly passed down to XGBoost core, or some parameter actually being used\n",
      "  but getting flagged wrongly here. Please open an issue if you find any such cases.\n",
      "\n",
      "\n",
      "[10:53:43] WARNING: ../src/learner.cc:627: \n",
      "Parameters: { \"gama\" } might not be used.\n",
      "\n",
      "  This could be a false alarm, with some parameters getting used by language bindings but\n",
      "  then being mistakenly passed down to XGBoost core, or some parameter actually being used\n",
      "  but getting flagged wrongly here. Please open an issue if you find any such cases.\n",
      "\n",
      "\n",
      "[10:53:43] WARNING: ../src/learner.cc:627: \n",
      "Parameters: { \"gama\" } might not be used.\n",
      "\n",
      "  This could be a false alarm, with some parameters getting used by language bindings but\n",
      "  then being mistakenly passed down to XGBoost core, or some parameter actually being used\n",
      "  but getting flagged wrongly here. Please open an issue if you find any such cases.\n",
      "\n",
      "\n",
      "[10:53:43] WARNING: ../src/learner.cc:627: \n",
      "Parameters: { \"gama\" } might not be used.\n",
      "\n",
      "  This could be a false alarm, with some parameters getting used by language bindings but\n",
      "  then being mistakenly passed down to XGBoost core, or some parameter actually being used\n",
      "  but getting flagged wrongly here. Please open an issue if you find any such cases.\n",
      "\n",
      "\n",
      "[10:53:44] WARNING: ../src/learner.cc:627: \n",
      "Parameters: { \"gama\" } might not be used.\n",
      "\n",
      "  This could be a false alarm, with some parameters getting used by language bindings but\n",
      "  then being mistakenly passed down to XGBoost core, or some parameter actually being used\n",
      "  but getting flagged wrongly here. Please open an issue if you find any such cases.\n",
      "\n",
      "\n",
      "[10:53:44] WARNING: ../src/learner.cc:627: \n",
      "Parameters: { \"gama\" } might not be used.\n",
      "\n",
      "  This could be a false alarm, with some parameters getting used by language bindings but\n",
      "  then being mistakenly passed down to XGBoost core, or some parameter actually being used\n",
      "  but getting flagged wrongly here. Please open an issue if you find any such cases.\n",
      "\n",
      "\n",
      "[10:53:44] WARNING: ../src/learner.cc:627: \n",
      "Parameters: { \"gama\" } might not be used.\n",
      "\n",
      "  This could be a false alarm, with some parameters getting used by language bindings but\n",
      "  then being mistakenly passed down to XGBoost core, or some parameter actually being used\n",
      "  but getting flagged wrongly here. Please open an issue if you find any such cases.\n",
      "\n",
      "\n",
      "[10:53:44] WARNING: ../src/learner.cc:627: \n",
      "Parameters: { \"gama\" } might not be used.\n",
      "\n",
      "  This could be a false alarm, with some parameters getting used by language bindings but\n",
      "  then being mistakenly passed down to XGBoost core, or some parameter actually being used\n",
      "  but getting flagged wrongly here. Please open an issue if you find any such cases.\n",
      "\n",
      "\n",
      "[10:53:45] WARNING: ../src/learner.cc:627: \n",
      "Parameters: { \"gama\" } might not be used.\n",
      "\n",
      "  This could be a false alarm, with some parameters getting used by language bindings but\n",
      "  then being mistakenly passed down to XGBoost core, or some parameter actually being used\n",
      "  but getting flagged wrongly here. Please open an issue if you find any such cases.\n",
      "\n",
      "\n",
      "[10:53:45] WARNING: ../src/learner.cc:627: \n",
      "Parameters: { \"gama\" } might not be used.\n",
      "\n",
      "  This could be a false alarm, with some parameters getting used by language bindings but\n",
      "  then being mistakenly passed down to XGBoost core, or some parameter actually being used\n",
      "  but getting flagged wrongly here. Please open an issue if you find any such cases.\n",
      "\n",
      "\n",
      "[10:53:45] WARNING: ../src/learner.cc:627: \n",
      "Parameters: { \"gama\" } might not be used.\n",
      "\n",
      "  This could be a false alarm, with some parameters getting used by language bindings but\n",
      "  then being mistakenly passed down to XGBoost core, or some parameter actually being used\n",
      "  but getting flagged wrongly here. Please open an issue if you find any such cases.\n",
      "\n",
      "\n",
      "[10:53:46] WARNING: ../src/learner.cc:627: \n",
      "Parameters: { \"gama\" } might not be used.\n",
      "\n",
      "  This could be a false alarm, with some parameters getting used by language bindings but\n",
      "  then being mistakenly passed down to XGBoost core, or some parameter actually being used\n",
      "  but getting flagged wrongly here. Please open an issue if you find any such cases.\n",
      "\n",
      "\n",
      "0.8145474244065791\n"
     ]
    },
    {
     "data": {
      "text/plain": [
       "{'reg_alpha': 0.001}"
      ]
     },
     "execution_count": 60,
     "metadata": {},
     "output_type": "execute_result"
    }
   ],
   "source": [
    "# rf_random = RandomizedSearchCV(estimator = model, param_distributions = random_grid, cv = 4)\n",
    "# OR\n",
    "# rf_random = GridSearchCV(model, random_grid, cv=5)\n",
    "\n",
    "x_train, x_test, y_train, y_test = train_test_split(x, y, test_size=0.2, random_state=11)\n",
    "rf_random.fit(x_train, y_train)\n",
    "print(rf_random.best_score_)\n",
    "rf_random.best_params_"
   ]
  },
  {
   "cell_type": "code",
   "execution_count": 61,
   "id": "0718afae",
   "metadata": {
    "execution": {
     "iopub.execute_input": "2023-01-08T10:53:46.479419Z",
     "iopub.status.busy": "2023-01-08T10:53:46.478746Z",
     "iopub.status.idle": "2023-01-08T10:53:46.487056Z",
     "shell.execute_reply": "2023-01-08T10:53:46.485989Z"
    },
    "papermill": {
     "duration": 0.058185,
     "end_time": "2023-01-08T10:53:46.489456",
     "exception": false,
     "start_time": "2023-01-08T10:53:46.431271",
     "status": "completed"
    },
    "tags": []
   },
   "outputs": [
    {
     "data": {
      "text/plain": [
       "XGBClassifier(base_score=None, booster=None, callbacks=None,\n",
       "              colsample_bylevel=None, colsample_bynode=None,\n",
       "              colsample_bytree=0.73, early_stopping_rounds=None,\n",
       "              enable_categorical=False, eta=0.09090909090909091,\n",
       "              eval_metric=None, gama=0.2, gamma=None, gpu_id=None,\n",
       "              grow_policy=None, importance_type=None,\n",
       "              interaction_constraints=None, learning_rate=None, max_bin=None,\n",
       "              max_cat_to_onehot=None, max_delta_step=None, max_depth=6,\n",
       "              max_leaves=None, min_child_weight=1, missing=nan,\n",
       "              monotone_constraints=None, n_estimators=100, n_jobs=None,\n",
       "              num_parallel_tree=None, predictor=None, random_state=None, ...)"
      ]
     },
     "execution_count": 61,
     "metadata": {},
     "output_type": "execute_result"
    }
   ],
   "source": [
    "model"
   ]
  },
  {
   "cell_type": "markdown",
   "id": "33185464",
   "metadata": {
    "papermill": {
     "duration": 0.045646,
     "end_time": "2023-01-08T10:53:46.581374",
     "exception": false,
     "start_time": "2023-01-08T10:53:46.535728",
     "status": "completed"
    },
    "tags": []
   },
   "source": [
    "# 8. Final Accuracy based on optimized hyperparameters = 93%"
   ]
  },
  {
   "cell_type": "code",
   "execution_count": 62,
   "id": "5018342b",
   "metadata": {
    "execution": {
     "iopub.execute_input": "2023-01-08T10:53:46.676789Z",
     "iopub.status.busy": "2023-01-08T10:53:46.675766Z",
     "iopub.status.idle": "2023-01-08T10:53:46.680706Z",
     "shell.execute_reply": "2023-01-08T10:53:46.679945Z"
    },
    "papermill": {
     "duration": 0.054396,
     "end_time": "2023-01-08T10:53:46.682723",
     "exception": false,
     "start_time": "2023-01-08T10:53:46.628327",
     "status": "completed"
    },
    "tags": []
   },
   "outputs": [],
   "source": [
    "model = XGBClassifier(eta=0.09090909090909091, \n",
    "                      max_depth=6, \n",
    "                      min_child_weight=1, \n",
    "                      gama=0.2, \n",
    "                      subsample=0.9, \n",
    "                      colsample_bytree=0.73, \n",
    "                      reg_alpha=0.005)"
   ]
  },
  {
   "cell_type": "code",
   "execution_count": 63,
   "id": "2da324d1",
   "metadata": {
    "execution": {
     "iopub.execute_input": "2023-01-08T10:53:46.778877Z",
     "iopub.status.busy": "2023-01-08T10:53:46.777761Z",
     "iopub.status.idle": "2023-01-08T10:53:47.102913Z",
     "shell.execute_reply": "2023-01-08T10:53:47.101740Z"
    },
    "papermill": {
     "duration": 0.374444,
     "end_time": "2023-01-08T10:53:47.105183",
     "exception": false,
     "start_time": "2023-01-08T10:53:46.730739",
     "status": "completed"
    },
    "tags": []
   },
   "outputs": [
    {
     "name": "stdout",
     "output_type": "stream",
     "text": [
      "[10:53:46] WARNING: ../src/learner.cc:627: \n",
      "Parameters: { \"gama\" } might not be used.\n",
      "\n",
      "  This could be a false alarm, with some parameters getting used by language bindings but\n",
      "  then being mistakenly passed down to XGBoost core, or some parameter actually being used\n",
      "  but getting flagged wrongly here. Please open an issue if you find any such cases.\n",
      "\n",
      "\n",
      "0.9273743016759777\n",
      "Survived 54\n",
      "Not Survived 125\n"
     ]
    },
    {
     "data": {
      "text/plain": [
       "array([[115,   3],\n",
       "       [ 10,  51]])"
      ]
     },
     "execution_count": 63,
     "metadata": {},
     "output_type": "execute_result"
    }
   ],
   "source": [
    "# x_train, x_test, y_train, y_test = train_test_split(x, y, test_size=0.2, random_state=10)\n",
    "model.fit(x, y)\n",
    "print(model.score(x_test, y_test))\n",
    "\n",
    "y_pred = model.predict(x_test)\n",
    "print(\"Survived\", sum(y_pred!=0))\n",
    "print(\"Not Survived\", sum(y_pred==0))\n",
    "\n",
    "cm = confusion_matrix(y_test, y_pred)\n",
    "cm"
   ]
  },
  {
   "cell_type": "code",
   "execution_count": 64,
   "id": "6e1ec2f1",
   "metadata": {
    "execution": {
     "iopub.execute_input": "2023-01-08T10:53:47.202174Z",
     "iopub.status.busy": "2023-01-08T10:53:47.201057Z",
     "iopub.status.idle": "2023-01-08T10:53:47.362536Z",
     "shell.execute_reply": "2023-01-08T10:53:47.360910Z"
    },
    "papermill": {
     "duration": 0.213697,
     "end_time": "2023-01-08T10:53:47.366886",
     "exception": false,
     "start_time": "2023-01-08T10:53:47.153189",
     "status": "completed"
    },
    "tags": []
   },
   "outputs": [
    {
     "data": {
      "image/png": "[encoded data removed]",
      "text/plain": [
       "<Figure size 576x576 with 1 Axes>"
      ]
     },
     "metadata": {
      "needs_background": "light"
     },
     "output_type": "display_data"
    }
   ],
   "source": [
    "# Confusion Matrix visualization\n",
    "fig, ax = plt.subplots(figsize=(8, 8))\n",
    "ax.imshow(cm)\n",
    "ax.grid(False)\n",
    "ax.xaxis.set(ticks=(0, 1), ticklabels=('Predicted 0s', 'Predicted 1s'))\n",
    "ax.yaxis.set(ticks=(0, 1), ticklabels=('Actual 0s', 'Actual 1s'))\n",
    "ax.set_ylim(1.5, -0.5)\n",
    "for i in range(2):\n",
    "    for j in range(2):\n",
    "        ax.text(j, i, cm[i, j], ha='center', va='center', color='red')\n",
    "plt.show()"
   ]
  },
  {
   "cell_type": "markdown",
   "id": "c6012a8f",
   "metadata": {
    "papermill": {
     "duration": 0.04614,
     "end_time": "2023-01-08T10:53:47.477354",
     "exception": false,
     "start_time": "2023-01-08T10:53:47.431214",
     "status": "completed"
    },
    "tags": []
   },
   "source": [
    "## Final Analysis"
   ]
  },
  {
   "cell_type": "code",
   "execution_count": 65,
   "id": "9599e9f1",
   "metadata": {
    "execution": {
     "iopub.execute_input": "2023-01-08T10:53:47.574634Z",
     "iopub.status.busy": "2023-01-08T10:53:47.573527Z",
     "iopub.status.idle": "2023-01-08T10:53:47.880822Z",
     "shell.execute_reply": "2023-01-08T10:53:47.879660Z"
    },
    "papermill": {
     "duration": 0.359288,
     "end_time": "2023-01-08T10:53:47.883566",
     "exception": false,
     "start_time": "2023-01-08T10:53:47.524278",
     "status": "completed"
    },
    "tags": []
   },
   "outputs": [
    {
     "data": {
      "text/plain": [
       "<AxesSubplot:>"
      ]
     },
     "execution_count": 65,
     "metadata": {},
     "output_type": "execute_result"
    },
    {
     "data": {
      "image/png": "[encoded data removed]",
      "text/plain": [
       "<Figure size 1440x720 with 1 Axes>"
      ]
     },
     "metadata": {
      "needs_background": "light"
     },
     "output_type": "display_data"
    }
   ],
   "source": [
    "# For getting top 40 feature importance\n",
    "feature_important = model.get_booster().get_score(importance_type='weight')\n",
    "keys = list(feature_important.keys())\n",
    "values = list(feature_important.values())\n",
    "\n",
    "data = pd.DataFrame(data=values, index=keys, columns=[\"score\"]).sort_values(by = \"score\", ascending=False)\n",
    "data.nlargest(40, columns=\"score\").plot(kind='barh', figsize = (20,10)) ## plot top 40 features\n"
   ]
  },
  {
   "cell_type": "code",
   "execution_count": 66,
   "id": "c906907b",
   "metadata": {
    "execution": {
     "iopub.execute_input": "2023-01-08T10:53:47.978553Z",
     "iopub.status.busy": "2023-01-08T10:53:47.978134Z",
     "iopub.status.idle": "2023-01-08T10:53:47.988372Z",
     "shell.execute_reply": "2023-01-08T10:53:47.987426Z"
    },
    "papermill": {
     "duration": 0.06053,
     "end_time": "2023-01-08T10:53:47.991015",
     "exception": false,
     "start_time": "2023-01-08T10:53:47.930485",
     "status": "completed"
    },
    "tags": []
   },
   "outputs": [
    {
     "name": "stdout",
     "output_type": "stream",
     "text": [
      "              precision    recall  f1-score   support\n",
      "\n",
      "           0       0.92      0.97      0.95       118\n",
      "           1       0.94      0.84      0.89        61\n",
      "\n",
      "    accuracy                           0.93       179\n",
      "   macro avg       0.93      0.91      0.92       179\n",
      "weighted avg       0.93      0.93      0.93       179\n",
      "\n"
     ]
    }
   ],
   "source": [
    "print(classification_report(y_test, y_pred))"
   ]
  },
  {
   "cell_type": "code",
   "execution_count": 67,
   "id": "9b96c34f",
   "metadata": {
    "execution": {
     "iopub.execute_input": "2023-01-08T10:53:48.087417Z",
     "iopub.status.busy": "2023-01-08T10:53:48.086288Z",
     "iopub.status.idle": "2023-01-08T10:53:48.111242Z",
     "shell.execute_reply": "2023-01-08T10:53:48.110116Z"
    },
    "papermill": {
     "duration": 0.07538,
     "end_time": "2023-01-08T10:53:48.113817",
     "exception": false,
     "start_time": "2023-01-08T10:53:48.038437",
     "status": "completed"
    },
    "tags": []
   },
   "outputs": [
    {
     "data": {
      "text/plain": [
       "array([0, 1, 1, 1, 0, 0, 0, 0, 1, 1, 1, 1, 0, 0, 0, 1, 0, 0, 1, 1, 0, 0,\n",
       "       1, 0, 0, 1, 0, 0, 1, 0, 0, 1, 1, 0, 0, 0, 0, 0, 0, 1, 0, 1, 0, 1,\n",
       "       1, 0, 0, 1, 0, 0, 0, 0, 1, 1, 0, 0, 1, 0, 1, 0, 0, 1, 0, 0, 0, 1,\n",
       "       1, 0, 0, 0, 0, 0, 0, 0, 1, 0, 0, 0, 1, 0, 0, 0, 1, 0, 1, 1, 0, 0,\n",
       "       1, 0, 0, 0, 0, 0, 0, 0, 0, 1, 1, 0, 0, 0, 0, 0, 0, 0, 0, 0, 0, 1,\n",
       "       0, 0, 0, 0, 0, 0, 0, 0, 0, 0, 0, 0, 0, 1, 0, 1, 0, 0, 1, 0, 0, 0,\n",
       "       0, 1, 0, 0, 1, 0, 0, 0, 1, 0, 1, 0, 0, 0, 0, 0, 0, 0, 0, 1, 0, 0,\n",
       "       0, 0, 1, 0, 0, 0, 0, 1, 0, 0, 0, 1, 1, 0, 0, 0, 0, 0, 1, 0, 0, 0,\n",
       "       0, 1, 0, 0, 0, 0, 0, 1, 1, 0, 1, 0, 0, 0, 1, 0, 0, 1, 1, 1, 0, 0,\n",
       "       1, 1, 0, 0, 0, 0, 0, 1, 0, 0, 1, 0, 0, 1, 0, 0, 0, 1, 1, 0, 1, 0,\n",
       "       0, 0, 0, 0, 0, 0, 0, 0, 0, 0, 1, 0, 0, 0, 0, 0, 0, 1, 0, 0, 1, 1,\n",
       "       0, 0, 0, 0, 0, 1, 0, 0, 0, 0, 0, 0, 0, 1, 1, 1, 1, 1, 0, 0, 0, 1,\n",
       "       1, 0, 0, 0, 1, 1, 0, 0, 1, 0, 1, 1, 0, 0, 0, 1, 0, 0, 0, 0, 0, 0,\n",
       "       0, 0, 0, 1, 1, 1, 0, 0, 0, 0, 0, 1, 0, 1, 1, 0, 0, 1, 0, 1, 1, 1,\n",
       "       0, 1, 1, 1, 1, 0, 0, 1, 1, 0, 1, 1, 0, 0, 1, 1, 0, 1, 0, 1, 1, 1,\n",
       "       1, 0, 0, 0, 1, 0, 0, 1, 0, 0, 1, 1, 0, 0, 0, 1, 1, 0, 1, 0, 0, 0,\n",
       "       0, 0, 0, 0, 1, 1, 1, 1, 0, 0, 0, 0, 0, 0, 1, 1, 1, 1, 1, 0, 0, 0,\n",
       "       0, 1, 0, 1, 0, 0, 1, 1, 0, 1, 0, 0, 0, 1, 0, 1, 1, 0, 0, 1, 1, 0,\n",
       "       0, 0, 0, 1, 0, 0, 0, 0, 0, 0, 0, 1, 0, 0, 0, 0, 1, 0, 0, 1, 1, 1,\n",
       "       0, 0, 0, 0, 0, 0, 0, 0, 1, 1, 0, 1, 1, 0, 1, 0, 0, 1, 0, 1, 0, 0,\n",
       "       1, 0, 0, 1, 0, 1, 1, 1, 1, 1, 0, 0, 0, 1, 0, 0, 0, 1, 1, 0, 1, 0,\n",
       "       0, 0, 0, 0, 0, 0, 0, 1, 0, 0, 1, 1, 0, 0, 0, 0, 0, 1, 0, 0, 0, 1,\n",
       "       1, 0, 1, 0, 0, 1, 0, 0, 0, 0, 0, 0, 1, 0, 0, 0, 0, 1, 1, 0, 1, 0,\n",
       "       1, 0, 0, 1, 0, 0, 1, 1, 0, 0, 1, 0, 1, 0, 1, 0, 0, 1, 0, 0, 1, 0,\n",
       "       0, 0, 1, 0, 0, 1, 0, 1, 0, 1, 0, 1, 1, 0, 0, 0, 0, 0, 1, 0, 0, 1,\n",
       "       1, 0, 0, 0, 0, 0, 1, 0, 1, 1, 0, 0, 0, 0, 0, 0, 0, 0, 0, 0, 0, 1,\n",
       "       1, 1, 0, 0, 1, 1, 1, 0, 1, 1, 0, 1, 0, 1, 0, 0, 0, 0, 0, 1, 0, 0,\n",
       "       0, 0, 1, 0, 0, 1, 1, 0, 0, 0, 0, 0, 0, 1, 1, 1, 0, 0, 1, 0, 0, 1,\n",
       "       0, 0, 1, 0, 0, 1, 0, 0, 0, 0, 0, 1, 0, 0, 0, 0, 1, 0, 0, 1, 0, 0,\n",
       "       0, 0, 0, 1, 0, 0, 1, 1, 0, 1, 0, 0, 0, 1, 0, 1, 1, 0, 0, 0, 0, 0,\n",
       "       1, 0, 0, 0, 0, 0, 0, 0, 0, 1, 1, 0, 0, 0, 0, 0, 0, 0, 0, 1, 1, 1,\n",
       "       0, 0, 0, 0, 0, 0, 0, 1, 0, 1, 0, 0, 0, 0, 0, 1, 1, 0, 1, 1, 0, 0,\n",
       "       0, 0, 1, 1, 1, 1, 1, 0, 1, 0, 0, 0, 1, 1, 0, 0, 1, 0, 0, 0, 1, 0,\n",
       "       1, 1, 0, 0, 1, 0, 0, 0, 0, 0, 0, 1, 0, 0, 0, 1, 1, 0, 0, 0, 0, 1,\n",
       "       0, 0, 1, 1, 0, 0, 1, 1, 0, 0, 0, 1, 0, 0, 0, 1, 0, 1, 0, 1, 0, 0,\n",
       "       0, 0, 1, 0, 1, 0, 0, 1, 0, 1, 1, 1, 0, 0, 0, 0, 0, 0, 1, 0, 0, 0,\n",
       "       0, 0, 0, 0, 1, 1, 0, 0, 0, 1, 1, 1, 0, 0, 0, 0, 0, 1, 0, 0, 0, 0,\n",
       "       0, 0, 0, 0, 0, 0, 1, 0, 0, 1, 0, 0, 0, 1, 0, 1, 1, 1, 0, 0, 0, 1,\n",
       "       0, 0, 1, 0, 0, 0, 1, 0, 0, 0, 0, 0, 0, 1, 0, 0, 0, 1, 1, 1, 1, 0,\n",
       "       1, 0, 0, 0, 1, 0, 0, 1, 1, 0, 0, 1, 0, 1, 1, 0, 1, 1, 0, 0, 0, 1,\n",
       "       1, 0, 0, 0, 0, 0, 0, 1, 0, 1, 0])"
      ]
     },
     "execution_count": 67,
     "metadata": {},
     "output_type": "execute_result"
    }
   ],
   "source": [
    "predict_output = model.predict(x)   #Provide array of predicted output\n",
    "predict_output"
   ]
  },
  {
   "cell_type": "markdown",
   "id": "c0a31e01",
   "metadata": {
    "papermill": {
     "duration": 0.046947,
     "end_time": "2023-01-08T10:53:48.209049",
     "exception": false,
     "start_time": "2023-01-08T10:53:48.162102",
     "status": "completed"
    },
    "tags": []
   },
   "source": [
    "### ROC curve , Threshold & Best score"
   ]
  },
  {
   "cell_type": "code",
   "execution_count": 68,
   "id": "8b001aaa",
   "metadata": {
    "execution": {
     "iopub.execute_input": "2023-01-08T10:53:48.304442Z",
     "iopub.status.busy": "2023-01-08T10:53:48.304056Z",
     "iopub.status.idle": "2023-01-08T10:53:48.551467Z",
     "shell.execute_reply": "2023-01-08T10:53:48.550250Z"
    },
    "papermill": {
     "duration": 0.298554,
     "end_time": "2023-01-08T10:53:48.554777",
     "exception": false,
     "start_time": "2023-01-08T10:53:48.256223",
     "status": "completed"
    },
    "tags": []
   },
   "outputs": [
    {
     "name": "stdout",
     "output_type": "stream",
     "text": [
      "Best Threshold=1.000000, G-Mean=0.872\n"
     ]
    },
    {
     "data": {
      "image/png": "[encoded data removed]",
      "text/plain": [
       "<Figure size 432x288 with 1 Axes>"
      ]
     },
     "metadata": {
      "needs_background": "light"
     },
     "output_type": "display_data"
    }
   ],
   "source": [
    "# roc curve , threshold & best score\n",
    "from numpy import sqrt\n",
    "from numpy import argmax\n",
    "\n",
    "from sklearn.datasets import make_classification\n",
    "from sklearn.metrics import roc_curve\n",
    "\n",
    "# calculate roc curves\n",
    "fpr, tpr, thresholds = roc_curve(y, predict_output)\n",
    "# plot the roc curve for the model\n",
    "\n",
    "# calculate the g-mean for each threshold\n",
    "gmeans = sqrt(tpr * (1-fpr))\n",
    "# locate the index of the largest g-mean\n",
    "ix = argmax(gmeans)\n",
    "print('Best Threshold=%f, G-Mean=%.3f' % (thresholds[ix], gmeans[ix]))\n",
    "\n",
    "# plot the roc curve for the model\n",
    "plt.plot([0,1], [0,1], linestyle='--', label='No Skill')\n",
    "plt.plot(fpr, tpr, marker='.', label='XGBoost')\n",
    "plt.scatter(fpr[ix], tpr[ix], marker='o', color='black', label='Best')\n",
    "# axis labels\n",
    "plt.xlabel('False Positive Rate')\n",
    "plt.ylabel('True Positive Rate')\n",
    "plt.legend()\n",
    "# show the plot\n",
    "plt.show()"
   ]
  },
  {
   "cell_type": "markdown",
   "id": "503b5953",
   "metadata": {
    "papermill": {
     "duration": 0.047796,
     "end_time": "2023-01-08T10:53:48.650916",
     "exception": false,
     "start_time": "2023-01-08T10:53:48.603120",
     "status": "completed"
    },
    "tags": []
   },
   "source": [
    "# 9. Test Submission"
   ]
  },
  {
   "cell_type": "markdown",
   "id": "5d72cb59",
   "metadata": {
    "papermill": {
     "duration": 0.047364,
     "end_time": "2023-01-08T10:53:48.745579",
     "exception": false,
     "start_time": "2023-01-08T10:53:48.698215",
     "status": "completed"
    },
    "tags": []
   },
   "source": [
    "Reprocessing the best possible steps  on the test data set to find out the prediction for submission"
   ]
  },
  {
   "cell_type": "code",
   "execution_count": 69,
   "id": "1d179bcd",
   "metadata": {
    "execution": {
     "iopub.execute_input": "2023-01-08T10:53:48.842856Z",
     "iopub.status.busy": "2023-01-08T10:53:48.842411Z",
     "iopub.status.idle": "2023-01-08T10:53:48.859288Z",
     "shell.execute_reply": "2023-01-08T10:53:48.858126Z"
    },
    "papermill": {
     "duration": 0.067797,
     "end_time": "2023-01-08T10:53:48.861534",
     "exception": false,
     "start_time": "2023-01-08T10:53:48.793737",
     "status": "completed"
    },
    "tags": []
   },
   "outputs": [
    {
     "data": {
      "text/html": [
       "<div>\n",
       "<style scoped>\n",
       "    .dataframe tbody tr th:only-of-type {\n",
       "        vertical-align: middle;\n",
       "    }\n",
       "\n",
       "    .dataframe tbody tr th {\n",
       "        vertical-align: top;\n",
       "    }\n",
       "\n",
       "    .dataframe thead th {\n",
       "        text-align: right;\n",
       "    }\n",
       "</style>\n",
       "<table border=\"1\" class=\"dataframe\">\n",
       "  <thead>\n",
       "    <tr style=\"text-align: right;\">\n",
       "      <th></th>\n",
       "      <th>PassengerId</th>\n",
       "      <th>Pclass</th>\n",
       "      <th>Name</th>\n",
       "      <th>Sex</th>\n",
       "      <th>Age</th>\n",
       "      <th>SibSp</th>\n",
       "      <th>Parch</th>\n",
       "      <th>Ticket</th>\n",
       "      <th>Fare</th>\n",
       "      <th>Cabin</th>\n",
       "      <th>Embarked</th>\n",
       "    </tr>\n",
       "  </thead>\n",
       "  <tbody>\n",
       "    <tr>\n",
       "      <th>0</th>\n",
       "      <td>892</td>\n",
       "      <td>3</td>\n",
       "      <td>Kelly, Mr. James</td>\n",
       "      <td>male</td>\n",
       "      <td>34.5</td>\n",
       "      <td>0</td>\n",
       "      <td>0</td>\n",
       "      <td>330911</td>\n",
       "      <td>7.8292</td>\n",
       "      <td>NaN</td>\n",
       "      <td>Q</td>\n",
       "    </tr>\n",
       "    <tr>\n",
       "      <th>1</th>\n",
       "      <td>893</td>\n",
       "      <td>3</td>\n",
       "      <td>Wilkes, Mrs. James (Ellen Needs)</td>\n",
       "      <td>female</td>\n",
       "      <td>47.0</td>\n",
       "      <td>1</td>\n",
       "      <td>0</td>\n",
       "      <td>363272</td>\n",
       "      <td>7.0000</td>\n",
       "      <td>NaN</td>\n",
       "      <td>S</td>\n",
       "    </tr>\n",
       "    <tr>\n",
       "      <th>2</th>\n",
       "      <td>894</td>\n",
       "      <td>2</td>\n",
       "      <td>Myles, Mr. Thomas Francis</td>\n",
       "      <td>male</td>\n",
       "      <td>62.0</td>\n",
       "      <td>0</td>\n",
       "      <td>0</td>\n",
       "      <td>240276</td>\n",
       "      <td>9.6875</td>\n",
       "      <td>NaN</td>\n",
       "      <td>Q</td>\n",
       "    </tr>\n",
       "    <tr>\n",
       "      <th>3</th>\n",
       "      <td>895</td>\n",
       "      <td>3</td>\n",
       "      <td>Wirz, Mr. Albert</td>\n",
       "      <td>male</td>\n",
       "      <td>27.0</td>\n",
       "      <td>0</td>\n",
       "      <td>0</td>\n",
       "      <td>315154</td>\n",
       "      <td>8.6625</td>\n",
       "      <td>NaN</td>\n",
       "      <td>S</td>\n",
       "    </tr>\n",
       "    <tr>\n",
       "      <th>4</th>\n",
       "      <td>896</td>\n",
       "      <td>3</td>\n",
       "      <td>Hirvonen, Mrs. Alexander (Helga E Lindqvist)</td>\n",
       "      <td>female</td>\n",
       "      <td>22.0</td>\n",
       "      <td>1</td>\n",
       "      <td>1</td>\n",
       "      <td>3101298</td>\n",
       "      <td>12.2875</td>\n",
       "      <td>NaN</td>\n",
       "      <td>S</td>\n",
       "    </tr>\n",
       "  </tbody>\n",
       "</table>\n",
       "</div>"
      ],
      "text/plain": [
       "   PassengerId  Pclass                                          Name     Sex  \\\n",
       "0          892       3                              Kelly, Mr. James    male   \n",
       "1          893       3              Wilkes, Mrs. James (Ellen Needs)  female   \n",
       "2          894       2                     Myles, Mr. Thomas Francis    male   \n",
       "3          895       3                              Wirz, Mr. Albert    male   \n",
       "4          896       3  Hirvonen, Mrs. Alexander (Helga E Lindqvist)  female   \n",
       "\n",
       "    Age  SibSp  Parch   Ticket     Fare Cabin Embarked  \n",
       "0  34.5      0      0   330911   7.8292   NaN        Q  \n",
       "1  47.0      1      0   363272   7.0000   NaN        S  \n",
       "2  62.0      0      0   240276   9.6875   NaN        Q  \n",
       "3  27.0      0      0   315154   8.6625   NaN        S  \n",
       "4  22.0      1      1  3101298  12.2875   NaN        S  "
      ]
     },
     "execution_count": 69,
     "metadata": {},
     "output_type": "execute_result"
    }
   ],
   "source": [
    "test.head()"
   ]
  },
  {
   "cell_type": "code",
   "execution_count": 70,
   "id": "db42f54c",
   "metadata": {
    "execution": {
     "iopub.execute_input": "2023-01-08T10:53:48.961113Z",
     "iopub.status.busy": "2023-01-08T10:53:48.960704Z",
     "iopub.status.idle": "2023-01-08T10:53:48.975127Z",
     "shell.execute_reply": "2023-01-08T10:53:48.973573Z"
    },
    "papermill": {
     "duration": 0.068214,
     "end_time": "2023-01-08T10:53:48.977330",
     "exception": false,
     "start_time": "2023-01-08T10:53:48.909116",
     "status": "completed"
    },
    "tags": []
   },
   "outputs": [
    {
     "name": "stdout",
     "output_type": "stream",
     "text": [
      "<class 'pandas.core.frame.DataFrame'>\n",
      "RangeIndex: 418 entries, 0 to 417\n",
      "Data columns (total 11 columns):\n",
      " #   Column       Non-Null Count  Dtype  \n",
      "---  ------       --------------  -----  \n",
      " 0   PassengerId  418 non-null    int64  \n",
      " 1   Pclass       418 non-null    int64  \n",
      " 2   Name         418 non-null    object \n",
      " 3   Sex          418 non-null    object \n",
      " 4   Age          332 non-null    float64\n",
      " 5   SibSp        418 non-null    int64  \n",
      " 6   Parch        418 non-null    int64  \n",
      " 7   Ticket       418 non-null    object \n",
      " 8   Fare         417 non-null    float64\n",
      " 9   Cabin        91 non-null     object \n",
      " 10  Embarked     418 non-null    object \n",
      "dtypes: float64(2), int64(4), object(5)\n",
      "memory usage: 36.0+ KB\n"
     ]
    }
   ],
   "source": [
    "test.info()"
   ]
  },
  {
   "cell_type": "code",
   "execution_count": 71,
   "id": "326b38ec",
   "metadata": {
    "execution": {
     "iopub.execute_input": "2023-01-08T10:53:49.075288Z",
     "iopub.status.busy": "2023-01-08T10:53:49.074383Z",
     "iopub.status.idle": "2023-01-08T10:53:49.080668Z",
     "shell.execute_reply": "2023-01-08T10:53:49.079640Z"
    },
    "papermill": {
     "duration": 0.057849,
     "end_time": "2023-01-08T10:53:49.083440",
     "exception": false,
     "start_time": "2023-01-08T10:53:49.025591",
     "status": "completed"
    },
    "tags": []
   },
   "outputs": [
    {
     "name": "stdout",
     "output_type": "stream",
     "text": [
      "0                                Kelly, Mr. James\n",
      "1                Wilkes, Mrs. James (Ellen Needs)\n",
      "2                       Myles, Mr. Thomas Francis\n",
      "3                                Wirz, Mr. Albert\n",
      "4    Hirvonen, Mrs. Alexander (Helga E Lindqvist)\n",
      "Name: Name, dtype: object\n"
     ]
    }
   ],
   "source": [
    "print(test[\"Name\"].head())"
   ]
  },
  {
   "cell_type": "code",
   "execution_count": 72,
   "id": "413bf3e0",
   "metadata": {
    "execution": {
     "iopub.execute_input": "2023-01-08T10:53:49.181608Z",
     "iopub.status.busy": "2023-01-08T10:53:49.180681Z",
     "iopub.status.idle": "2023-01-08T10:53:49.193250Z",
     "shell.execute_reply": "2023-01-08T10:53:49.191426Z"
    },
    "papermill": {
     "duration": 0.065162,
     "end_time": "2023-01-08T10:53:49.196686",
     "exception": false,
     "start_time": "2023-01-08T10:53:49.131524",
     "status": "completed"
    },
    "tags": []
   },
   "outputs": [
    {
     "name": "stdout",
     "output_type": "stream",
     "text": [
      "0      1\n",
      "1      5\n",
      "2      1\n",
      "3      1\n",
      "4      5\n",
      "      ..\n",
      "413    1\n",
      "414    2\n",
      "415    1\n",
      "416    1\n",
      "417    3\n",
      "Name: title, Length: 418, dtype: int64\n"
     ]
    }
   ],
   "source": [
    "# Splitting based on Title\n",
    "def get_title(name):\n",
    "    if \".\" in name:\n",
    "        return name.split(\",\")[1].split(\".\")[0].strip()\n",
    "    else:\n",
    "        return \"Unknown\"\n",
    "\n",
    "def title_map(title):\n",
    "    if title in [\"Mr\"]:\n",
    "        return 1\n",
    "    elif title in [\"Master\"]:\n",
    "        return 3\n",
    "    elif title in [\"Ms\", \"Mlle\", \"Miss\"]:\n",
    "        return 4\n",
    "    elif title in [\"Mme\",\"Mrs\"]:\n",
    "        return 5\n",
    "    else:\n",
    "        return 2\n",
    "\n",
    "test[\"title\"] = test[\"Name\"].apply(get_title).apply(title_map)\n",
    "print(test[\"title\"])"
   ]
  },
  {
   "cell_type": "code",
   "execution_count": 73,
   "id": "b4278a18",
   "metadata": {
    "execution": {
     "iopub.execute_input": "2023-01-08T10:53:49.295661Z",
     "iopub.status.busy": "2023-01-08T10:53:49.294580Z",
     "iopub.status.idle": "2023-01-08T10:53:49.302718Z",
     "shell.execute_reply": "2023-01-08T10:53:49.301866Z"
    },
    "papermill": {
     "duration": 0.059646,
     "end_time": "2023-01-08T10:53:49.305224",
     "exception": false,
     "start_time": "2023-01-08T10:53:49.245578",
     "status": "completed"
    },
    "tags": []
   },
   "outputs": [
    {
     "name": "stdout",
     "output_type": "stream",
     "text": [
      "0      False\n",
      "1      False\n",
      "2      False\n",
      "3      False\n",
      "4      False\n",
      "       ...  \n",
      "413    False\n",
      "414     True\n",
      "415    False\n",
      "416    False\n",
      "417    False\n",
      "Name: Fare, Length: 418, dtype: bool\n"
     ]
    }
   ],
   "source": [
    "mf = test[\"Fare\"].mean()\n",
    "test[\"Fare\"] = test[\"Fare\"]>mf\n",
    "print(test[\"Fare\"])"
   ]
  },
  {
   "cell_type": "code",
   "execution_count": 74,
   "id": "e493b0ce",
   "metadata": {
    "execution": {
     "iopub.execute_input": "2023-01-08T10:53:49.403869Z",
     "iopub.status.busy": "2023-01-08T10:53:49.403123Z",
     "iopub.status.idle": "2023-01-08T10:53:49.416991Z",
     "shell.execute_reply": "2023-01-08T10:53:49.415586Z"
    },
    "papermill": {
     "duration": 0.065797,
     "end_time": "2023-01-08T10:53:49.419660",
     "exception": false,
     "start_time": "2023-01-08T10:53:49.353863",
     "status": "completed"
    },
    "tags": []
   },
   "outputs": [
    {
     "name": "stdout",
     "output_type": "stream",
     "text": [
      "<class 'pandas.core.frame.DataFrame'>\n",
      "RangeIndex: 418 entries, 0 to 417\n",
      "Data columns (total 10 columns):\n",
      " #   Column       Non-Null Count  Dtype  \n",
      "---  ------       --------------  -----  \n",
      " 0   PassengerId  418 non-null    int64  \n",
      " 1   Pclass       418 non-null    int64  \n",
      " 2   Sex          418 non-null    object \n",
      " 3   Age          332 non-null    float64\n",
      " 4   SibSp        418 non-null    int64  \n",
      " 5   Parch        418 non-null    int64  \n",
      " 6   Fare         418 non-null    bool   \n",
      " 7   Cabin        91 non-null     object \n",
      " 8   Embarked     418 non-null    object \n",
      " 9   title        418 non-null    int64  \n",
      "dtypes: bool(1), float64(1), int64(5), object(3)\n",
      "memory usage: 29.9+ KB\n"
     ]
    }
   ],
   "source": [
    "test = test.drop([\"Name\",\"Ticket\"], axis=\"columns\")\n",
    "test.info()"
   ]
  },
  {
   "cell_type": "code",
   "execution_count": 75,
   "id": "be7a75ee",
   "metadata": {
    "execution": {
     "iopub.execute_input": "2023-01-08T10:53:49.522752Z",
     "iopub.status.busy": "2023-01-08T10:53:49.522217Z",
     "iopub.status.idle": "2023-01-08T10:53:49.540874Z",
     "shell.execute_reply": "2023-01-08T10:53:49.539056Z"
    },
    "papermill": {
     "duration": 0.07385,
     "end_time": "2023-01-08T10:53:49.543898",
     "exception": false,
     "start_time": "2023-01-08T10:53:49.470048",
     "status": "completed"
    },
    "tags": []
   },
   "outputs": [
    {
     "name": "stdout",
     "output_type": "stream",
     "text": [
      "<class 'pandas.core.frame.DataFrame'>\n",
      "RangeIndex: 418 entries, 0 to 417\n",
      "Data columns (total 10 columns):\n",
      " #   Column       Non-Null Count  Dtype  \n",
      "---  ------       --------------  -----  \n",
      " 0   PassengerId  418 non-null    int64  \n",
      " 1   Pclass       418 non-null    int64  \n",
      " 2   Sex          418 non-null    int64  \n",
      " 3   Age          332 non-null    float64\n",
      " 4   SibSp        418 non-null    int64  \n",
      " 5   Parch        418 non-null    int64  \n",
      " 6   Fare         418 non-null    bool   \n",
      " 7   Cabin        91 non-null     object \n",
      " 8   Embarked     418 non-null    object \n",
      " 9   title        418 non-null    int64  \n",
      "dtypes: bool(1), float64(1), int64(6), object(2)\n",
      "memory usage: 29.9+ KB\n"
     ]
    }
   ],
   "source": [
    "test[\"Sex\"] = test[\"Sex\"].replace([\"male\", \"female\"],[0,1])\n",
    "test.info()"
   ]
  },
  {
   "cell_type": "code",
   "execution_count": 76,
   "id": "8652ee8a",
   "metadata": {
    "execution": {
     "iopub.execute_input": "2023-01-08T10:53:49.649640Z",
     "iopub.status.busy": "2023-01-08T10:53:49.649147Z",
     "iopub.status.idle": "2023-01-08T10:53:49.665219Z",
     "shell.execute_reply": "2023-01-08T10:53:49.664016Z"
    },
    "papermill": {
     "duration": 0.072645,
     "end_time": "2023-01-08T10:53:49.668056",
     "exception": false,
     "start_time": "2023-01-08T10:53:49.595411",
     "status": "completed"
    },
    "tags": []
   },
   "outputs": [
    {
     "name": "stdout",
     "output_type": "stream",
     "text": [
      "<class 'pandas.core.frame.DataFrame'>\n",
      "RangeIndex: 418 entries, 0 to 417\n",
      "Data columns (total 10 columns):\n",
      " #   Column       Non-Null Count  Dtype  \n",
      "---  ------       --------------  -----  \n",
      " 0   PassengerId  418 non-null    int64  \n",
      " 1   Pclass       418 non-null    int64  \n",
      " 2   Sex          418 non-null    int64  \n",
      " 3   Age          332 non-null    float64\n",
      " 4   SibSp        418 non-null    int64  \n",
      " 5   Parch        418 non-null    int64  \n",
      " 6   Fare         418 non-null    bool   \n",
      " 7   Cabin        418 non-null    bool   \n",
      " 8   Embarked     418 non-null    object \n",
      " 9   title        418 non-null    int64  \n",
      "dtypes: bool(2), float64(1), int64(6), object(1)\n",
      "memory usage: 27.1+ KB\n"
     ]
    }
   ],
   "source": [
    "test[\"Cabin\"] = test[\"Cabin\"].isna()\n",
    "test.info()"
   ]
  },
  {
   "cell_type": "code",
   "execution_count": 77,
   "id": "779b8881",
   "metadata": {
    "execution": {
     "iopub.execute_input": "2023-01-08T10:53:49.774400Z",
     "iopub.status.busy": "2023-01-08T10:53:49.773825Z",
     "iopub.status.idle": "2023-01-08T10:53:49.789862Z",
     "shell.execute_reply": "2023-01-08T10:53:49.787425Z"
    },
    "papermill": {
     "duration": 0.073614,
     "end_time": "2023-01-08T10:53:49.792866",
     "exception": false,
     "start_time": "2023-01-08T10:53:49.719252",
     "status": "completed"
    },
    "tags": []
   },
   "outputs": [
    {
     "name": "stdout",
     "output_type": "stream",
     "text": [
      "title\n",
      "1    32.000000\n",
      "2    43.833333\n",
      "3     7.406471\n",
      "4    21.774844\n",
      "5    38.903226\n",
      "Name: Age, dtype: float64\n"
     ]
    }
   ],
   "source": [
    "# Incase of taking mean age of all title, we can take mean age for a particular title only\n",
    "print(test.groupby(\"title\").Age.mean())\n",
    "\n",
    "test[\"Age\"][test[\"title\"]==3]=7\n",
    "\n",
    "mage = test.Age.mean()\n",
    "test.Age = test.Age.fillna(mage)"
   ]
  },
  {
   "cell_type": "code",
   "execution_count": 78,
   "id": "9784bb8d",
   "metadata": {
    "execution": {
     "iopub.execute_input": "2023-01-08T10:53:49.901307Z",
     "iopub.status.busy": "2023-01-08T10:53:49.900835Z",
     "iopub.status.idle": "2023-01-08T10:53:49.922927Z",
     "shell.execute_reply": "2023-01-08T10:53:49.921402Z"
    },
    "papermill": {
     "duration": 0.078497,
     "end_time": "2023-01-08T10:53:49.925586",
     "exception": false,
     "start_time": "2023-01-08T10:53:49.847089",
     "status": "completed"
    },
    "tags": []
   },
   "outputs": [
    {
     "name": "stdout",
     "output_type": "stream",
     "text": [
      "<class 'pandas.core.frame.DataFrame'>\n",
      "RangeIndex: 418 entries, 0 to 417\n",
      "Data columns (total 12 columns):\n",
      " #   Column       Non-Null Count  Dtype  \n",
      "---  ------       --------------  -----  \n",
      " 0   PassengerId  418 non-null    int64  \n",
      " 1   Pclass       418 non-null    int64  \n",
      " 2   Sex          418 non-null    int64  \n",
      " 3   Age          418 non-null    float64\n",
      " 4   SibSp        418 non-null    int64  \n",
      " 5   Parch        418 non-null    int64  \n",
      " 6   Fare         418 non-null    bool   \n",
      " 7   Cabin        418 non-null    bool   \n",
      " 8   title        418 non-null    int64  \n",
      " 9   Embarked_C   418 non-null    uint8  \n",
      " 10  Embarked_Q   418 non-null    uint8  \n",
      " 11  Embarked_S   418 non-null    uint8  \n",
      "dtypes: bool(2), float64(1), int64(6), uint8(3)\n",
      "memory usage: 25.0 KB\n"
     ]
    }
   ],
   "source": [
    "test = pd.get_dummies(test)\n",
    "test.info()"
   ]
  },
  {
   "cell_type": "code",
   "execution_count": 79,
   "id": "68f865d1",
   "metadata": {
    "execution": {
     "iopub.execute_input": "2023-01-08T10:53:50.033560Z",
     "iopub.status.busy": "2023-01-08T10:53:50.033031Z",
     "iopub.status.idle": "2023-01-08T10:53:50.051138Z",
     "shell.execute_reply": "2023-01-08T10:53:50.049829Z"
    },
    "papermill": {
     "duration": 0.075037,
     "end_time": "2023-01-08T10:53:50.053887",
     "exception": false,
     "start_time": "2023-01-08T10:53:49.978850",
     "status": "completed"
    },
    "tags": []
   },
   "outputs": [
    {
     "data": {
      "text/html": [
       "<div>\n",
       "<style scoped>\n",
       "    .dataframe tbody tr th:only-of-type {\n",
       "        vertical-align: middle;\n",
       "    }\n",
       "\n",
       "    .dataframe tbody tr th {\n",
       "        vertical-align: top;\n",
       "    }\n",
       "\n",
       "    .dataframe thead th {\n",
       "        text-align: right;\n",
       "    }\n",
       "</style>\n",
       "<table border=\"1\" class=\"dataframe\">\n",
       "  <thead>\n",
       "    <tr style=\"text-align: right;\">\n",
       "      <th></th>\n",
       "      <th>PassengerId</th>\n",
       "      <th>Pclass</th>\n",
       "      <th>Sex</th>\n",
       "      <th>Age</th>\n",
       "      <th>SibSp</th>\n",
       "      <th>Parch</th>\n",
       "      <th>Fare</th>\n",
       "      <th>Cabin</th>\n",
       "      <th>title</th>\n",
       "      <th>Embarked_C</th>\n",
       "      <th>Embarked_Q</th>\n",
       "      <th>Embarked_S</th>\n",
       "    </tr>\n",
       "  </thead>\n",
       "  <tbody>\n",
       "    <tr>\n",
       "      <th>0</th>\n",
       "      <td>892</td>\n",
       "      <td>3</td>\n",
       "      <td>0</td>\n",
       "      <td>34.5</td>\n",
       "      <td>0</td>\n",
       "      <td>0</td>\n",
       "      <td>False</td>\n",
       "      <td>True</td>\n",
       "      <td>1</td>\n",
       "      <td>0</td>\n",
       "      <td>1</td>\n",
       "      <td>0</td>\n",
       "    </tr>\n",
       "    <tr>\n",
       "      <th>1</th>\n",
       "      <td>893</td>\n",
       "      <td>3</td>\n",
       "      <td>1</td>\n",
       "      <td>47.0</td>\n",
       "      <td>1</td>\n",
       "      <td>0</td>\n",
       "      <td>False</td>\n",
       "      <td>True</td>\n",
       "      <td>5</td>\n",
       "      <td>0</td>\n",
       "      <td>0</td>\n",
       "      <td>1</td>\n",
       "    </tr>\n",
       "    <tr>\n",
       "      <th>2</th>\n",
       "      <td>894</td>\n",
       "      <td>2</td>\n",
       "      <td>0</td>\n",
       "      <td>62.0</td>\n",
       "      <td>0</td>\n",
       "      <td>0</td>\n",
       "      <td>False</td>\n",
       "      <td>True</td>\n",
       "      <td>1</td>\n",
       "      <td>0</td>\n",
       "      <td>1</td>\n",
       "      <td>0</td>\n",
       "    </tr>\n",
       "    <tr>\n",
       "      <th>3</th>\n",
       "      <td>895</td>\n",
       "      <td>3</td>\n",
       "      <td>0</td>\n",
       "      <td>27.0</td>\n",
       "      <td>0</td>\n",
       "      <td>0</td>\n",
       "      <td>False</td>\n",
       "      <td>True</td>\n",
       "      <td>1</td>\n",
       "      <td>0</td>\n",
       "      <td>0</td>\n",
       "      <td>1</td>\n",
       "    </tr>\n",
       "    <tr>\n",
       "      <th>4</th>\n",
       "      <td>896</td>\n",
       "      <td>3</td>\n",
       "      <td>1</td>\n",
       "      <td>22.0</td>\n",
       "      <td>1</td>\n",
       "      <td>1</td>\n",
       "      <td>False</td>\n",
       "      <td>True</td>\n",
       "      <td>5</td>\n",
       "      <td>0</td>\n",
       "      <td>0</td>\n",
       "      <td>1</td>\n",
       "    </tr>\n",
       "  </tbody>\n",
       "</table>\n",
       "</div>"
      ],
      "text/plain": [
       "   PassengerId  Pclass  Sex   Age  SibSp  Parch   Fare  Cabin  title  \\\n",
       "0          892       3    0  34.5      0      0  False   True      1   \n",
       "1          893       3    1  47.0      1      0  False   True      5   \n",
       "2          894       2    0  62.0      0      0  False   True      1   \n",
       "3          895       3    0  27.0      0      0  False   True      1   \n",
       "4          896       3    1  22.0      1      1  False   True      5   \n",
       "\n",
       "   Embarked_C  Embarked_Q  Embarked_S  \n",
       "0           0           1           0  \n",
       "1           0           0           1  \n",
       "2           0           1           0  \n",
       "3           0           0           1  \n",
       "4           0           0           1  "
      ]
     },
     "execution_count": 79,
     "metadata": {},
     "output_type": "execute_result"
    }
   ],
   "source": [
    "test.head()"
   ]
  },
  {
   "cell_type": "code",
   "execution_count": 80,
   "id": "32bc1f20",
   "metadata": {
    "execution": {
     "iopub.execute_input": "2023-01-08T10:53:50.159676Z",
     "iopub.status.busy": "2023-01-08T10:53:50.159133Z",
     "iopub.status.idle": "2023-01-08T10:53:50.170982Z",
     "shell.execute_reply": "2023-01-08T10:53:50.169930Z"
    },
    "papermill": {
     "duration": 0.068216,
     "end_time": "2023-01-08T10:53:50.173578",
     "exception": false,
     "start_time": "2023-01-08T10:53:50.105362",
     "status": "completed"
    },
    "tags": []
   },
   "outputs": [
    {
     "data": {
      "text/plain": [
       "((891, 11), (891,), (418, 11))"
      ]
     },
     "execution_count": 80,
     "metadata": {},
     "output_type": "execute_result"
    }
   ],
   "source": [
    "x_test  = test.drop(\"PassengerId\", axis=1).copy()\n",
    "x.shape, y.shape, x_test.shape"
   ]
  },
  {
   "cell_type": "code",
   "execution_count": 81,
   "id": "d4317363",
   "metadata": {
    "execution": {
     "iopub.execute_input": "2023-01-08T10:53:50.280272Z",
     "iopub.status.busy": "2023-01-08T10:53:50.279777Z",
     "iopub.status.idle": "2023-01-08T10:53:50.287439Z",
     "shell.execute_reply": "2023-01-08T10:53:50.286184Z"
    },
    "papermill": {
     "duration": 0.064483,
     "end_time": "2023-01-08T10:53:50.289811",
     "exception": false,
     "start_time": "2023-01-08T10:53:50.225328",
     "status": "completed"
    },
    "tags": []
   },
   "outputs": [
    {
     "data": {
      "text/plain": [
       "((891, 11), (418, 12), (418, 11))"
      ]
     },
     "execution_count": 81,
     "metadata": {},
     "output_type": "execute_result"
    }
   ],
   "source": [
    "df.shape, test.shape, x_test.shape"
   ]
  },
  {
   "cell_type": "markdown",
   "id": "7673f8b7",
   "metadata": {
    "papermill": {
     "duration": 0.052759,
     "end_time": "2023-01-08T10:53:50.395166",
     "exception": false,
     "start_time": "2023-01-08T10:53:50.342407",
     "status": "completed"
    },
    "tags": []
   },
   "source": [
    "### Using the model with best accuracy "
   ]
  },
  {
   "cell_type": "code",
   "execution_count": 82,
   "id": "b26d3e62",
   "metadata": {
    "execution": {
     "iopub.execute_input": "2023-01-08T10:53:50.504348Z",
     "iopub.status.busy": "2023-01-08T10:53:50.503835Z",
     "iopub.status.idle": "2023-01-08T10:53:50.512228Z",
     "shell.execute_reply": "2023-01-08T10:53:50.510460Z"
    },
    "papermill": {
     "duration": 0.067065,
     "end_time": "2023-01-08T10:53:50.514944",
     "exception": false,
     "start_time": "2023-01-08T10:53:50.447879",
     "status": "completed"
    },
    "tags": []
   },
   "outputs": [],
   "source": [
    "model = XGBClassifier(eta=0.09090909090909091, \n",
    "                      max_depth=6, \n",
    "                      min_child_weight=1, \n",
    "                      gama=0.2, \n",
    "                      subsample=0.9, \n",
    "                      colsample_bytree=0.73, \n",
    "                      reg_alpha=0.005)"
   ]
  },
  {
   "cell_type": "code",
   "execution_count": 83,
   "id": "fba7d0ed",
   "metadata": {
    "execution": {
     "iopub.execute_input": "2023-01-08T10:53:50.623894Z",
     "iopub.status.busy": "2023-01-08T10:53:50.623362Z",
     "iopub.status.idle": "2023-01-08T10:53:50.973499Z",
     "shell.execute_reply": "2023-01-08T10:53:50.971461Z"
    },
    "papermill": {
     "duration": 0.409363,
     "end_time": "2023-01-08T10:53:50.977775",
     "exception": false,
     "start_time": "2023-01-08T10:53:50.568412",
     "status": "completed"
    },
    "tags": []
   },
   "outputs": [
    {
     "name": "stdout",
     "output_type": "stream",
     "text": [
      "[10:53:50] WARNING: ../src/learner.cc:627: \n",
      "Parameters: { \"gama\" } might not be used.\n",
      "\n",
      "  This could be a false alarm, with some parameters getting used by language bindings but\n",
      "  then being mistakenly passed down to XGBoost core, or some parameter actually being used\n",
      "  but getting flagged wrongly here. Please open an issue if you find any such cases.\n",
      "\n",
      "\n",
      "0.8933782267115601\n",
      "Survived 157\n",
      "Not Survived 261\n"
     ]
    }
   ],
   "source": [
    "model.fit(x, y)\n",
    "print(model.score(x, y))\n",
    "\n",
    "y_pred = model.predict(x_test)\n",
    "\n",
    "print(\"Survived\", sum(y_pred!=0))\n",
    "print(\"Not Survived\", sum(y_pred==0))"
   ]
  },
  {
   "cell_type": "markdown",
   "id": "627a2250",
   "metadata": {
    "papermill": {
     "duration": 0.052875,
     "end_time": "2023-01-08T10:53:51.084679",
     "exception": false,
     "start_time": "2023-01-08T10:53:51.031804",
     "status": "completed"
    },
    "tags": []
   },
   "source": [
    "## Submission"
   ]
  },
  {
   "cell_type": "code",
   "execution_count": 84,
   "id": "7d1fbb06",
   "metadata": {
    "execution": {
     "iopub.execute_input": "2023-01-08T10:53:51.192743Z",
     "iopub.status.busy": "2023-01-08T10:53:51.191397Z",
     "iopub.status.idle": "2023-01-08T10:53:51.210017Z",
     "shell.execute_reply": "2023-01-08T10:53:51.208722Z"
    },
    "papermill": {
     "duration": 0.075467,
     "end_time": "2023-01-08T10:53:51.212607",
     "exception": false,
     "start_time": "2023-01-08T10:53:51.137140",
     "status": "completed"
    },
    "tags": []
   },
   "outputs": [
    {
     "data": {
      "text/html": [
       "<div>\n",
       "<style scoped>\n",
       "    .dataframe tbody tr th:only-of-type {\n",
       "        vertical-align: middle;\n",
       "    }\n",
       "\n",
       "    .dataframe tbody tr th {\n",
       "        vertical-align: top;\n",
       "    }\n",
       "\n",
       "    .dataframe thead th {\n",
       "        text-align: right;\n",
       "    }\n",
       "</style>\n",
       "<table border=\"1\" class=\"dataframe\">\n",
       "  <thead>\n",
       "    <tr style=\"text-align: right;\">\n",
       "      <th></th>\n",
       "      <th>PassengerId</th>\n",
       "      <th>Survived</th>\n",
       "    </tr>\n",
       "  </thead>\n",
       "  <tbody>\n",
       "    <tr>\n",
       "      <th>0</th>\n",
       "      <td>892</td>\n",
       "      <td>0</td>\n",
       "    </tr>\n",
       "    <tr>\n",
       "      <th>1</th>\n",
       "      <td>893</td>\n",
       "      <td>0</td>\n",
       "    </tr>\n",
       "    <tr>\n",
       "      <th>2</th>\n",
       "      <td>894</td>\n",
       "      <td>0</td>\n",
       "    </tr>\n",
       "    <tr>\n",
       "      <th>3</th>\n",
       "      <td>895</td>\n",
       "      <td>0</td>\n",
       "    </tr>\n",
       "    <tr>\n",
       "      <th>4</th>\n",
       "      <td>896</td>\n",
       "      <td>1</td>\n",
       "    </tr>\n",
       "    <tr>\n",
       "      <th>...</th>\n",
       "      <td>...</td>\n",
       "      <td>...</td>\n",
       "    </tr>\n",
       "    <tr>\n",
       "      <th>413</th>\n",
       "      <td>1305</td>\n",
       "      <td>0</td>\n",
       "    </tr>\n",
       "    <tr>\n",
       "      <th>414</th>\n",
       "      <td>1306</td>\n",
       "      <td>1</td>\n",
       "    </tr>\n",
       "    <tr>\n",
       "      <th>415</th>\n",
       "      <td>1307</td>\n",
       "      <td>0</td>\n",
       "    </tr>\n",
       "    <tr>\n",
       "      <th>416</th>\n",
       "      <td>1308</td>\n",
       "      <td>0</td>\n",
       "    </tr>\n",
       "    <tr>\n",
       "      <th>417</th>\n",
       "      <td>1309</td>\n",
       "      <td>1</td>\n",
       "    </tr>\n",
       "  </tbody>\n",
       "</table>\n",
       "<p>418 rows × 2 columns</p>\n",
       "</div>"
      ],
      "text/plain": [
       "     PassengerId  Survived\n",
       "0            892         0\n",
       "1            893         0\n",
       "2            894         0\n",
       "3            895         0\n",
       "4            896         1\n",
       "..           ...       ...\n",
       "413         1305         0\n",
       "414         1306         1\n",
       "415         1307         0\n",
       "416         1308         0\n",
       "417         1309         1\n",
       "\n",
       "[418 rows x 2 columns]"
      ]
     },
     "execution_count": 84,
     "metadata": {},
     "output_type": "execute_result"
    }
   ],
   "source": [
    "submission = pd.DataFrame({\n",
    "        \"PassengerId\": test[\"PassengerId\"],\n",
    "        \"Survived\": y_pred\n",
    "    })\n",
    "\n",
    "submission.to_csv('submission.csv', index=False)\n",
    "\n",
    "submission"
   ]
  },
  {
   "cell_type": "markdown",
   "id": "f5b933e4",
   "metadata": {
    "papermill": {
     "duration": 0.052032,
     "end_time": "2023-01-08T10:53:51.317869",
     "exception": false,
     "start_time": "2023-01-08T10:53:51.265837",
     "status": "completed"
    },
    "tags": []
   },
   "source": [
    "<h4 align=\"center\">**************** The End ****************</h4>"
   ]
  },
  {
   "cell_type": "markdown",
   "id": "123c90c8",
   "metadata": {
    "papermill": {
     "duration": 0.051705,
     "end_time": "2023-01-08T10:53:51.422941",
     "exception": false,
     "start_time": "2023-01-08T10:53:51.371236",
     "status": "completed"
    },
    "tags": []
   },
   "source": [
    "## Related Projects❓ 👨‍💻 🛰️\n",
    "\n",
    "<code>[Spotify Data Analysis using Python](https://github.com/mrankitgupta/Spotify-Data-Analysis-using-Python)</code> 📊\n",
    "\n",
    "<code>[Data Analyst Roadmap](https://github.com/mrankitgupta/Data-Analyst-Roadmap)</code> ⌛\n",
    "\n",
    "<code>[Statistics for Data Science using Python](https://github.com/mrankitgupta/Statistics-for-Data-Science-using-Python)</code> 📊\n",
    "\n",
    "<code>[Sales Insights - Data Analysis using Tableau & SQL](https://github.com/mrankitgupta/Sales-Insights-Data-Analysis-using-Tableau-and-SQL)</code> 📊\n",
    " \n",
    "<code>[Kaggle - Pandas Solved Exercises](https://github.com/mrankitgupta/Kaggle-Pandas-Solved-Exercises)</code> 📊\n",
    " \n",
    "<code>[Python Lessons](https://github.com/mrankitgupta/PythonLessons)</code> 📑\n",
    " \n",
    "<code>[Python Libraries for Data Science](https://github.com/mrankitgupta/PythonLibraries)</code> 🗂️\n"
   ]
  },
  {
   "cell_type": "markdown",
   "id": "33ae405d",
   "metadata": {
    "papermill": {
     "duration": 0.059082,
     "end_time": "2023-01-08T10:53:51.534964",
     "exception": false,
     "start_time": "2023-01-08T10:53:51.475882",
     "status": "completed"
    },
    "tags": []
   },
   "source": [
    "### Liked my Contributions❓ Follow Me👉 [Kaggle](https://www.kaggle.com/MrAnkitGupta) and [GitHub](https://github.com/MrAnkitGupta)\n",
    "\n",
    "[Nominate Me for GitHub Stars](https://stars.github.com/nominate/) ⭐ ✨"
   ]
  },
  {
   "cell_type": "markdown",
   "id": "1383c6d5",
   "metadata": {
    "papermill": {
     "duration": 0.051067,
     "end_time": "2023-01-08T10:53:51.638032",
     "exception": false,
     "start_time": "2023-01-08T10:53:51.586965",
     "status": "completed"
    },
    "tags": []
   },
   "source": [
    "## For any queries/doubts 🔗 👇 \n",
    "\n",
    "### [Ankit Gupta](https://bio.link/AnkitGupta)\n",
    "<p align=\"left\"> <a href=\"https://twitter.com/MrAnkitGupta_/\" target=\"blank\"><img src=\"https://img.shields.io/twitter/follow/MrAnkitGupta_?logo=twitter&style=for-the-badge\" alt=\"MrAnkitGupta_\" /></a> </p>\n",
    "\n",
    "<a href=\"https://www.linkedin.com/in/mrankitgupta\" target=\"blank\"><img align=\"center\" src=\"https://img.shields.io/badge/-MrAnkitGupta-blue?style=flat-square&logo=Linkedin&logoColor=white&link=https://www.linkedin.com/in/mrankitgupta/\" alt=\"MrAnkitGupta\" height=\"20\" width=\"100\" /></a>\n",
    "<a href=\"https://www.instagram.com/MrAnkitGupta_\" target=\"blank\"><img align=\"center\" src=\"https://img.shields.io/badge/-@MrAnkitGupta_-D7008A?style=flat-square&labelColor=D7008A&logo=Instagram&logoColor=white&link=https://www.instagram.com/MrAnkitGupta_\" alt=\"MrAnkitGupta_\" height=\"20\" width=\"110\" /></a>\n",
    "<a href=\"https://bio.link/AnkitGupta\" target=\"blank\"><img align=\"center\" src=\"https://img.shields.io/badge/website-000000?style=for-the-badge&logo=About.me&logoColor=white&link=https://bio.link/AnkitGupta\" alt=\"AnkitGupta\" height=\"20\" width=\"90\" /></a>\n",
    "<a href=\"https://github.com/mrankitgupta/\" target=\"blank\"><img align=\"center\" src=\"https://img.shields.io/github/followers/mrankitgupta?label=Follow&style=social&link=https://github.com/mrankitgupta/\" alt=\"MrAnkitGupta\" height=\"20\" width=\"90\" /></a>\n",
    "<a href=\"https://kaggle.com/mrankitgupta\" target=\"blank\"><img align=\"center\" src=\"https://raw.githubusercontent.com/rahuldkjain/github-profile-readme-generator/master/src/images/icons/Social/kaggle.svg\" alt=\"mrankitgupta\" height=\"20\" width=\"18\" /></a>[aggle](https://kaggle.com/mrankitgupta)"
   ]
  }
 ],
 "metadata": {
  "kernelspec": {
   "display_name": "Python 3",
   "language": "python",
   "name": "python3"
  },
  "language_info": {
   "codemirror_mode": {
    "name": "ipython",
    "version": 3
   },
   "file_extension": ".py",
   "mimetype": "text/x-python",
   "name": "python",
   "nbconvert_exporter": "python",
   "pygments_lexer": "ipython3",
   "version": "3.7.12"
  },
  "papermill": {
   "default_parameters": {},
   "duration": 169.296761,
   "end_time": "2023-01-08T10:53:53.016638",
   "environment_variables": {},
   "exception": null,
   "input_path": "__notebook__.ipynb",
   "output_path": "__notebook__.ipynb",
   "parameters": {},
   "start_time": "2023-01-08T10:51:03.719877",
   "version": "2.3.4"
  }
 },
 "nbformat": 4,
 "nbformat_minor": 5
}
